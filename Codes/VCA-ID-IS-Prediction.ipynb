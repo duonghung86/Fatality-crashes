{
 "cells": [
  {
   "cell_type": "code",
   "execution_count": 1,
   "metadata": {
    "ExecuteTime": {
     "end_time": "2020-05-13T13:23:50.989065Z",
     "start_time": "2020-05-13T13:23:49.427502Z"
    },
    "colab": {
     "base_uri": "https://localhost:8080/",
     "height": 51
    },
    "colab_type": "code",
    "executionInfo": {
     "elapsed": 3665,
     "status": "ok",
     "timestamp": 1589207646038,
     "user": {
      "displayName": "Duong Hung",
      "photoUrl": "https://lh3.googleusercontent.com/a-/AOh14Ggfgs4FqFN7Yq3pQXoVHeQcc9w9kDV_fAGoQ3Nx4nk=s64",
      "userId": "01608720095171318435"
     },
     "user_tz": 300
    },
    "id": "1QxOQkOlJ1S_",
    "outputId": "35810555-ae3a-4fb8-cfb6-470d3faf7920"
   },
   "outputs": [],
   "source": [
    "# Basic packages\n",
    "import matplotlib.pyplot as plt\n",
    "import numpy as np\n",
    "import pandas as pd"
   ]
  },
  {
   "cell_type": "markdown",
   "metadata": {
    "colab_type": "text",
    "id": "Cq34ehtsJ1Th"
   },
   "source": [
    "# Import dataset"
   ]
  },
  {
   "cell_type": "code",
   "execution_count": 2,
   "metadata": {
    "ExecuteTime": {
     "end_time": "2020-05-13T13:23:50.998126Z",
     "start_time": "2020-05-13T13:23:50.989065Z"
    },
    "colab": {},
    "colab_type": "code",
    "id": "zIfnkmMfKLN-"
   },
   "outputs": [],
   "source": [
    "from io import StringIO\n",
    "from io import BytesIO\n",
    "from zipfile import ZipFile\n",
    "import urllib.request"
   ]
  },
  {
   "cell_type": "code",
   "execution_count": 4,
   "metadata": {
    "ExecuteTime": {
     "end_time": "2020-05-13T13:24:02.475362Z",
     "start_time": "2020-05-13T13:24:02.467368Z"
    },
    "colab": {
     "base_uri": "https://localhost:8080/",
     "height": 34
    },
    "colab_type": "code",
    "executionInfo": {
     "elapsed": 621,
     "status": "ok",
     "timestamp": 1589207744775,
     "user": {
      "displayName": "Duong Hung",
      "photoUrl": "https://lh3.googleusercontent.com/a-/AOh14Ggfgs4FqFN7Yq3pQXoVHeQcc9w9kDV_fAGoQ3Nx4nk=s64",
      "userId": "01608720095171318435"
     },
     "user_tz": 300
    },
    "id": "_v04MZq4J1To",
    "outputId": "471d2846-2d0a-4139-9471-8903b6130bb1"
   },
   "outputs": [
    {
     "data": {
      "text/plain": [
       "(488849, 134)"
      ]
     },
     "execution_count": 4,
     "metadata": {},
     "output_type": "execute_result"
    }
   ],
   "source": [
    "df=pd.read_csv('final data.csv')\n",
    "df.shape"
   ]
  },
  {
   "cell_type": "code",
   "execution_count": 5,
   "metadata": {
    "ExecuteTime": {
     "end_time": "2020-05-13T13:24:02.540325Z",
     "start_time": "2020-05-13T13:24:02.479359Z"
    },
    "colab": {
     "base_uri": "https://localhost:8080/",
     "height": 34
    },
    "colab_type": "code",
    "executionInfo": {
     "elapsed": 703,
     "status": "ok",
     "timestamp": 1589207746990,
     "user": {
      "displayName": "Duong Hung",
      "photoUrl": "https://lh3.googleusercontent.com/a-/AOh14Ggfgs4FqFN7Yq3pQXoVHeQcc9w9kDV_fAGoQ3Nx4nk=s64",
      "userId": "01608720095171318435"
     },
     "user_tz": 300
    },
    "id": "0yIHRk4sJ1Tx",
    "outputId": "a3f2cf09-52db-4b07-8f87-7b7af9644f41"
   },
   "outputs": [
    {
     "data": {
      "text/plain": [
       "array([0, 1, 1, ..., 0, 0, 0])"
      ]
     },
     "execution_count": 5,
     "metadata": {},
     "output_type": "execute_result"
    }
   ],
   "source": [
    "y=np.where(df['Injury Severity']=='KILLED',1,0)\n",
    "y"
   ]
  },
  {
   "cell_type": "code",
   "execution_count": 6,
   "metadata": {
    "ExecuteTime": {
     "end_time": "2020-05-13T13:24:02.575304Z",
     "start_time": "2020-05-13T13:24:02.544323Z"
    },
    "colab": {
     "base_uri": "https://localhost:8080/",
     "height": 85
    },
    "colab_type": "code",
    "executionInfo": {
     "elapsed": 736,
     "status": "ok",
     "timestamp": 1589207749685,
     "user": {
      "displayName": "Duong Hung",
      "photoUrl": "https://lh3.googleusercontent.com/a-/AOh14Ggfgs4FqFN7Yq3pQXoVHeQcc9w9kDV_fAGoQ3Nx4nk=s64",
      "userId": "01608720095171318435"
     },
     "user_tz": 300
    },
    "id": "0Ba_lXcHJ1UI",
    "outputId": "af00ef69-a534-4cb9-c9a4-cd9f3fcb5cc9"
   },
   "outputs": [
    {
     "name": "stdout",
     "output_type": "stream",
     "text": [
      "Examples:\n",
      "    Total: 488849\n",
      "    Positive: 1494 (0.31% of total)\n",
      "\n"
     ]
    }
   ],
   "source": [
    "neg, pos = np.bincount(y)\n",
    "total = neg + pos\n",
    "print('Examples:\\n    Total: {}\\n    Positive: {} ({:.2f}% of total)\\n'.format(total, pos, 100 * pos / total))"
   ]
  },
  {
   "cell_type": "code",
   "execution_count": 7,
   "metadata": {
    "ExecuteTime": {
     "end_time": "2020-05-13T13:24:03.532940Z",
     "start_time": "2020-05-13T13:24:02.579303Z"
    },
    "colab": {
     "base_uri": "https://localhost:8080/",
     "height": 473
    },
    "colab_type": "code",
    "executionInfo": {
     "elapsed": 1517,
     "status": "ok",
     "timestamp": 1589207753410,
     "user": {
      "displayName": "Duong Hung",
      "photoUrl": "https://lh3.googleusercontent.com/a-/AOh14Ggfgs4FqFN7Yq3pQXoVHeQcc9w9kDV_fAGoQ3Nx4nk=s64",
      "userId": "01608720095171318435"
     },
     "user_tz": 300
    },
    "id": "Cl4mz5NYJ1UV",
    "outputId": "37e3c2ae-75d5-4b48-dc39-5131b66aebff",
    "scrolled": true
   },
   "outputs": [
    {
     "data": {
      "text/html": [
       "<div>\n",
       "<style scoped>\n",
       "    .dataframe tbody tr th:only-of-type {\n",
       "        vertical-align: middle;\n",
       "    }\n",
       "\n",
       "    .dataframe tbody tr th {\n",
       "        vertical-align: top;\n",
       "    }\n",
       "\n",
       "    .dataframe thead th {\n",
       "        text-align: right;\n",
       "    }\n",
       "</style>\n",
       "<table border=\"1\" class=\"dataframe\">\n",
       "  <thead>\n",
       "    <tr style=\"text-align: right;\">\n",
       "      <th></th>\n",
       "      <th>Crash_Month</th>\n",
       "      <th>Crash_Day</th>\n",
       "      <th>Crash_Minute</th>\n",
       "      <th>Crash_AM/PM</th>\n",
       "      <th>Crash_Hour</th>\n",
       "      <th>Unit_Nbr</th>\n",
       "      <th>Prsn_Age</th>\n",
       "      <th>Toll_Road_Fl</th>\n",
       "      <th>Crash_Speed_Limit</th>\n",
       "      <th>Road_Constr_Zone_Fl</th>\n",
       "      <th>...</th>\n",
       "      <th>Traffic_Cntl_ID_STOP SIGN</th>\n",
       "      <th>Traffic_Cntl_ID_WARNING SIGN</th>\n",
       "      <th>Traffic_Cntl_ID_YIELD SIGN</th>\n",
       "      <th>Unit_Desc_ID_MOTORIZED CONVEYANCE</th>\n",
       "      <th>Unit_Desc_ID_NON-CONTACT</th>\n",
       "      <th>Unit_Desc_ID_OTHER (EXPLAIN IN NARRATIVE)</th>\n",
       "      <th>Unit_Desc_ID_PEDALCYCLIST</th>\n",
       "      <th>Unit_Desc_ID_PEDESTRIAN</th>\n",
       "      <th>Unit_Desc_ID_TOWED/PUSHED/TRAILER</th>\n",
       "      <th>Unit_Desc_ID_TRAIN</th>\n",
       "    </tr>\n",
       "  </thead>\n",
       "  <tbody>\n",
       "    <tr>\n",
       "      <th>0</th>\n",
       "      <td>7</td>\n",
       "      <td>20</td>\n",
       "      <td>37</td>\n",
       "      <td>0</td>\n",
       "      <td>3</td>\n",
       "      <td>3</td>\n",
       "      <td>26</td>\n",
       "      <td>0</td>\n",
       "      <td>55</td>\n",
       "      <td>0</td>\n",
       "      <td>...</td>\n",
       "      <td>0</td>\n",
       "      <td>0</td>\n",
       "      <td>0</td>\n",
       "      <td>0</td>\n",
       "      <td>0</td>\n",
       "      <td>0</td>\n",
       "      <td>0</td>\n",
       "      <td>0</td>\n",
       "      <td>0</td>\n",
       "      <td>0</td>\n",
       "    </tr>\n",
       "    <tr>\n",
       "      <th>1</th>\n",
       "      <td>7</td>\n",
       "      <td>27</td>\n",
       "      <td>45</td>\n",
       "      <td>0</td>\n",
       "      <td>11</td>\n",
       "      <td>3</td>\n",
       "      <td>61</td>\n",
       "      <td>0</td>\n",
       "      <td>75</td>\n",
       "      <td>0</td>\n",
       "      <td>...</td>\n",
       "      <td>0</td>\n",
       "      <td>0</td>\n",
       "      <td>0</td>\n",
       "      <td>0</td>\n",
       "      <td>0</td>\n",
       "      <td>0</td>\n",
       "      <td>0</td>\n",
       "      <td>0</td>\n",
       "      <td>0</td>\n",
       "      <td>0</td>\n",
       "    </tr>\n",
       "    <tr>\n",
       "      <th>2</th>\n",
       "      <td>8</td>\n",
       "      <td>10</td>\n",
       "      <td>5</td>\n",
       "      <td>1</td>\n",
       "      <td>5</td>\n",
       "      <td>2</td>\n",
       "      <td>55</td>\n",
       "      <td>0</td>\n",
       "      <td>55</td>\n",
       "      <td>0</td>\n",
       "      <td>...</td>\n",
       "      <td>0</td>\n",
       "      <td>0</td>\n",
       "      <td>0</td>\n",
       "      <td>0</td>\n",
       "      <td>0</td>\n",
       "      <td>0</td>\n",
       "      <td>0</td>\n",
       "      <td>0</td>\n",
       "      <td>0</td>\n",
       "      <td>0</td>\n",
       "    </tr>\n",
       "    <tr>\n",
       "      <th>3</th>\n",
       "      <td>7</td>\n",
       "      <td>21</td>\n",
       "      <td>17</td>\n",
       "      <td>1</td>\n",
       "      <td>6</td>\n",
       "      <td>2</td>\n",
       "      <td>84</td>\n",
       "      <td>0</td>\n",
       "      <td>65</td>\n",
       "      <td>0</td>\n",
       "      <td>...</td>\n",
       "      <td>0</td>\n",
       "      <td>0</td>\n",
       "      <td>0</td>\n",
       "      <td>0</td>\n",
       "      <td>0</td>\n",
       "      <td>0</td>\n",
       "      <td>0</td>\n",
       "      <td>0</td>\n",
       "      <td>0</td>\n",
       "      <td>0</td>\n",
       "    </tr>\n",
       "    <tr>\n",
       "      <th>4</th>\n",
       "      <td>8</td>\n",
       "      <td>27</td>\n",
       "      <td>26</td>\n",
       "      <td>0</td>\n",
       "      <td>7</td>\n",
       "      <td>2</td>\n",
       "      <td>78</td>\n",
       "      <td>0</td>\n",
       "      <td>75</td>\n",
       "      <td>0</td>\n",
       "      <td>...</td>\n",
       "      <td>0</td>\n",
       "      <td>0</td>\n",
       "      <td>0</td>\n",
       "      <td>0</td>\n",
       "      <td>0</td>\n",
       "      <td>0</td>\n",
       "      <td>0</td>\n",
       "      <td>0</td>\n",
       "      <td>0</td>\n",
       "      <td>0</td>\n",
       "    </tr>\n",
       "    <tr>\n",
       "      <th>...</th>\n",
       "      <td>...</td>\n",
       "      <td>...</td>\n",
       "      <td>...</td>\n",
       "      <td>...</td>\n",
       "      <td>...</td>\n",
       "      <td>...</td>\n",
       "      <td>...</td>\n",
       "      <td>...</td>\n",
       "      <td>...</td>\n",
       "      <td>...</td>\n",
       "      <td>...</td>\n",
       "      <td>...</td>\n",
       "      <td>...</td>\n",
       "      <td>...</td>\n",
       "      <td>...</td>\n",
       "      <td>...</td>\n",
       "      <td>...</td>\n",
       "      <td>...</td>\n",
       "      <td>...</td>\n",
       "      <td>...</td>\n",
       "      <td>...</td>\n",
       "    </tr>\n",
       "    <tr>\n",
       "      <th>488844</th>\n",
       "      <td>11</td>\n",
       "      <td>29</td>\n",
       "      <td>13</td>\n",
       "      <td>0</td>\n",
       "      <td>11</td>\n",
       "      <td>1</td>\n",
       "      <td>68</td>\n",
       "      <td>0</td>\n",
       "      <td>70</td>\n",
       "      <td>0</td>\n",
       "      <td>...</td>\n",
       "      <td>0</td>\n",
       "      <td>0</td>\n",
       "      <td>0</td>\n",
       "      <td>0</td>\n",
       "      <td>0</td>\n",
       "      <td>0</td>\n",
       "      <td>0</td>\n",
       "      <td>0</td>\n",
       "      <td>0</td>\n",
       "      <td>0</td>\n",
       "    </tr>\n",
       "    <tr>\n",
       "      <th>488845</th>\n",
       "      <td>11</td>\n",
       "      <td>25</td>\n",
       "      <td>6</td>\n",
       "      <td>0</td>\n",
       "      <td>11</td>\n",
       "      <td>1</td>\n",
       "      <td>44</td>\n",
       "      <td>0</td>\n",
       "      <td>55</td>\n",
       "      <td>0</td>\n",
       "      <td>...</td>\n",
       "      <td>1</td>\n",
       "      <td>0</td>\n",
       "      <td>0</td>\n",
       "      <td>0</td>\n",
       "      <td>0</td>\n",
       "      <td>0</td>\n",
       "      <td>0</td>\n",
       "      <td>0</td>\n",
       "      <td>0</td>\n",
       "      <td>0</td>\n",
       "    </tr>\n",
       "    <tr>\n",
       "      <th>488846</th>\n",
       "      <td>11</td>\n",
       "      <td>25</td>\n",
       "      <td>6</td>\n",
       "      <td>0</td>\n",
       "      <td>11</td>\n",
       "      <td>2</td>\n",
       "      <td>57</td>\n",
       "      <td>0</td>\n",
       "      <td>55</td>\n",
       "      <td>0</td>\n",
       "      <td>...</td>\n",
       "      <td>1</td>\n",
       "      <td>0</td>\n",
       "      <td>0</td>\n",
       "      <td>0</td>\n",
       "      <td>0</td>\n",
       "      <td>0</td>\n",
       "      <td>0</td>\n",
       "      <td>0</td>\n",
       "      <td>0</td>\n",
       "      <td>0</td>\n",
       "    </tr>\n",
       "    <tr>\n",
       "      <th>488847</th>\n",
       "      <td>9</td>\n",
       "      <td>3</td>\n",
       "      <td>15</td>\n",
       "      <td>1</td>\n",
       "      <td>4</td>\n",
       "      <td>1</td>\n",
       "      <td>16</td>\n",
       "      <td>0</td>\n",
       "      <td>40</td>\n",
       "      <td>0</td>\n",
       "      <td>...</td>\n",
       "      <td>1</td>\n",
       "      <td>0</td>\n",
       "      <td>0</td>\n",
       "      <td>0</td>\n",
       "      <td>0</td>\n",
       "      <td>0</td>\n",
       "      <td>0</td>\n",
       "      <td>0</td>\n",
       "      <td>0</td>\n",
       "      <td>0</td>\n",
       "    </tr>\n",
       "    <tr>\n",
       "      <th>488848</th>\n",
       "      <td>9</td>\n",
       "      <td>3</td>\n",
       "      <td>15</td>\n",
       "      <td>1</td>\n",
       "      <td>4</td>\n",
       "      <td>2</td>\n",
       "      <td>16</td>\n",
       "      <td>0</td>\n",
       "      <td>40</td>\n",
       "      <td>0</td>\n",
       "      <td>...</td>\n",
       "      <td>1</td>\n",
       "      <td>0</td>\n",
       "      <td>0</td>\n",
       "      <td>0</td>\n",
       "      <td>0</td>\n",
       "      <td>0</td>\n",
       "      <td>0</td>\n",
       "      <td>0</td>\n",
       "      <td>0</td>\n",
       "      <td>0</td>\n",
       "    </tr>\n",
       "  </tbody>\n",
       "</table>\n",
       "<p>488849 rows × 133 columns</p>\n",
       "</div>"
      ],
      "text/plain": [
       "        Crash_Month  Crash_Day  Crash_Minute  Crash_AM/PM  Crash_Hour  \\\n",
       "0                 7         20            37            0           3   \n",
       "1                 7         27            45            0          11   \n",
       "2                 8         10             5            1           5   \n",
       "3                 7         21            17            1           6   \n",
       "4                 8         27            26            0           7   \n",
       "...             ...        ...           ...          ...         ...   \n",
       "488844           11         29            13            0          11   \n",
       "488845           11         25             6            0          11   \n",
       "488846           11         25             6            0          11   \n",
       "488847            9          3            15            1           4   \n",
       "488848            9          3            15            1           4   \n",
       "\n",
       "        Unit_Nbr  Prsn_Age  Toll_Road_Fl  Crash_Speed_Limit  \\\n",
       "0              3        26             0                 55   \n",
       "1              3        61             0                 75   \n",
       "2              2        55             0                 55   \n",
       "3              2        84             0                 65   \n",
       "4              2        78             0                 75   \n",
       "...          ...       ...           ...                ...   \n",
       "488844         1        68             0                 70   \n",
       "488845         1        44             0                 55   \n",
       "488846         2        57             0                 55   \n",
       "488847         1        16             0                 40   \n",
       "488848         2        16             0                 40   \n",
       "\n",
       "        Road_Constr_Zone_Fl  ...  Traffic_Cntl_ID_STOP SIGN  \\\n",
       "0                         0  ...                          0   \n",
       "1                         0  ...                          0   \n",
       "2                         0  ...                          0   \n",
       "3                         0  ...                          0   \n",
       "4                         0  ...                          0   \n",
       "...                     ...  ...                        ...   \n",
       "488844                    0  ...                          0   \n",
       "488845                    0  ...                          1   \n",
       "488846                    0  ...                          1   \n",
       "488847                    0  ...                          1   \n",
       "488848                    0  ...                          1   \n",
       "\n",
       "        Traffic_Cntl_ID_WARNING SIGN  Traffic_Cntl_ID_YIELD SIGN  \\\n",
       "0                                  0                           0   \n",
       "1                                  0                           0   \n",
       "2                                  0                           0   \n",
       "3                                  0                           0   \n",
       "4                                  0                           0   \n",
       "...                              ...                         ...   \n",
       "488844                             0                           0   \n",
       "488845                             0                           0   \n",
       "488846                             0                           0   \n",
       "488847                             0                           0   \n",
       "488848                             0                           0   \n",
       "\n",
       "        Unit_Desc_ID_MOTORIZED CONVEYANCE  Unit_Desc_ID_NON-CONTACT  \\\n",
       "0                                       0                         0   \n",
       "1                                       0                         0   \n",
       "2                                       0                         0   \n",
       "3                                       0                         0   \n",
       "4                                       0                         0   \n",
       "...                                   ...                       ...   \n",
       "488844                                  0                         0   \n",
       "488845                                  0                         0   \n",
       "488846                                  0                         0   \n",
       "488847                                  0                         0   \n",
       "488848                                  0                         0   \n",
       "\n",
       "        Unit_Desc_ID_OTHER (EXPLAIN IN NARRATIVE)  Unit_Desc_ID_PEDALCYCLIST  \\\n",
       "0                                               0                          0   \n",
       "1                                               0                          0   \n",
       "2                                               0                          0   \n",
       "3                                               0                          0   \n",
       "4                                               0                          0   \n",
       "...                                           ...                        ...   \n",
       "488844                                          0                          0   \n",
       "488845                                          0                          0   \n",
       "488846                                          0                          0   \n",
       "488847                                          0                          0   \n",
       "488848                                          0                          0   \n",
       "\n",
       "        Unit_Desc_ID_PEDESTRIAN  Unit_Desc_ID_TOWED/PUSHED/TRAILER  \\\n",
       "0                             0                                  0   \n",
       "1                             0                                  0   \n",
       "2                             0                                  0   \n",
       "3                             0                                  0   \n",
       "4                             0                                  0   \n",
       "...                         ...                                ...   \n",
       "488844                        0                                  0   \n",
       "488845                        0                                  0   \n",
       "488846                        0                                  0   \n",
       "488847                        0                                  0   \n",
       "488848                        0                                  0   \n",
       "\n",
       "        Unit_Desc_ID_TRAIN  \n",
       "0                        0  \n",
       "1                        0  \n",
       "2                        0  \n",
       "3                        0  \n",
       "4                        0  \n",
       "...                    ...  \n",
       "488844                   0  \n",
       "488845                   0  \n",
       "488846                   0  \n",
       "488847                   0  \n",
       "488848                   0  \n",
       "\n",
       "[488849 rows x 133 columns]"
      ]
     },
     "execution_count": 7,
     "metadata": {},
     "output_type": "execute_result"
    }
   ],
   "source": [
    "X=df.iloc[:,1:].copy()\n",
    "X"
   ]
  },
  {
   "cell_type": "markdown",
   "metadata": {
    "colab_type": "text",
    "id": "548Mc3Y4J1Ui"
   },
   "source": [
    "# Split the dataset"
   ]
  },
  {
   "cell_type": "code",
   "execution_count": 8,
   "metadata": {
    "ExecuteTime": {
     "end_time": "2020-05-13T13:24:04.923661Z",
     "start_time": "2020-05-13T13:24:03.538041Z"
    },
    "colab": {},
    "colab_type": "code",
    "id": "5ERPlNBhJ1Ul"
   },
   "outputs": [],
   "source": [
    "from sklearn.model_selection import train_test_split"
   ]
  },
  {
   "cell_type": "code",
   "execution_count": 9,
   "metadata": {
    "ExecuteTime": {
     "end_time": "2020-05-13T13:24:08.859610Z",
     "start_time": "2020-05-13T13:24:04.923661Z"
    },
    "colab": {
     "base_uri": "https://localhost:8080/",
     "height": 68
    },
    "colab_type": "code",
    "executionInfo": {
     "elapsed": 2765,
     "status": "ok",
     "timestamp": 1589207767531,
     "user": {
      "displayName": "Duong Hung",
      "photoUrl": "https://lh3.googleusercontent.com/a-/AOh14Ggfgs4FqFN7Yq3pQXoVHeQcc9w9kDV_fAGoQ3Nx4nk=s64",
      "userId": "01608720095171318435"
     },
     "user_tz": 300
    },
    "id": "6dDdGqNSJ1Uo",
    "outputId": "ad07e468-5ecf-461c-da2b-61c88f58a657"
   },
   "outputs": [
    {
     "name": "stdout",
     "output_type": "stream",
     "text": [
      "Training features shape: (312863, 133)\n",
      "Validation features shape: (78216, 133)\n",
      "Test features shape: (97770, 133)\n"
     ]
    }
   ],
   "source": [
    "X_train, X_test, y_train, y_test = train_test_split(X,y,test_size=0.2,stratify=y, random_state=48)\n",
    "X_train, X_val, y_train, y_val = train_test_split(X_train,y_train,test_size=0.2,stratify=y_train, random_state=48)\n",
    "\n",
    "X_train=np.array(X_train)\n",
    "X_test=np.array(X_test)\n",
    "X_val=np.array(X_val)\n",
    "\n",
    "print('Training features shape:', X_train.shape)\n",
    "print('Validation features shape:', X_val.shape)\n",
    "print('Test features shape:', X_test.shape)"
   ]
  },
  {
   "cell_type": "code",
   "execution_count": 10,
   "metadata": {
    "ExecuteTime": {
     "end_time": "2020-05-13T13:24:08.878600Z",
     "start_time": "2020-05-13T13:24:08.861610Z"
    },
    "colab": {
     "base_uri": "https://localhost:8080/",
     "height": 68
    },
    "colab_type": "code",
    "executionInfo": {
     "elapsed": 2744,
     "status": "ok",
     "timestamp": 1589207767533,
     "user": {
      "displayName": "Duong Hung",
      "photoUrl": "https://lh3.googleusercontent.com/a-/AOh14Ggfgs4FqFN7Yq3pQXoVHeQcc9w9kDV_fAGoQ3Nx4nk=s64",
      "userId": "01608720095171318435"
     },
     "user_tz": 300
    },
    "id": "Ut-NVd4nJ1Uv",
    "outputId": "915b98c9-cb49-40c1-8396-8d124b157b16"
   },
   "outputs": [
    {
     "name": "stdout",
     "output_type": "stream",
     "text": [
      "Training features shape: (312863, 1)\n",
      "Validation features shape: (78216, 1)\n",
      "Test features shape: (97770, 1)\n"
     ]
    }
   ],
   "source": [
    "y_train=np.array(y_train).reshape(len(y_train),1)\n",
    "y_test=np.array(y_test).reshape(len(y_test),1)\n",
    "y_val=np.array(y_val).reshape(len(y_val),1)\n",
    "\n",
    "print('Training features shape:', y_train.shape)\n",
    "print('Validation features shape:', y_val.shape)\n",
    "print('Test features shape:', y_test.shape)"
   ]
  },
  {
   "cell_type": "code",
   "execution_count": 11,
   "metadata": {
    "ExecuteTime": {
     "end_time": "2020-05-13T13:24:08.892592Z",
     "start_time": "2020-05-13T13:24:08.881598Z"
    },
    "colab": {},
    "colab_type": "code",
    "id": "Lj2Ka9kMJ1U2"
   },
   "outputs": [],
   "source": [
    "# standardization\n",
    "from sklearn.preprocessing import StandardScaler"
   ]
  },
  {
   "cell_type": "code",
   "execution_count": 12,
   "metadata": {
    "ExecuteTime": {
     "end_time": "2020-05-13T13:24:11.468113Z",
     "start_time": "2020-05-13T13:24:08.895590Z"
    },
    "colab": {},
    "colab_type": "code",
    "id": "BiA2g-qsJ1U6"
   },
   "outputs": [],
   "source": [
    "scaler = StandardScaler()\n",
    "\n",
    "X_train = scaler.fit_transform(X_train)\n",
    "\n",
    "X_val = scaler.transform(X_val)\n",
    "X_test = scaler.transform(X_test)"
   ]
  },
  {
   "cell_type": "markdown",
   "metadata": {
    "colab_type": "text",
    "id": "BcaKVTGuJ1Vm"
   },
   "source": [
    "# MLP simple"
   ]
  },
  {
   "cell_type": "markdown",
   "metadata": {
    "colab_type": "text",
    "id": "HquajIY-J1Vn"
   },
   "source": [
    "## Mini functions"
   ]
  },
  {
   "cell_type": "markdown",
   "metadata": {
    "colab_type": "text",
    "id": "_Z54FMlfJ1Vp"
   },
   "source": [
    "### Create model"
   ]
  },
  {
   "cell_type": "code",
   "execution_count": 13,
   "metadata": {
    "ExecuteTime": {
     "end_time": "2020-05-13T13:24:17.209774Z",
     "start_time": "2020-05-13T13:24:11.471112Z"
    },
    "colab": {},
    "colab_type": "code",
    "id": "dBEUbS6cYuve"
   },
   "outputs": [
    {
     "name": "stdout",
     "output_type": "stream",
     "text": [
      "2.1.0\n"
     ]
    }
   ],
   "source": [
    "import tensorflow as tf\n",
    "from tensorflow import keras\n",
    "print(tf.__version__)"
   ]
  },
  {
   "cell_type": "code",
   "execution_count": 14,
   "metadata": {
    "ExecuteTime": {
     "end_time": "2020-05-13T13:24:17.227763Z",
     "start_time": "2020-05-13T13:24:17.213772Z"
    },
    "colab": {},
    "colab_type": "code",
    "id": "yIup1KAaJ1Vr"
   },
   "outputs": [],
   "source": [
    "def create_model(nodes=20,actih='relu',actio='sigmoid',lr=1e-3,output_bias=None,logits=False):\n",
    "    model = keras.Sequential()\n",
    "    model.add(keras.layers.Dense(nodes, activation=actih,input_dim=X_train.shape[1]))\n",
    "    model.add(keras.layers.Dropout(0.5))\n",
    "    model.add(keras.layers.Dense(1, activation=actio,bias_initializer=output_bias))\n",
    "    \n",
    "    model.compile(optimizer=keras.optimizers.Adam(lr=lr),\n",
    "                  loss=keras.losses.BinaryCrossentropy(from_logits=logits),\n",
    "                  metrics=metrics)\n",
    "    return model"
   ]
  },
  {
   "cell_type": "markdown",
   "metadata": {
    "colab_type": "text",
    "id": "JXXqeCA-J1Vu"
   },
   "source": [
    "### Show confusion matrix\n"
   ]
  },
  {
   "cell_type": "code",
   "execution_count": 15,
   "metadata": {
    "ExecuteTime": {
     "end_time": "2020-05-13T13:24:17.239757Z",
     "start_time": "2020-05-13T13:24:17.231762Z"
    },
    "colab": {},
    "colab_type": "code",
    "id": "BCMLDgLcYo6T"
   },
   "outputs": [],
   "source": [
    "from sklearn.metrics import confusion_matrix, classification_report"
   ]
  },
  {
   "cell_type": "code",
   "execution_count": 16,
   "metadata": {
    "ExecuteTime": {
     "end_time": "2020-05-13T13:24:17.257747Z",
     "start_time": "2020-05-13T13:24:17.242754Z"
    },
    "colab": {},
    "colab_type": "code",
    "id": "ZhneEw4cRND_"
   },
   "outputs": [],
   "source": [
    "def CI(arr):\n",
    "    op=[arr[0,0],arr[1,1]]/arr.sum(axis=0)\n",
    "    op=np.append(op,(arr[0,0]+arr[1,1])/arr.sum())\n",
    "    op=pd.DataFrame(op,columns=['Precision'],index=['0','1','Global'])\n",
    "    op['n_p']=np.append(arr.sum(axis=0),arr.sum())\n",
    "    op['CI_p']=196*np.sqrt(op.Precision*(1-op.Precision)/op.n_p)\n",
    "    op['Precision']=op.Precision*100\n",
    "\n",
    "    op['Recall']=np.append([arr[0,0],arr[1,1]]/arr.sum(axis=1),(arr[0,0]+arr[1,1])/arr.sum())\n",
    "    op['n_r']=np.append(arr.sum(axis=1),arr.sum())\n",
    "    op['CI_r']=196*np.sqrt(op.Recall*(1-op.Recall)/op.n_r)\n",
    "    op['Recall']=op.Recall*100\n",
    "    return op"
   ]
  },
  {
   "cell_type": "code",
   "execution_count": 17,
   "metadata": {
    "ExecuteTime": {
     "end_time": "2020-05-13T13:24:17.276736Z",
     "start_time": "2020-05-13T13:24:17.260745Z"
    },
    "colab": {},
    "colab_type": "code",
    "id": "uFfBF83bJ1V0"
   },
   "outputs": [],
   "source": [
    "def show_cm(labels, predictions, p=0.5):\n",
    "    cm = confusion_matrix(labels, predictions > p)\n",
    "    print(cm)\n",
    "    pcm=classification_report(labels, predictions > p, target_names=['Class 0','Class 1']) \n",
    "    print(pcm)\n",
    "    return CI(cm)"
   ]
  },
  {
   "cell_type": "markdown",
   "metadata": {
    "colab_type": "text",
    "id": "U7vWECLdJ1V_"
   },
   "source": [
    "### Plot ROC\n"
   ]
  },
  {
   "cell_type": "code",
   "execution_count": 18,
   "metadata": {
    "ExecuteTime": {
     "end_time": "2020-05-13T13:24:17.295726Z",
     "start_time": "2020-05-13T13:24:17.280738Z"
    },
    "colab": {},
    "colab_type": "code",
    "id": "C3yM0beyZCHc"
   },
   "outputs": [],
   "source": [
    "from sklearn.metrics import roc_curve, auc"
   ]
  },
  {
   "cell_type": "code",
   "execution_count": 19,
   "metadata": {
    "ExecuteTime": {
     "end_time": "2020-05-13T13:24:17.310719Z",
     "start_time": "2020-05-13T13:24:17.299722Z"
    },
    "colab": {},
    "colab_type": "code",
    "id": "tuV1U8jcJ1WG"
   },
   "outputs": [],
   "source": [
    "def plot_roc(name, labels, predictions, **kwargs):\n",
    "  fp, tp, _ = roc_curve(labels, predictions)\n",
    "\n",
    "  plt.plot(100*fp, 100*tp, label=name + ' (area = %0.4f)' % auc(fp, tp), linewidth=1.5, **kwargs)\n",
    "  plt.xlabel('False positives [%]')\n",
    "  plt.ylabel('True positives [%]')\n",
    "  plt.xlim([0,100.5])\n",
    "  plt.ylim([0,100.5])\n",
    "  plt.grid(True)\n",
    "  ax = plt.gca()\n",
    "  ax.set_aspect('equal')"
   ]
  },
  {
   "cell_type": "code",
   "execution_count": 20,
   "metadata": {
    "ExecuteTime": {
     "end_time": "2020-05-13T13:24:17.778447Z",
     "start_time": "2020-05-13T13:24:17.314713Z"
    },
    "colab": {
     "base_uri": "https://localhost:8080/",
     "height": 34
    },
    "colab_type": "code",
    "executionInfo": {
     "elapsed": 897,
     "status": "ok",
     "timestamp": 1589207945007,
     "user": {
      "displayName": "Duong Hung",
      "photoUrl": "https://lh3.googleusercontent.com/a-/AOh14Ggfgs4FqFN7Yq3pQXoVHeQcc9w9kDV_fAGoQ3Nx4nk=s64",
      "userId": "01608720095171318435"
     },
     "user_tz": 300
    },
    "id": "gS6h-0G3J1WN",
    "outputId": "057d64d7-9979-4afe-dbb8-18401e60e212"
   },
   "outputs": [
    {
     "data": {
      "text/plain": [
       "<TensorSliceDataset shapes: ((133,), (1,)), types: (tf.float64, tf.int32)>"
      ]
     },
     "execution_count": 20,
     "metadata": {},
     "output_type": "execute_result"
    }
   ],
   "source": [
    "data_train = tf.data.Dataset.from_tensor_slices((X_train, y_train))\n",
    "data_train"
   ]
  },
  {
   "cell_type": "code",
   "execution_count": 21,
   "metadata": {
    "ExecuteTime": {
     "end_time": "2020-05-13T13:24:17.869395Z",
     "start_time": "2020-05-13T13:24:17.783445Z"
    },
    "colab": {
     "base_uri": "https://localhost:8080/",
     "height": 34
    },
    "colab_type": "code",
    "executionInfo": {
     "elapsed": 875,
     "status": "ok",
     "timestamp": 1589207945008,
     "user": {
      "displayName": "Duong Hung",
      "photoUrl": "https://lh3.googleusercontent.com/a-/AOh14Ggfgs4FqFN7Yq3pQXoVHeQcc9w9kDV_fAGoQ3Nx4nk=s64",
      "userId": "01608720095171318435"
     },
     "user_tz": 300
    },
    "id": "ruuam0vyJ1WT",
    "outputId": "b49f0d76-f433-4467-8b7d-f6cec4259442"
   },
   "outputs": [
    {
     "data": {
      "text/plain": [
       "<TensorSliceDataset shapes: ((133,), (1,)), types: (tf.float64, tf.int32)>"
      ]
     },
     "execution_count": 21,
     "metadata": {},
     "output_type": "execute_result"
    }
   ],
   "source": [
    "data_val = tf.data.Dataset.from_tensor_slices((X_val, y_val))\n",
    "data_val"
   ]
  },
  {
   "cell_type": "code",
   "execution_count": 22,
   "metadata": {
    "ExecuteTime": {
     "end_time": "2020-05-13T13:24:17.885386Z",
     "start_time": "2020-05-13T13:24:17.872394Z"
    },
    "colab": {
     "base_uri": "https://localhost:8080/",
     "height": 34
    },
    "colab_type": "code",
    "executionInfo": {
     "elapsed": 859,
     "status": "ok",
     "timestamp": 1589207945009,
     "user": {
      "displayName": "Duong Hung",
      "photoUrl": "https://lh3.googleusercontent.com/a-/AOh14Ggfgs4FqFN7Yq3pQXoVHeQcc9w9kDV_fAGoQ3Nx4nk=s64",
      "userId": "01608720095171318435"
     },
     "user_tz": 300
    },
    "id": "XkkyFt4uJ1WZ",
    "outputId": "d2a985d7-dba8-4bb2-e2a8-23433b3b9ca4"
   },
   "outputs": [
    {
     "data": {
      "text/plain": [
       "array([-5.78753572])"
      ]
     },
     "execution_count": 22,
     "metadata": {},
     "output_type": "execute_result"
    }
   ],
   "source": [
    "initial_bias = np.log([pos/neg])\n",
    "initial_bias"
   ]
  },
  {
   "cell_type": "code",
   "execution_count": 31,
   "metadata": {
    "ExecuteTime": {
     "end_time": "2020-05-13T13:28:11.759925Z",
     "start_time": "2020-05-13T13:28:11.735937Z"
    },
    "colab": {},
    "colab_type": "code",
    "id": "pYL3bQLrJ1Wf"
   },
   "outputs": [],
   "source": [
    "metrics = [keras.metrics.BinaryAccuracy(name='accuracy'),\n",
    "          keras.metrics.Precision(name='precision'),\n",
    "          keras.metrics.Recall(name='recall'),\n",
    "          keras.metrics.AUC(name='auc')]"
   ]
  },
  {
   "cell_type": "code",
   "execution_count": 25,
   "metadata": {
    "ExecuteTime": {
     "end_time": "2020-05-13T13:24:17.969337Z",
     "start_time": "2020-05-13T13:24:17.963342Z"
    },
    "colab": {},
    "colab_type": "code",
    "id": "3VS51FQTJ1Wk"
   },
   "outputs": [],
   "source": [
    "es = tf.keras.callbacks.EarlyStopping(monitor='val_auc', \n",
    "    verbose=1,\n",
    "    patience=10,\n",
    "    mode='max',\n",
    "    restore_best_weights=True)"
   ]
  },
  {
   "cell_type": "code",
   "execution_count": 26,
   "metadata": {
    "ExecuteTime": {
     "end_time": "2020-05-13T13:24:17.982331Z",
     "start_time": "2020-05-13T13:24:17.972336Z"
    },
    "colab": {},
    "colab_type": "code",
    "id": "XQvk15IGlGSs"
   },
   "outputs": [],
   "source": [
    "tf.random.set_seed(8)"
   ]
  },
  {
   "cell_type": "code",
   "execution_count": 27,
   "metadata": {
    "ExecuteTime": {
     "end_time": "2020-05-13T13:24:18.003319Z",
     "start_time": "2020-05-13T13:24:17.985328Z"
    },
    "colab": {},
    "colab_type": "code",
    "id": "CA3Zf0VHJ1Wo"
   },
   "outputs": [],
   "source": [
    "batch_size=2048\n",
    "data_train = data_train.shuffle(len(X_train)).batch(batch_size)\n",
    "data_val = data_val.shuffle(len(X_val)).batch(batch_size)"
   ]
  },
  {
   "cell_type": "code",
   "execution_count": 28,
   "metadata": {
    "ExecuteTime": {
     "end_time": "2020-05-13T13:24:18.018312Z",
     "start_time": "2020-05-13T13:24:18.008316Z"
    },
    "colab": {},
    "colab_type": "code",
    "id": "wOnyvd3jK739"
   },
   "outputs": [],
   "source": [
    "import time"
   ]
  },
  {
   "cell_type": "markdown",
   "metadata": {
    "colab_type": "text",
    "id": "-pfo6_s7J1WM"
   },
   "source": [
    "## Base model\n"
   ]
  },
  {
   "cell_type": "code",
   "execution_count": 70,
   "metadata": {
    "ExecuteTime": {
     "start_time": "2020-05-11T14:26:46.492Z"
    },
    "colab": {
     "base_uri": "https://localhost:8080/",
     "height": 564
    },
    "colab_type": "code",
    "executionInfo": {
     "elapsed": 53303,
     "status": "ok",
     "timestamp": 1589212064374,
     "user": {
      "displayName": "Duong Hung",
      "photoUrl": "https://lh3.googleusercontent.com/a-/AOh14Ggfgs4FqFN7Yq3pQXoVHeQcc9w9kDV_fAGoQ3Nx4nk=s64",
      "userId": "01608720095171318435"
     },
     "user_tz": 300
    },
    "id": "dbkOcpHyJ1W0",
    "outputId": "bdcb72a3-ec9c-4e19-bad0-5a2c5dbce6ec"
   },
   "outputs": [
    {
     "name": "stdout",
     "output_type": "stream",
     "text": [
      "Epoch 1/100\n",
      "153/153 [==============================] - 4s 23ms/step - loss: 0.1941 - accuracy: 0.9729 - precision: 0.0090 - recall: 0.0720 - auc: 0.5318 - val_loss: 0.0474 - val_accuracy: 0.9969 - val_precision: 0.2000 - val_recall: 0.0084 - val_auc: 0.5524\n",
      "Epoch 2/100\n",
      "153/153 [==============================] - 3s 21ms/step - loss: 0.0615 - accuracy: 0.9954 - precision: 0.0462 - recall: 0.0262 - auc: 0.6279 - val_loss: 0.0233 - val_accuracy: 0.9969 - val_precision: 0.0000e+00 - val_recall: 0.0000e+00 - val_auc: 0.8094\n",
      "Epoch 3/100\n",
      "153/153 [==============================] - 3s 21ms/step - loss: 0.0398 - accuracy: 0.9965 - precision: 0.1250 - recall: 0.0241 - auc: 0.7288 - val_loss: 0.0177 - val_accuracy: 0.9969 - val_precision: 0.4000 - val_recall: 0.0084 - val_auc: 0.8651\n",
      "Epoch 4/100\n",
      "153/153 [==============================] - 3s 21ms/step - loss: 0.0318 - accuracy: 0.9967 - precision: 0.1912 - recall: 0.0272 - auc: 0.7542 - val_loss: 0.0160 - val_accuracy: 0.9969 - val_precision: 0.2500 - val_recall: 0.0042 - val_auc: 0.8669\n",
      "Epoch 5/100\n",
      "153/153 [==============================] - 3s 21ms/step - loss: 0.0279 - accuracy: 0.9967 - precision: 0.1845 - recall: 0.0199 - auc: 0.7789 - val_loss: 0.0152 - val_accuracy: 0.9969 - val_precision: 0.2500 - val_recall: 0.0042 - val_auc: 0.8567\n",
      "Epoch 6/100\n",
      "153/153 [==============================] - 3s 21ms/step - loss: 0.0254 - accuracy: 0.9968 - precision: 0.2254 - recall: 0.0167 - auc: 0.7997 - val_loss: 0.0146 - val_accuracy: 0.9970 - val_precision: 0.6667 - val_recall: 0.0084 - val_auc: 0.8598\n",
      "Epoch 7/100\n",
      "153/153 [==============================] - 3s 21ms/step - loss: 0.0235 - accuracy: 0.9969 - precision: 0.2326 - recall: 0.0105 - auc: 0.8053 - val_loss: 0.0144 - val_accuracy: 0.9970 - val_precision: 0.6667 - val_recall: 0.0084 - val_auc: 0.8535\n",
      "Epoch 8/100\n",
      "153/153 [==============================] - 3s 21ms/step - loss: 0.0217 - accuracy: 0.9969 - precision: 0.3514 - recall: 0.0136 - auc: 0.8181 - val_loss: 0.0143 - val_accuracy: 0.9970 - val_precision: 0.6667 - val_recall: 0.0084 - val_auc: 0.8507\n",
      "Epoch 9/100\n",
      "153/153 [==============================] - 3s 21ms/step - loss: 0.0206 - accuracy: 0.9969 - precision: 0.3500 - recall: 0.0146 - auc: 0.8291 - val_loss: 0.0143 - val_accuracy: 0.9969 - val_precision: 0.0000e+00 - val_recall: 0.0000e+00 - val_auc: 0.8533\n",
      "Epoch 10/100\n",
      "153/153 [==============================] - 3s 21ms/step - loss: 0.0197 - accuracy: 0.9969 - precision: 0.2500 - recall: 0.0073 - auc: 0.8332 - val_loss: 0.0143 - val_accuracy: 0.9970 - val_precision: 1.0000 - val_recall: 0.0042 - val_auc: 0.8575\n",
      "Epoch 11/100\n",
      "153/153 [==============================] - 3s 21ms/step - loss: 0.0192 - accuracy: 0.9969 - precision: 0.1739 - recall: 0.0042 - auc: 0.8417 - val_loss: 0.0142 - val_accuracy: 0.9969 - val_precision: 0.0000e+00 - val_recall: 0.0000e+00 - val_auc: 0.8618\n",
      "Epoch 12/100\n",
      "153/153 [==============================] - 3s 21ms/step - loss: 0.0188 - accuracy: 0.9969 - precision: 0.2143 - recall: 0.0063 - auc: 0.8417 - val_loss: 0.0142 - val_accuracy: 0.9969 - val_precision: 0.0000e+00 - val_recall: 0.0000e+00 - val_auc: 0.8600\n",
      "Epoch 13/100\n",
      "153/153 [==============================] - 3s 21ms/step - loss: 0.0181 - accuracy: 0.9969 - precision: 0.3333 - recall: 0.0063 - auc: 0.8427 - val_loss: 0.0143 - val_accuracy: 0.9969 - val_precision: 0.0000e+00 - val_recall: 0.0000e+00 - val_auc: 0.8620\n",
      "Epoch 14/100\n",
      "152/153 [============================>.] - ETA: 0s - loss: 0.0176 - accuracy: 0.9969 - precision: 0.5789 - recall: 0.0115 - auc: 0.8511Restoring model weights from the end of the best epoch.\n",
      "153/153 [==============================] - 3s 21ms/step - loss: 0.0176 - accuracy: 0.9970 - precision: 0.5789 - recall: 0.0115 - auc: 0.8503 - val_loss: 0.0142 - val_accuracy: 0.9969 - val_precision: 0.0000e+00 - val_recall: 0.0000e+00 - val_auc: 0.8583\n",
      "Epoch 00014: early stopping\n"
     ]
    },
    {
     "data": {
      "text/plain": [
       "52.8734016418457"
      ]
     },
     "execution_count": 70,
     "metadata": {
      "tags": []
     },
     "output_type": "execute_result"
    }
   ],
   "source": [
    "start_time=time.time()\n",
    "ar_model=create_model()\n",
    "Monitor = ar_model.fit(data_train, epochs=100,callbacks=[es],validation_data = data_val, verbose = 1)\n",
    "end_time=time.time()\n",
    "end_time-start_time"
   ]
  },
  {
   "cell_type": "code",
   "execution_count": 71,
   "metadata": {
    "ExecuteTime": {
     "end_time": "2020-05-08T23:10:38.915267Z",
     "start_time": "2020-05-08T23:10:38.338741Z"
    },
    "colab": {
     "base_uri": "https://localhost:8080/",
     "height": 535
    },
    "colab_type": "code",
    "executionInfo": {
     "elapsed": 865,
     "status": "ok",
     "timestamp": 1589212071434,
     "user": {
      "displayName": "Duong Hung",
      "photoUrl": "https://lh3.googleusercontent.com/a-/AOh14Ggfgs4FqFN7Yq3pQXoVHeQcc9w9kDV_fAGoQ3Nx4nk=s64",
      "userId": "01608720095171318435"
     },
     "user_tz": 300
    },
    "id": "XHnPm2POJ1W7",
    "outputId": "e028facf-e5e6-43f9-ad26-5760042acf5f"
   },
   "outputs": [
    {
     "data": {
      "image/png": "[encoded data removed]",
      "text/plain": [
       "<Figure size 1500x600 with 2 Axes>"
      ]
     },
     "metadata": {
      "needs_background": "light",
      "tags": []
     },
     "output_type": "display_data"
    }
   ],
   "source": [
    "hist = pd.DataFrame(Monitor.history)\n",
    "fig, axes = plt.subplots(nrows=1, ncols=2,figsize=(10,4),dpi=150)\n",
    "hist[['loss','val_loss']].plot(ax=axes[0])\n",
    "hist[['auc','val_auc']].plot(ax=axes[1])\n",
    "plt.show()"
   ]
  },
  {
   "cell_type": "markdown",
   "metadata": {
    "colab_type": "text",
    "id": "y_w6VNGjR3Bo"
   },
   "source": [
    "### Results\n"
   ]
  },
  {
   "cell_type": "code",
   "execution_count": 0,
   "metadata": {
    "ExecuteTime": {
     "end_time": "2020-05-08T23:15:19.697014Z",
     "start_time": "2020-05-08T23:14:56.164745Z"
    },
    "colab": {},
    "colab_type": "code",
    "id": "MjuL0KzSJ1W_"
   },
   "outputs": [],
   "source": [
    "y_pred_train_b = ar_model.predict(X_train)\n",
    "y_pred_test_b = ar_model.predict(X_test)"
   ]
  },
  {
   "cell_type": "code",
   "execution_count": 73,
   "metadata": {
    "ExecuteTime": {
     "end_time": "2020-05-08T23:18:18.248124Z",
     "start_time": "2020-05-08T23:18:14.705809Z"
    },
    "colab": {
     "base_uri": "https://localhost:8080/",
     "height": 282
    },
    "colab_type": "code",
    "executionInfo": {
     "elapsed": 3372,
     "status": "ok",
     "timestamp": 1589212084748,
     "user": {
      "displayName": "Duong Hung",
      "photoUrl": "https://lh3.googleusercontent.com/a-/AOh14Ggfgs4FqFN7Yq3pQXoVHeQcc9w9kDV_fAGoQ3Nx4nk=s64",
      "userId": "01608720095171318435"
     },
     "user_tz": 300
    },
    "id": "VztLN6EAJ1XF",
    "outputId": "3d94521b-8b9a-4de4-abd4-a86de535d45c"
   },
   "outputs": [
    {
     "data": {
      "text/plain": [
       "<matplotlib.collections.PathCollection at 0x7ff3133c7470>"
      ]
     },
     "execution_count": 73,
     "metadata": {
      "tags": []
     },
     "output_type": "execute_result"
    },
    {
     "data": {
      "image/png": "[encoded data removed]",
      "text/plain": [
       "<Figure size 432x288 with 1 Axes>"
      ]
     },
     "metadata": {
      "needs_background": "light",
      "tags": []
     },
     "output_type": "display_data"
    }
   ],
   "source": [
    "plt.scatter(np.arange(len(y_test)),y_pred_test_b)"
   ]
  },
  {
   "cell_type": "code",
   "execution_count": 74,
   "metadata": {
    "ExecuteTime": {
     "end_time": "2020-05-08T23:19:12.255719Z",
     "start_time": "2020-05-08T23:19:12.249731Z"
    },
    "colab": {
     "base_uri": "https://localhost:8080/",
     "height": 329
    },
    "colab_type": "code",
    "executionInfo": {
     "elapsed": 1678,
     "status": "ok",
     "timestamp": 1589212086488,
     "user": {
      "displayName": "Duong Hung",
      "photoUrl": "https://lh3.googleusercontent.com/a-/AOh14Ggfgs4FqFN7Yq3pQXoVHeQcc9w9kDV_fAGoQ3Nx4nk=s64",
      "userId": "01608720095171318435"
     },
     "user_tz": 300
    },
    "id": "7FZsUwCmJ1XJ",
    "outputId": "b46aa674-055e-4148-d66f-6845ce261630"
   },
   "outputs": [
    {
     "name": "stdout",
     "output_type": "stream",
     "text": [
      "[[97470     1]\n",
      " [  299     0]]\n",
      "              precision    recall  f1-score   support\n",
      "\n",
      "     Class 0       1.00      1.00      1.00     97471\n",
      "     Class 1       0.00      0.00      0.00       299\n",
      "\n",
      "    accuracy                           1.00     97770\n",
      "   macro avg       0.50      0.50      0.50     97770\n",
      "weighted avg       0.99      1.00      1.00     97770\n",
      "\n"
     ]
    },
    {
     "data": {
      "text/html": [
       "<div>\n",
       "<style scoped>\n",
       "    .dataframe tbody tr th:only-of-type {\n",
       "        vertical-align: middle;\n",
       "    }\n",
       "\n",
       "    .dataframe tbody tr th {\n",
       "        vertical-align: top;\n",
       "    }\n",
       "\n",
       "    .dataframe thead th {\n",
       "        text-align: right;\n",
       "    }\n",
       "</style>\n",
       "<table border=\"1\" class=\"dataframe\">\n",
       "  <thead>\n",
       "    <tr style=\"text-align: right;\">\n",
       "      <th></th>\n",
       "      <th>Precision</th>\n",
       "      <th>n_p</th>\n",
       "      <th>CI_p</th>\n",
       "      <th>Recall</th>\n",
       "      <th>n_r</th>\n",
       "      <th>CI_r</th>\n",
       "    </tr>\n",
       "  </thead>\n",
       "  <tbody>\n",
       "    <tr>\n",
       "      <th>0</th>\n",
       "      <td>99.694177</td>\n",
       "      <td>97769</td>\n",
       "      <td>0.034612</td>\n",
       "      <td>99.998974</td>\n",
       "      <td>97471</td>\n",
       "      <td>0.002011</td>\n",
       "    </tr>\n",
       "    <tr>\n",
       "      <th>1</th>\n",
       "      <td>0.000000</td>\n",
       "      <td>1</td>\n",
       "      <td>0.000000</td>\n",
       "      <td>0.000000</td>\n",
       "      <td>299</td>\n",
       "      <td>0.000000</td>\n",
       "    </tr>\n",
       "    <tr>\n",
       "      <th>Global</th>\n",
       "      <td>99.693157</td>\n",
       "      <td>97770</td>\n",
       "      <td>0.034669</td>\n",
       "      <td>99.693157</td>\n",
       "      <td>97770</td>\n",
       "      <td>0.034669</td>\n",
       "    </tr>\n",
       "  </tbody>\n",
       "</table>\n",
       "</div>"
      ],
      "text/plain": [
       "        Precision    n_p      CI_p     Recall    n_r      CI_r\n",
       "0       99.694177  97769  0.034612  99.998974  97471  0.002011\n",
       "1        0.000000      1  0.000000   0.000000    299  0.000000\n",
       "Global  99.693157  97770  0.034669  99.693157  97770  0.034669"
      ]
     },
     "execution_count": 74,
     "metadata": {
      "tags": []
     },
     "output_type": "execute_result"
    }
   ],
   "source": [
    "show_cm(y_test,y_pred_test_b)"
   ]
  },
  {
   "cell_type": "code",
   "execution_count": 75,
   "metadata": {
    "colab": {
     "base_uri": "https://localhost:8080/",
     "height": 499
    },
    "colab_type": "code",
    "executionInfo": {
     "elapsed": 845,
     "status": "ok",
     "timestamp": 1589212097527,
     "user": {
      "displayName": "Duong Hung",
      "photoUrl": "https://lh3.googleusercontent.com/a-/AOh14Ggfgs4FqFN7Yq3pQXoVHeQcc9w9kDV_fAGoQ3Nx4nk=s64",
      "userId": "01608720095171318435"
     },
     "user_tz": 300
    },
    "id": "6xa4zTcUXo-V",
    "outputId": "4665748c-7a91-4df4-b57a-73338aa797f7"
   },
   "outputs": [
    {
     "data": {
      "image/png": "[encoded data removed]",
      "text/plain": [
       "<Figure size 576x576 with 1 Axes>"
      ]
     },
     "metadata": {
      "needs_background": "light",
      "tags": []
     },
     "output_type": "display_data"
    }
   ],
   "source": [
    "plt.figure(figsize=(8,8))\n",
    "plot_roc('Base model - train',y_train,y_pred_train_b)\n",
    "plot_roc('Base model - test',y_test,y_pred_test_b)\n",
    "plt.legend()\n",
    "plt.show()"
   ]
  },
  {
   "cell_type": "markdown",
   "metadata": {
    "ExecuteTime": {
     "end_time": "2020-05-08T22:47:44.768449Z",
     "start_time": "2020-05-08T22:47:44.455029Z"
    },
    "colab_type": "text",
    "id": "loWcs-MKJ1XR"
   },
   "source": [
    "# Class weight"
   ]
  },
  {
   "cell_type": "markdown",
   "metadata": {
    "colab_type": "text",
    "id": "mDLuSQMabKFn"
   },
   "source": [
    "### Class weight estimation"
   ]
  },
  {
   "cell_type": "code",
   "execution_count": 30,
   "metadata": {
    "ExecuteTime": {
     "end_time": "2020-05-12T14:41:26.788611Z",
     "start_time": "2020-05-12T14:41:26.780615Z"
    },
    "colab": {
     "base_uri": "https://localhost:8080/",
     "height": 51
    },
    "colab_type": "code",
    "executionInfo": {
     "elapsed": 560,
     "status": "ok",
     "timestamp": 1589212124813,
     "user": {
      "displayName": "Duong Hung",
      "photoUrl": "https://lh3.googleusercontent.com/a-/AOh14Ggfgs4FqFN7Yq3pQXoVHeQcc9w9kDV_fAGoQ3Nx4nk=s64",
      "userId": "01608720095171318435"
     },
     "user_tz": 300
    },
    "id": "y1tT_8gBbIl_",
    "outputId": "ae412364-1a30-41c6-9138-81f52d3aca5c"
   },
   "outputs": [
    {
     "name": "stdout",
     "output_type": "stream",
     "text": [
      "Weight for class 0: 0.50\n",
      "Weight for class 1: 163.60\n"
     ]
    }
   ],
   "source": [
    "# Scaling by total/2 helps keep the loss to a similar magnitude.\n",
    "# The sum of the weights of all examples stays the same.\n",
    "weight_for_0 = (1 / neg)*(total)/2.0 \n",
    "weight_for_1 = (1 / pos)*(total)/2.0\n",
    "\n",
    "class_weight = {0: weight_for_0, 1: weight_for_1}\n",
    "\n",
    "print('Weight for class 0: {:.2f}'.format(weight_for_0))\n",
    "print('Weight for class 1: {:.2f}'.format(weight_for_1))"
   ]
  },
  {
   "cell_type": "markdown",
   "metadata": {
    "colab_type": "text",
    "id": "-G092TzzbPWJ"
   },
   "source": [
    "### Run model with class weight"
   ]
  },
  {
   "cell_type": "code",
   "execution_count": 31,
   "metadata": {
    "ExecuteTime": {
     "end_time": "2020-05-12T14:43:15.080504Z",
     "start_time": "2020-05-12T14:41:26.791609Z"
    },
    "colab": {
     "base_uri": "https://localhost:8080/",
     "height": 632
    },
    "colab_type": "code",
    "executionInfo": {
     "elapsed": 62769,
     "status": "ok",
     "timestamp": 1589212342424,
     "user": {
      "displayName": "Duong Hung",
      "photoUrl": "https://lh3.googleusercontent.com/a-/AOh14Ggfgs4FqFN7Yq3pQXoVHeQcc9w9kDV_fAGoQ3Nx4nk=s64",
      "userId": "01608720095171318435"
     },
     "user_tz": 300
    },
    "id": "s1fC3msPblwo",
    "outputId": "d1d46aba-7fe9-4bb6-f440-0aa47b99808d"
   },
   "outputs": [
    {
     "name": "stdout",
     "output_type": "stream",
     "text": [
      "Train for 153 steps, validate for 39 steps\n",
      "Epoch 1/100\n",
      "153/153 [==============================] - 7s 49ms/step - loss: 0.6786 - accuracy: 0.6962 - auc: 0.7438 - val_loss: 0.4224 - val_accuracy: 0.8277 - val_auc: 0.9146\n",
      "Epoch 2/100\n",
      "153/153 [==============================] - 6s 38ms/step - loss: 0.4772 - accuracy: 0.8120 - auc: 0.8671 - val_loss: 0.3675 - val_accuracy: 0.8725 - val_auc: 0.9299\n",
      "Epoch 3/100\n",
      "153/153 [==============================] - 8s 56ms/step - loss: 0.4170 - accuracy: 0.8562 - auc: 0.9010 - val_loss: 0.3467 - val_accuracy: 0.8860 - val_auc: 0.9310\n",
      "Epoch 4/100\n",
      "153/153 [==============================] - 9s 61ms/step - loss: 0.3922 - accuracy: 0.8721 - auc: 0.9122 - val_loss: 0.3400 - val_accuracy: 0.8896 - val_auc: 0.9333\n",
      "Epoch 5/100\n",
      "153/153 [==============================] - 7s 46ms/step - loss: 0.3589 - accuracy: 0.8817 - auc: 0.9274 - val_loss: 0.3327 - val_accuracy: 0.8913 - val_auc: 0.9341\n",
      "Epoch 6/100\n",
      "153/153 [==============================] - 7s 44ms/step - loss: 0.3564 - accuracy: 0.8828 - auc: 0.9281 - val_loss: 0.3231 - val_accuracy: 0.8960 - val_auc: 0.9361\n",
      "Epoch 7/100\n",
      "153/153 [==============================] - 6s 36ms/step - loss: 0.3290 - accuracy: 0.8882 - auc: 0.9394 - val_loss: 0.3167 - val_accuracy: 0.8964 - val_auc: 0.9364\n",
      "Epoch 8/100\n",
      "153/153 [==============================] - 5s 32ms/step - loss: 0.3330 - accuracy: 0.8900 - auc: 0.9371 - val_loss: 0.3142 - val_accuracy: 0.8932 - val_auc: 0.9369\n",
      "Epoch 9/100\n",
      "153/153 [==============================] - 5s 32ms/step - loss: 0.3191 - accuracy: 0.8915 - auc: 0.9424 - val_loss: 0.3170 - val_accuracy: 0.9005 - val_auc: 0.9365\n",
      "Epoch 10/100\n",
      "153/153 [==============================] - 5s 36ms/step - loss: 0.3182 - accuracy: 0.8946 - auc: 0.9409 - val_loss: 0.3205 - val_accuracy: 0.8927 - val_auc: 0.9359\n",
      "Epoch 11/100\n",
      "153/153 [==============================] - 5s 32ms/step - loss: 0.3191 - accuracy: 0.8924 - auc: 0.9414 - val_loss: 0.3205 - val_accuracy: 0.8935 - val_auc: 0.9365\n",
      "Epoch 12/100\n",
      "153/153 [==============================] - 5s 31ms/step - loss: 0.3152 - accuracy: 0.8926 - auc: 0.9439 - val_loss: 0.3225 - val_accuracy: 0.8974 - val_auc: 0.9367\n",
      "Epoch 13/100\n",
      "153/153 [==============================] - 5s 32ms/step - loss: 0.3085 - accuracy: 0.8974 - auc: 0.9459 - val_loss: 0.3438 - val_accuracy: 0.8944 - val_auc: 0.9358\n",
      "Epoch 14/100\n",
      "153/153 [==============================] - 5s 34ms/step - loss: 0.3097 - accuracy: 0.8929 - auc: 0.9443 - val_loss: 0.3317 - val_accuracy: 0.8980 - val_auc: 0.9352\n",
      "Epoch 15/100\n",
      "153/153 [==============================] - 5s 36ms/step - loss: 0.3012 - accuracy: 0.8974 - auc: 0.9479 - val_loss: 0.3294 - val_accuracy: 0.8987 - val_auc: 0.9357\n",
      "Epoch 16/100\n",
      "153/153 [==============================] - 6s 37ms/step - loss: 0.3031 - accuracy: 0.8954 - auc: 0.9466 - val_loss: 0.3303 - val_accuracy: 0.8978 - val_auc: 0.9346\n",
      "Epoch 17/100\n",
      "153/153 [==============================] - 6s 39ms/step - loss: 0.3015 - accuracy: 0.8950 - auc: 0.9475 - val_loss: 0.3311 - val_accuracy: 0.8999 - val_auc: 0.9354\n",
      "Epoch 18/100\n",
      "150/153 [============================>.] - ETA: 0s - loss: 0.2968 - accuracy: 0.8977 - auc: 0.9490Restoring model weights from the end of the best epoch.\n",
      "153/153 [==============================] - 5s 35ms/step - loss: 0.2962 - accuracy: 0.8977 - auc: 0.9494 - val_loss: 0.3339 - val_accuracy: 0.8992 - val_auc: 0.9355\n",
      "Epoch 00018: early stopping\n",
      "Computation time:  1.8046457886695861  min\n"
     ]
    }
   ],
   "source": [
    "tf.random.set_seed(8)\n",
    "start_time=time.time()\n",
    "wei_model=create_model()\n",
    "Monitor = wei_model.fit(data_train, epochs=100,callbacks=[es],validation_data = data_val,class_weight=class_weight, verbose = 1)\n",
    "end_time=time.time()\n",
    "print('Computation time: ', (end_time-start_time)/60, ' min')"
   ]
  },
  {
   "cell_type": "code",
   "execution_count": 32,
   "metadata": {
    "ExecuteTime": {
     "end_time": "2020-05-12T14:43:15.994037Z",
     "start_time": "2020-05-12T14:43:15.084502Z"
    },
    "colab": {
     "base_uri": "https://localhost:8080/",
     "height": 534
    },
    "colab_type": "code",
    "executionInfo": {
     "elapsed": 1372,
     "status": "ok",
     "timestamp": 1589212417735,
     "user": {
      "displayName": "Duong Hung",
      "photoUrl": "https://lh3.googleusercontent.com/a-/AOh14Ggfgs4FqFN7Yq3pQXoVHeQcc9w9kDV_fAGoQ3Nx4nk=s64",
      "userId": "01608720095171318435"
     },
     "user_tz": 300
    },
    "id": "gbJOrd5cb8dr",
    "outputId": "e261e90b-2a3f-432c-bb61-2319a0ccbf69"
   },
   "outputs": [
    {
     "data": {
      "image/png": "[encoded data removed]",
      "text/plain": [
       "<Figure size 1500x600 with 2 Axes>"
      ]
     },
     "metadata": {
      "needs_background": "light"
     },
     "output_type": "display_data"
    }
   ],
   "source": [
    "hist = pd.DataFrame(Monitor.history)\n",
    "fig, axes = plt.subplots(nrows=1, ncols=2,figsize=(10,4),dpi=150)\n",
    "hist[['loss','val_loss']].plot(ax=axes[0])\n",
    "hist[['auc','val_auc']].plot(ax=axes[1])\n",
    "plt.show()"
   ]
  },
  {
   "cell_type": "code",
   "execution_count": 33,
   "metadata": {
    "ExecuteTime": {
     "end_time": "2020-05-12T14:43:27.607204Z",
     "start_time": "2020-05-12T14:43:15.994037Z"
    },
    "colab": {
     "base_uri": "https://localhost:8080/",
     "height": 265
    },
    "colab_type": "code",
    "executionInfo": {
     "elapsed": 11135,
     "status": "ok",
     "timestamp": 1589212463657,
     "user": {
      "displayName": "Duong Hung",
      "photoUrl": "https://lh3.googleusercontent.com/a-/AOh14Ggfgs4FqFN7Yq3pQXoVHeQcc9w9kDV_fAGoQ3Nx4nk=s64",
      "userId": "01608720095171318435"
     },
     "user_tz": 300
    },
    "id": "tNkmcPN9b8aA",
    "outputId": "e1073989-f3c6-466f-a563-476a4a77b342"
   },
   "outputs": [],
   "source": [
    "y_pred_train_b = wei_model.predict(X_train)\n",
    "y_pred_test_b = wei_model.predict(X_test)"
   ]
  },
  {
   "cell_type": "code",
   "execution_count": 34,
   "metadata": {
    "ExecuteTime": {
     "end_time": "2020-05-12T14:43:28.924881Z",
     "start_time": "2020-05-12T14:43:27.607204Z"
    },
    "colab": {
     "base_uri": "https://localhost:8080/",
     "height": 265
    },
    "colab_type": "code",
    "executionInfo": {
     "elapsed": 3409,
     "status": "ok",
     "timestamp": 1589212486193,
     "user": {
      "displayName": "Duong Hung",
      "photoUrl": "https://lh3.googleusercontent.com/a-/AOh14Ggfgs4FqFN7Yq3pQXoVHeQcc9w9kDV_fAGoQ3Nx4nk=s64",
      "userId": "01608720095171318435"
     },
     "user_tz": 300
    },
    "id": "g1AwenWlcgTC",
    "outputId": "9fac0fc0-4f27-4f1c-ddd2-87d4af6130aa"
   },
   "outputs": [
    {
     "data": {
      "image/png": "[encoded data removed]",
      "text/plain": [
       "<Figure size 432x288 with 1 Axes>"
      ]
     },
     "metadata": {
      "needs_background": "light"
     },
     "output_type": "display_data"
    }
   ],
   "source": [
    "plt.scatter(np.arange(len(y_test)),y_pred_test_b,s=0.1)\n",
    "plt.show()"
   ]
  },
  {
   "cell_type": "code",
   "execution_count": 35,
   "metadata": {
    "ExecuteTime": {
     "end_time": "2020-05-12T14:43:29.495590Z",
     "start_time": "2020-05-12T14:43:28.927881Z"
    },
    "colab": {
     "base_uri": "https://localhost:8080/",
     "height": 329
    },
    "colab_type": "code",
    "executionInfo": {
     "elapsed": 7794,
     "status": "ok",
     "timestamp": 1589212463659,
     "user": {
      "displayName": "Duong Hung",
      "photoUrl": "https://lh3.googleusercontent.com/a-/AOh14Ggfgs4FqFN7Yq3pQXoVHeQcc9w9kDV_fAGoQ3Nx4nk=s64",
      "userId": "01608720095171318435"
     },
     "user_tz": 300
    },
    "id": "5kiSMFi8b8Xp",
    "outputId": "73032199-61f6-4460-a8f8-c254d9b502d9"
   },
   "outputs": [
    {
     "name": "stdout",
     "output_type": "stream",
     "text": [
      "[[86734 10737]\n",
      " [   27   272]]\n",
      "              precision    recall  f1-score   support\n",
      "\n",
      "     Class 0       1.00      0.89      0.94     97471\n",
      "     Class 1       0.02      0.91      0.05       299\n",
      "\n",
      "    accuracy                           0.89     97770\n",
      "   macro avg       0.51      0.90      0.49     97770\n",
      "weighted avg       1.00      0.89      0.94     97770\n",
      "\n"
     ]
    },
    {
     "data": {
      "text/html": [
       "<div>\n",
       "<style scoped>\n",
       "    .dataframe tbody tr th:only-of-type {\n",
       "        vertical-align: middle;\n",
       "    }\n",
       "\n",
       "    .dataframe tbody tr th {\n",
       "        vertical-align: top;\n",
       "    }\n",
       "\n",
       "    .dataframe thead th {\n",
       "        text-align: right;\n",
       "    }\n",
       "</style>\n",
       "<table border=\"1\" class=\"dataframe\">\n",
       "  <thead>\n",
       "    <tr style=\"text-align: right;\">\n",
       "      <th></th>\n",
       "      <th>Precision</th>\n",
       "      <th>n_p</th>\n",
       "      <th>CI_p</th>\n",
       "      <th>Recall</th>\n",
       "      <th>n_r</th>\n",
       "      <th>CI_r</th>\n",
       "    </tr>\n",
       "  </thead>\n",
       "  <tbody>\n",
       "    <tr>\n",
       "      <th>0</th>\n",
       "      <td>99.968880</td>\n",
       "      <td>86761</td>\n",
       "      <td>0.011737</td>\n",
       "      <td>88.984416</td>\n",
       "      <td>97471</td>\n",
       "      <td>0.196553</td>\n",
       "    </tr>\n",
       "    <tr>\n",
       "      <th>1</th>\n",
       "      <td>2.470706</td>\n",
       "      <td>11009</td>\n",
       "      <td>0.289975</td>\n",
       "      <td>90.969900</td>\n",
       "      <td>299</td>\n",
       "      <td>3.248745</td>\n",
       "    </tr>\n",
       "    <tr>\n",
       "      <th>Global</th>\n",
       "      <td>88.990488</td>\n",
       "      <td>97770</td>\n",
       "      <td>0.196205</td>\n",
       "      <td>88.990488</td>\n",
       "      <td>97770</td>\n",
       "      <td>0.196205</td>\n",
       "    </tr>\n",
       "  </tbody>\n",
       "</table>\n",
       "</div>"
      ],
      "text/plain": [
       "        Precision    n_p      CI_p     Recall    n_r      CI_r\n",
       "0       99.968880  86761  0.011737  88.984416  97471  0.196553\n",
       "1        2.470706  11009  0.289975  90.969900    299  3.248745\n",
       "Global  88.990488  97770  0.196205  88.990488  97770  0.196205"
      ]
     },
     "execution_count": 35,
     "metadata": {},
     "output_type": "execute_result"
    }
   ],
   "source": [
    "show_cm(y_test,y_pred_test_b)"
   ]
  },
  {
   "cell_type": "code",
   "execution_count": 36,
   "metadata": {
    "ExecuteTime": {
     "end_time": "2020-05-12T14:43:29.890818Z",
     "start_time": "2020-05-12T14:43:29.500292Z"
    },
    "colab": {
     "base_uri": "https://localhost:8080/",
     "height": 499
    },
    "colab_type": "code",
    "executionInfo": {
     "elapsed": 7406,
     "status": "ok",
     "timestamp": 1589212464432,
     "user": {
      "displayName": "Duong Hung",
      "photoUrl": "https://lh3.googleusercontent.com/a-/AOh14Ggfgs4FqFN7Yq3pQXoVHeQcc9w9kDV_fAGoQ3Nx4nk=s64",
      "userId": "01608720095171318435"
     },
     "user_tz": 300
    },
    "id": "l3yBCZz7b8So",
    "outputId": "830f11a0-c00c-4b93-b316-669e9eb4d4cd",
    "scrolled": false
   },
   "outputs": [
    {
     "data": {
      "image/png": "[encoded data removed]",
      "text/plain": [
       "<Figure size 576x576 with 1 Axes>"
      ]
     },
     "metadata": {
      "needs_background": "light"
     },
     "output_type": "display_data"
    }
   ],
   "source": [
    "plt.figure(figsize=(8,8))\n",
    "plot_roc('Base model - train',y_train,y_pred_train_b)\n",
    "plot_roc('Base model - test',y_test,y_pred_test_b)\n",
    "plt.legend()\n",
    "plt.show()"
   ]
  },
  {
   "cell_type": "markdown",
   "metadata": {
    "colab_type": "text",
    "id": "aWU3EsR1j4hR"
   },
   "source": [
    "## Optimized model\n"
   ]
  },
  {
   "cell_type": "code",
   "execution_count": 37,
   "metadata": {
    "ExecuteTime": {
     "end_time": "2020-05-12T15:11:02.525007Z",
     "start_time": "2020-05-12T15:10:22.534008Z"
    },
    "colab": {
     "base_uri": "https://localhost:8080/",
     "height": 816
    },
    "colab_type": "code",
    "executionInfo": {
     "elapsed": 79540,
     "status": "ok",
     "timestamp": 1589215157368,
     "user": {
      "displayName": "Duong Hung",
      "photoUrl": "https://lh3.googleusercontent.com/a-/AOh14Ggfgs4FqFN7Yq3pQXoVHeQcc9w9kDV_fAGoQ3Nx4nk=s64",
      "userId": "01608720095171318435"
     },
     "user_tz": 300
    },
    "id": "91RuQ-tob8Lt",
    "outputId": "a4f66394-beb4-4ad5-d2eb-15d62b9200d5"
   },
   "outputs": [
    {
     "name": "stdout",
     "output_type": "stream",
     "text": [
      "WARNING:tensorflow:sample_weight modes were coerced from\n",
      "  ...\n",
      "    to  \n",
      "  ['...']\n",
      "WARNING:tensorflow:sample_weight modes were coerced from\n",
      "  ...\n",
      "    to  \n",
      "  ['...']\n",
      "Train on 312863 samples, validate on 78216 samples\n",
      "Epoch 1/100\n",
      "312863/312863 [==============================] - 4s 13us/sample - loss: 0.5208 - accuracy: 0.8152 - auc: 0.8573 - val_loss: 0.3366 - val_accuracy: 0.8939 - val_auc: 0.9374\n",
      "Epoch 2/100\n",
      "312863/312863 [==============================] - 3s 9us/sample - loss: 0.3551 - accuracy: 0.8939 - auc: 0.9291 - val_loss: 0.3138 - val_accuracy: 0.9001 - val_auc: 0.9396\n",
      "Epoch 3/100\n",
      "312863/312863 [==============================] - 3s 8us/sample - loss: 0.3346 - accuracy: 0.8976 - auc: 0.9368 - val_loss: 0.3167 - val_accuracy: 0.8865 - val_auc: 0.9397\n",
      "Epoch 4/100\n",
      "312863/312863 [==============================] - 3s 9us/sample - loss: 0.3304 - accuracy: 0.8927 - auc: 0.9375 - val_loss: 0.3140 - val_accuracy: 0.8779 - val_auc: 0.9435\n",
      "Epoch 5/100\n",
      "312863/312863 [==============================] - 3s 8us/sample - loss: 0.3272 - accuracy: 0.8934 - auc: 0.9382 - val_loss: 0.3263 - val_accuracy: 0.8975 - val_auc: 0.9344\n",
      "Epoch 6/100\n",
      "312863/312863 [==============================] - 3s 8us/sample - loss: 0.3080 - accuracy: 0.8998 - auc: 0.9466 - val_loss: 0.3292 - val_accuracy: 0.9082 - val_auc: 0.9368\n",
      "Epoch 7/100\n",
      "312863/312863 [==============================] - 3s 8us/sample - loss: 0.3173 - accuracy: 0.8932 - auc: 0.9425 - val_loss: 0.3209 - val_accuracy: 0.8891 - val_auc: 0.9368\n",
      "Epoch 8/100\n",
      "312863/312863 [==============================] - 3s 9us/sample - loss: 0.3109 - accuracy: 0.8958 - auc: 0.9441 - val_loss: 0.3190 - val_accuracy: 0.8964 - val_auc: 0.9372\n",
      "Epoch 9/100\n",
      "312863/312863 [==============================] - 3s 8us/sample - loss: 0.3082 - accuracy: 0.8955 - auc: 0.9452 - val_loss: 0.3285 - val_accuracy: 0.9025 - val_auc: 0.9353\n",
      "Epoch 10/100\n",
      "312863/312863 [==============================] - 3s 8us/sample - loss: 0.2983 - accuracy: 0.8957 - auc: 0.9493 - val_loss: 0.3545 - val_accuracy: 0.8922 - val_auc: 0.9334\n",
      "Epoch 11/100\n",
      "312863/312863 [==============================] - 3s 8us/sample - loss: 0.2944 - accuracy: 0.8928 - auc: 0.9499 - val_loss: 0.3726 - val_accuracy: 0.8979 - val_auc: 0.9310\n",
      "Epoch 12/100\n",
      "312863/312863 [==============================] - 3s 8us/sample - loss: 0.2882 - accuracy: 0.8954 - auc: 0.9521 - val_loss: 0.3890 - val_accuracy: 0.8966 - val_auc: 0.9327\n",
      "Epoch 13/100\n",
      "312863/312863 [==============================] - 3s 8us/sample - loss: 0.2922 - accuracy: 0.8944 - auc: 0.9502 - val_loss: 0.4065 - val_accuracy: 0.9023 - val_auc: 0.9344\n",
      "Epoch 14/100\n",
      "311296/312863 [============================>.] - ETA: 0s - loss: 0.2902 - accuracy: 0.8955 - auc: 0.9508Restoring model weights from the end of the best epoch.\n",
      "312863/312863 [==============================] - 3s 8us/sample - loss: 0.2899 - accuracy: 0.8954 - auc: 0.9508 - val_loss: 0.4093 - val_accuracy: 0.8889 - val_auc: 0.9331\n",
      "Epoch 00014: early stopping\n",
      "Computation time:  0.666366724173228  min\n"
     ]
    }
   ],
   "source": [
    "start_time=time.time()\n",
    "tf.random.set_seed(8)\n",
    "wei_model=create_model(lr=0.01)\n",
    "Monitor = wei_model.fit(X_train,y_train, epochs=100,batch_size=4096, callbacks=[es],validation_data = (X_val,y_val),class_weight=class_weight, verbose = 1)\n",
    "end_time=time.time()\n",
    "print('Computation time: ', (end_time-start_time)/60, ' min')"
   ]
  },
  {
   "cell_type": "code",
   "execution_count": 38,
   "metadata": {
    "ExecuteTime": {
     "end_time": "2020-05-12T15:11:11.695570Z",
     "start_time": "2020-05-12T15:11:07.171752Z"
    },
    "colab": {
     "base_uri": "https://localhost:8080/",
     "height": 51
    },
    "colab_type": "code",
    "executionInfo": {
     "elapsed": 4852,
     "status": "ok",
     "timestamp": 1589215162235,
     "user": {
      "displayName": "Duong Hung",
      "photoUrl": "https://lh3.googleusercontent.com/a-/AOh14Ggfgs4FqFN7Yq3pQXoVHeQcc9w9kDV_fAGoQ3Nx4nk=s64",
      "userId": "01608720095171318435"
     },
     "user_tz": 300
    },
    "id": "b6Nna1AwkrYw",
    "outputId": "b4de7573-f6b5-412d-b6e4-62d06109f110"
   },
   "outputs": [
    {
     "name": "stdout",
     "output_type": "stream",
     "text": [
      "97770/97770 [==============================] - 4s 45us/sample - loss: 0.3687 - accuracy: 0.8757 - auc: 0.9563\n"
     ]
    },
    {
     "data": {
      "text/plain": [
       "[0.3686799277261416, 0.8756674, 0.9563151]"
      ]
     },
     "execution_count": 38,
     "metadata": {},
     "output_type": "execute_result"
    }
   ],
   "source": [
    "wei_model.evaluate(X_test,y_test)"
   ]
  },
  {
   "cell_type": "code",
   "execution_count": 39,
   "metadata": {
    "ExecuteTime": {
     "end_time": "2020-05-12T15:11:26.259274Z",
     "start_time": "2020-05-12T15:11:15.147478Z"
    },
    "colab": {},
    "colab_type": "code",
    "id": "Ijqe1QW9clTc"
   },
   "outputs": [],
   "source": [
    "y_pred_train_w = wei_model.predict(X_train)\n",
    "y_pred_test_w = wei_model.predict(X_test)"
   ]
  },
  {
   "cell_type": "code",
   "execution_count": 40,
   "metadata": {
    "ExecuteTime": {
     "end_time": "2020-05-12T15:11:27.240104Z",
     "start_time": "2020-05-12T15:11:26.262276Z"
    },
    "colab": {
     "base_uri": "https://localhost:8080/",
     "height": 265
    },
    "colab_type": "code",
    "executionInfo": {
     "elapsed": 974,
     "status": "ok",
     "timestamp": 1589215171573,
     "user": {
      "displayName": "Duong Hung",
      "photoUrl": "https://lh3.googleusercontent.com/a-/AOh14Ggfgs4FqFN7Yq3pQXoVHeQcc9w9kDV_fAGoQ3Nx4nk=s64",
      "userId": "01608720095171318435"
     },
     "user_tz": 300
    },
    "id": "3Z_deS8BkDnw",
    "outputId": "acf3c2b7-8e0e-4ced-9fd0-4e1675e2cda8"
   },
   "outputs": [
    {
     "data": {
      "image/png": "[encoded data removed]",
      "text/plain": [
       "<Figure size 432x288 with 1 Axes>"
      ]
     },
     "metadata": {
      "needs_background": "light"
     },
     "output_type": "display_data"
    }
   ],
   "source": [
    "plt.scatter(np.arange(len(y_test)),y_pred_test_w,s=0.1)\n",
    "plt.show()"
   ]
  },
  {
   "cell_type": "code",
   "execution_count": 41,
   "metadata": {
    "ExecuteTime": {
     "end_time": "2020-05-12T15:11:27.837046Z",
     "start_time": "2020-05-12T15:11:27.243103Z"
    },
    "colab": {
     "base_uri": "https://localhost:8080/",
     "height": 329
    },
    "colab_type": "code",
    "executionInfo": {
     "elapsed": 1367,
     "status": "ok",
     "timestamp": 1589215171993,
     "user": {
      "displayName": "Duong Hung",
      "photoUrl": "https://lh3.googleusercontent.com/a-/AOh14Ggfgs4FqFN7Yq3pQXoVHeQcc9w9kDV_fAGoQ3Nx4nk=s64",
      "userId": "01608720095171318435"
     },
     "user_tz": 300
    },
    "id": "wjNO70TwkE5K",
    "outputId": "7f297dd9-f1c5-499a-99b7-95dcda657bc2"
   },
   "outputs": [
    {
     "name": "stdout",
     "output_type": "stream",
     "text": [
      "[[85339 12132]\n",
      " [   24   275]]\n",
      "              precision    recall  f1-score   support\n",
      "\n",
      "     Class 0       1.00      0.88      0.93     97471\n",
      "     Class 1       0.02      0.92      0.04       299\n",
      "\n",
      "    accuracy                           0.88     97770\n",
      "   macro avg       0.51      0.90      0.49     97770\n",
      "weighted avg       1.00      0.88      0.93     97770\n",
      "\n"
     ]
    },
    {
     "data": {
      "text/html": [
       "<div>\n",
       "<style scoped>\n",
       "    .dataframe tbody tr th:only-of-type {\n",
       "        vertical-align: middle;\n",
       "    }\n",
       "\n",
       "    .dataframe tbody tr th {\n",
       "        vertical-align: top;\n",
       "    }\n",
       "\n",
       "    .dataframe thead th {\n",
       "        text-align: right;\n",
       "    }\n",
       "</style>\n",
       "<table border=\"1\" class=\"dataframe\">\n",
       "  <thead>\n",
       "    <tr style=\"text-align: right;\">\n",
       "      <th></th>\n",
       "      <th>Precision</th>\n",
       "      <th>n_p</th>\n",
       "      <th>CI_p</th>\n",
       "      <th>Recall</th>\n",
       "      <th>n_r</th>\n",
       "      <th>CI_r</th>\n",
       "    </tr>\n",
       "  </thead>\n",
       "  <tbody>\n",
       "    <tr>\n",
       "      <th>0</th>\n",
       "      <td>99.971885</td>\n",
       "      <td>85363</td>\n",
       "      <td>0.011247</td>\n",
       "      <td>87.553221</td>\n",
       "      <td>97471</td>\n",
       "      <td>0.207244</td>\n",
       "    </tr>\n",
       "    <tr>\n",
       "      <th>1</th>\n",
       "      <td>2.216491</td>\n",
       "      <td>12407</td>\n",
       "      <td>0.259053</td>\n",
       "      <td>91.973244</td>\n",
       "      <td>299</td>\n",
       "      <td>3.079791</td>\n",
       "    </tr>\n",
       "    <tr>\n",
       "      <th>Global</th>\n",
       "      <td>87.566738</td>\n",
       "      <td>97770</td>\n",
       "      <td>0.206831</td>\n",
       "      <td>87.566738</td>\n",
       "      <td>97770</td>\n",
       "      <td>0.206831</td>\n",
       "    </tr>\n",
       "  </tbody>\n",
       "</table>\n",
       "</div>"
      ],
      "text/plain": [
       "        Precision    n_p      CI_p     Recall    n_r      CI_r\n",
       "0       99.971885  85363  0.011247  87.553221  97471  0.207244\n",
       "1        2.216491  12407  0.259053  91.973244    299  3.079791\n",
       "Global  87.566738  97770  0.206831  87.566738  97770  0.206831"
      ]
     },
     "execution_count": 41,
     "metadata": {},
     "output_type": "execute_result"
    }
   ],
   "source": [
    "show_cm(y_test,y_pred_test_w)"
   ]
  },
  {
   "cell_type": "code",
   "execution_count": 44,
   "metadata": {
    "ExecuteTime": {
     "end_time": "2020-05-12T15:16:45.507148Z",
     "start_time": "2020-05-12T15:16:44.787564Z"
    }
   },
   "outputs": [
    {
     "name": "stdout",
     "output_type": "stream",
     "text": [
      "97770/97770 [==============================] - 1s 6us/sample - loss: 0.3687 - accuracy: 0.8757 - auc: 0.9563\n",
      "loss :  0.3686799493306154\n",
      "accuracy :  0.8756674\n",
      "auc :  0.9563151\n",
      "\n"
     ]
    }
   ],
   "source": [
    "weighted_results = wei_model.evaluate(X_test,y_test,batch_size=4096)\n",
    "for name, value in zip(wei_model.metrics_names, weighted_results):\n",
    "  print(name, ': ', value)\n",
    "print()"
   ]
  },
  {
   "cell_type": "code",
   "execution_count": 45,
   "metadata": {
    "ExecuteTime": {
     "end_time": "2020-05-12T15:17:03.733055Z",
     "start_time": "2020-05-12T15:17:03.308300Z"
    },
    "colab": {
     "base_uri": "https://localhost:8080/",
     "height": 499
    },
    "colab_type": "code",
    "executionInfo": {
     "elapsed": 1578,
     "status": "ok",
     "timestamp": 1589215172219,
     "user": {
      "displayName": "Duong Hung",
      "photoUrl": "https://lh3.googleusercontent.com/a-/AOh14Ggfgs4FqFN7Yq3pQXoVHeQcc9w9kDV_fAGoQ3Nx4nk=s64",
      "userId": "01608720095171318435"
     },
     "user_tz": 300
    },
    "id": "201kC-tpkLlf",
    "outputId": "6fcc87ce-383c-40e7-9505-1bbf43691e5b"
   },
   "outputs": [
    {
     "data": {
      "image/png": "[encoded data removed]",
      "text/plain": [
       "<Figure size 576x576 with 1 Axes>"
      ]
     },
     "metadata": {
      "needs_background": "light"
     },
     "output_type": "display_data"
    }
   ],
   "source": [
    "plt.figure(figsize=(8,8))\n",
    "plot_roc('Weight model - train',y_train,y_pred_train_w)\n",
    "plot_roc('Weight model - test',y_test,y_pred_test_w)\n",
    "plt.legend()\n",
    "plt.show()"
   ]
  },
  {
   "cell_type": "markdown",
   "metadata": {
    "colab_type": "text",
    "id": "oburRCjAme_d"
   },
   "source": [
    "# Resampling"
   ]
  },
  {
   "cell_type": "markdown",
   "metadata": {},
   "source": [
    "## Preparing new dataset"
   ]
  },
  {
   "cell_type": "code",
   "execution_count": 146,
   "metadata": {
    "ExecuteTime": {
     "end_time": "2020-05-12T18:18:37.804859Z",
     "start_time": "2020-05-12T18:18:37.466185Z"
    },
    "colab": {},
    "colab_type": "code",
    "id": "mgtHEOkBmh6O"
   },
   "outputs": [],
   "source": [
    "bool_y_train = y_train != 0\n",
    "bool_y_train=np.reshape(bool_y_train, (len(bool_y_train),))\n",
    "pos_X = X_train[bool_y_train]\n",
    "neg_X = X_train[~bool_y_train]\n",
    "\n",
    "pos_y = y_train[bool_y_train]\n",
    "neg_y = y_train[~bool_y_train]"
   ]
  },
  {
   "cell_type": "code",
   "execution_count": 147,
   "metadata": {
    "ExecuteTime": {
     "end_time": "2020-05-12T18:18:38.611399Z",
     "start_time": "2020-05-12T18:18:38.360458Z"
    }
   },
   "outputs": [
    {
     "data": {
      "text/plain": [
       "(311907, 133)"
      ]
     },
     "execution_count": 147,
     "metadata": {},
     "output_type": "execute_result"
    }
   ],
   "source": [
    "# oversampling\n",
    "ids = np.arange(len(pos_X))\n",
    "#print(len(pos_X))\n",
    "choices = np.random.choice(ids, len(neg_X))\n",
    "#print(len(neg_X))\n",
    "res_pos_X = pos_X[choices]\n",
    "res_pos_y = pos_y[choices]\n",
    "\n",
    "res_pos_X.shape"
   ]
  },
  {
   "cell_type": "code",
   "execution_count": 148,
   "metadata": {
    "ExecuteTime": {
     "end_time": "2020-05-12T18:18:40.437957Z",
     "start_time": "2020-05-12T18:18:39.208634Z"
    }
   },
   "outputs": [
    {
     "data": {
      "text/plain": [
       "(623814, 133)"
      ]
     },
     "execution_count": 148,
     "metadata": {},
     "output_type": "execute_result"
    }
   ],
   "source": [
    "# Concatenate\n",
    "resampled_X = np.concatenate([res_pos_X, neg_X], axis=0)\n",
    "resampled_y = np.concatenate([res_pos_y, neg_y], axis=0)\n",
    "\n",
    "order = np.arange(len(resampled_y))\n",
    "np.random.shuffle(order)\n",
    "resampled_X= resampled_X[order]\n",
    "resampled_y = resampled_y[order]\n",
    "\n",
    "resampled_X.shape"
   ]
  },
  {
   "cell_type": "code",
   "execution_count": 149,
   "metadata": {
    "ExecuteTime": {
     "end_time": "2020-05-12T18:18:40.454153Z",
     "start_time": "2020-05-12T18:18:40.441049Z"
    }
   },
   "outputs": [
    {
     "name": "stdout",
     "output_type": "stream",
     "text": [
      "Examples:\n",
      "    Total: 623814\n",
      "    Positive: 311907 (50.00% of total)\n",
      "\n"
     ]
    }
   ],
   "source": [
    "new_pos=resampled_y.sum()\n",
    "new_neg=len(resampled_y)-new_pos\n",
    "new_total = new_neg + new_pos\n",
    "print('Examples:\\n    Total: {}\\n    Positive: {} ({:.2f}% of total)\\n'.format(new_total, new_pos, 100 * new_pos / new_total))"
   ]
  },
  {
   "cell_type": "code",
   "execution_count": 150,
   "metadata": {
    "ExecuteTime": {
     "end_time": "2020-05-12T18:18:43.120403Z",
     "start_time": "2020-05-12T18:18:43.111408Z"
    }
   },
   "outputs": [
    {
     "name": "stdout",
     "output_type": "stream",
     "text": [
      "Weight for class 0: 1.00\n",
      "Weight for class 1: 1.00\n"
     ]
    }
   ],
   "source": [
    "# Scaling by total/2 helps keep the loss to a similar magnitude.\n",
    "# The sum of the weights of all examples stays the same.\n",
    "weight_for_0 = (1 / new_neg)*(new_total)/2.0 \n",
    "weight_for_1 = (1 / new_pos)*(new_total)/2.0\n",
    "\n",
    "new_class_weight = {0: weight_for_0, 1: weight_for_1}\n",
    "\n",
    "print('Weight for class 0: {:.2f}'.format(weight_for_0))\n",
    "print('Weight for class 1: {:.2f}'.format(weight_for_1))"
   ]
  },
  {
   "cell_type": "code",
   "execution_count": 151,
   "metadata": {
    "ExecuteTime": {
     "end_time": "2020-05-12T18:19:55.943426Z",
     "start_time": "2020-05-12T18:18:44.199366Z"
    },
    "scrolled": true
   },
   "outputs": [
    {
     "name": "stdout",
     "output_type": "stream",
     "text": [
      "WARNING:tensorflow:sample_weight modes were coerced from\n",
      "  ...\n",
      "    to  \n",
      "  ['...']\n",
      "WARNING:tensorflow:sample_weight modes were coerced from\n",
      "  ...\n",
      "    to  \n",
      "  ['...']\n",
      "Train on 623814 samples, validate on 78216 samples\n",
      "Epoch 1/100\n",
      "623814/623814 [==============================] - 13s 21us/sample - loss: 0.3136 - accuracy: 0.8737 - auc: 0.9443 - val_loss: 0.2356 - val_accuracy: 0.9056 - val_auc: 0.9327\n",
      "Epoch 2/100\n",
      "623814/623814 [==============================] - 5s 9us/sample - loss: 0.2417 - accuracy: 0.9034 - auc: 0.9643 - val_loss: 0.2203 - val_accuracy: 0.9076 - val_auc: 0.9260\n",
      "Epoch 3/100\n",
      "623814/623814 [==============================] - 5s 9us/sample - loss: 0.2224 - accuracy: 0.9125 - auc: 0.9685 - val_loss: 0.1775 - val_accuracy: 0.9205 - val_auc: 0.9194\n",
      "Epoch 4/100\n",
      "623814/623814 [==============================] - 6s 9us/sample - loss: 0.2118 - accuracy: 0.9185 - auc: 0.9704 - val_loss: 0.1802 - val_accuracy: 0.9186 - val_auc: 0.9171\n",
      "Epoch 5/100\n",
      "623814/623814 [==============================] - 5s 8us/sample - loss: 0.2067 - accuracy: 0.9213 - auc: 0.9713 - val_loss: 0.1686 - val_accuracy: 0.9216 - val_auc: 0.9042\n",
      "Epoch 6/100\n",
      "623814/623814 [==============================] - 5s 8us/sample - loss: 0.2026 - accuracy: 0.9228 - auc: 0.9722 - val_loss: 0.1685 - val_accuracy: 0.9227 - val_auc: 0.9018\n",
      "Epoch 7/100\n",
      "623814/623814 [==============================] - 6s 9us/sample - loss: 0.2007 - accuracy: 0.9236 - auc: 0.9725 - val_loss: 0.1704 - val_accuracy: 0.9241 - val_auc: 0.8991\n",
      "Epoch 8/100\n",
      "623814/623814 [==============================] - 6s 9us/sample - loss: 0.1982 - accuracy: 0.9243 - auc: 0.9730 - val_loss: 0.1676 - val_accuracy: 0.9248 - val_auc: 0.8933\n",
      "Epoch 9/100\n",
      "623814/623814 [==============================] - 6s 9us/sample - loss: 0.1972 - accuracy: 0.9249 - auc: 0.9733 - val_loss: 0.1701 - val_accuracy: 0.9247 - val_auc: 0.8859\n",
      "Epoch 10/100\n",
      "623814/623814 [==============================] - 6s 10us/sample - loss: 0.1952 - accuracy: 0.9259 - auc: 0.9737 - val_loss: 0.1650 - val_accuracy: 0.9262 - val_auc: 0.8867\n",
      "Epoch 11/100\n",
      "618496/623814 [============================>.] - ETA: 0s - loss: 0.1958 - accuracy: 0.9261 - auc: 0.9737Restoring model weights from the end of the best epoch.\n",
      "623814/623814 [==============================] - 6s 9us/sample - loss: 0.1957 - accuracy: 0.9262 - auc: 0.9737 - val_loss: 0.1752 - val_accuracy: 0.9242 - val_auc: 0.8835\n",
      "Epoch 00011: early stopping\n",
      "Computation time:  1.1956177751223247  min\n"
     ]
    }
   ],
   "source": [
    "start_time=time.time()\n",
    "tf.random.set_seed(8)\n",
    "res_model=create_model(lr=0.01)\n",
    "Monitor = res_model.fit(resampled_X,resampled_y, \n",
    "                        epochs=100,batch_size=4096, \n",
    "                        callbacks=[es],\n",
    "                        validation_data = (X_val,y_val),\n",
    "                        class_weight=new_class_weight,\n",
    "                        verbose = 1)\n",
    "end_time=time.time()\n",
    "print('Computation time: ', (end_time-start_time)/60, ' min')"
   ]
  },
  {
   "cell_type": "code",
   "execution_count": 152,
   "metadata": {
    "ExecuteTime": {
     "end_time": "2020-05-12T18:20:00.507724Z",
     "start_time": "2020-05-12T18:19:55.949423Z"
    }
   },
   "outputs": [
    {
     "name": "stdout",
     "output_type": "stream",
     "text": [
      "97770/97770 [==============================] - 1s 10us/sample - loss: 0.2391 - accuracy: 0.9037 - auc: 0.9554\n",
      "loss :  0.23914049208572674\n",
      "accuracy :  0.9037128\n",
      "auc :  0.95540607\n",
      "\n"
     ]
    }
   ],
   "source": [
    "res_results = res_model.evaluate(X_test,y_test,batch_size=4096)\n",
    "for name, value in zip(res_model.metrics_names, res_results):\n",
    "  print(name, ': ', value)\n",
    "print()"
   ]
  },
  {
   "cell_type": "code",
   "execution_count": 153,
   "metadata": {
    "ExecuteTime": {
     "end_time": "2020-05-12T18:20:14.393100Z",
     "start_time": "2020-05-12T18:20:00.511722Z"
    }
   },
   "outputs": [],
   "source": [
    "y_pred_train_r = res_model.predict(X_train)\n",
    "y_pred_test_r = res_model.predict(X_test)"
   ]
  },
  {
   "cell_type": "code",
   "execution_count": 154,
   "metadata": {
    "ExecuteTime": {
     "end_time": "2020-05-12T18:20:15.222035Z",
     "start_time": "2020-05-12T18:20:14.397098Z"
    }
   },
   "outputs": [
    {
     "name": "stdout",
     "output_type": "stream",
     "text": [
      "[[88097  9374]\n",
      " [   40   259]]\n",
      "              precision    recall  f1-score   support\n",
      "\n",
      "     Class 0       1.00      0.90      0.95     97471\n",
      "     Class 1       0.03      0.87      0.05       299\n",
      "\n",
      "    accuracy                           0.90     97770\n",
      "   macro avg       0.51      0.89      0.50     97770\n",
      "weighted avg       1.00      0.90      0.95     97770\n",
      "\n"
     ]
    },
    {
     "data": {
      "text/html": [
       "<div>\n",
       "<style scoped>\n",
       "    .dataframe tbody tr th:only-of-type {\n",
       "        vertical-align: middle;\n",
       "    }\n",
       "\n",
       "    .dataframe tbody tr th {\n",
       "        vertical-align: top;\n",
       "    }\n",
       "\n",
       "    .dataframe thead th {\n",
       "        text-align: right;\n",
       "    }\n",
       "</style>\n",
       "<table border=\"1\" class=\"dataframe\">\n",
       "  <thead>\n",
       "    <tr style=\"text-align: right;\">\n",
       "      <th></th>\n",
       "      <th>Precision</th>\n",
       "      <th>n_p</th>\n",
       "      <th>CI_p</th>\n",
       "      <th>Recall</th>\n",
       "      <th>n_r</th>\n",
       "      <th>CI_r</th>\n",
       "    </tr>\n",
       "  </thead>\n",
       "  <tbody>\n",
       "    <tr>\n",
       "      <th>0</th>\n",
       "      <td>99.954616</td>\n",
       "      <td>88137</td>\n",
       "      <td>0.014061</td>\n",
       "      <td>90.382781</td>\n",
       "      <td>97471</td>\n",
       "      <td>0.185091</td>\n",
       "    </tr>\n",
       "    <tr>\n",
       "      <th>1</th>\n",
       "      <td>2.688674</td>\n",
       "      <td>9633</td>\n",
       "      <td>0.323018</td>\n",
       "      <td>86.622074</td>\n",
       "      <td>299</td>\n",
       "      <td>3.858595</td>\n",
       "    </tr>\n",
       "    <tr>\n",
       "      <th>Global</th>\n",
       "      <td>90.371280</td>\n",
       "      <td>97770</td>\n",
       "      <td>0.184907</td>\n",
       "      <td>90.371280</td>\n",
       "      <td>97770</td>\n",
       "      <td>0.184907</td>\n",
       "    </tr>\n",
       "  </tbody>\n",
       "</table>\n",
       "</div>"
      ],
      "text/plain": [
       "        Precision    n_p      CI_p     Recall    n_r      CI_r\n",
       "0       99.954616  88137  0.014061  90.382781  97471  0.185091\n",
       "1        2.688674   9633  0.323018  86.622074    299  3.858595\n",
       "Global  90.371280  97770  0.184907  90.371280  97770  0.184907"
      ]
     },
     "execution_count": 154,
     "metadata": {},
     "output_type": "execute_result"
    }
   ],
   "source": [
    "show_cm(y_test,y_pred_test_r)"
   ]
  },
  {
   "cell_type": "code",
   "execution_count": 155,
   "metadata": {
    "ExecuteTime": {
     "end_time": "2020-05-12T18:20:15.722395Z",
     "start_time": "2020-05-12T18:20:15.224034Z"
    }
   },
   "outputs": [
    {
     "data": {
      "image/png": "[encoded data removed]",
      "text/plain": [
       "<Figure size 576x576 with 1 Axes>"
      ]
     },
     "metadata": {
      "needs_background": "light"
     },
     "output_type": "display_data"
    }
   ],
   "source": [
    "plt.figure(figsize=(8,8))\n",
    "plot_roc('Weight model - train',y_train,y_pred_train_r)\n",
    "plot_roc('Weight model - test',y_test,y_pred_test_r)\n",
    "plt.legend()\n",
    "plt.show()"
   ]
  },
  {
   "cell_type": "markdown",
   "metadata": {},
   "source": [
    "# SMOTE"
   ]
  },
  {
   "cell_type": "code",
   "execution_count": 29,
   "metadata": {
    "ExecuteTime": {
     "end_time": "2020-05-13T13:25:22.894337Z",
     "start_time": "2020-05-13T13:25:17.800410Z"
    }
   },
   "outputs": [
    {
     "name": "stdout",
     "output_type": "stream",
     "text": [
      "Resampled dataset shape Counter({0: 311907, 1: 311907})\n"
     ]
    }
   ],
   "source": [
    "from collections import Counter\n",
    "from sklearn.datasets import make_classification\n",
    "from imblearn.over_sampling import SMOTE # doctest: +NORMALIZE_WHITESPACE\n",
    "\n",
    "sm = SMOTE(random_state=42)\n",
    "X_smote, y_smote = sm.fit_resample(X_train, y_train)\n",
    "print('Resampled dataset shape %s' % Counter(y_smote))"
   ]
  },
  {
   "cell_type": "code",
   "execution_count": 30,
   "metadata": {
    "ExecuteTime": {
     "end_time": "2020-05-13T13:26:55.565337Z",
     "start_time": "2020-05-13T13:25:55.120791Z"
    },
    "scrolled": false
   },
   "outputs": [
    {
     "name": "stdout",
     "output_type": "stream",
     "text": [
      "Train on 623814 samples, validate on 78216 samples\n",
      "Epoch 1/100\n",
      "623814/623814 [==============================] - 6s 10us/sample - loss: 0.3006 - accuracy: 0.8796 - auc: 0.9486 - val_loss: 0.2134 - val_accuracy: 0.9132 - val_auc: 0.9309\n",
      "Epoch 2/100\n",
      "623814/623814 [==============================] - 5s 9us/sample - loss: 0.2313 - accuracy: 0.9088 - auc: 0.9665 - val_loss: 0.1870 - val_accuracy: 0.9198 - val_auc: 0.9222\n",
      "Epoch 3/100\n",
      "623814/623814 [==============================] - 5s 8us/sample - loss: 0.2151 - accuracy: 0.9167 - auc: 0.9696 - val_loss: 0.1677 - val_accuracy: 0.9264 - val_auc: 0.9168\n",
      "Epoch 4/100\n",
      "623814/623814 [==============================] - 5s 9us/sample - loss: 0.2077 - accuracy: 0.9203 - auc: 0.9710 - val_loss: 0.1734 - val_accuracy: 0.9262 - val_auc: 0.9136\n",
      "Epoch 5/100\n",
      "623814/623814 [==============================] - 5s 8us/sample - loss: 0.2027 - accuracy: 0.9228 - auc: 0.9720 - val_loss: 0.1554 - val_accuracy: 0.9324 - val_auc: 0.9073\n",
      "Epoch 6/100\n",
      "623814/623814 [==============================] - 5s 8us/sample - loss: 0.2005 - accuracy: 0.9240 - auc: 0.9724 - val_loss: 0.1694 - val_accuracy: 0.9286 - val_auc: 0.9088\n",
      "Epoch 7/100\n",
      "623814/623814 [==============================] - 5s 8us/sample - loss: 0.1986 - accuracy: 0.9252 - auc: 0.9728 - val_loss: 0.1575 - val_accuracy: 0.9326 - val_auc: 0.8916\n",
      "Epoch 8/100\n",
      "623814/623814 [==============================] - 5s 8us/sample - loss: 0.1970 - accuracy: 0.9255 - auc: 0.9731 - val_loss: 0.1607 - val_accuracy: 0.9329 - val_auc: 0.8900\n",
      "Epoch 9/100\n",
      "623814/623814 [==============================] - 5s 9us/sample - loss: 0.1963 - accuracy: 0.9262 - auc: 0.9731 - val_loss: 0.1567 - val_accuracy: 0.9332 - val_auc: 0.8904\n",
      "Epoch 10/100\n",
      "623814/623814 [==============================] - 6s 9us/sample - loss: 0.1957 - accuracy: 0.9262 - auc: 0.9733 - val_loss: 0.1756 - val_accuracy: 0.9304 - val_auc: 0.8864\n",
      "Epoch 11/100\n",
      "618496/623814 [============================>.] - ETA: 0s - loss: 0.1938 - accuracy: 0.9274 - auc: 0.9736Restoring model weights from the end of the best epoch.\n",
      "623814/623814 [==============================] - 6s 9us/sample - loss: 0.1938 - accuracy: 0.9274 - auc: 0.9737 - val_loss: 0.1633 - val_accuracy: 0.9351 - val_auc: 0.8779\n",
      "Epoch 00011: early stopping\n",
      "Computation time:  1.007242532571157  min\n"
     ]
    }
   ],
   "source": [
    "start_time=time.time()\n",
    "tf.random.set_seed(8)\n",
    "smote_model=create_model(lr=0.01)\n",
    "Monitor = smote_model.fit(X_smote,y_smote, \n",
    "                        epochs=100,batch_size=4096, \n",
    "                        callbacks=[es],\n",
    "                        validation_data = (X_val,y_val),\n",
    "                        verbose = 1)\n",
    "end_time=time.time()\n",
    "print('Computation time: ', (end_time-start_time)/60, ' min')"
   ]
  },
  {
   "cell_type": "code",
   "execution_count": 32,
   "metadata": {
    "ExecuteTime": {
     "end_time": "2020-05-13T13:28:44.416054Z",
     "start_time": "2020-05-13T13:28:43.712123Z"
    }
   },
   "outputs": [
    {
     "name": "stdout",
     "output_type": "stream",
     "text": [
      "97770/97770 [==============================] - 1s 6us/sample - loss: 0.2161 - accuracy: 0.9114 - auc: 0.9535\n",
      "loss :  0.21609678424135045\n",
      "accuracy :  0.9114452\n",
      "auc :  0.9535118\n",
      "\n"
     ]
    }
   ],
   "source": [
    "smote_results = smote_model.evaluate(X_test,y_test,batch_size=4096)\n",
    "for name, value in zip(smote_model.metrics_names, smote_results):\n",
    "  print(name, ': ', value)\n",
    "print()"
   ]
  },
  {
   "cell_type": "code",
   "execution_count": 34,
   "metadata": {
    "ExecuteTime": {
     "end_time": "2020-05-13T13:29:09.715902Z",
     "start_time": "2020-05-13T13:28:59.245998Z"
    }
   },
   "outputs": [],
   "source": [
    "y_pred_train_sm = smote_model.predict(X_train)\n",
    "y_pred_test_sm = smote_model.predict(X_test)"
   ]
  },
  {
   "cell_type": "code",
   "execution_count": 35,
   "metadata": {
    "ExecuteTime": {
     "end_time": "2020-05-13T13:30:02.874887Z",
     "start_time": "2020-05-13T13:30:02.322542Z"
    }
   },
   "outputs": [
    {
     "name": "stdout",
     "output_type": "stream",
     "text": [
      "[[88856  8615]\n",
      " [   43   256]]\n",
      "              precision    recall  f1-score   support\n",
      "\n",
      "     Class 0       1.00      0.91      0.95     97471\n",
      "     Class 1       0.03      0.86      0.06       299\n",
      "\n",
      "    accuracy                           0.91     97770\n",
      "   macro avg       0.51      0.88      0.50     97770\n",
      "weighted avg       1.00      0.91      0.95     97770\n",
      "\n"
     ]
    },
    {
     "data": {
      "text/html": [
       "<div>\n",
       "<style scoped>\n",
       "    .dataframe tbody tr th:only-of-type {\n",
       "        vertical-align: middle;\n",
       "    }\n",
       "\n",
       "    .dataframe tbody tr th {\n",
       "        vertical-align: top;\n",
       "    }\n",
       "\n",
       "    .dataframe thead th {\n",
       "        text-align: right;\n",
       "    }\n",
       "</style>\n",
       "<table border=\"1\" class=\"dataframe\">\n",
       "  <thead>\n",
       "    <tr style=\"text-align: right;\">\n",
       "      <th></th>\n",
       "      <th>Precision</th>\n",
       "      <th>n_p</th>\n",
       "      <th>CI_p</th>\n",
       "      <th>Recall</th>\n",
       "      <th>n_r</th>\n",
       "      <th>CI_r</th>\n",
       "    </tr>\n",
       "  </thead>\n",
       "  <tbody>\n",
       "    <tr>\n",
       "      <th>0</th>\n",
       "      <td>99.951631</td>\n",
       "      <td>88899</td>\n",
       "      <td>0.014454</td>\n",
       "      <td>91.161474</td>\n",
       "      <td>97471</td>\n",
       "      <td>0.178203</td>\n",
       "    </tr>\n",
       "    <tr>\n",
       "      <th>1</th>\n",
       "      <td>2.885808</td>\n",
       "      <td>8871</td>\n",
       "      <td>0.348373</td>\n",
       "      <td>85.618729</td>\n",
       "      <td>299</td>\n",
       "      <td>3.977439</td>\n",
       "    </tr>\n",
       "    <tr>\n",
       "      <th>Global</th>\n",
       "      <td>91.144523</td>\n",
       "      <td>97770</td>\n",
       "      <td>0.178084</td>\n",
       "      <td>91.144523</td>\n",
       "      <td>97770</td>\n",
       "      <td>0.178084</td>\n",
       "    </tr>\n",
       "  </tbody>\n",
       "</table>\n",
       "</div>"
      ],
      "text/plain": [
       "        Precision    n_p      CI_p     Recall    n_r      CI_r\n",
       "0       99.951631  88899  0.014454  91.161474  97471  0.178203\n",
       "1        2.885808   8871  0.348373  85.618729    299  3.977439\n",
       "Global  91.144523  97770  0.178084  91.144523  97770  0.178084"
      ]
     },
     "execution_count": 35,
     "metadata": {},
     "output_type": "execute_result"
    }
   ],
   "source": [
    "show_cm(y_test,y_pred_test_sm)"
   ]
  },
  {
   "cell_type": "code",
   "execution_count": 36,
   "metadata": {
    "ExecuteTime": {
     "end_time": "2020-05-13T13:30:07.626053Z",
     "start_time": "2020-05-13T13:30:05.551664Z"
    },
    "scrolled": false
   },
   "outputs": [
    {
     "data": {
      "image/png": "[encoded data removed]",
      "text/plain": [
       "<Figure size 576x576 with 1 Axes>"
      ]
     },
     "metadata": {
      "needs_background": "light"
     },
     "output_type": "display_data"
    }
   ],
   "source": [
    "plt.figure(figsize=(8,8))\n",
    "plot_roc('SMOTE model - train',y_train,y_pred_train_sm)\n",
    "plot_roc('SMOTE model - test',y_test,y_pred_test_sm)\n",
    "plt.legend()\n",
    "plt.show()"
   ]
  },
  {
   "cell_type": "markdown",
   "metadata": {},
   "source": []
  },
  {
   "cell_type": "markdown",
   "metadata": {},
   "source": [
    "# ADASYN"
   ]
  },
  {
   "cell_type": "code",
   "execution_count": 37,
   "metadata": {
    "ExecuteTime": {
     "end_time": "2020-05-13T13:49:09.698348Z",
     "start_time": "2020-05-13T13:30:15.550827Z"
    }
   },
   "outputs": [
    {
     "name": "stdout",
     "output_type": "stream",
     "text": [
      "Resampled dataset shape Counter({0: 311907, 1: 311780})\n"
     ]
    }
   ],
   "source": [
    "from imblearn.over_sampling import ADASYN # doctest: +NORMALIZE_WHITESPACE\n",
    "\n",
    "ada = ADASYN(random_state=42)\n",
    "X_ada, y_ada = ada.fit_resample(X_train, y_train)\n",
    "print('Resampled dataset shape %s' % Counter(y_ada))"
   ]
  },
  {
   "cell_type": "code",
   "execution_count": 38,
   "metadata": {
    "ExecuteTime": {
     "end_time": "2020-05-13T13:52:00.167801Z",
     "start_time": "2020-05-13T13:50:57.678707Z"
    }
   },
   "outputs": [
    {
     "name": "stdout",
     "output_type": "stream",
     "text": [
      "Train on 623687 samples, validate on 78216 samples\n",
      "Epoch 1/100\n",
      "623687/623687 [==============================] - 7s 12us/sample - loss: 0.3080 - accuracy: 0.8760 - precision: 0.8789 - recall: 0.8720 - auc: 0.9457 - val_loss: 0.2257 - val_accuracy: 0.9072 - val_precision: 0.0272 - val_recall: 0.8452 - val_auc: 0.9325\n",
      "Epoch 2/100\n",
      "623687/623687 [==============================] - 5s 9us/sample - loss: 0.2365 - accuracy: 0.9076 - precision: 0.8944 - recall: 0.9242 - auc: 0.9642 - val_loss: 0.2028 - val_accuracy: 0.9129 - val_precision: 0.0275 - val_recall: 0.7992 - val_auc: 0.9195\n",
      "Epoch 3/100\n",
      "623687/623687 [==============================] - 5s 9us/sample - loss: 0.2211 - accuracy: 0.9153 - precision: 0.8938 - recall: 0.9426 - auc: 0.9673 - val_loss: 0.1755 - val_accuracy: 0.9222 - val_precision: 0.0297 - val_recall: 0.7741 - val_auc: 0.9101\n",
      "Epoch 4/100\n",
      "623687/623687 [==============================] - 5s 8us/sample - loss: 0.2142 - accuracy: 0.9185 - precision: 0.8929 - recall: 0.9511 - auc: 0.9685 - val_loss: 0.1711 - val_accuracy: 0.9240 - val_precision: 0.0304 - val_recall: 0.7741 - val_auc: 0.9077\n",
      "Epoch 5/100\n",
      "623687/623687 [==============================] - 5s 9us/sample - loss: 0.2092 - accuracy: 0.9205 - precision: 0.8926 - recall: 0.9559 - auc: 0.9695 - val_loss: 0.1719 - val_accuracy: 0.9263 - val_precision: 0.0306 - val_recall: 0.7531 - val_auc: 0.9003\n",
      "Epoch 6/100\n",
      "623687/623687 [==============================] - 5s 9us/sample - loss: 0.2064 - accuracy: 0.9217 - precision: 0.8927 - recall: 0.9586 - auc: 0.9699 - val_loss: 0.1707 - val_accuracy: 0.9256 - val_precision: 0.0295 - val_recall: 0.7322 - val_auc: 0.8948\n",
      "Epoch 7/100\n",
      "623687/623687 [==============================] - 6s 9us/sample - loss: 0.2044 - accuracy: 0.9228 - precision: 0.8928 - recall: 0.9610 - auc: 0.9703 - val_loss: 0.1678 - val_accuracy: 0.9271 - val_precision: 0.0298 - val_recall: 0.7238 - val_auc: 0.8924\n",
      "Epoch 8/100\n",
      "623687/623687 [==============================] - 5s 8us/sample - loss: 0.2025 - accuracy: 0.9232 - precision: 0.8927 - recall: 0.9620 - auc: 0.9708 - val_loss: 0.1654 - val_accuracy: 0.9295 - val_precision: 0.0311 - val_recall: 0.7322 - val_auc: 0.8873acy: 0.9230 - precision: 0\n",
      "Epoch 9/100\n",
      "623687/623687 [==============================] - 5s 9us/sample - loss: 0.2024 - accuracy: 0.9236 - precision: 0.8921 - recall: 0.9638 - auc: 0.9707 - val_loss: 0.1722 - val_accuracy: 0.9290 - val_precision: 0.0306 - val_recall: 0.7238 - val_auc: 0.8885\n",
      "Epoch 10/100\n",
      "623687/623687 [==============================] - 5s 8us/sample - loss: 0.2012 - accuracy: 0.9244 - precision: 0.8924 - recall: 0.9651 - auc: 0.9710 - val_loss: 0.1746 - val_accuracy: 0.9281 - val_precision: 0.0307 - val_recall: 0.7364 - val_auc: 0.8860\n",
      "Epoch 11/100\n",
      "618496/623687 [============================>.] - ETA: 0s - loss: 0.2007 - accuracy: 0.9246 - precision: 0.8925 - recall: 0.9656 - auc: 0.9711Restoring model weights from the end of the best epoch.\n",
      "623687/623687 [==============================] - 5s 8us/sample - loss: 0.2007 - accuracy: 0.9246 - precision: 0.8925 - recall: 0.9656 - auc: 0.9711 - val_loss: 0.1696 - val_accuracy: 0.9300 - val_precision: 0.0306 - val_recall: 0.7155 - val_auc: 0.8792\n",
      "Epoch 00011: early stopping\n",
      "Computation time:  1.0413350502649943  min\n"
     ]
    }
   ],
   "source": [
    "start_time=time.time()\n",
    "tf.random.set_seed(8)\n",
    "ada_model=create_model(lr=0.01)\n",
    "Monitor = ada_model.fit(X_ada,y_ada, \n",
    "                        epochs=100,batch_size=4096, \n",
    "                        callbacks=[es],\n",
    "                        validation_data = (X_val,y_val),\n",
    "                        verbose = 1)\n",
    "end_time=time.time()\n",
    "print('Computation time: ', (end_time-start_time)/60, ' min')"
   ]
  },
  {
   "cell_type": "code",
   "execution_count": 39,
   "metadata": {
    "ExecuteTime": {
     "end_time": "2020-05-13T13:52:00.952128Z",
     "start_time": "2020-05-13T13:52:00.170799Z"
    }
   },
   "outputs": [
    {
     "name": "stdout",
     "output_type": "stream",
     "text": [
      "97770/97770 [==============================] - 1s 6us/sample - loss: 0.2286 - accuracy: 0.9054 - precision: 0.0273 - recall: 0.8662 - auc: 0.9513\n",
      "loss :  0.2285738522175254\n",
      "accuracy :  0.9053595\n",
      "precision :  0.02734375\n",
      "recall :  0.8662207\n",
      "auc :  0.95125526\n",
      "\n"
     ]
    }
   ],
   "source": [
    "ada_results = ada_model.evaluate(X_test,y_test,batch_size=4096)\n",
    "for name, value in zip(ada_model.metrics_names, ada_results):\n",
    "  print(name, ': ', value)\n",
    "print()"
   ]
  },
  {
   "cell_type": "code",
   "execution_count": 40,
   "metadata": {
    "ExecuteTime": {
     "end_time": "2020-05-13T13:52:11.246963Z",
     "start_time": "2020-05-13T13:52:00.956127Z"
    }
   },
   "outputs": [],
   "source": [
    "y_pred_train_ada = ada_model.predict(X_train)\n",
    "y_pred_test_ada = ada_model.predict(X_test)"
   ]
  },
  {
   "cell_type": "code",
   "execution_count": 41,
   "metadata": {
    "ExecuteTime": {
     "end_time": "2020-05-13T13:52:11.839237Z",
     "start_time": "2020-05-13T13:52:11.246963Z"
    }
   },
   "outputs": [
    {
     "name": "stdout",
     "output_type": "stream",
     "text": [
      "[[88258  9213]\n",
      " [   40   259]]\n",
      "              precision    recall  f1-score   support\n",
      "\n",
      "     Class 0       1.00      0.91      0.95     97471\n",
      "     Class 1       0.03      0.87      0.05       299\n",
      "\n",
      "    accuracy                           0.91     97770\n",
      "   macro avg       0.51      0.89      0.50     97770\n",
      "weighted avg       1.00      0.91      0.95     97770\n",
      "\n"
     ]
    },
    {
     "data": {
      "text/html": [
       "<div>\n",
       "<style scoped>\n",
       "    .dataframe tbody tr th:only-of-type {\n",
       "        vertical-align: middle;\n",
       "    }\n",
       "\n",
       "    .dataframe tbody tr th {\n",
       "        vertical-align: top;\n",
       "    }\n",
       "\n",
       "    .dataframe thead th {\n",
       "        text-align: right;\n",
       "    }\n",
       "</style>\n",
       "<table border=\"1\" class=\"dataframe\">\n",
       "  <thead>\n",
       "    <tr style=\"text-align: right;\">\n",
       "      <th></th>\n",
       "      <th>Precision</th>\n",
       "      <th>n_p</th>\n",
       "      <th>CI_p</th>\n",
       "      <th>Recall</th>\n",
       "      <th>n_r</th>\n",
       "      <th>CI_r</th>\n",
       "    </tr>\n",
       "  </thead>\n",
       "  <tbody>\n",
       "    <tr>\n",
       "      <th>0</th>\n",
       "      <td>99.954699</td>\n",
       "      <td>88298</td>\n",
       "      <td>0.014036</td>\n",
       "      <td>90.547958</td>\n",
       "      <td>97471</td>\n",
       "      <td>0.183663</td>\n",
       "    </tr>\n",
       "    <tr>\n",
       "      <th>1</th>\n",
       "      <td>2.734375</td>\n",
       "      <td>9472</td>\n",
       "      <td>0.328431</td>\n",
       "      <td>86.622074</td>\n",
       "      <td>299</td>\n",
       "      <td>3.858595</td>\n",
       "    </tr>\n",
       "    <tr>\n",
       "      <th>Global</th>\n",
       "      <td>90.535952</td>\n",
       "      <td>97770</td>\n",
       "      <td>0.183486</td>\n",
       "      <td>90.535952</td>\n",
       "      <td>97770</td>\n",
       "      <td>0.183486</td>\n",
       "    </tr>\n",
       "  </tbody>\n",
       "</table>\n",
       "</div>"
      ],
      "text/plain": [
       "        Precision    n_p      CI_p     Recall    n_r      CI_r\n",
       "0       99.954699  88298  0.014036  90.547958  97471  0.183663\n",
       "1        2.734375   9472  0.328431  86.622074    299  3.858595\n",
       "Global  90.535952  97770  0.183486  90.535952  97770  0.183486"
      ]
     },
     "execution_count": 41,
     "metadata": {},
     "output_type": "execute_result"
    }
   ],
   "source": [
    "show_cm(y_test,y_pred_test_ada)"
   ]
  },
  {
   "cell_type": "code",
   "execution_count": 42,
   "metadata": {
    "ExecuteTime": {
     "end_time": "2020-05-13T13:52:12.299148Z",
     "start_time": "2020-05-13T13:52:11.842237Z"
    },
    "scrolled": true
   },
   "outputs": [
    {
     "data": {
      "image/png": "[encoded data removed]",
      "text/plain": [
       "<Figure size 576x576 with 1 Axes>"
      ]
     },
     "metadata": {
      "needs_background": "light"
     },
     "output_type": "display_data"
    }
   ],
   "source": [
    "plt.figure(figsize=(8,8))\n",
    "plot_roc('ADASYN model - train',y_train,y_pred_train_ada)\n",
    "plot_roc('ADASYN model - test',y_test,y_pred_test_ada)\n",
    "plt.legend()\n",
    "plt.show()"
   ]
  },
  {
   "cell_type": "markdown",
   "metadata": {},
   "source": [
    "# SMOTE and TOMEK"
   ]
  },
  {
   "cell_type": "code",
   "execution_count": null,
   "metadata": {
    "ExecuteTime": {
     "start_time": "2020-05-13T16:24:52.364Z"
    }
   },
   "outputs": [],
   "source": [
    "from imblearn.combine import SMOTETomek # doctest: +NORMALIZE_WHITESPACE\n",
    "\n",
    "smt = SMOTETomek(random_state=42)\n",
    "X_smt, y_smt = smt.fit_resample(X_train, y_train)\n",
    "print('Resampled dataset shape %s' % Counter(y_smt))"
   ]
  },
  {
   "cell_type": "code",
   "execution_count": null,
   "metadata": {
    "ExecuteTime": {
     "start_time": "2020-05-13T16:25:25.381Z"
    }
   },
   "outputs": [],
   "source": [
    "start_time=time.time()\n",
    "tf.random.set_seed(8)\n",
    "smt_model=create_model(lr=0.01)\n",
    "Monitor = smt_model.fit(X_smt,y_smt, \n",
    "                        epochs=100,batch_size=4096, \n",
    "                        callbacks=[es],\n",
    "                        validation_data = (X_val,y_val),\n",
    "                        verbose = 1)\n",
    "end_time=time.time()\n",
    "print('Computation time: ', (end_time-start_time)/60, ' min')"
   ]
  },
  {
   "cell_type": "code",
   "execution_count": null,
   "metadata": {
    "ExecuteTime": {
     "start_time": "2020-05-13T16:26:10.829Z"
    }
   },
   "outputs": [],
   "source": [
    "smt_results = smt_model.evaluate(X_test,y_test,batch_size=4096)\n",
    "for name, value in zip(smt_model.metrics_names, smt_results):\n",
    "  print(name, ': ', value)\n",
    "print()"
   ]
  },
  {
   "cell_type": "code",
   "execution_count": null,
   "metadata": {
    "ExecuteTime": {
     "start_time": "2020-05-13T16:26:13.067Z"
    }
   },
   "outputs": [],
   "source": [
    "y_pred_train_smt = smt_model.predict(X_train)\n",
    "y_pred_test_smt = smt_model.predict(X_test)"
   ]
  },
  {
   "cell_type": "code",
   "execution_count": null,
   "metadata": {
    "ExecuteTime": {
     "start_time": "2020-05-13T16:26:15.540Z"
    }
   },
   "outputs": [],
   "source": [
    "show_cm(y_test,y_pred_test_smt)"
   ]
  },
  {
   "cell_type": "code",
   "execution_count": null,
   "metadata": {
    "ExecuteTime": {
     "start_time": "2020-05-13T16:26:44.918Z"
    },
    "scrolled": false
   },
   "outputs": [],
   "source": [
    "plt.figure(figsize=(8,8))\n",
    "plot_roc('SMOTE&TOMEK model - train',y_train,y_pred_train_smt)\n",
    "plot_roc('SMOTE%TOMEK model - test',y_test,y_pred_test_smt)\n",
    "plt.legend()\n",
    "plt.show()"
   ]
  },
  {
   "cell_type": "code",
   "execution_count": null,
   "metadata": {},
   "outputs": [],
   "source": []
  },
  {
   "cell_type": "code",
   "execution_count": null,
   "metadata": {},
   "outputs": [],
   "source": []
  },
  {
   "cell_type": "code",
   "execution_count": null,
   "metadata": {},
   "outputs": [],
   "source": []
  },
  {
   "cell_type": "code",
   "execution_count": null,
   "metadata": {},
   "outputs": [],
   "source": []
  },
  {
   "cell_type": "code",
   "execution_count": null,
   "metadata": {},
   "outputs": [],
   "source": []
  },
  {
   "cell_type": "code",
   "execution_count": null,
   "metadata": {},
   "outputs": [],
   "source": []
  },
  {
   "cell_type": "code",
   "execution_count": null,
   "metadata": {},
   "outputs": [],
   "source": []
  }
 ],
 "metadata": {
  "colab": {
   "name": "VCA-ID-prediction.ipynb",
   "provenance": [],
   "toc_visible": true
  },
  "kernelspec": {
   "display_name": "Python 3",
   "language": "python",
   "name": "python3"
  },
  "language_info": {
   "codemirror_mode": {
    "name": "ipython",
    "version": 3
   },
   "file_extension": ".py",
   "mimetype": "text/x-python",
   "name": "python",
   "nbconvert_exporter": "python",
   "pygments_lexer": "ipython3",
   "version": "3.7.7"
  },
  "toc": {
   "base_numbering": 1,
   "nav_menu": {},
   "number_sections": true,
   "sideBar": true,
   "skip_h1_title": false,
   "title_cell": "Table of Contents",
   "title_sidebar": "Contents",
   "toc_cell": false,
   "toc_position": {},
   "toc_section_display": true,
   "toc_window_display": true
  }
 },
 "nbformat": 4,
 "nbformat_minor": 1
}
