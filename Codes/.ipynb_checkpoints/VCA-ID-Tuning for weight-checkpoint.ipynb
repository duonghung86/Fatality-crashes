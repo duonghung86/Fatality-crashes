{
 "cells": [
  {
   "cell_type": "code",
   "execution_count": 1,
   "metadata": {
    "ExecuteTime": {
     "end_time": "2020-05-21T20:44:40.812597Z",
     "start_time": "2020-05-21T20:44:39.241218Z"
    },
    "colab": {},
    "colab_type": "code",
    "id": "1QxOQkOlJ1S_"
   },
   "outputs": [],
   "source": [
    "# Basic packages\n",
    "import matplotlib.pyplot as plt\n",
    "import numpy as np\n",
    "import pandas as pd\n",
    "from io import StringIO\n",
    "from io import BytesIO\n",
    "from zipfile import ZipFile\n",
    "import urllib.request"
   ]
  },
  {
   "cell_type": "markdown",
   "metadata": {
    "colab_type": "text",
    "id": "Cq34ehtsJ1Th"
   },
   "source": [
    "# Import dataset"
   ]
  },
  {
   "cell_type": "code",
   "execution_count": 2,
   "metadata": {
    "ExecuteTime": {
     "end_time": "2020-05-21T20:44:50.234934Z",
     "start_time": "2020-05-21T20:44:40.816085Z"
    },
    "colab": {
     "base_uri": "https://localhost:8080/",
     "height": 34
    },
    "colab_type": "code",
    "executionInfo": {
     "elapsed": 10148,
     "status": "ok",
     "timestamp": 1589212832817,
     "user": {
      "displayName": "Duong Hung",
      "photoUrl": "https://lh3.googleusercontent.com/a-/AOh14Ggfgs4FqFN7Yq3pQXoVHeQcc9w9kDV_fAGoQ3Nx4nk=s64",
      "userId": "01608720095171318435"
     },
     "user_tz": 300
    },
    "id": "_v04MZq4J1To",
    "outputId": "0dd4542d-a365-47ce-8669-1d559fef6985"
   },
   "outputs": [
    {
     "name": "stdout",
     "output_type": "stream",
     "text": [
      "(488849, 151)\n"
     ]
    },
    {
     "data": {
      "text/html": [
       "<div>\n",
       "<style scoped>\n",
       "    .dataframe tbody tr th:only-of-type {\n",
       "        vertical-align: middle;\n",
       "    }\n",
       "\n",
       "    .dataframe tbody tr th {\n",
       "        vertical-align: top;\n",
       "    }\n",
       "\n",
       "    .dataframe thead th {\n",
       "        text-align: right;\n",
       "    }\n",
       "</style>\n",
       "<table border=\"1\" class=\"dataframe\">\n",
       "  <thead>\n",
       "    <tr style=\"text-align: right;\">\n",
       "      <th></th>\n",
       "      <th>Prsn_Injry_Sev_ID</th>\n",
       "      <th>Unit_Nbr</th>\n",
       "      <th>Prsn_Age</th>\n",
       "      <th>Toll_Road_Fl</th>\n",
       "      <th>Crash_Speed_Limit</th>\n",
       "      <th>Road_Constr_Zone_Fl</th>\n",
       "      <th>Road_Constr_Zone_Wrkr_Fl</th>\n",
       "      <th>At_Intrsct_Fl</th>\n",
       "      <th>Latitude</th>\n",
       "      <th>Longitude</th>\n",
       "      <th>...</th>\n",
       "      <th>Traffic_Cntl_ID_SIGNAL LIGHT WITH RED LIGHT RUNNING CAMERA</th>\n",
       "      <th>Traffic_Cntl_ID_STOP SIGN</th>\n",
       "      <th>Traffic_Cntl_ID_WARNING SIGN</th>\n",
       "      <th>Unit_Desc_ID_MOTOR VEHICLE</th>\n",
       "      <th>Unit_Desc_ID_MOTORIZED CONVEYANCE</th>\n",
       "      <th>Unit_Desc_ID_NON-CONTACT</th>\n",
       "      <th>Unit_Desc_ID_OTHER (EXPLAIN IN NARRATIVE)</th>\n",
       "      <th>Unit_Desc_ID_PEDALCYCLIST</th>\n",
       "      <th>Unit_Desc_ID_PEDESTRIAN</th>\n",
       "      <th>Unit_Desc_ID_TOWED/PUSHED/TRAILER</th>\n",
       "    </tr>\n",
       "  </thead>\n",
       "  <tbody>\n",
       "    <tr>\n",
       "      <th>0</th>\n",
       "      <td>0</td>\n",
       "      <td>1</td>\n",
       "      <td>48.0</td>\n",
       "      <td>0</td>\n",
       "      <td>35</td>\n",
       "      <td>0</td>\n",
       "      <td>0</td>\n",
       "      <td>0</td>\n",
       "      <td>30.660685</td>\n",
       "      <td>-93.893906</td>\n",
       "      <td>...</td>\n",
       "      <td>0</td>\n",
       "      <td>0</td>\n",
       "      <td>0</td>\n",
       "      <td>1</td>\n",
       "      <td>0</td>\n",
       "      <td>0</td>\n",
       "      <td>0</td>\n",
       "      <td>0</td>\n",
       "      <td>0</td>\n",
       "      <td>0</td>\n",
       "    </tr>\n",
       "    <tr>\n",
       "      <th>1</th>\n",
       "      <td>2</td>\n",
       "      <td>2</td>\n",
       "      <td>58.0</td>\n",
       "      <td>0</td>\n",
       "      <td>35</td>\n",
       "      <td>0</td>\n",
       "      <td>0</td>\n",
       "      <td>0</td>\n",
       "      <td>30.660685</td>\n",
       "      <td>-93.893906</td>\n",
       "      <td>...</td>\n",
       "      <td>0</td>\n",
       "      <td>0</td>\n",
       "      <td>0</td>\n",
       "      <td>1</td>\n",
       "      <td>0</td>\n",
       "      <td>0</td>\n",
       "      <td>0</td>\n",
       "      <td>0</td>\n",
       "      <td>0</td>\n",
       "      <td>0</td>\n",
       "    </tr>\n",
       "    <tr>\n",
       "      <th>2</th>\n",
       "      <td>0</td>\n",
       "      <td>1</td>\n",
       "      <td>68.0</td>\n",
       "      <td>0</td>\n",
       "      <td>45</td>\n",
       "      <td>0</td>\n",
       "      <td>0</td>\n",
       "      <td>1</td>\n",
       "      <td>33.203920</td>\n",
       "      <td>-96.596654</td>\n",
       "      <td>...</td>\n",
       "      <td>0</td>\n",
       "      <td>0</td>\n",
       "      <td>0</td>\n",
       "      <td>1</td>\n",
       "      <td>0</td>\n",
       "      <td>0</td>\n",
       "      <td>0</td>\n",
       "      <td>0</td>\n",
       "      <td>0</td>\n",
       "      <td>0</td>\n",
       "    </tr>\n",
       "    <tr>\n",
       "      <th>3</th>\n",
       "      <td>0</td>\n",
       "      <td>3</td>\n",
       "      <td>67.0</td>\n",
       "      <td>0</td>\n",
       "      <td>45</td>\n",
       "      <td>0</td>\n",
       "      <td>0</td>\n",
       "      <td>1</td>\n",
       "      <td>33.203920</td>\n",
       "      <td>-96.596654</td>\n",
       "      <td>...</td>\n",
       "      <td>0</td>\n",
       "      <td>0</td>\n",
       "      <td>0</td>\n",
       "      <td>1</td>\n",
       "      <td>0</td>\n",
       "      <td>0</td>\n",
       "      <td>0</td>\n",
       "      <td>0</td>\n",
       "      <td>0</td>\n",
       "      <td>0</td>\n",
       "    </tr>\n",
       "    <tr>\n",
       "      <th>4</th>\n",
       "      <td>0</td>\n",
       "      <td>1</td>\n",
       "      <td>36.0</td>\n",
       "      <td>0</td>\n",
       "      <td>35</td>\n",
       "      <td>0</td>\n",
       "      <td>0</td>\n",
       "      <td>1</td>\n",
       "      <td>29.792394</td>\n",
       "      <td>-95.746539</td>\n",
       "      <td>...</td>\n",
       "      <td>0</td>\n",
       "      <td>0</td>\n",
       "      <td>1</td>\n",
       "      <td>1</td>\n",
       "      <td>0</td>\n",
       "      <td>0</td>\n",
       "      <td>0</td>\n",
       "      <td>0</td>\n",
       "      <td>0</td>\n",
       "      <td>0</td>\n",
       "    </tr>\n",
       "  </tbody>\n",
       "</table>\n",
       "<p>5 rows × 151 columns</p>\n",
       "</div>"
      ],
      "text/plain": [
       "   Prsn_Injry_Sev_ID  Unit_Nbr  Prsn_Age  Toll_Road_Fl  Crash_Speed_Limit  \\\n",
       "0                  0         1      48.0             0                 35   \n",
       "1                  2         2      58.0             0                 35   \n",
       "2                  0         1      68.0             0                 45   \n",
       "3                  0         3      67.0             0                 45   \n",
       "4                  0         1      36.0             0                 35   \n",
       "\n",
       "   Road_Constr_Zone_Fl  Road_Constr_Zone_Wrkr_Fl  At_Intrsct_Fl   Latitude  \\\n",
       "0                    0                         0              0  30.660685   \n",
       "1                    0                         0              0  30.660685   \n",
       "2                    0                         0              1  33.203920   \n",
       "3                    0                         0              1  33.203920   \n",
       "4                    0                         0              1  29.792394   \n",
       "\n",
       "   Longitude  ...  Traffic_Cntl_ID_SIGNAL LIGHT WITH RED LIGHT RUNNING CAMERA  \\\n",
       "0 -93.893906  ...                                                  0            \n",
       "1 -93.893906  ...                                                  0            \n",
       "2 -96.596654  ...                                                  0            \n",
       "3 -96.596654  ...                                                  0            \n",
       "4 -95.746539  ...                                                  0            \n",
       "\n",
       "   Traffic_Cntl_ID_STOP SIGN  Traffic_Cntl_ID_WARNING SIGN  \\\n",
       "0                          0                             0   \n",
       "1                          0                             0   \n",
       "2                          0                             0   \n",
       "3                          0                             0   \n",
       "4                          0                             1   \n",
       "\n",
       "   Unit_Desc_ID_MOTOR VEHICLE  Unit_Desc_ID_MOTORIZED CONVEYANCE  \\\n",
       "0                           1                                  0   \n",
       "1                           1                                  0   \n",
       "2                           1                                  0   \n",
       "3                           1                                  0   \n",
       "4                           1                                  0   \n",
       "\n",
       "   Unit_Desc_ID_NON-CONTACT  Unit_Desc_ID_OTHER (EXPLAIN IN NARRATIVE)  \\\n",
       "0                         0                                          0   \n",
       "1                         0                                          0   \n",
       "2                         0                                          0   \n",
       "3                         0                                          0   \n",
       "4                         0                                          0   \n",
       "\n",
       "   Unit_Desc_ID_PEDALCYCLIST  Unit_Desc_ID_PEDESTRIAN  \\\n",
       "0                          0                        0   \n",
       "1                          0                        0   \n",
       "2                          0                        0   \n",
       "3                          0                        0   \n",
       "4                          0                        0   \n",
       "\n",
       "   Unit_Desc_ID_TOWED/PUSHED/TRAILER  \n",
       "0                                  0  \n",
       "1                                  0  \n",
       "2                                  0  \n",
       "3                                  0  \n",
       "4                                  0  \n",
       "\n",
       "[5 rows x 151 columns]"
      ]
     },
     "execution_count": 2,
     "metadata": {},
     "output_type": "execute_result"
    }
   ],
   "source": [
    "link='https://github.com/duonghung86/Fatality-crashes/raw/master/Codes/final%20data.zip'\n",
    "url = urllib.request.urlopen(link)\n",
    "with ZipFile(BytesIO(url.read())) as my_zip_file:\n",
    "    for contained_file in my_zip_file.namelist():\n",
    "        fzip=my_zip_file.open(contained_file)\n",
    "        data=fzip.read()\n",
    "\n",
    "s=str(data,'utf-8')\n",
    "data = StringIO(s)\n",
    "df=pd.read_csv(data)\n",
    "print(df.shape)\n",
    "df.head()"
   ]
  },
  {
   "cell_type": "code",
   "execution_count": 3,
   "metadata": {
    "ExecuteTime": {
     "end_time": "2020-05-21T20:45:08.945606Z",
     "start_time": "2020-05-21T20:45:08.935127Z"
    },
    "colab": {
     "base_uri": "https://localhost:8080/",
     "height": 34
    },
    "colab_type": "code",
    "executionInfo": {
     "elapsed": 10132,
     "status": "ok",
     "timestamp": 1589212832818,
     "user": {
      "displayName": "Duong Hung",
      "photoUrl": "https://lh3.googleusercontent.com/a-/AOh14Ggfgs4FqFN7Yq3pQXoVHeQcc9w9kDV_fAGoQ3Nx4nk=s64",
      "userId": "01608720095171318435"
     },
     "user_tz": 300
    },
    "id": "0yIHRk4sJ1Tx",
    "outputId": "d91e40bd-c01e-4fd0-86d0-bdbcd3ed9f69"
   },
   "outputs": [
    {
     "data": {
      "text/plain": [
       "array([0, 0, 0, ..., 0, 0, 0])"
      ]
     },
     "execution_count": 3,
     "metadata": {},
     "output_type": "execute_result"
    }
   ],
   "source": [
    "y=np.where(df['Prsn_Injry_Sev_ID']==4,1,0)\n",
    "y"
   ]
  },
  {
   "cell_type": "code",
   "execution_count": 4,
   "metadata": {
    "ExecuteTime": {
     "end_time": "2020-05-21T20:45:12.593932Z",
     "start_time": "2020-05-21T20:45:12.582954Z"
    },
    "colab": {
     "base_uri": "https://localhost:8080/",
     "height": 85
    },
    "colab_type": "code",
    "executionInfo": {
     "elapsed": 10117,
     "status": "ok",
     "timestamp": 1589212832820,
     "user": {
      "displayName": "Duong Hung",
      "photoUrl": "https://lh3.googleusercontent.com/a-/AOh14Ggfgs4FqFN7Yq3pQXoVHeQcc9w9kDV_fAGoQ3Nx4nk=s64",
      "userId": "01608720095171318435"
     },
     "user_tz": 300
    },
    "id": "0Ba_lXcHJ1UI",
    "outputId": "b43fce0d-8bd8-477b-aa39-501a76edc1e7"
   },
   "outputs": [
    {
     "name": "stdout",
     "output_type": "stream",
     "text": [
      "Examples:\n",
      "    Total: 488849\n",
      "    Positive: 1494 (0.31% of total)\n",
      "\n"
     ]
    }
   ],
   "source": [
    "neg, pos = np.bincount(y)\n",
    "total = neg + pos\n",
    "print('Examples:\\n    Total: {}\\n    Positive: {} ({:.2f}% of total)\\n'.format(total, pos, 100 * pos / total))"
   ]
  },
  {
   "cell_type": "code",
   "execution_count": 5,
   "metadata": {
    "ExecuteTime": {
     "end_time": "2020-05-21T20:45:19.140222Z",
     "start_time": "2020-05-21T20:45:17.017669Z"
    },
    "colab": {
     "base_uri": "https://localhost:8080/",
     "height": 473
    },
    "colab_type": "code",
    "executionInfo": {
     "elapsed": 11433,
     "status": "ok",
     "timestamp": 1589212834154,
     "user": {
      "displayName": "Duong Hung",
      "photoUrl": "https://lh3.googleusercontent.com/a-/AOh14Ggfgs4FqFN7Yq3pQXoVHeQcc9w9kDV_fAGoQ3Nx4nk=s64",
      "userId": "01608720095171318435"
     },
     "user_tz": 300
    },
    "id": "Cl4mz5NYJ1UV",
    "outputId": "65dad35a-0845-4226-f71e-61010fc5228e",
    "scrolled": true
   },
   "outputs": [
    {
     "data": {
      "text/html": [
       "<div>\n",
       "<style scoped>\n",
       "    .dataframe tbody tr th:only-of-type {\n",
       "        vertical-align: middle;\n",
       "    }\n",
       "\n",
       "    .dataframe tbody tr th {\n",
       "        vertical-align: top;\n",
       "    }\n",
       "\n",
       "    .dataframe thead th {\n",
       "        text-align: right;\n",
       "    }\n",
       "</style>\n",
       "<table border=\"1\" class=\"dataframe\">\n",
       "  <thead>\n",
       "    <tr style=\"text-align: right;\">\n",
       "      <th></th>\n",
       "      <th>Unit_Nbr</th>\n",
       "      <th>Prsn_Age</th>\n",
       "      <th>Toll_Road_Fl</th>\n",
       "      <th>Crash_Speed_Limit</th>\n",
       "      <th>Road_Constr_Zone_Fl</th>\n",
       "      <th>Road_Constr_Zone_Wrkr_Fl</th>\n",
       "      <th>At_Intrsct_Fl</th>\n",
       "      <th>Latitude</th>\n",
       "      <th>Longitude</th>\n",
       "      <th>Crash_month</th>\n",
       "      <th>...</th>\n",
       "      <th>Traffic_Cntl_ID_SIGNAL LIGHT WITH RED LIGHT RUNNING CAMERA</th>\n",
       "      <th>Traffic_Cntl_ID_STOP SIGN</th>\n",
       "      <th>Traffic_Cntl_ID_WARNING SIGN</th>\n",
       "      <th>Unit_Desc_ID_MOTOR VEHICLE</th>\n",
       "      <th>Unit_Desc_ID_MOTORIZED CONVEYANCE</th>\n",
       "      <th>Unit_Desc_ID_NON-CONTACT</th>\n",
       "      <th>Unit_Desc_ID_OTHER (EXPLAIN IN NARRATIVE)</th>\n",
       "      <th>Unit_Desc_ID_PEDALCYCLIST</th>\n",
       "      <th>Unit_Desc_ID_PEDESTRIAN</th>\n",
       "      <th>Unit_Desc_ID_TOWED/PUSHED/TRAILER</th>\n",
       "    </tr>\n",
       "  </thead>\n",
       "  <tbody>\n",
       "    <tr>\n",
       "      <th>0</th>\n",
       "      <td>1</td>\n",
       "      <td>48.0</td>\n",
       "      <td>0</td>\n",
       "      <td>35</td>\n",
       "      <td>0</td>\n",
       "      <td>0</td>\n",
       "      <td>0</td>\n",
       "      <td>30.660685</td>\n",
       "      <td>-93.893906</td>\n",
       "      <td>6</td>\n",
       "      <td>...</td>\n",
       "      <td>0</td>\n",
       "      <td>0</td>\n",
       "      <td>0</td>\n",
       "      <td>1</td>\n",
       "      <td>0</td>\n",
       "      <td>0</td>\n",
       "      <td>0</td>\n",
       "      <td>0</td>\n",
       "      <td>0</td>\n",
       "      <td>0</td>\n",
       "    </tr>\n",
       "    <tr>\n",
       "      <th>1</th>\n",
       "      <td>2</td>\n",
       "      <td>58.0</td>\n",
       "      <td>0</td>\n",
       "      <td>35</td>\n",
       "      <td>0</td>\n",
       "      <td>0</td>\n",
       "      <td>0</td>\n",
       "      <td>30.660685</td>\n",
       "      <td>-93.893906</td>\n",
       "      <td>6</td>\n",
       "      <td>...</td>\n",
       "      <td>0</td>\n",
       "      <td>0</td>\n",
       "      <td>0</td>\n",
       "      <td>1</td>\n",
       "      <td>0</td>\n",
       "      <td>0</td>\n",
       "      <td>0</td>\n",
       "      <td>0</td>\n",
       "      <td>0</td>\n",
       "      <td>0</td>\n",
       "    </tr>\n",
       "    <tr>\n",
       "      <th>2</th>\n",
       "      <td>1</td>\n",
       "      <td>68.0</td>\n",
       "      <td>0</td>\n",
       "      <td>45</td>\n",
       "      <td>0</td>\n",
       "      <td>0</td>\n",
       "      <td>1</td>\n",
       "      <td>33.203920</td>\n",
       "      <td>-96.596654</td>\n",
       "      <td>6</td>\n",
       "      <td>...</td>\n",
       "      <td>0</td>\n",
       "      <td>0</td>\n",
       "      <td>0</td>\n",
       "      <td>1</td>\n",
       "      <td>0</td>\n",
       "      <td>0</td>\n",
       "      <td>0</td>\n",
       "      <td>0</td>\n",
       "      <td>0</td>\n",
       "      <td>0</td>\n",
       "    </tr>\n",
       "    <tr>\n",
       "      <th>3</th>\n",
       "      <td>3</td>\n",
       "      <td>67.0</td>\n",
       "      <td>0</td>\n",
       "      <td>45</td>\n",
       "      <td>0</td>\n",
       "      <td>0</td>\n",
       "      <td>1</td>\n",
       "      <td>33.203920</td>\n",
       "      <td>-96.596654</td>\n",
       "      <td>6</td>\n",
       "      <td>...</td>\n",
       "      <td>0</td>\n",
       "      <td>0</td>\n",
       "      <td>0</td>\n",
       "      <td>1</td>\n",
       "      <td>0</td>\n",
       "      <td>0</td>\n",
       "      <td>0</td>\n",
       "      <td>0</td>\n",
       "      <td>0</td>\n",
       "      <td>0</td>\n",
       "    </tr>\n",
       "    <tr>\n",
       "      <th>4</th>\n",
       "      <td>1</td>\n",
       "      <td>36.0</td>\n",
       "      <td>0</td>\n",
       "      <td>35</td>\n",
       "      <td>0</td>\n",
       "      <td>0</td>\n",
       "      <td>1</td>\n",
       "      <td>29.792394</td>\n",
       "      <td>-95.746539</td>\n",
       "      <td>6</td>\n",
       "      <td>...</td>\n",
       "      <td>0</td>\n",
       "      <td>0</td>\n",
       "      <td>1</td>\n",
       "      <td>1</td>\n",
       "      <td>0</td>\n",
       "      <td>0</td>\n",
       "      <td>0</td>\n",
       "      <td>0</td>\n",
       "      <td>0</td>\n",
       "      <td>0</td>\n",
       "    </tr>\n",
       "    <tr>\n",
       "      <th>...</th>\n",
       "      <td>...</td>\n",
       "      <td>...</td>\n",
       "      <td>...</td>\n",
       "      <td>...</td>\n",
       "      <td>...</td>\n",
       "      <td>...</td>\n",
       "      <td>...</td>\n",
       "      <td>...</td>\n",
       "      <td>...</td>\n",
       "      <td>...</td>\n",
       "      <td>...</td>\n",
       "      <td>...</td>\n",
       "      <td>...</td>\n",
       "      <td>...</td>\n",
       "      <td>...</td>\n",
       "      <td>...</td>\n",
       "      <td>...</td>\n",
       "      <td>...</td>\n",
       "      <td>...</td>\n",
       "      <td>...</td>\n",
       "      <td>...</td>\n",
       "    </tr>\n",
       "    <tr>\n",
       "      <th>488844</th>\n",
       "      <td>1</td>\n",
       "      <td>68.0</td>\n",
       "      <td>0</td>\n",
       "      <td>70</td>\n",
       "      <td>0</td>\n",
       "      <td>0</td>\n",
       "      <td>1</td>\n",
       "      <td>28.954878</td>\n",
       "      <td>-97.987513</td>\n",
       "      <td>11</td>\n",
       "      <td>...</td>\n",
       "      <td>0</td>\n",
       "      <td>0</td>\n",
       "      <td>0</td>\n",
       "      <td>1</td>\n",
       "      <td>0</td>\n",
       "      <td>0</td>\n",
       "      <td>0</td>\n",
       "      <td>0</td>\n",
       "      <td>0</td>\n",
       "      <td>0</td>\n",
       "    </tr>\n",
       "    <tr>\n",
       "      <th>488845</th>\n",
       "      <td>1</td>\n",
       "      <td>44.0</td>\n",
       "      <td>0</td>\n",
       "      <td>55</td>\n",
       "      <td>0</td>\n",
       "      <td>0</td>\n",
       "      <td>1</td>\n",
       "      <td>32.756880</td>\n",
       "      <td>-94.354907</td>\n",
       "      <td>11</td>\n",
       "      <td>...</td>\n",
       "      <td>0</td>\n",
       "      <td>1</td>\n",
       "      <td>0</td>\n",
       "      <td>1</td>\n",
       "      <td>0</td>\n",
       "      <td>0</td>\n",
       "      <td>0</td>\n",
       "      <td>0</td>\n",
       "      <td>0</td>\n",
       "      <td>0</td>\n",
       "    </tr>\n",
       "    <tr>\n",
       "      <th>488846</th>\n",
       "      <td>2</td>\n",
       "      <td>57.0</td>\n",
       "      <td>0</td>\n",
       "      <td>55</td>\n",
       "      <td>0</td>\n",
       "      <td>0</td>\n",
       "      <td>1</td>\n",
       "      <td>32.756880</td>\n",
       "      <td>-94.354907</td>\n",
       "      <td>11</td>\n",
       "      <td>...</td>\n",
       "      <td>0</td>\n",
       "      <td>1</td>\n",
       "      <td>0</td>\n",
       "      <td>1</td>\n",
       "      <td>0</td>\n",
       "      <td>0</td>\n",
       "      <td>0</td>\n",
       "      <td>0</td>\n",
       "      <td>0</td>\n",
       "      <td>0</td>\n",
       "    </tr>\n",
       "    <tr>\n",
       "      <th>488847</th>\n",
       "      <td>1</td>\n",
       "      <td>16.0</td>\n",
       "      <td>0</td>\n",
       "      <td>40</td>\n",
       "      <td>0</td>\n",
       "      <td>0</td>\n",
       "      <td>0</td>\n",
       "      <td>31.279209</td>\n",
       "      <td>-94.579816</td>\n",
       "      <td>9</td>\n",
       "      <td>...</td>\n",
       "      <td>0</td>\n",
       "      <td>1</td>\n",
       "      <td>0</td>\n",
       "      <td>1</td>\n",
       "      <td>0</td>\n",
       "      <td>0</td>\n",
       "      <td>0</td>\n",
       "      <td>0</td>\n",
       "      <td>0</td>\n",
       "      <td>0</td>\n",
       "    </tr>\n",
       "    <tr>\n",
       "      <th>488848</th>\n",
       "      <td>2</td>\n",
       "      <td>16.0</td>\n",
       "      <td>0</td>\n",
       "      <td>40</td>\n",
       "      <td>0</td>\n",
       "      <td>0</td>\n",
       "      <td>0</td>\n",
       "      <td>31.279209</td>\n",
       "      <td>-94.579816</td>\n",
       "      <td>9</td>\n",
       "      <td>...</td>\n",
       "      <td>0</td>\n",
       "      <td>1</td>\n",
       "      <td>0</td>\n",
       "      <td>1</td>\n",
       "      <td>0</td>\n",
       "      <td>0</td>\n",
       "      <td>0</td>\n",
       "      <td>0</td>\n",
       "      <td>0</td>\n",
       "      <td>0</td>\n",
       "    </tr>\n",
       "  </tbody>\n",
       "</table>\n",
       "<p>488849 rows × 150 columns</p>\n",
       "</div>"
      ],
      "text/plain": [
       "        Unit_Nbr  Prsn_Age  Toll_Road_Fl  Crash_Speed_Limit  \\\n",
       "0              1      48.0             0                 35   \n",
       "1              2      58.0             0                 35   \n",
       "2              1      68.0             0                 45   \n",
       "3              3      67.0             0                 45   \n",
       "4              1      36.0             0                 35   \n",
       "...          ...       ...           ...                ...   \n",
       "488844         1      68.0             0                 70   \n",
       "488845         1      44.0             0                 55   \n",
       "488846         2      57.0             0                 55   \n",
       "488847         1      16.0             0                 40   \n",
       "488848         2      16.0             0                 40   \n",
       "\n",
       "        Road_Constr_Zone_Fl  Road_Constr_Zone_Wrkr_Fl  At_Intrsct_Fl  \\\n",
       "0                         0                         0              0   \n",
       "1                         0                         0              0   \n",
       "2                         0                         0              1   \n",
       "3                         0                         0              1   \n",
       "4                         0                         0              1   \n",
       "...                     ...                       ...            ...   \n",
       "488844                    0                         0              1   \n",
       "488845                    0                         0              1   \n",
       "488846                    0                         0              1   \n",
       "488847                    0                         0              0   \n",
       "488848                    0                         0              0   \n",
       "\n",
       "         Latitude  Longitude  Crash_month  ...  \\\n",
       "0       30.660685 -93.893906            6  ...   \n",
       "1       30.660685 -93.893906            6  ...   \n",
       "2       33.203920 -96.596654            6  ...   \n",
       "3       33.203920 -96.596654            6  ...   \n",
       "4       29.792394 -95.746539            6  ...   \n",
       "...           ...        ...          ...  ...   \n",
       "488844  28.954878 -97.987513           11  ...   \n",
       "488845  32.756880 -94.354907           11  ...   \n",
       "488846  32.756880 -94.354907           11  ...   \n",
       "488847  31.279209 -94.579816            9  ...   \n",
       "488848  31.279209 -94.579816            9  ...   \n",
       "\n",
       "        Traffic_Cntl_ID_SIGNAL LIGHT WITH RED LIGHT RUNNING CAMERA  \\\n",
       "0                                                       0            \n",
       "1                                                       0            \n",
       "2                                                       0            \n",
       "3                                                       0            \n",
       "4                                                       0            \n",
       "...                                                   ...            \n",
       "488844                                                  0            \n",
       "488845                                                  0            \n",
       "488846                                                  0            \n",
       "488847                                                  0            \n",
       "488848                                                  0            \n",
       "\n",
       "        Traffic_Cntl_ID_STOP SIGN  Traffic_Cntl_ID_WARNING SIGN  \\\n",
       "0                               0                             0   \n",
       "1                               0                             0   \n",
       "2                               0                             0   \n",
       "3                               0                             0   \n",
       "4                               0                             1   \n",
       "...                           ...                           ...   \n",
       "488844                          0                             0   \n",
       "488845                          1                             0   \n",
       "488846                          1                             0   \n",
       "488847                          1                             0   \n",
       "488848                          1                             0   \n",
       "\n",
       "        Unit_Desc_ID_MOTOR VEHICLE  Unit_Desc_ID_MOTORIZED CONVEYANCE  \\\n",
       "0                                1                                  0   \n",
       "1                                1                                  0   \n",
       "2                                1                                  0   \n",
       "3                                1                                  0   \n",
       "4                                1                                  0   \n",
       "...                            ...                                ...   \n",
       "488844                           1                                  0   \n",
       "488845                           1                                  0   \n",
       "488846                           1                                  0   \n",
       "488847                           1                                  0   \n",
       "488848                           1                                  0   \n",
       "\n",
       "        Unit_Desc_ID_NON-CONTACT  Unit_Desc_ID_OTHER (EXPLAIN IN NARRATIVE)  \\\n",
       "0                              0                                          0   \n",
       "1                              0                                          0   \n",
       "2                              0                                          0   \n",
       "3                              0                                          0   \n",
       "4                              0                                          0   \n",
       "...                          ...                                        ...   \n",
       "488844                         0                                          0   \n",
       "488845                         0                                          0   \n",
       "488846                         0                                          0   \n",
       "488847                         0                                          0   \n",
       "488848                         0                                          0   \n",
       "\n",
       "        Unit_Desc_ID_PEDALCYCLIST  Unit_Desc_ID_PEDESTRIAN  \\\n",
       "0                               0                        0   \n",
       "1                               0                        0   \n",
       "2                               0                        0   \n",
       "3                               0                        0   \n",
       "4                               0                        0   \n",
       "...                           ...                      ...   \n",
       "488844                          0                        0   \n",
       "488845                          0                        0   \n",
       "488846                          0                        0   \n",
       "488847                          0                        0   \n",
       "488848                          0                        0   \n",
       "\n",
       "        Unit_Desc_ID_TOWED/PUSHED/TRAILER  \n",
       "0                                       0  \n",
       "1                                       0  \n",
       "2                                       0  \n",
       "3                                       0  \n",
       "4                                       0  \n",
       "...                                   ...  \n",
       "488844                                  0  \n",
       "488845                                  0  \n",
       "488846                                  0  \n",
       "488847                                  0  \n",
       "488848                                  0  \n",
       "\n",
       "[488849 rows x 150 columns]"
      ]
     },
     "execution_count": 5,
     "metadata": {},
     "output_type": "execute_result"
    }
   ],
   "source": [
    "X=df.iloc[:,1:].copy()\n",
    "X"
   ]
  },
  {
   "cell_type": "markdown",
   "metadata": {
    "colab_type": "text",
    "id": "548Mc3Y4J1Ui"
   },
   "source": [
    "# Split the dataset"
   ]
  },
  {
   "cell_type": "code",
   "execution_count": 6,
   "metadata": {
    "ExecuteTime": {
     "end_time": "2020-05-21T20:49:33.818149Z",
     "start_time": "2020-05-21T20:49:32.580161Z"
    },
    "colab": {},
    "colab_type": "code",
    "id": "5ERPlNBhJ1Ul"
   },
   "outputs": [],
   "source": [
    "from sklearn.model_selection import train_test_split"
   ]
  },
  {
   "cell_type": "code",
   "execution_count": 7,
   "metadata": {
    "ExecuteTime": {
     "end_time": "2020-05-21T20:49:54.992352Z",
     "start_time": "2020-05-21T20:49:49.885793Z"
    },
    "colab": {
     "base_uri": "https://localhost:8080/",
     "height": 68
    },
    "colab_type": "code",
    "executionInfo": {
     "elapsed": 13534,
     "status": "ok",
     "timestamp": 1589212836277,
     "user": {
      "displayName": "Duong Hung",
      "photoUrl": "https://lh3.googleusercontent.com/a-/AOh14Ggfgs4FqFN7Yq3pQXoVHeQcc9w9kDV_fAGoQ3Nx4nk=s64",
      "userId": "01608720095171318435"
     },
     "user_tz": 300
    },
    "id": "6dDdGqNSJ1Uo",
    "outputId": "2750b62b-92b8-453e-98ba-cc5a1d23821f"
   },
   "outputs": [
    {
     "name": "stdout",
     "output_type": "stream",
     "text": [
      "Training features shape: (312863, 150)\n",
      "Validation features shape: (78216, 150)\n",
      "Test features shape: (97770, 150)\n"
     ]
    }
   ],
   "source": [
    "X_train, X_test, y_train, y_test = train_test_split(X,y,test_size=0.2,stratify=y, random_state=48)\n",
    "X_train, X_val, y_train, y_val = train_test_split(X_train,y_train,test_size=0.2,stratify=y_train, random_state=48)\n",
    "\n",
    "X_train=np.array(X_train)\n",
    "X_test=np.array(X_test)\n",
    "X_val=np.array(X_val)\n",
    "\n",
    "print('Training features shape:', X_train.shape)\n",
    "print('Validation features shape:', X_val.shape)\n",
    "print('Test features shape:', X_test.shape)"
   ]
  },
  {
   "cell_type": "code",
   "execution_count": 8,
   "metadata": {
    "ExecuteTime": {
     "end_time": "2020-05-21T20:49:55.014311Z",
     "start_time": "2020-05-21T20:49:54.996344Z"
    },
    "colab": {
     "base_uri": "https://localhost:8080/",
     "height": 68
    },
    "colab_type": "code",
    "executionInfo": {
     "elapsed": 13523,
     "status": "ok",
     "timestamp": 1589212836278,
     "user": {
      "displayName": "Duong Hung",
      "photoUrl": "https://lh3.googleusercontent.com/a-/AOh14Ggfgs4FqFN7Yq3pQXoVHeQcc9w9kDV_fAGoQ3Nx4nk=s64",
      "userId": "01608720095171318435"
     },
     "user_tz": 300
    },
    "id": "Ut-NVd4nJ1Uv",
    "outputId": "d5511c3a-2bc8-4caa-f7e8-fdb612ad8ac4"
   },
   "outputs": [
    {
     "name": "stdout",
     "output_type": "stream",
     "text": [
      "Training features shape: (312863, 1)\n",
      "Validation features shape: (78216, 1)\n",
      "Test features shape: (97770, 1)\n"
     ]
    }
   ],
   "source": [
    "y_train=np.array(y_train).reshape(len(y_train),1)\n",
    "y_test=np.array(y_test).reshape(len(y_test),1)\n",
    "y_val=np.array(y_val).reshape(len(y_val),1)\n",
    "\n",
    "print('Training features shape:', y_train.shape)\n",
    "print('Validation features shape:', y_val.shape)\n",
    "print('Test features shape:', y_test.shape)"
   ]
  },
  {
   "cell_type": "code",
   "execution_count": 9,
   "metadata": {
    "ExecuteTime": {
     "end_time": "2020-05-21T20:49:55.026787Z",
     "start_time": "2020-05-21T20:49:55.019800Z"
    },
    "colab": {},
    "colab_type": "code",
    "id": "Lj2Ka9kMJ1U2"
   },
   "outputs": [],
   "source": [
    "# standardization\n",
    "from sklearn.preprocessing import StandardScaler"
   ]
  },
  {
   "cell_type": "code",
   "execution_count": 10,
   "metadata": {
    "ExecuteTime": {
     "end_time": "2020-05-21T20:49:57.786654Z",
     "start_time": "2020-05-21T20:49:55.030780Z"
    },
    "colab": {},
    "colab_type": "code",
    "id": "BiA2g-qsJ1U6"
   },
   "outputs": [],
   "source": [
    "scaler = StandardScaler()\n",
    "\n",
    "X_train = scaler.fit_transform(X_train)\n",
    "\n",
    "X_val = scaler.transform(X_val)\n",
    "X_test = scaler.transform(X_test)"
   ]
  },
  {
   "cell_type": "markdown",
   "metadata": {
    "colab_type": "text",
    "id": "BcaKVTGuJ1Vm"
   },
   "source": [
    "# MLP simple"
   ]
  },
  {
   "cell_type": "markdown",
   "metadata": {
    "colab_type": "text",
    "id": "HquajIY-J1Vn"
   },
   "source": [
    "## Mini functions"
   ]
  },
  {
   "cell_type": "markdown",
   "metadata": {
    "colab_type": "text",
    "id": "_Z54FMlfJ1Vp"
   },
   "source": [
    "### Create model"
   ]
  },
  {
   "cell_type": "code",
   "execution_count": 11,
   "metadata": {
    "ExecuteTime": {
     "end_time": "2020-05-21T20:50:07.647931Z",
     "start_time": "2020-05-21T20:49:57.789151Z"
    },
    "colab": {
     "base_uri": "https://localhost:8080/",
     "height": 34
    },
    "colab_type": "code",
    "executionInfo": {
     "elapsed": 15926,
     "status": "ok",
     "timestamp": 1589212838693,
     "user": {
      "displayName": "Duong Hung",
      "photoUrl": "https://lh3.googleusercontent.com/a-/AOh14Ggfgs4FqFN7Yq3pQXoVHeQcc9w9kDV_fAGoQ3Nx4nk=s64",
      "userId": "01608720095171318435"
     },
     "user_tz": 300
    },
    "id": "dBEUbS6cYuve",
    "outputId": "511d15ce-1237-4747-9635-9a334cac1bf3"
   },
   "outputs": [
    {
     "name": "stdout",
     "output_type": "stream",
     "text": [
      "2.1.0\n"
     ]
    }
   ],
   "source": [
    "import tensorflow as tf\n",
    "from tensorflow import keras\n",
    "print(tf.__version__)"
   ]
  },
  {
   "cell_type": "code",
   "execution_count": 12,
   "metadata": {
    "ExecuteTime": {
     "end_time": "2020-05-21T20:50:07.733470Z",
     "start_time": "2020-05-21T20:50:07.654421Z"
    }
   },
   "outputs": [],
   "source": [
    "metrics = [keras.metrics.BinaryAccuracy(name='accuracy'),\n",
    "          keras.metrics.Precision(name='precision'),\n",
    "          keras.metrics.Recall(name='recall'),\n",
    "          keras.metrics.AUC(name='auc')]"
   ]
  },
  {
   "cell_type": "code",
   "execution_count": 13,
   "metadata": {
    "ExecuteTime": {
     "end_time": "2020-05-21T20:50:07.762718Z",
     "start_time": "2020-05-21T20:50:07.738763Z"
    }
   },
   "outputs": [],
   "source": [
    "metrics = [keras.metrics.BinaryAccuracy(name='accuracy'),keras.metrics.AUC(name='auc')]"
   ]
  },
  {
   "cell_type": "code",
   "execution_count": 14,
   "metadata": {
    "ExecuteTime": {
     "end_time": "2020-05-21T20:50:07.785180Z",
     "start_time": "2020-05-21T20:50:07.771203Z"
    },
    "colab": {},
    "colab_type": "code",
    "id": "yIup1KAaJ1Vr"
   },
   "outputs": [],
   "source": [
    "def create_model(nodes=20,actih='relu',actio='sigmoid',lr=1e-3,output_bias=None,logits=False):\n",
    "    if output_bias is not None:\n",
    "        output_bias = tf.keras.initializers.Constant(output_bias)\n",
    "        \n",
    "    model = keras.Sequential()\n",
    "    model.add(keras.layers.Dense(nodes, activation=actih,input_dim=X_train.shape[1]))\n",
    "    model.add(keras.layers.Dropout(0.5))\n",
    "    model.add(keras.layers.Dense(1, activation=actio,bias_initializer=output_bias))\n",
    "    \n",
    "    model.compile(optimizer=keras.optimizers.Adam(lr=lr),\n",
    "                  loss=keras.losses.BinaryCrossentropy(from_logits=logits),\n",
    "                  metrics=metrics)\n",
    "    return model"
   ]
  },
  {
   "cell_type": "markdown",
   "metadata": {
    "colab_type": "text",
    "id": "JXXqeCA-J1Vu"
   },
   "source": [
    "### Show confusion matrix\n"
   ]
  },
  {
   "cell_type": "code",
   "execution_count": 15,
   "metadata": {
    "ExecuteTime": {
     "end_time": "2020-05-21T20:50:07.799649Z",
     "start_time": "2020-05-21T20:50:07.790666Z"
    },
    "colab": {},
    "colab_type": "code",
    "id": "BCMLDgLcYo6T"
   },
   "outputs": [],
   "source": [
    "from sklearn.metrics import confusion_matrix, classification_report"
   ]
  },
  {
   "cell_type": "code",
   "execution_count": 16,
   "metadata": {
    "ExecuteTime": {
     "end_time": "2020-05-21T20:50:07.824106Z",
     "start_time": "2020-05-21T20:50:07.804143Z"
    },
    "colab": {},
    "colab_type": "code",
    "id": "ZhneEw4cRND_"
   },
   "outputs": [],
   "source": [
    "def CI(arr):\n",
    "    op=[arr[0,0],arr[1,1]]/arr.sum(axis=0)\n",
    "    op=np.append(op,(arr[0,0]+arr[1,1])/arr.sum())\n",
    "    op=pd.DataFrame(op,columns=['Precision'],index=['0','1','Global'])\n",
    "    op['n_p']=np.append(arr.sum(axis=0),arr.sum())\n",
    "    op['CI_p']=196*np.sqrt(op.Precision*(1-op.Precision)/op.n_p)\n",
    "    op['Precision']=op.Precision*100\n",
    "\n",
    "    op['Recall']=np.append([arr[0,0],arr[1,1]]/arr.sum(axis=1),(arr[0,0]+arr[1,1])/arr.sum())\n",
    "    op['n_r']=np.append(arr.sum(axis=1),arr.sum())\n",
    "    op['CI_r']=196*np.sqrt(op.Recall*(1-op.Recall)/op.n_r)\n",
    "    op['Recall']=op.Recall*100\n",
    "    return op"
   ]
  },
  {
   "cell_type": "code",
   "execution_count": 17,
   "metadata": {
    "ExecuteTime": {
     "end_time": "2020-05-21T20:50:07.838078Z",
     "start_time": "2020-05-21T20:50:07.828596Z"
    },
    "colab": {},
    "colab_type": "code",
    "id": "uFfBF83bJ1V0"
   },
   "outputs": [],
   "source": [
    "def show_cm(labels, predictions, p=0.5):\n",
    "    cm = confusion_matrix(labels, predictions > p)\n",
    "    print(cm)\n",
    "    pcm=classification_report(labels, predictions > p, target_names=['Class 0','Class 1']) \n",
    "    print(pcm)\n",
    "    return CI(cm)"
   ]
  },
  {
   "cell_type": "markdown",
   "metadata": {
    "colab_type": "text",
    "id": "U7vWECLdJ1V_"
   },
   "source": [
    "### Plot ROC\n"
   ]
  },
  {
   "cell_type": "code",
   "execution_count": 18,
   "metadata": {
    "ExecuteTime": {
     "end_time": "2020-05-21T20:50:07.856545Z",
     "start_time": "2020-05-21T20:50:07.841073Z"
    },
    "colab": {},
    "colab_type": "code",
    "id": "C3yM0beyZCHc"
   },
   "outputs": [],
   "source": [
    "from sklearn.metrics import roc_curve, auc"
   ]
  },
  {
   "cell_type": "code",
   "execution_count": 19,
   "metadata": {
    "ExecuteTime": {
     "end_time": "2020-05-21T20:50:07.877006Z",
     "start_time": "2020-05-21T20:50:07.863531Z"
    },
    "colab": {},
    "colab_type": "code",
    "id": "tuV1U8jcJ1WG"
   },
   "outputs": [],
   "source": [
    "def plot_roc(name, labels, predictions, **kwargs):\n",
    "  fp, tp, _ = roc_curve(labels, predictions)\n",
    "\n",
    "  plt.plot(100*fp, 100*tp, label=name + ' (area = %0.2f)' % auc(fp, tp), linewidth=1.5, **kwargs)\n",
    "  plt.xlabel('False positives [%]')\n",
    "  plt.ylabel('True positives [%]')\n",
    "  plt.xlim([0,100.5])\n",
    "  plt.ylim([0,100.5])\n",
    "  plt.grid(True)\n",
    "  ax = plt.gca()\n",
    "  ax.set_aspect('equal')"
   ]
  },
  {
   "cell_type": "code",
   "execution_count": 20,
   "metadata": {
    "ExecuteTime": {
     "end_time": "2020-05-21T20:50:08.399036Z",
     "start_time": "2020-05-21T20:50:07.880499Z"
    },
    "colab": {
     "base_uri": "https://localhost:8080/",
     "height": 34
    },
    "colab_type": "code",
    "executionInfo": {
     "elapsed": 1508,
     "status": "ok",
     "timestamp": 1589212863809,
     "user": {
      "displayName": "Duong Hung",
      "photoUrl": "https://lh3.googleusercontent.com/a-/AOh14Ggfgs4FqFN7Yq3pQXoVHeQcc9w9kDV_fAGoQ3Nx4nk=s64",
      "userId": "01608720095171318435"
     },
     "user_tz": 300
    },
    "id": "gS6h-0G3J1WN",
    "outputId": "b164d038-a489-4aaa-8869-9fd59a9d66f5"
   },
   "outputs": [
    {
     "data": {
      "text/plain": [
       "<TensorSliceDataset shapes: ((150,), (1,)), types: (tf.float64, tf.int32)>"
      ]
     },
     "execution_count": 20,
     "metadata": {},
     "output_type": "execute_result"
    }
   ],
   "source": [
    "data_train = tf.data.Dataset.from_tensor_slices((X_train, y_train))\n",
    "data_train"
   ]
  },
  {
   "cell_type": "code",
   "execution_count": 21,
   "metadata": {
    "ExecuteTime": {
     "end_time": "2020-05-21T20:50:08.518317Z",
     "start_time": "2020-05-21T20:50:08.404026Z"
    },
    "colab": {
     "base_uri": "https://localhost:8080/",
     "height": 34
    },
    "colab_type": "code",
    "executionInfo": {
     "elapsed": 1497,
     "status": "ok",
     "timestamp": 1589212863810,
     "user": {
      "displayName": "Duong Hung",
      "photoUrl": "https://lh3.googleusercontent.com/a-/AOh14Ggfgs4FqFN7Yq3pQXoVHeQcc9w9kDV_fAGoQ3Nx4nk=s64",
      "userId": "01608720095171318435"
     },
     "user_tz": 300
    },
    "id": "ruuam0vyJ1WT",
    "outputId": "78563a28-99b6-48f3-f572-a6ab749a9e9c"
   },
   "outputs": [
    {
     "data": {
      "text/plain": [
       "<TensorSliceDataset shapes: ((150,), (1,)), types: (tf.float64, tf.int32)>"
      ]
     },
     "execution_count": 21,
     "metadata": {},
     "output_type": "execute_result"
    }
   ],
   "source": [
    "data_val = tf.data.Dataset.from_tensor_slices((X_val, y_val))\n",
    "data_val"
   ]
  },
  {
   "cell_type": "code",
   "execution_count": 22,
   "metadata": {
    "ExecuteTime": {
     "end_time": "2020-05-21T20:50:08.533286Z",
     "start_time": "2020-05-21T20:50:08.522306Z"
    },
    "colab": {
     "base_uri": "https://localhost:8080/",
     "height": 34
    },
    "colab_type": "code",
    "executionInfo": {
     "elapsed": 1481,
     "status": "ok",
     "timestamp": 1589212863811,
     "user": {
      "displayName": "Duong Hung",
      "photoUrl": "https://lh3.googleusercontent.com/a-/AOh14Ggfgs4FqFN7Yq3pQXoVHeQcc9w9kDV_fAGoQ3Nx4nk=s64",
      "userId": "01608720095171318435"
     },
     "user_tz": 300
    },
    "id": "XkkyFt4uJ1WZ",
    "outputId": "0b58a826-057b-4f6a-fad5-5977d5d47db2"
   },
   "outputs": [
    {
     "data": {
      "text/plain": [
       "array([-5.78753572])"
      ]
     },
     "execution_count": 22,
     "metadata": {},
     "output_type": "execute_result"
    }
   ],
   "source": [
    "initial_bias = np.log([pos/neg])\n",
    "initial_bias"
   ]
  },
  {
   "cell_type": "code",
   "execution_count": 23,
   "metadata": {
    "ExecuteTime": {
     "end_time": "2020-05-21T21:22:45.429511Z",
     "start_time": "2020-05-21T21:22:45.422024Z"
    },
    "colab": {},
    "colab_type": "code",
    "id": "3VS51FQTJ1Wk"
   },
   "outputs": [],
   "source": [
    "es = tf.keras.callbacks.EarlyStopping(monitor='val_auc', \n",
    "    verbose=1,\n",
    "    patience=20,\n",
    "    mode='max',\n",
    "    restore_best_weights=True)"
   ]
  },
  {
   "cell_type": "code",
   "execution_count": 24,
   "metadata": {
    "ExecuteTime": {
     "end_time": "2020-05-21T20:50:08.571713Z",
     "start_time": "2020-05-21T20:50:08.558738Z"
    },
    "colab": {},
    "colab_type": "code",
    "id": "CA3Zf0VHJ1Wo"
   },
   "outputs": [],
   "source": [
    "batch_size=2048\n",
    "data_train = data_train.shuffle(len(X_train)).batch(batch_size)\n",
    "data_val = data_val.shuffle(len(X_val)).batch(batch_size)"
   ]
  },
  {
   "cell_type": "code",
   "execution_count": 25,
   "metadata": {
    "ExecuteTime": {
     "end_time": "2020-05-21T20:50:08.583193Z",
     "start_time": "2020-05-21T20:50:08.576206Z"
    },
    "colab": {},
    "colab_type": "code",
    "id": "wOnyvd3jK739"
   },
   "outputs": [],
   "source": [
    "import time"
   ]
  },
  {
   "cell_type": "markdown",
   "metadata": {},
   "source": [
    "### Initial weights"
   ]
  },
  {
   "cell_type": "code",
   "execution_count": 26,
   "metadata": {
    "ExecuteTime": {
     "end_time": "2020-05-21T20:50:09.313344Z",
     "start_time": "2020-05-21T20:50:08.590678Z"
    }
   },
   "outputs": [
    {
     "data": {
      "text/plain": [
       "array([[0.00311799],\n",
       "       [0.00528466],\n",
       "       [0.00103418],\n",
       "       [0.00330786],\n",
       "       [0.00358931],\n",
       "       [0.00468287],\n",
       "       [0.00480542],\n",
       "       [0.00235316],\n",
       "       [0.00308255],\n",
       "       [0.00126995]], dtype=float32)"
      ]
     },
     "execution_count": 26,
     "metadata": {},
     "output_type": "execute_result"
    }
   ],
   "source": [
    "model = create_model(output_bias = initial_bias)\n",
    "model.predict(X_train[:10])"
   ]
  },
  {
   "cell_type": "code",
   "execution_count": 27,
   "metadata": {
    "ExecuteTime": {
     "end_time": "2020-05-21T20:50:12.091676Z",
     "start_time": "2020-05-21T20:50:09.316341Z"
    }
   },
   "outputs": [
    {
     "name": "stdout",
     "output_type": "stream",
     "text": [
      "Loss: 0.0297\n"
     ]
    }
   ],
   "source": [
    "results = model.evaluate(X_train, y_train, batch_size=2048, verbose=0)\n",
    "print(\"Loss: {:0.4f}\".format(results[0]))"
   ]
  },
  {
   "cell_type": "code",
   "execution_count": 28,
   "metadata": {
    "ExecuteTime": {
     "end_time": "2020-05-21T20:50:12.107148Z",
     "start_time": "2020-05-21T20:50:12.095670Z"
    }
   },
   "outputs": [],
   "source": [
    "import os\n",
    "import tempfile"
   ]
  },
  {
   "cell_type": "code",
   "execution_count": 29,
   "metadata": {
    "ExecuteTime": {
     "end_time": "2020-05-21T20:50:12.259865Z",
     "start_time": "2020-05-21T20:50:12.112637Z"
    }
   },
   "outputs": [],
   "source": [
    "initial_weights = os.path.join(tempfile.mkdtemp(),'initial_weights')\n",
    "model.save_weights(initial_weights)"
   ]
  },
  {
   "cell_type": "code",
   "execution_count": 30,
   "metadata": {
    "ExecuteTime": {
     "end_time": "2020-05-21T20:50:12.282323Z",
     "start_time": "2020-05-21T20:50:12.264357Z"
    }
   },
   "outputs": [],
   "source": [
    "def create_model2(nodes=20,actih='relu',actio='sigmoid',lr=1e-3,logits=False):\n",
    "    \n",
    "    #output_bias = tf.keras.initializers.Constant(initial_bias)\n",
    "    model = keras.Sequential()\n",
    "    model.add(keras.layers.Dense(nodes, activation=actih,input_dim=X_train.shape[1]))\n",
    "    model.add(keras.layers.Dropout(0.5))\n",
    "    model.add(keras.layers.Dense(1, activation=actio,bias_initializer=None))\n",
    "    \n",
    "    model.compile(optimizer=keras.optimizers.Adam(lr=lr),\n",
    "                  loss=keras.losses.BinaryCrossentropy(from_logits=logits),\n",
    "                  metrics=metrics)\n",
    "    model.load_weights(initial_weights)\n",
    "    return model"
   ]
  },
  {
   "cell_type": "markdown",
   "metadata": {
    "ExecuteTime": {
     "end_time": "2020-05-08T22:47:44.768449Z",
     "start_time": "2020-05-08T22:47:44.455029Z"
    },
    "colab_type": "text",
    "id": "loWcs-MKJ1XR"
   },
   "source": [
    "## Class weight"
   ]
  },
  {
   "cell_type": "markdown",
   "metadata": {
    "colab_type": "text",
    "id": "mDLuSQMabKFn"
   },
   "source": [
    "### Class weight estimation"
   ]
  },
  {
   "cell_type": "code",
   "execution_count": 31,
   "metadata": {
    "ExecuteTime": {
     "end_time": "2020-05-21T20:50:40.197519Z",
     "start_time": "2020-05-21T20:50:40.191031Z"
    },
    "colab": {
     "base_uri": "https://localhost:8080/",
     "height": 51
    },
    "colab_type": "code",
    "executionInfo": {
     "elapsed": 1399,
     "status": "ok",
     "timestamp": 1589212863815,
     "user": {
      "displayName": "Duong Hung",
      "photoUrl": "https://lh3.googleusercontent.com/a-/AOh14Ggfgs4FqFN7Yq3pQXoVHeQcc9w9kDV_fAGoQ3Nx4nk=s64",
      "userId": "01608720095171318435"
     },
     "user_tz": 300
    },
    "id": "y1tT_8gBbIl_",
    "outputId": "28410c3a-2595-4278-ed44-eca0b117068c"
   },
   "outputs": [
    {
     "name": "stdout",
     "output_type": "stream",
     "text": [
      "Weight for class 0: 0.50\n",
      "Weight for class 1: 163.60\n"
     ]
    }
   ],
   "source": [
    "# Scaling by total/2 helps keep the loss to a similar magnitude.\n",
    "# The sum of the weights of all examples stays the same.\n",
    "weight_for_0 = (1 / neg)*(total)/2.0 \n",
    "weight_for_1 = (1 / pos)*(total)/2.0\n",
    "\n",
    "class_weight = {0: weight_for_0, 1: weight_for_1}\n",
    "\n",
    "print('Weight for class 0: {:.2f}'.format(weight_for_0))\n",
    "print('Weight for class 1: {:.2f}'.format(weight_for_1))"
   ]
  },
  {
   "cell_type": "markdown",
   "metadata": {
    "colab_type": "text",
    "id": "-G092TzzbPWJ"
   },
   "source": [
    "### Run model with class weight"
   ]
  },
  {
   "cell_type": "code",
   "execution_count": 32,
   "metadata": {
    "ExecuteTime": {
     "end_time": "2020-05-21T20:54:15.219205Z",
     "start_time": "2020-05-21T20:51:05.062612Z"
    },
    "colab": {
     "base_uri": "https://localhost:8080/",
     "height": 802
    },
    "colab_type": "code",
    "executionInfo": {
     "elapsed": 79639,
     "status": "ok",
     "timestamp": 1589212942074,
     "user": {
      "displayName": "Duong Hung",
      "photoUrl": "https://lh3.googleusercontent.com/a-/AOh14Ggfgs4FqFN7Yq3pQXoVHeQcc9w9kDV_fAGoQ3Nx4nk=s64",
      "userId": "01608720095171318435"
     },
     "user_tz": 300
    },
    "id": "s1fC3msPblwo",
    "outputId": "a782bb12-0d03-44b5-f7e4-31e3e555cd3d",
    "scrolled": true
   },
   "outputs": [
    {
     "name": "stdout",
     "output_type": "stream",
     "text": [
      "Train for 153 steps, validate for 39 steps\n",
      "Epoch 1/100\n",
      "153/153 [==============================] - 7s 44ms/step - loss: 2.3056 - accuracy: 0.9838 - auc: 0.6387 - val_loss: 0.8367 - val_accuracy: 0.9775 - val_auc: 0.8948\n",
      "Epoch 2/100\n",
      "153/153 [==============================] - 4s 29ms/step - loss: 0.8647 - accuracy: 0.9277 - auc: 0.8421 - val_loss: 0.4974 - val_accuracy: 0.9348 - val_auc: 0.9242\n",
      "Epoch 3/100\n",
      "153/153 [==============================] - 4s 27ms/step - loss: 0.6746 - accuracy: 0.8992 - auc: 0.8798 - val_loss: 0.4269 - val_accuracy: 0.9175 - val_auc: 0.9337\n",
      "Epoch 4/100\n",
      "153/153 [==============================] - 5s 30ms/step - loss: 0.5645 - accuracy: 0.8951 - auc: 0.9021 - val_loss: 0.3811 - val_accuracy: 0.9232 - val_auc: 0.9417\n",
      "Epoch 5/100\n",
      "153/153 [==============================] - 4s 29ms/step - loss: 0.5087 - accuracy: 0.9041 - auc: 0.9163 - val_loss: 0.3494 - val_accuracy: 0.9238 - val_auc: 0.9482\n",
      "Epoch 6/100\n",
      "153/153 [==============================] - 4s 26ms/step - loss: 0.5033 - accuracy: 0.9009 - auc: 0.9141 - val_loss: 0.3280 - val_accuracy: 0.9227 - val_auc: 0.9521\n",
      "Epoch 7/100\n",
      "153/153 [==============================] - 4s 28ms/step - loss: 0.4563 - accuracy: 0.9038 - auc: 0.9229 - val_loss: 0.3222 - val_accuracy: 0.9261 - val_auc: 0.9541\n",
      "Epoch 8/100\n",
      "153/153 [==============================] - 4s 28ms/step - loss: 0.4434 - accuracy: 0.9057 - auc: 0.9267 - val_loss: 0.3140 - val_accuracy: 0.9271 - val_auc: 0.9555\n",
      "Epoch 9/100\n",
      "153/153 [==============================] - 4s 27ms/step - loss: 0.4679 - accuracy: 0.9074 - auc: 0.9212 - val_loss: 0.3164 - val_accuracy: 0.9212 - val_auc: 0.9557\n",
      "Epoch 10/100\n",
      "153/153 [==============================] - 4s 28ms/step - loss: 0.4188 - accuracy: 0.9077 - auc: 0.9316 - val_loss: 0.3136 - val_accuracy: 0.9279 - val_auc: 0.9563\n",
      "Epoch 11/100\n",
      "153/153 [==============================] - 4s 28ms/step - loss: 0.4184 - accuracy: 0.9081 - auc: 0.9326 - val_loss: 0.3051 - val_accuracy: 0.9236 - val_auc: 0.9559\n",
      "Epoch 12/100\n",
      "153/153 [==============================] - 5s 31ms/step - loss: 0.4156 - accuracy: 0.9079 - auc: 0.9333 - val_loss: 0.3053 - val_accuracy: 0.9271 - val_auc: 0.9556\n",
      "Epoch 13/100\n",
      "153/153 [==============================] - 4s 28ms/step - loss: 0.3786 - accuracy: 0.9119 - auc: 0.9417 - val_loss: 0.3020 - val_accuracy: 0.9290 - val_auc: 0.9562auc: 0.94\n",
      "Epoch 14/100\n",
      "153/153 [==============================] - 4s 28ms/step - loss: 0.3904 - accuracy: 0.9106 - auc: 0.9376 - val_loss: 0.2925 - val_accuracy: 0.9261 - val_auc: 0.9573\n",
      "Epoch 15/100\n",
      "153/153 [==============================] - 4s 27ms/step - loss: 0.3819 - accuracy: 0.9111 - auc: 0.9398 - val_loss: 0.2956 - val_accuracy: 0.9265 - val_auc: 0.9567\n",
      "Epoch 16/100\n",
      "153/153 [==============================] - 4s 27ms/step - loss: 0.3679 - accuracy: 0.9109 - auc: 0.9429 - val_loss: 0.2974 - val_accuracy: 0.9205 - val_auc: 0.9561\n",
      "Epoch 17/100\n",
      "153/153 [==============================] - 4s 27ms/step - loss: 0.3522 - accuracy: 0.9101 - auc: 0.9459 - val_loss: 0.2949 - val_accuracy: 0.9261 - val_auc: 0.9567\n",
      "Epoch 18/100\n",
      "153/153 [==============================] - 5s 31ms/step - loss: 0.3784 - accuracy: 0.9120 - auc: 0.9404 - val_loss: 0.2982 - val_accuracy: 0.9194 - val_auc: 0.9561\n",
      "Epoch 19/100\n",
      "153/153 [==============================] - 4s 27ms/step - loss: 0.3546 - accuracy: 0.9123 - auc: 0.9446 - val_loss: 0.2937 - val_accuracy: 0.9235 - val_auc: 0.9563\n",
      "Epoch 20/100\n",
      "153/153 [==============================] - 4s 28ms/step - loss: 0.3392 - accuracy: 0.9136 - auc: 0.9479 - val_loss: 0.2985 - val_accuracy: 0.9239 - val_auc: 0.9560\n",
      "Epoch 21/100\n",
      "153/153 [==============================] - 4s 27ms/step - loss: 0.3496 - accuracy: 0.9134 - auc: 0.9464 - val_loss: 0.2944 - val_accuracy: 0.9229 - val_auc: 0.9559\n",
      "Epoch 22/100\n",
      "153/153 [==============================] - 4s 28ms/step - loss: 0.3430 - accuracy: 0.9130 - auc: 0.9466 - val_loss: 0.2899 - val_accuracy: 0.9224 - val_auc: 0.9567: 0.3\n",
      "Epoch 23/100\n",
      "153/153 [==============================] - 4s 28ms/step - loss: 0.3327 - accuracy: 0.9100 - auc: 0.9501 - val_loss: 0.2940 - val_accuracy: 0.9235 - val_auc: 0.9560\n",
      "Epoch 24/100\n",
      "153/153 [==============================] - 4s 27ms/step - loss: 0.3195 - accuracy: 0.9160 - auc: 0.9528 - val_loss: 0.2959 - val_accuracy: 0.9233 - val_auc: 0.9557\n",
      "Epoch 25/100\n",
      "153/153 [==============================] - 4s 28ms/step - loss: 0.3219 - accuracy: 0.9127 - auc: 0.9514 - val_loss: 0.2945 - val_accuracy: 0.9271 - val_auc: 0.9557\n",
      "Epoch 26/100\n",
      "153/153 [==============================] - 4s 28ms/step - loss: 0.3156 - accuracy: 0.9162 - auc: 0.9538 - val_loss: 0.2949 - val_accuracy: 0.9193 - val_auc: 0.9550\n",
      "Epoch 27/100\n",
      "153/153 [==============================] - 4s 28ms/step - loss: 0.3116 - accuracy: 0.9113 - auc: 0.9546 - val_loss: 0.2961 - val_accuracy: 0.9198 - val_auc: 0.9546\n",
      "Epoch 28/100\n",
      "153/153 [==============================] - 4s 27ms/step - loss: 0.3209 - accuracy: 0.9113 - auc: 0.9516 - val_loss: 0.3045 - val_accuracy: 0.9220 - val_auc: 0.9555\n",
      "Epoch 29/100\n",
      "153/153 [==============================] - 4s 27ms/step - loss: 0.3134 - accuracy: 0.9138 - auc: 0.9532 - val_loss: 0.2980 - val_accuracy: 0.9257 - val_auc: 0.9546\n",
      "Epoch 30/100\n",
      "153/153 [==============================] - 4s 28ms/step - loss: 0.3264 - accuracy: 0.9138 - auc: 0.9506 - val_loss: 0.2998 - val_accuracy: 0.9197 - val_auc: 0.9541\n",
      "Epoch 31/100\n",
      "153/153 [==============================] - 4s 26ms/step - loss: 0.2966 - accuracy: 0.9174 - auc: 0.9573 - val_loss: 0.3000 - val_accuracy: 0.9240 - val_auc: 0.9541\n",
      "Epoch 32/100\n",
      "153/153 [==============================] - 4s 28ms/step - loss: 0.3072 - accuracy: 0.9160 - auc: 0.9547 - val_loss: 0.3010 - val_accuracy: 0.9245 - val_auc: 0.9543\n",
      "Epoch 33/100\n",
      "153/153 [==============================] - 4s 27ms/step - loss: 0.3006 - accuracy: 0.9163 - auc: 0.9571 - val_loss: 0.3044 - val_accuracy: 0.9261 - val_auc: 0.9535\n",
      "Epoch 34/100\n",
      "151/153 [============================>.] - ETA: 0s - loss: 0.3019 - accuracy: 0.9152 - auc: 0.9558 ETA: 0s - loss: 0.3025 - accuracy: Restoring model weights from the end of the best epoch.\n",
      "153/153 [==============================] - 4s 27ms/step - loss: 0.3032 - accuracy: 0.9153 - auc: 0.9556 - val_loss: 0.3019 - val_accuracy: 0.9229 - val_auc: 0.9534\n",
      "Epoch 00034: early stopping\n"
     ]
    },
    {
     "data": {
      "text/plain": [
       "147.03937911987305"
      ]
     },
     "execution_count": 32,
     "metadata": {},
     "output_type": "execute_result"
    }
   ],
   "source": [
    "start_time=time.time()\n",
    "wei_model=create_model2()\n",
    "Monitor = wei_model.fit(data_train, epochs=100,callbacks=[es],validation_data = data_val,class_weight=class_weight, verbose = 1)\n",
    "end_time=time.time()\n",
    "end_time-start_time"
   ]
  },
  {
   "cell_type": "code",
   "execution_count": 33,
   "metadata": {
    "ExecuteTime": {
     "end_time": "2020-05-21T20:54:16.092237Z",
     "start_time": "2020-05-21T20:54:15.222699Z"
    },
    "colab": {
     "base_uri": "https://localhost:8080/",
     "height": 534
    },
    "colab_type": "code",
    "executionInfo": {
     "elapsed": 80136,
     "status": "ok",
     "timestamp": 1589212942584,
     "user": {
      "displayName": "Duong Hung",
      "photoUrl": "https://lh3.googleusercontent.com/a-/AOh14Ggfgs4FqFN7Yq3pQXoVHeQcc9w9kDV_fAGoQ3Nx4nk=s64",
      "userId": "01608720095171318435"
     },
     "user_tz": 300
    },
    "id": "gbJOrd5cb8dr",
    "outputId": "31c9319c-6bb8-4250-b977-0f828684e420"
   },
   "outputs": [
    {
     "data": {
      "image/png": "[encoded data removed]",
      "text/plain": [
       "<Figure size 1500x600 with 2 Axes>"
      ]
     },
     "metadata": {
      "needs_background": "light"
     },
     "output_type": "display_data"
    }
   ],
   "source": [
    "hist = pd.DataFrame(Monitor.history)\n",
    "fig, axes = plt.subplots(nrows=1, ncols=2,figsize=(10,4),dpi=150)\n",
    "hist[['loss','val_loss']].plot(ax=axes[0])\n",
    "hist[['auc','val_auc']].plot(ax=axes[1])\n",
    "plt.show()"
   ]
  },
  {
   "cell_type": "markdown",
   "metadata": {
    "colab_type": "text",
    "id": "PGzf8FEoedp4"
   },
   "source": [
    "### Result\n"
   ]
  },
  {
   "cell_type": "code",
   "execution_count": 34,
   "metadata": {
    "ExecuteTime": {
     "end_time": "2020-05-21T20:54:26.326017Z",
     "start_time": "2020-05-21T20:54:16.095973Z"
    },
    "colab": {},
    "colab_type": "code",
    "id": "tNkmcPN9b8aA"
   },
   "outputs": [],
   "source": [
    "y_pred_train_b = wei_model.predict(X_train)\n",
    "y_pred_test_b = wei_model.predict(X_test)"
   ]
  },
  {
   "cell_type": "code",
   "execution_count": 35,
   "metadata": {
    "ExecuteTime": {
     "end_time": "2020-05-21T20:54:27.681796Z",
     "start_time": "2020-05-21T20:54:26.329968Z"
    },
    "colab": {
     "base_uri": "https://localhost:8080/",
     "height": 265
    },
    "colab_type": "code",
    "executionInfo": {
     "elapsed": 87565,
     "status": "ok",
     "timestamp": 1589212950043,
     "user": {
      "displayName": "Duong Hung",
      "photoUrl": "https://lh3.googleusercontent.com/a-/AOh14Ggfgs4FqFN7Yq3pQXoVHeQcc9w9kDV_fAGoQ3Nx4nk=s64",
      "userId": "01608720095171318435"
     },
     "user_tz": 300
    },
    "id": "g1AwenWlcgTC",
    "outputId": "a4a70811-abfe-43b4-c30e-1418753a6ff5"
   },
   "outputs": [
    {
     "data": {
      "image/png": "[encoded data removed]",
      "text/plain": [
       "<Figure size 432x288 with 1 Axes>"
      ]
     },
     "metadata": {
      "needs_background": "light"
     },
     "output_type": "display_data"
    }
   ],
   "source": [
    "plt.scatter(np.arange(len(y_test)),y_pred_test_b,s=0.1)\n",
    "plt.show()"
   ]
  },
  {
   "cell_type": "code",
   "execution_count": 36,
   "metadata": {
    "ExecuteTime": {
     "end_time": "2020-05-21T20:54:28.274005Z",
     "start_time": "2020-05-21T20:54:27.684793Z"
    },
    "colab": {
     "base_uri": "https://localhost:8080/",
     "height": 329
    },
    "colab_type": "code",
    "executionInfo": {
     "elapsed": 87816,
     "status": "ok",
     "timestamp": 1589212950314,
     "user": {
      "displayName": "Duong Hung",
      "photoUrl": "https://lh3.googleusercontent.com/a-/AOh14Ggfgs4FqFN7Yq3pQXoVHeQcc9w9kDV_fAGoQ3Nx4nk=s64",
      "userId": "01608720095171318435"
     },
     "user_tz": 300
    },
    "id": "5kiSMFi8b8Xp",
    "outputId": "d107db44-9db4-4e01-ddaf-54159c8a4beb"
   },
   "outputs": [
    {
     "name": "stdout",
     "output_type": "stream",
     "text": [
      "[[90137  7334]\n",
      " [   49   250]]\n",
      "              precision    recall  f1-score   support\n",
      "\n",
      "     Class 0       1.00      0.92      0.96     97471\n",
      "     Class 1       0.03      0.84      0.06       299\n",
      "\n",
      "    accuracy                           0.92     97770\n",
      "   macro avg       0.52      0.88      0.51     97770\n",
      "weighted avg       1.00      0.92      0.96     97770\n",
      "\n"
     ]
    },
    {
     "data": {
      "text/html": [
       "<div>\n",
       "<style scoped>\n",
       "    .dataframe tbody tr th:only-of-type {\n",
       "        vertical-align: middle;\n",
       "    }\n",
       "\n",
       "    .dataframe tbody tr th {\n",
       "        vertical-align: top;\n",
       "    }\n",
       "\n",
       "    .dataframe thead th {\n",
       "        text-align: right;\n",
       "    }\n",
       "</style>\n",
       "<table border=\"1\" class=\"dataframe\">\n",
       "  <thead>\n",
       "    <tr style=\"text-align: right;\">\n",
       "      <th></th>\n",
       "      <th>Precision</th>\n",
       "      <th>n_p</th>\n",
       "      <th>CI_p</th>\n",
       "      <th>Recall</th>\n",
       "      <th>n_r</th>\n",
       "      <th>CI_r</th>\n",
       "    </tr>\n",
       "  </thead>\n",
       "  <tbody>\n",
       "    <tr>\n",
       "      <th>0</th>\n",
       "      <td>99.945668</td>\n",
       "      <td>90186</td>\n",
       "      <td>0.015209</td>\n",
       "      <td>92.475711</td>\n",
       "      <td>97471</td>\n",
       "      <td>0.165602</td>\n",
       "    </tr>\n",
       "    <tr>\n",
       "      <th>1</th>\n",
       "      <td>3.296414</td>\n",
       "      <td>7584</td>\n",
       "      <td>0.401836</td>\n",
       "      <td>83.612040</td>\n",
       "      <td>299</td>\n",
       "      <td>4.195825</td>\n",
       "    </tr>\n",
       "    <tr>\n",
       "      <th>Global</th>\n",
       "      <td>92.448604</td>\n",
       "      <td>97770</td>\n",
       "      <td>0.165622</td>\n",
       "      <td>92.448604</td>\n",
       "      <td>97770</td>\n",
       "      <td>0.165622</td>\n",
       "    </tr>\n",
       "  </tbody>\n",
       "</table>\n",
       "</div>"
      ],
      "text/plain": [
       "        Precision    n_p      CI_p     Recall    n_r      CI_r\n",
       "0       99.945668  90186  0.015209  92.475711  97471  0.165602\n",
       "1        3.296414   7584  0.401836  83.612040    299  4.195825\n",
       "Global  92.448604  97770  0.165622  92.448604  97770  0.165622"
      ]
     },
     "execution_count": 36,
     "metadata": {},
     "output_type": "execute_result"
    }
   ],
   "source": [
    "show_cm(y_test,y_pred_test_b)"
   ]
  },
  {
   "cell_type": "code",
   "execution_count": 37,
   "metadata": {
    "ExecuteTime": {
     "end_time": "2020-05-21T20:54:28.678629Z",
     "start_time": "2020-05-21T20:54:28.277976Z"
    },
    "colab": {
     "base_uri": "https://localhost:8080/",
     "height": 499
    },
    "colab_type": "code",
    "executionInfo": {
     "elapsed": 1296,
     "status": "ok",
     "timestamp": 1589213180188,
     "user": {
      "displayName": "Duong Hung",
      "photoUrl": "https://lh3.googleusercontent.com/a-/AOh14Ggfgs4FqFN7Yq3pQXoVHeQcc9w9kDV_fAGoQ3Nx4nk=s64",
      "userId": "01608720095171318435"
     },
     "user_tz": 300
    },
    "id": "l3yBCZz7b8So",
    "outputId": "c6a139fd-2956-47d0-e10b-f8ee4d54f91e"
   },
   "outputs": [
    {
     "data": {
      "image/png": "[encoded data removed]",
      "text/plain": [
       "<Figure size 576x576 with 1 Axes>"
      ]
     },
     "metadata": {
      "needs_background": "light"
     },
     "output_type": "display_data"
    }
   ],
   "source": [
    "plt.figure(figsize=(8,8))\n",
    "plot_roc('Base model - train',y_train,y_pred_train_b)\n",
    "plot_roc('Base model - test',y_test,y_pred_test_b)\n",
    "plt.legend()\n",
    "plt.show()"
   ]
  },
  {
   "cell_type": "markdown",
   "metadata": {
    "colab_type": "text",
    "id": "iaw83EYPd20X"
   },
   "source": [
    "# Tuning parameters\n"
   ]
  },
  {
   "cell_type": "code",
   "execution_count": 38,
   "metadata": {
    "ExecuteTime": {
     "end_time": "2020-05-21T20:54:28.745489Z",
     "start_time": "2020-05-21T20:54:28.682123Z"
    },
    "colab": {
     "base_uri": "https://localhost:8080/",
     "height": 34
    },
    "colab_type": "code",
    "executionInfo": {
     "elapsed": 542,
     "status": "ok",
     "timestamp": 1589213605661,
     "user": {
      "displayName": "Duong Hung",
      "photoUrl": "https://lh3.googleusercontent.com/a-/AOh14Ggfgs4FqFN7Yq3pQXoVHeQcc9w9kDV_fAGoQ3Nx4nk=s64",
      "userId": "01608720095171318435"
     },
     "user_tz": 300
    },
    "id": "91RuQ-tob8Lt",
    "outputId": "8c7ccd57-0239-48ec-ec01-f64d6f119f52"
   },
   "outputs": [],
   "source": [
    "from tensorflow.keras.wrappers.scikit_learn import KerasClassifier\n",
    "from sklearn.model_selection import GridSearchCV,RandomizedSearchCV"
   ]
  },
  {
   "cell_type": "code",
   "execution_count": 39,
   "metadata": {
    "ExecuteTime": {
     "end_time": "2020-05-21T21:03:25.789999Z",
     "start_time": "2020-05-21T21:03:25.784509Z"
    },
    "colab": {},
    "colab_type": "code",
    "id": "Ijqe1QW9clTc"
   },
   "outputs": [],
   "source": [
    "learning_rates = [0.1,0.01,0.001]\n",
    "nodes = [5,10,20]\n",
    "batches=[1024,2048,4096]\n",
    "param_options = {'lr': learning_rates,'nodes': nodes,'batch_size':batches}     "
   ]
  },
  {
   "cell_type": "code",
   "execution_count": 43,
   "metadata": {
    "ExecuteTime": {
     "end_time": "2020-05-21T21:03:28.088963Z",
     "start_time": "2020-05-21T21:03:28.084967Z"
    }
   },
   "outputs": [],
   "source": [
    "scores={'BA':'balanced_accuracy','F1':'f1','AUC':'roc_auc'}"
   ]
  },
  {
   "cell_type": "code",
   "execution_count": null,
   "metadata": {
    "ExecuteTime": {
     "end_time": "2020-05-22T00:46:56.664071Z",
     "start_time": "2020-05-21T21:22:54.401397Z"
    },
    "colab": {
     "base_uri": "https://localhost:8080/",
     "height": 1000
    },
    "colab_type": "code",
    "id": "uetpo3uQfuSu",
    "outputId": "d2c9d310-5b2f-4ab7-8730-03f602afd365",
    "scrolled": true
   },
   "outputs": [
    {
     "name": "stdout",
     "output_type": "stream",
     "text": [
      "WARNING:tensorflow:sample_weight modes were coerced from\n",
      "  ...\n",
      "    to  \n",
      "  ['...']\n",
      "WARNING:tensorflow:sample_weight modes were coerced from\n",
      "  ...\n",
      "    to  \n",
      "  ['...']\n",
      "Train on 250290 samples, validate on 78216 samples\n",
      "Epoch 1/100\n",
      "250290/250290 [==============================] - 5s 18us/sample - loss: 0.8452 - accuracy: 0.7886 - auc: 0.7495 - val_loss: 0.5297 - val_accuracy: 0.9134 - val_auc: 0.9129\n",
      "Epoch 2/100\n",
      "250290/250290 [==============================] - 2s 9us/sample - loss: 0.7459 - accuracy: 0.8690 - auc: 0.7861 - val_loss: 0.4284 - val_accuracy: 0.7571 - val_auc: 0.9427\n",
      "Epoch 3/100\n",
      "250290/250290 [==============================] - 2s 9us/sample - loss: 0.6300 - accuracy: 0.7725 - auc: 0.8281 - val_loss: 0.6482 - val_accuracy: 0.9247 - val_auc: 0.8818\n",
      "Epoch 4/100\n",
      "250290/250290 [==============================] - 2s 9us/sample - loss: 0.8527 - accuracy: 0.5081 - auc: 0.7672 - val_loss: 1.1277 - val_accuracy: 0.5877 - val_auc: 0.7809\n",
      "Epoch 5/100\n",
      "250290/250290 [==============================] - 2s 9us/sample - loss: 1.1729 - accuracy: 0.4101 - auc: 0.6856 - val_loss: 1.2473 - val_accuracy: 0.5651 - val_auc: 0.7618\n",
      "Epoch 6/100\n",
      "250290/250290 [==============================] - 2s 9us/sample - loss: 0.8083 - accuracy: 0.3897 - auc: 0.6859 - val_loss: 1.0504 - val_accuracy: 0.5773 - val_auc: 0.7721\n",
      "Epoch 7/100\n",
      "250290/250290 [==============================] - 2s 10us/sample - loss: 0.7756 - accuracy: 0.3673 - auc: 0.6685 - val_loss: 1.5855 - val_accuracy: 0.5599 - val_auc: 0.7627\n",
      "Epoch 8/100\n",
      "250290/250290 [==============================] - 2s 9us/sample - loss: 0.8256 - accuracy: 0.3676 - auc: 0.6775 - val_loss: 1.4763 - val_accuracy: 0.5412 - val_auc: 0.7581\n",
      "Epoch 9/100\n",
      "250290/250290 [==============================] - 2s 10us/sample - loss: 0.6583 - accuracy: 0.3904 - auc: 0.6913 - val_loss: 1.3681 - val_accuracy: 0.5406 - val_auc: 0.7591\n",
      "Epoch 10/100\n",
      "250290/250290 [==============================] - 2s 9us/sample - loss: 1.0219 - accuracy: 0.3282 - auc: 0.6508 - val_loss: 0.9856 - val_accuracy: 0.5201 - val_auc: 0.7476\n",
      "Epoch 11/100\n",
      "250290/250290 [==============================] - 2s 9us/sample - loss: 0.5913 - accuracy: 0.3569 - auc: 0.6667 - val_loss: 0.9566 - val_accuracy: 0.5546 - val_auc: 0.7637\n",
      "Epoch 12/100\n",
      "250290/250290 [==============================] - 2s 8us/sample - loss: 0.6359 - accuracy: 0.3977 - auc: 0.7007 - val_loss: 0.6525 - val_accuracy: 0.5698 - val_auc: 0.7773\n",
      "Epoch 13/100\n",
      "250290/250290 [==============================] - 2s 9us/sample - loss: 0.5508 - accuracy: 0.3840 - auc: 0.6838 - val_loss: 0.8697 - val_accuracy: 0.5907 - val_auc: 0.7851\n",
      "Epoch 14/100\n",
      "250290/250290 [==============================] - 2s 9us/sample - loss: 0.6640 - accuracy: 0.3831 - auc: 0.6862 - val_loss: 1.4292 - val_accuracy: 0.5711 - val_auc: 0.7716\n",
      "Epoch 15/100\n",
      "250290/250290 [==============================] - 3s 10us/sample - loss: 0.6370 - accuracy: 0.3941 - auc: 0.6865 - val_loss: 1.3623 - val_accuracy: 0.5757 - val_auc: 0.7763\n",
      "Epoch 16/100\n",
      "250290/250290 [==============================] - 3s 12us/sample - loss: 0.7139 - accuracy: 0.3868 - auc: 0.6945 - val_loss: 2.0186 - val_accuracy: 0.5910 - val_auc: 0.7826\n",
      "Epoch 17/100\n",
      "250290/250290 [==============================] - 3s 10us/sample - loss: 0.6076 - accuracy: 0.4046 - auc: 0.7027 - val_loss: 1.9683 - val_accuracy: 0.5853 - val_auc: 0.7777\n",
      "Epoch 18/100\n",
      "250290/250290 [==============================] - 3s 11us/sample - loss: 0.5692 - accuracy: 0.3978 - auc: 0.7028 - val_loss: 2.0501 - val_accuracy: 0.6073 - val_auc: 0.7874\n",
      "Epoch 19/100\n",
      "250290/250290 [==============================] - 2s 9us/sample - loss: 0.7277 - accuracy: 0.4136 - auc: 0.7019 - val_loss: 0.8331 - val_accuracy: 0.6391 - val_auc: 0.8015\n",
      "Epoch 20/100\n",
      "250290/250290 [==============================] - 2s 9us/sample - loss: 0.5569 - accuracy: 0.4104 - auc: 0.7013 - val_loss: 1.3567 - val_accuracy: 0.6138 - val_auc: 0.7884\n",
      "Epoch 21/100\n",
      "250290/250290 [==============================] - 2s 9us/sample - loss: 0.5740 - accuracy: 0.4103 - auc: 0.6980 - val_loss: 1.5738 - val_accuracy: 0.6131 - val_auc: 0.7959\n",
      "Epoch 22/100\n",
      "245760/250290 [============================>.] - ETA: 0s - loss: 0.5420 - accuracy: 0.4146 - auc: 0.7020Restoring model weights from the end of the best epoch.\n",
      "250290/250290 [==============================] - 2s 9us/sample - loss: 0.5407 - accuracy: 0.4146 - auc: 0.7012 - val_loss: 1.4532 - val_accuracy: 0.6184 - val_auc: 0.7978\n",
      "Epoch 00022: early stopping\n",
      "WARNING:tensorflow:sample_weight modes were coerced from\n",
      "  ...\n",
      "    to  \n",
      "  ['...']\n",
      "WARNING:tensorflow:sample_weight modes were coerced from\n",
      "  ...\n",
      "    to  \n",
      "  ['...']\n",
      "Train on 250290 samples, validate on 78216 samples\n",
      "Epoch 1/100\n",
      "250290/250290 [==============================] - 5s 20us/sample - loss: 0.6401 - accuracy: 0.8723 - auc: 0.7812 - val_loss: 0.3814 - val_accuracy: 0.8911 - val_auc: 0.9410\n",
      "Epoch 2/100\n",
      "250290/250290 [==============================] - 3s 10us/sample - loss: 0.6527 - accuracy: 0.9160 - auc: 0.7447 - val_loss: 0.6496 - val_accuracy: 0.9638 - val_auc: 0.7708\n",
      "Epoch 3/100\n",
      "250290/250290 [==============================] - 3s 10us/sample - loss: 0.8904 - accuracy: 0.5549 - auc: 0.6655 - val_loss: 0.7842 - val_accuracy: 0.9603 - val_auc: 0.7741\n",
      "Epoch 4/100\n",
      "250290/250290 [==============================] - 2s 10us/sample - loss: 1.1331 - accuracy: 0.5743 - auc: 0.6558 - val_loss: 1.1400 - val_accuracy: 0.1996 - val_auc: 0.6126\n",
      "Epoch 5/100\n",
      "250290/250290 [==============================] - 3s 10us/sample - loss: 0.7627 - accuracy: 0.4980 - auc: 0.6852 - val_loss: 0.6687 - val_accuracy: 0.9504 - val_auc: 0.8019\n",
      "Epoch 6/100\n",
      "250290/250290 [==============================] - 3s 11us/sample - loss: 0.5790 - accuracy: 0.6260 - auc: 0.7139 - val_loss: 0.6322 - val_accuracy: 0.9887 - val_auc: 0.8253\n",
      "Epoch 7/100\n",
      "250290/250290 [==============================] - 3s 10us/sample - loss: 0.6172 - accuracy: 0.6204 - auc: 0.7263 - val_loss: 0.8923 - val_accuracy: 0.4946 - val_auc: 0.8152\n",
      "Epoch 8/100\n",
      "250290/250290 [==============================] - 2s 9us/sample - loss: 0.6027 - accuracy: 0.3448 - auc: 0.7089 - val_loss: 0.9131 - val_accuracy: 0.5329 - val_auc: 0.8310\n",
      "Epoch 9/100\n",
      "250290/250290 [==============================] - 2s 9us/sample - loss: 0.6295 - accuracy: 0.3501 - auc: 0.6947 - val_loss: 1.2085 - val_accuracy: 0.5237 - val_auc: 0.7790\n",
      "Epoch 10/100\n",
      "250290/250290 [==============================] - 3s 11us/sample - loss: 0.6306 - accuracy: 0.3639 - auc: 0.7003 - val_loss: 1.4604 - val_accuracy: 0.5282 - val_auc: 0.8081\n",
      "Epoch 11/100\n",
      "250290/250290 [==============================] - 3s 11us/sample - loss: 0.6970 - accuracy: 0.3582 - auc: 0.7045 - val_loss: 1.5442 - val_accuracy: 0.5305 - val_auc: 0.7552\n",
      "Epoch 12/100\n",
      "250290/250290 [==============================] - 2s 10us/sample - loss: 0.5807 - accuracy: 0.3473 - auc: 0.6608 - val_loss: 1.1652 - val_accuracy: 0.5434 - val_auc: 0.7578\n",
      "Epoch 13/100\n",
      "250290/250290 [==============================] - 2s 8us/sample - loss: 0.6399 - accuracy: 0.3640 - auc: 0.6802 - val_loss: 1.4121 - val_accuracy: 0.5656 - val_auc: 0.7685\n",
      "Epoch 14/100\n",
      "250290/250290 [==============================] - 2s 8us/sample - loss: 0.5532 - accuracy: 0.4053 - auc: 0.6925 - val_loss: 1.3022 - val_accuracy: 0.5787 - val_auc: 0.7755\n",
      "Epoch 15/100\n",
      "250290/250290 [==============================] - 2s 8us/sample - loss: 0.5537 - accuracy: 0.3897 - auc: 0.6937 - val_loss: 1.1859 - val_accuracy: 0.5885 - val_auc: 0.7835\n",
      "Epoch 16/100\n",
      "250290/250290 [==============================] - 2s 8us/sample - loss: 0.5599 - accuracy: 0.3944 - auc: 0.6883 - val_loss: 0.8695 - val_accuracy: 0.6084 - val_auc: 0.7898\n",
      "Epoch 17/100\n",
      "250290/250290 [==============================] - 2s 10us/sample - loss: 0.5673 - accuracy: 0.4205 - auc: 0.7019 - val_loss: 0.9181 - val_accuracy: 0.6482 - val_auc: 0.8145\n",
      "Epoch 18/100\n",
      "220160/250290 [=========================>....] - ETA: 0s - loss: 0.6091 - accuracy: 0.4196 - auc: 0.7172"
     ]
    }
   ],
   "source": [
    "model= KerasClassifier(build_fn = create_model)\n",
    "grid = GridSearchCV(estimator=model, \n",
    "                    param_grid=param_options,\n",
    "                    scoring=scores,\n",
    "                    refit='AUC'\n",
    "                   )\n",
    "\n",
    "start_time=time.time()\n",
    "\n",
    "grid_result = grid.fit(X_train, y_train,\n",
    "                       callbacks=[es],\n",
    "                       epochs=100,\n",
    "                       class_weight=class_weight,\n",
    "                       validation_data = (X_val,y_val),verbose = 1)\n",
    "end_time=time.time()\n",
    "print('END')\n",
    "print((end_time-start_time)/60)\n",
    "print('minutes')"
   ]
  },
  {
   "cell_type": "code",
   "execution_count": null,
   "metadata": {
    "ExecuteTime": {
     "end_time": "2020-05-22T00:47:00.047503Z",
     "start_time": "2020-05-22T00:46:56.904333Z"
    },
    "colab": {},
    "colab_type": "code",
    "id": "J_IMch4MjhLO"
   },
   "outputs": [],
   "source": [
    "pd.DataFrame.from_dict(grid_result.cv_results_).to_excel('GS_weights_3metrics.xlsx')"
   ]
  },
  {
   "cell_type": "code",
   "execution_count": null,
   "metadata": {},
   "outputs": [],
   "source": []
  }
 ],
 "metadata": {
  "colab": {
   "name": "VCA-ID-Tuning for weight.ipynb",
   "provenance": [
    {
     "file_id": "1feXHQjiqioLl47_p65uRpdSv6vX9EnAr",
     "timestamp": 1589212555597
    }
   ],
   "toc_visible": true
  },
  "kernelspec": {
   "display_name": "Python 3",
   "language": "python",
   "name": "python3"
  },
  "language_info": {
   "codemirror_mode": {
    "name": "ipython",
    "version": 3
   },
   "file_extension": ".py",
   "mimetype": "text/x-python",
   "name": "python",
   "nbconvert_exporter": "python",
   "pygments_lexer": "ipython3",
   "version": "3.7.7"
  },
  "toc": {
   "base_numbering": 1,
   "nav_menu": {},
   "number_sections": true,
   "sideBar": true,
   "skip_h1_title": false,
   "title_cell": "Table of Contents",
   "title_sidebar": "Contents",
   "toc_cell": false,
   "toc_position": {},
   "toc_section_display": true,
   "toc_window_display": true
  }
 },
 "nbformat": 4,
 "nbformat_minor": 1
}
