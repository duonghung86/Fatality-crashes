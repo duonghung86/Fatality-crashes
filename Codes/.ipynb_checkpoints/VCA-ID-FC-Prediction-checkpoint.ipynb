{
 "cells": [
  {
   "cell_type": "code",
   "execution_count": 82,
   "metadata": {
    "ExecuteTime": {
     "end_time": "2020-05-22T14:29:05.515319Z",
     "start_time": "2020-05-22T14:29:05.063159Z"
    },
    "colab": {
     "base_uri": "https://localhost:8080/",
     "height": 51
    },
    "colab_type": "code",
    "executionInfo": {
     "elapsed": 3665,
     "status": "ok",
     "timestamp": 1589207646038,
     "user": {
      "displayName": "Duong Hung",
      "photoUrl": "https://lh3.googleusercontent.com/a-/AOh14Ggfgs4FqFN7Yq3pQXoVHeQcc9w9kDV_fAGoQ3Nx4nk=s64",
      "userId": "01608720095171318435"
     },
     "user_tz": 300
    },
    "id": "1QxOQkOlJ1S_",
    "outputId": "35810555-ae3a-4fb8-cfb6-470d3faf7920"
   },
   "outputs": [],
   "source": [
    "# Basic packages\n",
    "import matplotlib.pyplot as plt\n",
    "import numpy as np\n",
    "import pandas as pd"
   ]
  },
  {
   "cell_type": "markdown",
   "metadata": {
    "colab_type": "text",
    "id": "Cq34ehtsJ1Th"
   },
   "source": [
    "# Import dataset"
   ]
  },
  {
   "cell_type": "code",
   "execution_count": 83,
   "metadata": {
    "ExecuteTime": {
     "end_time": "2020-05-22T14:29:05.548237Z",
     "start_time": "2020-05-22T14:29:05.518791Z"
    },
    "colab": {},
    "colab_type": "code",
    "id": "zIfnkmMfKLN-"
   },
   "outputs": [],
   "source": [
    "from io import StringIO\n",
    "from io import BytesIO\n",
    "from zipfile import ZipFile\n",
    "import urllib.request"
   ]
  },
  {
   "cell_type": "code",
   "execution_count": 84,
   "metadata": {
    "ExecuteTime": {
     "end_time": "2020-05-22T14:29:07.966002Z",
     "start_time": "2020-05-22T14:29:05.552232Z"
    }
   },
   "outputs": [],
   "source": [
    "link='https://github.com/duonghung86/Fatality-crashes/raw/master/Codes/final%20data.zip'\n",
    "url = urllib.request.urlopen(link)"
   ]
  },
  {
   "cell_type": "code",
   "execution_count": 85,
   "metadata": {
    "ExecuteTime": {
     "end_time": "2020-05-22T14:29:11.264379Z",
     "start_time": "2020-05-22T14:29:07.970993Z"
    }
   },
   "outputs": [],
   "source": [
    "with ZipFile(BytesIO(url.read())) as my_zip_file:\n",
    "    for contained_file in my_zip_file.namelist():\n",
    "        fzip=my_zip_file.open(contained_file)\n",
    "        data=fzip.read()\n",
    "\n",
    "s=str(data,'utf-8')\n",
    "data = StringIO(s)"
   ]
  },
  {
   "cell_type": "code",
   "execution_count": 86,
   "metadata": {
    "ExecuteTime": {
     "end_time": "2020-05-22T14:29:43.016519Z",
     "start_time": "2020-05-22T14:29:11.267873Z"
    },
    "colab": {
     "base_uri": "https://localhost:8080/",
     "height": 34
    },
    "colab_type": "code",
    "executionInfo": {
     "elapsed": 621,
     "status": "ok",
     "timestamp": 1589207744775,
     "user": {
      "displayName": "Duong Hung",
      "photoUrl": "https://lh3.googleusercontent.com/a-/AOh14Ggfgs4FqFN7Yq3pQXoVHeQcc9w9kDV_fAGoQ3Nx4nk=s64",
      "userId": "01608720095171318435"
     },
     "user_tz": 300
    },
    "id": "_v04MZq4J1To",
    "outputId": "471d2846-2d0a-4139-9471-8903b6130bb1"
   },
   "outputs": [
    {
     "name": "stdout",
     "output_type": "stream",
     "text": [
      "(488849, 151)\n"
     ]
    },
    {
     "data": {
      "text/html": [
       "<div>\n",
       "<style scoped>\n",
       "    .dataframe tbody tr th:only-of-type {\n",
       "        vertical-align: middle;\n",
       "    }\n",
       "\n",
       "    .dataframe tbody tr th {\n",
       "        vertical-align: top;\n",
       "    }\n",
       "\n",
       "    .dataframe thead th {\n",
       "        text-align: right;\n",
       "    }\n",
       "</style>\n",
       "<table border=\"1\" class=\"dataframe\">\n",
       "  <thead>\n",
       "    <tr style=\"text-align: right;\">\n",
       "      <th></th>\n",
       "      <th>Prsn_Injry_Sev_ID</th>\n",
       "      <th>Unit_Nbr</th>\n",
       "      <th>Prsn_Age</th>\n",
       "      <th>Toll_Road_Fl</th>\n",
       "      <th>Crash_Speed_Limit</th>\n",
       "      <th>Road_Constr_Zone_Fl</th>\n",
       "      <th>Road_Constr_Zone_Wrkr_Fl</th>\n",
       "      <th>At_Intrsct_Fl</th>\n",
       "      <th>Latitude</th>\n",
       "      <th>Longitude</th>\n",
       "      <th>...</th>\n",
       "      <th>Traffic_Cntl_ID_SIGNAL LIGHT WITH RED LIGHT RUNNING CAMERA</th>\n",
       "      <th>Traffic_Cntl_ID_STOP SIGN</th>\n",
       "      <th>Traffic_Cntl_ID_WARNING SIGN</th>\n",
       "      <th>Unit_Desc_ID_MOTOR VEHICLE</th>\n",
       "      <th>Unit_Desc_ID_MOTORIZED CONVEYANCE</th>\n",
       "      <th>Unit_Desc_ID_NON-CONTACT</th>\n",
       "      <th>Unit_Desc_ID_OTHER (EXPLAIN IN NARRATIVE)</th>\n",
       "      <th>Unit_Desc_ID_PEDALCYCLIST</th>\n",
       "      <th>Unit_Desc_ID_PEDESTRIAN</th>\n",
       "      <th>Unit_Desc_ID_TOWED/PUSHED/TRAILER</th>\n",
       "    </tr>\n",
       "  </thead>\n",
       "  <tbody>\n",
       "    <tr>\n",
       "      <th>0</th>\n",
       "      <td>0</td>\n",
       "      <td>1</td>\n",
       "      <td>48.0</td>\n",
       "      <td>0</td>\n",
       "      <td>35</td>\n",
       "      <td>0</td>\n",
       "      <td>0</td>\n",
       "      <td>0</td>\n",
       "      <td>30.660685</td>\n",
       "      <td>-93.893906</td>\n",
       "      <td>...</td>\n",
       "      <td>0</td>\n",
       "      <td>0</td>\n",
       "      <td>0</td>\n",
       "      <td>1</td>\n",
       "      <td>0</td>\n",
       "      <td>0</td>\n",
       "      <td>0</td>\n",
       "      <td>0</td>\n",
       "      <td>0</td>\n",
       "      <td>0</td>\n",
       "    </tr>\n",
       "    <tr>\n",
       "      <th>1</th>\n",
       "      <td>2</td>\n",
       "      <td>2</td>\n",
       "      <td>58.0</td>\n",
       "      <td>0</td>\n",
       "      <td>35</td>\n",
       "      <td>0</td>\n",
       "      <td>0</td>\n",
       "      <td>0</td>\n",
       "      <td>30.660685</td>\n",
       "      <td>-93.893906</td>\n",
       "      <td>...</td>\n",
       "      <td>0</td>\n",
       "      <td>0</td>\n",
       "      <td>0</td>\n",
       "      <td>1</td>\n",
       "      <td>0</td>\n",
       "      <td>0</td>\n",
       "      <td>0</td>\n",
       "      <td>0</td>\n",
       "      <td>0</td>\n",
       "      <td>0</td>\n",
       "    </tr>\n",
       "    <tr>\n",
       "      <th>2</th>\n",
       "      <td>0</td>\n",
       "      <td>1</td>\n",
       "      <td>68.0</td>\n",
       "      <td>0</td>\n",
       "      <td>45</td>\n",
       "      <td>0</td>\n",
       "      <td>0</td>\n",
       "      <td>1</td>\n",
       "      <td>33.203920</td>\n",
       "      <td>-96.596654</td>\n",
       "      <td>...</td>\n",
       "      <td>0</td>\n",
       "      <td>0</td>\n",
       "      <td>0</td>\n",
       "      <td>1</td>\n",
       "      <td>0</td>\n",
       "      <td>0</td>\n",
       "      <td>0</td>\n",
       "      <td>0</td>\n",
       "      <td>0</td>\n",
       "      <td>0</td>\n",
       "    </tr>\n",
       "    <tr>\n",
       "      <th>3</th>\n",
       "      <td>0</td>\n",
       "      <td>3</td>\n",
       "      <td>67.0</td>\n",
       "      <td>0</td>\n",
       "      <td>45</td>\n",
       "      <td>0</td>\n",
       "      <td>0</td>\n",
       "      <td>1</td>\n",
       "      <td>33.203920</td>\n",
       "      <td>-96.596654</td>\n",
       "      <td>...</td>\n",
       "      <td>0</td>\n",
       "      <td>0</td>\n",
       "      <td>0</td>\n",
       "      <td>1</td>\n",
       "      <td>0</td>\n",
       "      <td>0</td>\n",
       "      <td>0</td>\n",
       "      <td>0</td>\n",
       "      <td>0</td>\n",
       "      <td>0</td>\n",
       "    </tr>\n",
       "    <tr>\n",
       "      <th>4</th>\n",
       "      <td>0</td>\n",
       "      <td>1</td>\n",
       "      <td>36.0</td>\n",
       "      <td>0</td>\n",
       "      <td>35</td>\n",
       "      <td>0</td>\n",
       "      <td>0</td>\n",
       "      <td>1</td>\n",
       "      <td>29.792394</td>\n",
       "      <td>-95.746539</td>\n",
       "      <td>...</td>\n",
       "      <td>0</td>\n",
       "      <td>0</td>\n",
       "      <td>1</td>\n",
       "      <td>1</td>\n",
       "      <td>0</td>\n",
       "      <td>0</td>\n",
       "      <td>0</td>\n",
       "      <td>0</td>\n",
       "      <td>0</td>\n",
       "      <td>0</td>\n",
       "    </tr>\n",
       "  </tbody>\n",
       "</table>\n",
       "<p>5 rows × 151 columns</p>\n",
       "</div>"
      ],
      "text/plain": [
       "   Prsn_Injry_Sev_ID  Unit_Nbr  Prsn_Age  Toll_Road_Fl  Crash_Speed_Limit  \\\n",
       "0                  0         1      48.0             0                 35   \n",
       "1                  2         2      58.0             0                 35   \n",
       "2                  0         1      68.0             0                 45   \n",
       "3                  0         3      67.0             0                 45   \n",
       "4                  0         1      36.0             0                 35   \n",
       "\n",
       "   Road_Constr_Zone_Fl  Road_Constr_Zone_Wrkr_Fl  At_Intrsct_Fl   Latitude  \\\n",
       "0                    0                         0              0  30.660685   \n",
       "1                    0                         0              0  30.660685   \n",
       "2                    0                         0              1  33.203920   \n",
       "3                    0                         0              1  33.203920   \n",
       "4                    0                         0              1  29.792394   \n",
       "\n",
       "   Longitude  ...  Traffic_Cntl_ID_SIGNAL LIGHT WITH RED LIGHT RUNNING CAMERA  \\\n",
       "0 -93.893906  ...                                                  0            \n",
       "1 -93.893906  ...                                                  0            \n",
       "2 -96.596654  ...                                                  0            \n",
       "3 -96.596654  ...                                                  0            \n",
       "4 -95.746539  ...                                                  0            \n",
       "\n",
       "   Traffic_Cntl_ID_STOP SIGN  Traffic_Cntl_ID_WARNING SIGN  \\\n",
       "0                          0                             0   \n",
       "1                          0                             0   \n",
       "2                          0                             0   \n",
       "3                          0                             0   \n",
       "4                          0                             1   \n",
       "\n",
       "   Unit_Desc_ID_MOTOR VEHICLE  Unit_Desc_ID_MOTORIZED CONVEYANCE  \\\n",
       "0                           1                                  0   \n",
       "1                           1                                  0   \n",
       "2                           1                                  0   \n",
       "3                           1                                  0   \n",
       "4                           1                                  0   \n",
       "\n",
       "   Unit_Desc_ID_NON-CONTACT  Unit_Desc_ID_OTHER (EXPLAIN IN NARRATIVE)  \\\n",
       "0                         0                                          0   \n",
       "1                         0                                          0   \n",
       "2                         0                                          0   \n",
       "3                         0                                          0   \n",
       "4                         0                                          0   \n",
       "\n",
       "   Unit_Desc_ID_PEDALCYCLIST  Unit_Desc_ID_PEDESTRIAN  \\\n",
       "0                          0                        0   \n",
       "1                          0                        0   \n",
       "2                          0                        0   \n",
       "3                          0                        0   \n",
       "4                          0                        0   \n",
       "\n",
       "   Unit_Desc_ID_TOWED/PUSHED/TRAILER  \n",
       "0                                  0  \n",
       "1                                  0  \n",
       "2                                  0  \n",
       "3                                  0  \n",
       "4                                  0  \n",
       "\n",
       "[5 rows x 151 columns]"
      ]
     },
     "execution_count": 86,
     "metadata": {},
     "output_type": "execute_result"
    }
   ],
   "source": [
    "df=pd.read_csv(data)\n",
    "print(df.shape)\n",
    "df.head()"
   ]
  },
  {
   "cell_type": "code",
   "execution_count": 87,
   "metadata": {
    "ExecuteTime": {
     "end_time": "2020-05-22T14:29:43.335818Z",
     "start_time": "2020-05-22T14:29:43.023506Z"
    },
    "colab": {
     "base_uri": "https://localhost:8080/",
     "height": 34
    },
    "colab_type": "code",
    "executionInfo": {
     "elapsed": 703,
     "status": "ok",
     "timestamp": 1589207746990,
     "user": {
      "displayName": "Duong Hung",
      "photoUrl": "https://lh3.googleusercontent.com/a-/AOh14Ggfgs4FqFN7Yq3pQXoVHeQcc9w9kDV_fAGoQ3Nx4nk=s64",
      "userId": "01608720095171318435"
     },
     "user_tz": 300
    },
    "id": "0yIHRk4sJ1Tx",
    "outputId": "a3f2cf09-52db-4b07-8f87-7b7af9644f41"
   },
   "outputs": [
    {
     "data": {
      "text/plain": [
       "array([0, 0, 0, ..., 0, 0, 0])"
      ]
     },
     "execution_count": 87,
     "metadata": {},
     "output_type": "execute_result"
    }
   ],
   "source": [
    "y=np.where(df['Prsn_Injry_Sev_ID']==4,1,0)\n",
    "y"
   ]
  },
  {
   "cell_type": "code",
   "execution_count": 88,
   "metadata": {
    "ExecuteTime": {
     "end_time": "2020-05-22T14:29:43.388721Z",
     "start_time": "2020-05-22T14:29:43.346799Z"
    },
    "colab": {
     "base_uri": "https://localhost:8080/",
     "height": 85
    },
    "colab_type": "code",
    "executionInfo": {
     "elapsed": 736,
     "status": "ok",
     "timestamp": 1589207749685,
     "user": {
      "displayName": "Duong Hung",
      "photoUrl": "https://lh3.googleusercontent.com/a-/AOh14Ggfgs4FqFN7Yq3pQXoVHeQcc9w9kDV_fAGoQ3Nx4nk=s64",
      "userId": "01608720095171318435"
     },
     "user_tz": 300
    },
    "id": "0Ba_lXcHJ1UI",
    "outputId": "af00ef69-a534-4cb9-c9a4-cd9f3fcb5cc9"
   },
   "outputs": [
    {
     "name": "stdout",
     "output_type": "stream",
     "text": [
      "Examples:\n",
      "    Total: 488849\n",
      "    Positive: 1494 (0.31% of total)\n",
      "\n"
     ]
    }
   ],
   "source": [
    "neg, pos = np.bincount(y)\n",
    "total = neg + pos\n",
    "print('Examples:\\n    Total: {}\\n    Positive: {} ({:.2f}% of total)\\n'.format(total, pos, 100 * pos / total))"
   ]
  },
  {
   "cell_type": "code",
   "execution_count": 89,
   "metadata": {
    "ExecuteTime": {
     "end_time": "2020-05-22T14:29:45.795376Z",
     "start_time": "2020-05-22T14:29:43.397206Z"
    },
    "colab": {
     "base_uri": "https://localhost:8080/",
     "height": 473
    },
    "colab_type": "code",
    "executionInfo": {
     "elapsed": 1517,
     "status": "ok",
     "timestamp": 1589207753410,
     "user": {
      "displayName": "Duong Hung",
      "photoUrl": "https://lh3.googleusercontent.com/a-/AOh14Ggfgs4FqFN7Yq3pQXoVHeQcc9w9kDV_fAGoQ3Nx4nk=s64",
      "userId": "01608720095171318435"
     },
     "user_tz": 300
    },
    "id": "Cl4mz5NYJ1UV",
    "outputId": "37e3c2ae-75d5-4b48-dc39-5131b66aebff",
    "scrolled": true
   },
   "outputs": [
    {
     "data": {
      "text/html": [
       "<div>\n",
       "<style scoped>\n",
       "    .dataframe tbody tr th:only-of-type {\n",
       "        vertical-align: middle;\n",
       "    }\n",
       "\n",
       "    .dataframe tbody tr th {\n",
       "        vertical-align: top;\n",
       "    }\n",
       "\n",
       "    .dataframe thead th {\n",
       "        text-align: right;\n",
       "    }\n",
       "</style>\n",
       "<table border=\"1\" class=\"dataframe\">\n",
       "  <thead>\n",
       "    <tr style=\"text-align: right;\">\n",
       "      <th></th>\n",
       "      <th>Unit_Nbr</th>\n",
       "      <th>Prsn_Age</th>\n",
       "      <th>Toll_Road_Fl</th>\n",
       "      <th>Crash_Speed_Limit</th>\n",
       "      <th>Road_Constr_Zone_Fl</th>\n",
       "      <th>Road_Constr_Zone_Wrkr_Fl</th>\n",
       "      <th>At_Intrsct_Fl</th>\n",
       "      <th>Latitude</th>\n",
       "      <th>Longitude</th>\n",
       "      <th>Crash_month</th>\n",
       "      <th>...</th>\n",
       "      <th>Traffic_Cntl_ID_SIGNAL LIGHT WITH RED LIGHT RUNNING CAMERA</th>\n",
       "      <th>Traffic_Cntl_ID_STOP SIGN</th>\n",
       "      <th>Traffic_Cntl_ID_WARNING SIGN</th>\n",
       "      <th>Unit_Desc_ID_MOTOR VEHICLE</th>\n",
       "      <th>Unit_Desc_ID_MOTORIZED CONVEYANCE</th>\n",
       "      <th>Unit_Desc_ID_NON-CONTACT</th>\n",
       "      <th>Unit_Desc_ID_OTHER (EXPLAIN IN NARRATIVE)</th>\n",
       "      <th>Unit_Desc_ID_PEDALCYCLIST</th>\n",
       "      <th>Unit_Desc_ID_PEDESTRIAN</th>\n",
       "      <th>Unit_Desc_ID_TOWED/PUSHED/TRAILER</th>\n",
       "    </tr>\n",
       "  </thead>\n",
       "  <tbody>\n",
       "    <tr>\n",
       "      <th>0</th>\n",
       "      <td>1</td>\n",
       "      <td>48.0</td>\n",
       "      <td>0</td>\n",
       "      <td>35</td>\n",
       "      <td>0</td>\n",
       "      <td>0</td>\n",
       "      <td>0</td>\n",
       "      <td>30.660685</td>\n",
       "      <td>-93.893906</td>\n",
       "      <td>6</td>\n",
       "      <td>...</td>\n",
       "      <td>0</td>\n",
       "      <td>0</td>\n",
       "      <td>0</td>\n",
       "      <td>1</td>\n",
       "      <td>0</td>\n",
       "      <td>0</td>\n",
       "      <td>0</td>\n",
       "      <td>0</td>\n",
       "      <td>0</td>\n",
       "      <td>0</td>\n",
       "    </tr>\n",
       "    <tr>\n",
       "      <th>1</th>\n",
       "      <td>2</td>\n",
       "      <td>58.0</td>\n",
       "      <td>0</td>\n",
       "      <td>35</td>\n",
       "      <td>0</td>\n",
       "      <td>0</td>\n",
       "      <td>0</td>\n",
       "      <td>30.660685</td>\n",
       "      <td>-93.893906</td>\n",
       "      <td>6</td>\n",
       "      <td>...</td>\n",
       "      <td>0</td>\n",
       "      <td>0</td>\n",
       "      <td>0</td>\n",
       "      <td>1</td>\n",
       "      <td>0</td>\n",
       "      <td>0</td>\n",
       "      <td>0</td>\n",
       "      <td>0</td>\n",
       "      <td>0</td>\n",
       "      <td>0</td>\n",
       "    </tr>\n",
       "    <tr>\n",
       "      <th>2</th>\n",
       "      <td>1</td>\n",
       "      <td>68.0</td>\n",
       "      <td>0</td>\n",
       "      <td>45</td>\n",
       "      <td>0</td>\n",
       "      <td>0</td>\n",
       "      <td>1</td>\n",
       "      <td>33.203920</td>\n",
       "      <td>-96.596654</td>\n",
       "      <td>6</td>\n",
       "      <td>...</td>\n",
       "      <td>0</td>\n",
       "      <td>0</td>\n",
       "      <td>0</td>\n",
       "      <td>1</td>\n",
       "      <td>0</td>\n",
       "      <td>0</td>\n",
       "      <td>0</td>\n",
       "      <td>0</td>\n",
       "      <td>0</td>\n",
       "      <td>0</td>\n",
       "    </tr>\n",
       "    <tr>\n",
       "      <th>3</th>\n",
       "      <td>3</td>\n",
       "      <td>67.0</td>\n",
       "      <td>0</td>\n",
       "      <td>45</td>\n",
       "      <td>0</td>\n",
       "      <td>0</td>\n",
       "      <td>1</td>\n",
       "      <td>33.203920</td>\n",
       "      <td>-96.596654</td>\n",
       "      <td>6</td>\n",
       "      <td>...</td>\n",
       "      <td>0</td>\n",
       "      <td>0</td>\n",
       "      <td>0</td>\n",
       "      <td>1</td>\n",
       "      <td>0</td>\n",
       "      <td>0</td>\n",
       "      <td>0</td>\n",
       "      <td>0</td>\n",
       "      <td>0</td>\n",
       "      <td>0</td>\n",
       "    </tr>\n",
       "    <tr>\n",
       "      <th>4</th>\n",
       "      <td>1</td>\n",
       "      <td>36.0</td>\n",
       "      <td>0</td>\n",
       "      <td>35</td>\n",
       "      <td>0</td>\n",
       "      <td>0</td>\n",
       "      <td>1</td>\n",
       "      <td>29.792394</td>\n",
       "      <td>-95.746539</td>\n",
       "      <td>6</td>\n",
       "      <td>...</td>\n",
       "      <td>0</td>\n",
       "      <td>0</td>\n",
       "      <td>1</td>\n",
       "      <td>1</td>\n",
       "      <td>0</td>\n",
       "      <td>0</td>\n",
       "      <td>0</td>\n",
       "      <td>0</td>\n",
       "      <td>0</td>\n",
       "      <td>0</td>\n",
       "    </tr>\n",
       "    <tr>\n",
       "      <th>...</th>\n",
       "      <td>...</td>\n",
       "      <td>...</td>\n",
       "      <td>...</td>\n",
       "      <td>...</td>\n",
       "      <td>...</td>\n",
       "      <td>...</td>\n",
       "      <td>...</td>\n",
       "      <td>...</td>\n",
       "      <td>...</td>\n",
       "      <td>...</td>\n",
       "      <td>...</td>\n",
       "      <td>...</td>\n",
       "      <td>...</td>\n",
       "      <td>...</td>\n",
       "      <td>...</td>\n",
       "      <td>...</td>\n",
       "      <td>...</td>\n",
       "      <td>...</td>\n",
       "      <td>...</td>\n",
       "      <td>...</td>\n",
       "      <td>...</td>\n",
       "    </tr>\n",
       "    <tr>\n",
       "      <th>488844</th>\n",
       "      <td>1</td>\n",
       "      <td>68.0</td>\n",
       "      <td>0</td>\n",
       "      <td>70</td>\n",
       "      <td>0</td>\n",
       "      <td>0</td>\n",
       "      <td>1</td>\n",
       "      <td>28.954878</td>\n",
       "      <td>-97.987513</td>\n",
       "      <td>11</td>\n",
       "      <td>...</td>\n",
       "      <td>0</td>\n",
       "      <td>0</td>\n",
       "      <td>0</td>\n",
       "      <td>1</td>\n",
       "      <td>0</td>\n",
       "      <td>0</td>\n",
       "      <td>0</td>\n",
       "      <td>0</td>\n",
       "      <td>0</td>\n",
       "      <td>0</td>\n",
       "    </tr>\n",
       "    <tr>\n",
       "      <th>488845</th>\n",
       "      <td>1</td>\n",
       "      <td>44.0</td>\n",
       "      <td>0</td>\n",
       "      <td>55</td>\n",
       "      <td>0</td>\n",
       "      <td>0</td>\n",
       "      <td>1</td>\n",
       "      <td>32.756880</td>\n",
       "      <td>-94.354907</td>\n",
       "      <td>11</td>\n",
       "      <td>...</td>\n",
       "      <td>0</td>\n",
       "      <td>1</td>\n",
       "      <td>0</td>\n",
       "      <td>1</td>\n",
       "      <td>0</td>\n",
       "      <td>0</td>\n",
       "      <td>0</td>\n",
       "      <td>0</td>\n",
       "      <td>0</td>\n",
       "      <td>0</td>\n",
       "    </tr>\n",
       "    <tr>\n",
       "      <th>488846</th>\n",
       "      <td>2</td>\n",
       "      <td>57.0</td>\n",
       "      <td>0</td>\n",
       "      <td>55</td>\n",
       "      <td>0</td>\n",
       "      <td>0</td>\n",
       "      <td>1</td>\n",
       "      <td>32.756880</td>\n",
       "      <td>-94.354907</td>\n",
       "      <td>11</td>\n",
       "      <td>...</td>\n",
       "      <td>0</td>\n",
       "      <td>1</td>\n",
       "      <td>0</td>\n",
       "      <td>1</td>\n",
       "      <td>0</td>\n",
       "      <td>0</td>\n",
       "      <td>0</td>\n",
       "      <td>0</td>\n",
       "      <td>0</td>\n",
       "      <td>0</td>\n",
       "    </tr>\n",
       "    <tr>\n",
       "      <th>488847</th>\n",
       "      <td>1</td>\n",
       "      <td>16.0</td>\n",
       "      <td>0</td>\n",
       "      <td>40</td>\n",
       "      <td>0</td>\n",
       "      <td>0</td>\n",
       "      <td>0</td>\n",
       "      <td>31.279209</td>\n",
       "      <td>-94.579816</td>\n",
       "      <td>9</td>\n",
       "      <td>...</td>\n",
       "      <td>0</td>\n",
       "      <td>1</td>\n",
       "      <td>0</td>\n",
       "      <td>1</td>\n",
       "      <td>0</td>\n",
       "      <td>0</td>\n",
       "      <td>0</td>\n",
       "      <td>0</td>\n",
       "      <td>0</td>\n",
       "      <td>0</td>\n",
       "    </tr>\n",
       "    <tr>\n",
       "      <th>488848</th>\n",
       "      <td>2</td>\n",
       "      <td>16.0</td>\n",
       "      <td>0</td>\n",
       "      <td>40</td>\n",
       "      <td>0</td>\n",
       "      <td>0</td>\n",
       "      <td>0</td>\n",
       "      <td>31.279209</td>\n",
       "      <td>-94.579816</td>\n",
       "      <td>9</td>\n",
       "      <td>...</td>\n",
       "      <td>0</td>\n",
       "      <td>1</td>\n",
       "      <td>0</td>\n",
       "      <td>1</td>\n",
       "      <td>0</td>\n",
       "      <td>0</td>\n",
       "      <td>0</td>\n",
       "      <td>0</td>\n",
       "      <td>0</td>\n",
       "      <td>0</td>\n",
       "    </tr>\n",
       "  </tbody>\n",
       "</table>\n",
       "<p>488849 rows × 150 columns</p>\n",
       "</div>"
      ],
      "text/plain": [
       "        Unit_Nbr  Prsn_Age  Toll_Road_Fl  Crash_Speed_Limit  \\\n",
       "0              1      48.0             0                 35   \n",
       "1              2      58.0             0                 35   \n",
       "2              1      68.0             0                 45   \n",
       "3              3      67.0             0                 45   \n",
       "4              1      36.0             0                 35   \n",
       "...          ...       ...           ...                ...   \n",
       "488844         1      68.0             0                 70   \n",
       "488845         1      44.0             0                 55   \n",
       "488846         2      57.0             0                 55   \n",
       "488847         1      16.0             0                 40   \n",
       "488848         2      16.0             0                 40   \n",
       "\n",
       "        Road_Constr_Zone_Fl  Road_Constr_Zone_Wrkr_Fl  At_Intrsct_Fl  \\\n",
       "0                         0                         0              0   \n",
       "1                         0                         0              0   \n",
       "2                         0                         0              1   \n",
       "3                         0                         0              1   \n",
       "4                         0                         0              1   \n",
       "...                     ...                       ...            ...   \n",
       "488844                    0                         0              1   \n",
       "488845                    0                         0              1   \n",
       "488846                    0                         0              1   \n",
       "488847                    0                         0              0   \n",
       "488848                    0                         0              0   \n",
       "\n",
       "         Latitude  Longitude  Crash_month  ...  \\\n",
       "0       30.660685 -93.893906            6  ...   \n",
       "1       30.660685 -93.893906            6  ...   \n",
       "2       33.203920 -96.596654            6  ...   \n",
       "3       33.203920 -96.596654            6  ...   \n",
       "4       29.792394 -95.746539            6  ...   \n",
       "...           ...        ...          ...  ...   \n",
       "488844  28.954878 -97.987513           11  ...   \n",
       "488845  32.756880 -94.354907           11  ...   \n",
       "488846  32.756880 -94.354907           11  ...   \n",
       "488847  31.279209 -94.579816            9  ...   \n",
       "488848  31.279209 -94.579816            9  ...   \n",
       "\n",
       "        Traffic_Cntl_ID_SIGNAL LIGHT WITH RED LIGHT RUNNING CAMERA  \\\n",
       "0                                                       0            \n",
       "1                                                       0            \n",
       "2                                                       0            \n",
       "3                                                       0            \n",
       "4                                                       0            \n",
       "...                                                   ...            \n",
       "488844                                                  0            \n",
       "488845                                                  0            \n",
       "488846                                                  0            \n",
       "488847                                                  0            \n",
       "488848                                                  0            \n",
       "\n",
       "        Traffic_Cntl_ID_STOP SIGN  Traffic_Cntl_ID_WARNING SIGN  \\\n",
       "0                               0                             0   \n",
       "1                               0                             0   \n",
       "2                               0                             0   \n",
       "3                               0                             0   \n",
       "4                               0                             1   \n",
       "...                           ...                           ...   \n",
       "488844                          0                             0   \n",
       "488845                          1                             0   \n",
       "488846                          1                             0   \n",
       "488847                          1                             0   \n",
       "488848                          1                             0   \n",
       "\n",
       "        Unit_Desc_ID_MOTOR VEHICLE  Unit_Desc_ID_MOTORIZED CONVEYANCE  \\\n",
       "0                                1                                  0   \n",
       "1                                1                                  0   \n",
       "2                                1                                  0   \n",
       "3                                1                                  0   \n",
       "4                                1                                  0   \n",
       "...                            ...                                ...   \n",
       "488844                           1                                  0   \n",
       "488845                           1                                  0   \n",
       "488846                           1                                  0   \n",
       "488847                           1                                  0   \n",
       "488848                           1                                  0   \n",
       "\n",
       "        Unit_Desc_ID_NON-CONTACT  Unit_Desc_ID_OTHER (EXPLAIN IN NARRATIVE)  \\\n",
       "0                              0                                          0   \n",
       "1                              0                                          0   \n",
       "2                              0                                          0   \n",
       "3                              0                                          0   \n",
       "4                              0                                          0   \n",
       "...                          ...                                        ...   \n",
       "488844                         0                                          0   \n",
       "488845                         0                                          0   \n",
       "488846                         0                                          0   \n",
       "488847                         0                                          0   \n",
       "488848                         0                                          0   \n",
       "\n",
       "        Unit_Desc_ID_PEDALCYCLIST  Unit_Desc_ID_PEDESTRIAN  \\\n",
       "0                               0                        0   \n",
       "1                               0                        0   \n",
       "2                               0                        0   \n",
       "3                               0                        0   \n",
       "4                               0                        0   \n",
       "...                           ...                      ...   \n",
       "488844                          0                        0   \n",
       "488845                          0                        0   \n",
       "488846                          0                        0   \n",
       "488847                          0                        0   \n",
       "488848                          0                        0   \n",
       "\n",
       "        Unit_Desc_ID_TOWED/PUSHED/TRAILER  \n",
       "0                                       0  \n",
       "1                                       0  \n",
       "2                                       0  \n",
       "3                                       0  \n",
       "4                                       0  \n",
       "...                                   ...  \n",
       "488844                                  0  \n",
       "488845                                  0  \n",
       "488846                                  0  \n",
       "488847                                  0  \n",
       "488848                                  0  \n",
       "\n",
       "[488849 rows x 150 columns]"
      ]
     },
     "execution_count": 89,
     "metadata": {},
     "output_type": "execute_result"
    }
   ],
   "source": [
    "X=df.iloc[:,1:].copy()\n",
    "X"
   ]
  },
  {
   "cell_type": "markdown",
   "metadata": {
    "colab_type": "text",
    "id": "548Mc3Y4J1Ui"
   },
   "source": [
    "# Split the dataset"
   ]
  },
  {
   "cell_type": "code",
   "execution_count": 90,
   "metadata": {
    "ExecuteTime": {
     "end_time": "2020-05-22T14:29:46.063902Z",
     "start_time": "2020-05-22T14:29:45.802341Z"
    },
    "colab": {},
    "colab_type": "code",
    "id": "5ERPlNBhJ1Ul"
   },
   "outputs": [],
   "source": [
    "from sklearn.model_selection import train_test_split"
   ]
  },
  {
   "cell_type": "code",
   "execution_count": 91,
   "metadata": {
    "ExecuteTime": {
     "end_time": "2020-05-22T14:29:52.581218Z",
     "start_time": "2020-05-22T14:29:46.067396Z"
    },
    "colab": {
     "base_uri": "https://localhost:8080/",
     "height": 68
    },
    "colab_type": "code",
    "executionInfo": {
     "elapsed": 2765,
     "status": "ok",
     "timestamp": 1589207767531,
     "user": {
      "displayName": "Duong Hung",
      "photoUrl": "https://lh3.googleusercontent.com/a-/AOh14Ggfgs4FqFN7Yq3pQXoVHeQcc9w9kDV_fAGoQ3Nx4nk=s64",
      "userId": "01608720095171318435"
     },
     "user_tz": 300
    },
    "id": "6dDdGqNSJ1Uo",
    "outputId": "ad07e468-5ecf-461c-da2b-61c88f58a657"
   },
   "outputs": [
    {
     "name": "stdout",
     "output_type": "stream",
     "text": [
      "Training features shape: (312863, 150)\n",
      "Validation features shape: (78216, 150)\n",
      "Test features shape: (97770, 150)\n"
     ]
    }
   ],
   "source": [
    "X_train, X_test, y_train, y_test = train_test_split(X,y,test_size=0.2,stratify=y, random_state=48)\n",
    "X_train, X_val, y_train, y_val = train_test_split(X_train,y_train,test_size=0.2,stratify=y_train, random_state=48)\n",
    "\n",
    "X_train=np.array(X_train)\n",
    "X_test=np.array(X_test)\n",
    "X_val=np.array(X_val)\n",
    "\n",
    "print('Training features shape:', X_train.shape)\n",
    "print('Validation features shape:', X_val.shape)\n",
    "print('Test features shape:', X_test.shape)"
   ]
  },
  {
   "cell_type": "code",
   "execution_count": 92,
   "metadata": {
    "ExecuteTime": {
     "end_time": "2020-05-22T14:29:52.620145Z",
     "start_time": "2020-05-22T14:29:52.587706Z"
    },
    "colab": {
     "base_uri": "https://localhost:8080/",
     "height": 68
    },
    "colab_type": "code",
    "executionInfo": {
     "elapsed": 2744,
     "status": "ok",
     "timestamp": 1589207767533,
     "user": {
      "displayName": "Duong Hung",
      "photoUrl": "https://lh3.googleusercontent.com/a-/AOh14Ggfgs4FqFN7Yq3pQXoVHeQcc9w9kDV_fAGoQ3Nx4nk=s64",
      "userId": "01608720095171318435"
     },
     "user_tz": 300
    },
    "id": "Ut-NVd4nJ1Uv",
    "outputId": "915b98c9-cb49-40c1-8396-8d124b157b16"
   },
   "outputs": [
    {
     "name": "stdout",
     "output_type": "stream",
     "text": [
      "Training features shape: (312863, 1)\n",
      "Validation features shape: (78216, 1)\n",
      "Test features shape: (97770, 1)\n"
     ]
    }
   ],
   "source": [
    "y_train=np.array(y_train).reshape(len(y_train),1)\n",
    "y_test=np.array(y_test).reshape(len(y_test),1)\n",
    "y_val=np.array(y_val).reshape(len(y_val),1)\n",
    "\n",
    "print('Training features shape:', y_train.shape)\n",
    "print('Validation features shape:', y_val.shape)\n",
    "print('Test features shape:', y_test.shape)"
   ]
  },
  {
   "cell_type": "code",
   "execution_count": 93,
   "metadata": {
    "ExecuteTime": {
     "end_time": "2020-05-22T14:29:52.738925Z",
     "start_time": "2020-05-22T14:29:52.624638Z"
    },
    "colab": {},
    "colab_type": "code",
    "id": "Lj2Ka9kMJ1U2"
   },
   "outputs": [],
   "source": [
    "# standardization\n",
    "from sklearn.preprocessing import StandardScaler"
   ]
  },
  {
   "cell_type": "code",
   "execution_count": 94,
   "metadata": {
    "ExecuteTime": {
     "end_time": "2020-05-22T14:29:55.505279Z",
     "start_time": "2020-05-22T14:29:52.747908Z"
    },
    "colab": {},
    "colab_type": "code",
    "id": "BiA2g-qsJ1U6"
   },
   "outputs": [],
   "source": [
    "scaler = StandardScaler()\n",
    "\n",
    "X_train = scaler.fit_transform(X_train)\n",
    "\n",
    "X_val = scaler.transform(X_val)\n",
    "X_test = scaler.transform(X_test)"
   ]
  },
  {
   "cell_type": "markdown",
   "metadata": {
    "colab_type": "text",
    "id": "BcaKVTGuJ1Vm"
   },
   "source": [
    "# MLP simple"
   ]
  },
  {
   "cell_type": "markdown",
   "metadata": {
    "colab_type": "text",
    "id": "HquajIY-J1Vn"
   },
   "source": [
    "## Mini functions"
   ]
  },
  {
   "cell_type": "markdown",
   "metadata": {
    "colab_type": "text",
    "id": "_Z54FMlfJ1Vp"
   },
   "source": [
    "### Create model"
   ]
  },
  {
   "cell_type": "code",
   "execution_count": 95,
   "metadata": {
    "ExecuteTime": {
     "end_time": "2020-05-22T14:29:55.517756Z",
     "start_time": "2020-05-22T14:29:55.509273Z"
    },
    "colab": {},
    "colab_type": "code",
    "id": "dBEUbS6cYuve"
   },
   "outputs": [
    {
     "name": "stdout",
     "output_type": "stream",
     "text": [
      "2.1.0\n"
     ]
    }
   ],
   "source": [
    "import tensorflow as tf\n",
    "from tensorflow import keras\n",
    "print(tf.__version__)"
   ]
  },
  {
   "cell_type": "code",
   "execution_count": 96,
   "metadata": {
    "ExecuteTime": {
     "end_time": "2020-05-22T14:29:55.586630Z",
     "start_time": "2020-05-22T14:29:55.521749Z"
    },
    "colab": {},
    "colab_type": "code",
    "id": "yIup1KAaJ1Vr"
   },
   "outputs": [],
   "source": [
    "def create_model(nodes=20,actih='relu',actio='sigmoid',lr=1e-3,output_bias=None,logits=False):\n",
    "    if output_bias is not None:\n",
    "        output_bias = tf.keras.initializers.Constant(output_bias)\n",
    "    \n",
    "    model = keras.Sequential()\n",
    "    model.add(keras.layers.Dense(nodes, activation=actih,input_dim=X_train.shape[1]))\n",
    "    model.add(keras.layers.Dropout(0.5))\n",
    "    model.add(keras.layers.Dense(1, activation=actio,bias_initializer=output_bias))\n",
    "    \n",
    "    model.compile(optimizer=keras.optimizers.Adam(lr=lr),\n",
    "                  loss=keras.losses.BinaryCrossentropy(from_logits=logits),\n",
    "                  metrics=metrics)\n",
    "    return model"
   ]
  },
  {
   "cell_type": "markdown",
   "metadata": {
    "colab_type": "text",
    "id": "JXXqeCA-J1Vu"
   },
   "source": [
    "### Show confusion matrix\n"
   ]
  },
  {
   "cell_type": "code",
   "execution_count": 97,
   "metadata": {
    "ExecuteTime": {
     "end_time": "2020-05-22T14:29:55.656504Z",
     "start_time": "2020-05-22T14:29:55.591120Z"
    },
    "colab": {},
    "colab_type": "code",
    "id": "BCMLDgLcYo6T"
   },
   "outputs": [],
   "source": [
    "from sklearn.metrics import confusion_matrix, classification_report"
   ]
  },
  {
   "cell_type": "code",
   "execution_count": 98,
   "metadata": {
    "ExecuteTime": {
     "end_time": "2020-05-22T14:29:55.839661Z",
     "start_time": "2020-05-22T14:29:55.661490Z"
    },
    "colab": {},
    "colab_type": "code",
    "id": "ZhneEw4cRND_"
   },
   "outputs": [],
   "source": [
    "def CI(arr):\n",
    "    op=[arr[0,0],arr[1,1]]/arr.sum(axis=0)\n",
    "    op=np.append(op,(arr[0,0]+arr[1,1])/arr.sum())\n",
    "    op=pd.DataFrame(op,columns=['Precision'],index=['0','1','Global'])\n",
    "    op['n_p']=np.append(arr.sum(axis=0),arr.sum())\n",
    "    op['CI_p']=196*np.sqrt(op.Precision*(1-op.Precision)/op.n_p)\n",
    "    op['Precision']=op.Precision*100\n",
    "\n",
    "    op['Recall']=np.append([arr[0,0],arr[1,1]]/arr.sum(axis=1),(arr[0,0]+arr[1,1])/arr.sum())\n",
    "    op['n_r']=np.append(arr.sum(axis=1),arr.sum())\n",
    "    op['CI_r']=196*np.sqrt(op.Recall*(1-op.Recall)/op.n_r)\n",
    "    op['Recall']=op.Recall*100\n",
    "    return op"
   ]
  },
  {
   "cell_type": "code",
   "execution_count": 99,
   "metadata": {
    "ExecuteTime": {
     "end_time": "2020-05-22T14:29:55.856627Z",
     "start_time": "2020-05-22T14:29:55.845148Z"
    },
    "colab": {},
    "colab_type": "code",
    "id": "uFfBF83bJ1V0"
   },
   "outputs": [],
   "source": [
    "def show_cm(labels, predictions, p=0.5):\n",
    "    cm = confusion_matrix(labels, predictions > p)\n",
    "    print(cm)\n",
    "    pcm=classification_report(labels, predictions > p, target_names=['Class 0','Class 1']) \n",
    "    print(pcm)\n",
    "    return CI(cm)"
   ]
  },
  {
   "cell_type": "markdown",
   "metadata": {
    "colab_type": "text",
    "id": "U7vWECLdJ1V_"
   },
   "source": [
    "### Plot ROC\n"
   ]
  },
  {
   "cell_type": "code",
   "execution_count": 100,
   "metadata": {
    "ExecuteTime": {
     "end_time": "2020-05-22T14:29:55.870601Z",
     "start_time": "2020-05-22T14:29:55.860120Z"
    },
    "colab": {},
    "colab_type": "code",
    "id": "C3yM0beyZCHc"
   },
   "outputs": [],
   "source": [
    "from sklearn.metrics import roc_curve, auc"
   ]
  },
  {
   "cell_type": "code",
   "execution_count": 101,
   "metadata": {
    "ExecuteTime": {
     "end_time": "2020-05-22T14:29:55.887070Z",
     "start_time": "2020-05-22T14:29:55.874594Z"
    },
    "colab": {},
    "colab_type": "code",
    "id": "tuV1U8jcJ1WG"
   },
   "outputs": [],
   "source": [
    "def plot_roc(name, labels, predictions, **kwargs):\n",
    "  fp, tp, _ = roc_curve(labels, predictions)\n",
    "\n",
    "  plt.plot(100*fp, 100*tp, label=name + ' (area = %0.4f)' % auc(fp, tp), linewidth=1.5, **kwargs)\n",
    "  plt.xlabel('False positives [%]')\n",
    "  plt.ylabel('True positives [%]')\n",
    "  plt.xlim([0,100.5])\n",
    "  plt.ylim([0,100.5])\n",
    "  plt.grid(True)\n",
    "  ax = plt.gca()\n",
    "  ax.set_aspect('equal')"
   ]
  },
  {
   "cell_type": "code",
   "execution_count": 102,
   "metadata": {
    "ExecuteTime": {
     "end_time": "2020-05-22T14:29:56.622932Z",
     "start_time": "2020-05-22T14:29:55.890563Z"
    },
    "colab": {
     "base_uri": "https://localhost:8080/",
     "height": 34
    },
    "colab_type": "code",
    "executionInfo": {
     "elapsed": 897,
     "status": "ok",
     "timestamp": 1589207945007,
     "user": {
      "displayName": "Duong Hung",
      "photoUrl": "https://lh3.googleusercontent.com/a-/AOh14Ggfgs4FqFN7Yq3pQXoVHeQcc9w9kDV_fAGoQ3Nx4nk=s64",
      "userId": "01608720095171318435"
     },
     "user_tz": 300
    },
    "id": "gS6h-0G3J1WN",
    "outputId": "057d64d7-9979-4afe-dbb8-18401e60e212"
   },
   "outputs": [
    {
     "data": {
      "text/plain": [
       "<TensorSliceDataset shapes: ((150,), (1,)), types: (tf.float64, tf.int32)>"
      ]
     },
     "execution_count": 102,
     "metadata": {},
     "output_type": "execute_result"
    }
   ],
   "source": [
    "data_train = tf.data.Dataset.from_tensor_slices((X_train, y_train))\n",
    "data_train"
   ]
  },
  {
   "cell_type": "code",
   "execution_count": 103,
   "metadata": {
    "ExecuteTime": {
     "end_time": "2020-05-22T14:29:56.721250Z",
     "start_time": "2020-05-22T14:29:56.625927Z"
    },
    "colab": {
     "base_uri": "https://localhost:8080/",
     "height": 34
    },
    "colab_type": "code",
    "executionInfo": {
     "elapsed": 875,
     "status": "ok",
     "timestamp": 1589207945008,
     "user": {
      "displayName": "Duong Hung",
      "photoUrl": "https://lh3.googleusercontent.com/a-/AOh14Ggfgs4FqFN7Yq3pQXoVHeQcc9w9kDV_fAGoQ3Nx4nk=s64",
      "userId": "01608720095171318435"
     },
     "user_tz": 300
    },
    "id": "ruuam0vyJ1WT",
    "outputId": "b49f0d76-f433-4467-8b7d-f6cec4259442"
   },
   "outputs": [
    {
     "data": {
      "text/plain": [
       "<TensorSliceDataset shapes: ((150,), (1,)), types: (tf.float64, tf.int32)>"
      ]
     },
     "execution_count": 103,
     "metadata": {},
     "output_type": "execute_result"
    }
   ],
   "source": [
    "data_val = tf.data.Dataset.from_tensor_slices((X_val, y_val))\n",
    "data_val"
   ]
  },
  {
   "cell_type": "code",
   "execution_count": 104,
   "metadata": {
    "ExecuteTime": {
     "end_time": "2020-05-22T14:29:56.744705Z",
     "start_time": "2020-05-22T14:29:56.732230Z"
    },
    "colab": {
     "base_uri": "https://localhost:8080/",
     "height": 34
    },
    "colab_type": "code",
    "executionInfo": {
     "elapsed": 859,
     "status": "ok",
     "timestamp": 1589207945009,
     "user": {
      "displayName": "Duong Hung",
      "photoUrl": "https://lh3.googleusercontent.com/a-/AOh14Ggfgs4FqFN7Yq3pQXoVHeQcc9w9kDV_fAGoQ3Nx4nk=s64",
      "userId": "01608720095171318435"
     },
     "user_tz": 300
    },
    "id": "XkkyFt4uJ1WZ",
    "outputId": "d2a985d7-dba8-4bb2-e2a8-23433b3b9ca4"
   },
   "outputs": [
    {
     "data": {
      "text/plain": [
       "array([-5.78753572])"
      ]
     },
     "execution_count": 104,
     "metadata": {},
     "output_type": "execute_result"
    }
   ],
   "source": [
    "initial_bias = np.log([pos/neg])\n",
    "initial_bias"
   ]
  },
  {
   "cell_type": "code",
   "execution_count": 105,
   "metadata": {
    "ExecuteTime": {
     "end_time": "2020-05-22T14:29:56.908401Z",
     "start_time": "2020-05-22T14:29:56.750694Z"
    },
    "colab": {},
    "colab_type": "code",
    "id": "pYL3bQLrJ1Wf"
   },
   "outputs": [],
   "source": [
    "metrics = [keras.metrics.BinaryAccuracy(name='accuracy'),\n",
    "          keras.metrics.Precision(name='precision'),\n",
    "          keras.metrics.Recall(name='recall'),\n",
    "          keras.metrics.AUC(name='auc')]"
   ]
  },
  {
   "cell_type": "code",
   "execution_count": 106,
   "metadata": {
    "ExecuteTime": {
     "end_time": "2020-05-22T14:29:56.936851Z",
     "start_time": "2020-05-22T14:29:56.914389Z"
    },
    "colab": {},
    "colab_type": "code",
    "id": "3VS51FQTJ1Wk"
   },
   "outputs": [],
   "source": [
    "es = tf.keras.callbacks.EarlyStopping(monitor='val_auc', \n",
    "    verbose=1,\n",
    "    patience=10,\n",
    "    mode='max',\n",
    "    restore_best_weights=True)"
   ]
  },
  {
   "cell_type": "code",
   "execution_count": 107,
   "metadata": {
    "ExecuteTime": {
     "end_time": "2020-05-22T14:29:57.476417Z",
     "start_time": "2020-05-22T14:29:56.940341Z"
    },
    "colab": {},
    "colab_type": "code",
    "id": "XQvk15IGlGSs"
   },
   "outputs": [],
   "source": [
    "tf.random.set_seed(8)"
   ]
  },
  {
   "cell_type": "code",
   "execution_count": 108,
   "metadata": {
    "ExecuteTime": {
     "end_time": "2020-05-22T14:29:57.553503Z",
     "start_time": "2020-05-22T14:29:57.484418Z"
    },
    "colab": {},
    "colab_type": "code",
    "id": "CA3Zf0VHJ1Wo"
   },
   "outputs": [],
   "source": [
    "batch_size=2048\n",
    "data_train = data_train.shuffle(len(X_train)).batch(batch_size)\n",
    "data_val = data_val.shuffle(len(X_val)).batch(batch_size)"
   ]
  },
  {
   "cell_type": "code",
   "execution_count": 109,
   "metadata": {
    "ExecuteTime": {
     "end_time": "2020-05-22T14:29:57.561485Z",
     "start_time": "2020-05-22T14:29:57.555995Z"
    },
    "colab": {},
    "colab_type": "code",
    "id": "wOnyvd3jK739"
   },
   "outputs": [],
   "source": [
    "import time"
   ]
  },
  {
   "cell_type": "markdown",
   "metadata": {
    "colab_type": "text",
    "id": "-pfo6_s7J1WM"
   },
   "source": [
    "## Base model\n"
   ]
  },
  {
   "cell_type": "markdown",
   "metadata": {},
   "source": [
    "### set initial weight"
   ]
  },
  {
   "cell_type": "code",
   "execution_count": 110,
   "metadata": {
    "ExecuteTime": {
     "end_time": "2020-05-22T14:29:58.966180Z",
     "start_time": "2020-05-22T14:29:57.565477Z"
    }
   },
   "outputs": [
    {
     "name": "stdout",
     "output_type": "stream",
     "text": [
      "Model: \"sequential_12\"\n",
      "_________________________________________________________________\n",
      "Layer (type)                 Output Shape              Param #   \n",
      "=================================================================\n",
      "dense_24 (Dense)             (None, 20)                3020      \n",
      "_________________________________________________________________\n",
      "dropout_12 (Dropout)         (None, 20)                0         \n",
      "_________________________________________________________________\n",
      "dense_25 (Dense)             (None, 1)                 21        \n",
      "=================================================================\n",
      "Total params: 3,041\n",
      "Trainable params: 3,041\n",
      "Non-trainable params: 0\n",
      "_________________________________________________________________\n"
     ]
    },
    {
     "data": {
      "text/plain": [
       "array([[0.3355756 ],\n",
       "       [0.19435209],\n",
       "       [0.36129737],\n",
       "       [0.34285784],\n",
       "       [0.33540595],\n",
       "       [0.43715438],\n",
       "       [0.42928845],\n",
       "       [0.33739927],\n",
       "       [0.40838274],\n",
       "       [0.35618111]], dtype=float32)"
      ]
     },
     "execution_count": 110,
     "metadata": {},
     "output_type": "execute_result"
    }
   ],
   "source": [
    "model = create_model()\n",
    "model.summary()\n",
    "model.predict(X_train[:10])"
   ]
  },
  {
   "cell_type": "code",
   "execution_count": 111,
   "metadata": {
    "ExecuteTime": {
     "end_time": "2020-05-22T14:30:06.750462Z",
     "start_time": "2020-05-22T14:29:58.992633Z"
    }
   },
   "outputs": [
    {
     "name": "stdout",
     "output_type": "stream",
     "text": [
      "Loss: 0.4386\n"
     ]
    }
   ],
   "source": [
    "results = model.evaluate(X_train, y_train, batch_size=2048, verbose=0)\n",
    "print(\"Loss: {:0.4f}\".format(results[0]))"
   ]
  },
  {
   "cell_type": "code",
   "execution_count": 112,
   "metadata": {
    "ExecuteTime": {
     "end_time": "2020-05-22T14:30:06.765943Z",
     "start_time": "2020-05-22T14:30:06.753454Z"
    }
   },
   "outputs": [
    {
     "data": {
      "text/plain": [
       "array([-5.78753572])"
      ]
     },
     "execution_count": 112,
     "metadata": {},
     "output_type": "execute_result"
    }
   ],
   "source": [
    "initial_bias = np.log([pos/neg])\n",
    "initial_bias"
   ]
  },
  {
   "cell_type": "code",
   "execution_count": 113,
   "metadata": {
    "ExecuteTime": {
     "end_time": "2020-05-22T14:30:07.976932Z",
     "start_time": "2020-05-22T14:30:06.768926Z"
    }
   },
   "outputs": [
    {
     "data": {
      "text/plain": [
       "array([[0.00350771],\n",
       "       [0.00305749],\n",
       "       [0.00767382],\n",
       "       [0.00525508],\n",
       "       [0.00563659],\n",
       "       [0.0027982 ],\n",
       "       [0.00230172],\n",
       "       [0.0017739 ],\n",
       "       [0.00313316],\n",
       "       [0.00241059]], dtype=float32)"
      ]
     },
     "execution_count": 113,
     "metadata": {},
     "output_type": "execute_result"
    }
   ],
   "source": [
    "model = create_model(output_bias = initial_bias)\n",
    "model.predict(X_train[:10])"
   ]
  },
  {
   "cell_type": "code",
   "execution_count": 114,
   "metadata": {
    "ExecuteTime": {
     "end_time": "2020-05-22T14:30:12.961461Z",
     "start_time": "2020-05-22T14:30:07.979451Z"
    }
   },
   "outputs": [
    {
     "name": "stdout",
     "output_type": "stream",
     "text": [
      "Loss: 0.0274\n"
     ]
    }
   ],
   "source": [
    "results = model.evaluate(X_train, y_train, batch_size=2048, verbose=0)\n",
    "print(\"Loss: {:0.4f}\".format(results[0]))"
   ]
  },
  {
   "cell_type": "code",
   "execution_count": 115,
   "metadata": {
    "ExecuteTime": {
     "end_time": "2020-05-22T14:30:13.176489Z",
     "start_time": "2020-05-22T14:30:12.965951Z"
    }
   },
   "outputs": [],
   "source": [
    "import os\n",
    "import tempfile"
   ]
  },
  {
   "cell_type": "code",
   "execution_count": 116,
   "metadata": {
    "ExecuteTime": {
     "end_time": "2020-05-22T14:30:16.366721Z",
     "start_time": "2020-05-22T14:30:13.179985Z"
    }
   },
   "outputs": [],
   "source": [
    "initial_weights = os.path.join(tempfile.mkdtemp(),'initial_weights')\n",
    "model.save_weights(initial_weights)"
   ]
  },
  {
   "cell_type": "code",
   "execution_count": null,
   "metadata": {},
   "outputs": [],
   "source": []
  },
  {
   "cell_type": "markdown",
   "metadata": {},
   "source": [
    "### Base model"
   ]
  },
  {
   "cell_type": "code",
   "execution_count": 117,
   "metadata": {
    "ExecuteTime": {
     "end_time": "2020-05-22T14:32:47.195646Z",
     "start_time": "2020-05-22T14:30:16.370655Z"
    },
    "colab": {
     "base_uri": "https://localhost:8080/",
     "height": 564
    },
    "colab_type": "code",
    "executionInfo": {
     "elapsed": 53303,
     "status": "ok",
     "timestamp": 1589212064374,
     "user": {
      "displayName": "Duong Hung",
      "photoUrl": "https://lh3.googleusercontent.com/a-/AOh14Ggfgs4FqFN7Yq3pQXoVHeQcc9w9kDV_fAGoQ3Nx4nk=s64",
      "userId": "01608720095171318435"
     },
     "user_tz": 300
    },
    "id": "dbkOcpHyJ1W0",
    "outputId": "bdcb72a3-ec9c-4e19-bad0-5a2c5dbce6ec"
   },
   "outputs": [
    {
     "name": "stdout",
     "output_type": "stream",
     "text": [
      "Train for 153 steps, validate for 39 steps\n",
      "Epoch 1/100\n",
      "153/153 [==============================] - 34s 220ms/step - loss: 0.0282 - accuracy: 0.9953 - precision: 0.0458 - recall: 0.0272 - auc: 0.7035 - val_loss: 0.0160 - val_accuracy: 0.9969 - val_precision: 0.0000e+00 - val_recall: 0.0000e+00 - val_auc: 0.8544\n",
      "Epoch 2/100\n",
      "153/153 [==============================] - 8s 51ms/step - loss: 0.0189 - accuracy: 0.9966 - precision: 0.1562 - recall: 0.0262 - auc: 0.7928 - val_loss: 0.0148 - val_accuracy: 0.9969 - val_precision: 0.0000e+00 - val_recall: 0.0000e+00 - val_auc: 0.8772\n",
      "Epoch 3/100\n",
      "153/153 [==============================] - 6s 37ms/step - loss: 0.0166 - accuracy: 0.9967 - precision: 0.2214 - recall: 0.0303 - auc: 0.8352 - val_loss: 0.0139 - val_accuracy: 0.9969 - val_precision: 0.0000e+00 - val_recall: 0.0000e+00 - val_auc: 0.8848\n",
      "Epoch 4/100\n",
      "153/153 [==============================] - 5s 36ms/step - loss: 0.0156 - accuracy: 0.9968 - precision: 0.2478 - recall: 0.0293 - auc: 0.8555 - val_loss: 0.0139 - val_accuracy: 0.9969 - val_precision: 0.0000e+00 - val_recall: 0.0000e+00 - val_auc: 0.8942\n",
      "Epoch 5/100\n",
      "153/153 [==============================] - 5s 34ms/step - loss: 0.0149 - accuracy: 0.9968 - precision: 0.2703 - recall: 0.0314 - auc: 0.8753 - val_loss: 0.0137 - val_accuracy: 0.9969 - val_precision: 0.0000e+00 - val_recall: 0.0000e+00 - val_auc: 0.9019\n",
      "Epoch 6/100\n",
      "153/153 [==============================] - 5s 35ms/step - loss: 0.0146 - accuracy: 0.9968 - precision: 0.2843 - recall: 0.0303 - auc: 0.8705 - val_loss: 0.0136 - val_accuracy: 0.9969 - val_precision: 0.0000e+00 - val_recall: 0.0000e+00 - val_auc: 0.8985\n",
      "Epoch 7/100\n",
      "153/153 [==============================] - 6s 37ms/step - loss: 0.0145 - accuracy: 0.9968 - precision: 0.3475 - recall: 0.0429 - auc: 0.8805 - val_loss: 0.0130 - val_accuracy: 0.9969 - val_precision: 0.0000e+00 - val_recall: 0.0000e+00 - val_auc: 0.9044\n",
      "Epoch 8/100\n",
      "153/153 [==============================] - 6s 39ms/step - loss: 0.0144 - accuracy: 0.9968 - precision: 0.3491 - recall: 0.0387 - auc: 0.8884 - val_loss: 0.0135 - val_accuracy: 0.9969 - val_precision: 0.0000e+00 - val_recall: 0.0000e+00 - val_auc: 0.9046\n",
      "Epoch 9/100\n",
      "153/153 [==============================] - 5s 33ms/step - loss: 0.0142 - accuracy: 0.9968 - precision: 0.3269 - recall: 0.0356 - auc: 0.8988 - val_loss: 0.0130 - val_accuracy: 0.9969 - val_precision: 0.0000e+00 - val_recall: 0.0000e+00 - val_auc: 0.9065\n",
      "Epoch 10/100\n",
      "153/153 [==============================] - 5s 35ms/step - loss: 0.0141 - accuracy: 0.9969 - precision: 0.4018 - recall: 0.0471 - auc: 0.9004 - val_loss: 0.0129 - val_accuracy: 0.9969 - val_precision: 0.0000e+00 - val_recall: 0.0000e+00 - val_auc: 0.9065\n",
      "Epoch 11/100\n",
      "153/153 [==============================] - 5s 32ms/step - loss: 0.0137 - accuracy: 0.9968 - precision: 0.3214 - recall: 0.0471 - auc: 0.9052 - val_loss: 0.0135 - val_accuracy: 0.9969 - val_precision: 0.0000e+00 - val_recall: 0.0000e+00 - val_auc: 0.9065\n",
      "Epoch 12/100\n",
      "153/153 [==============================] - 5s 32ms/step - loss: 0.0138 - accuracy: 0.9969 - precision: 0.3802 - recall: 0.0481 - auc: 0.8991 - val_loss: 0.0129 - val_accuracy: 0.9969 - val_precision: 0.0000e+00 - val_recall: 0.0000e+00 - val_auc: 0.9105\n",
      "Epoch 13/100\n",
      "153/153 [==============================] - 5s 32ms/step - loss: 0.0135 - accuracy: 0.9969 - precision: 0.3739 - recall: 0.0450 - auc: 0.9100 - val_loss: 0.0130 - val_accuracy: 0.9969 - val_precision: 0.0000e+00 - val_recall: 0.0000e+00 - val_auc: 0.9067\n",
      "Epoch 14/100\n",
      "153/153 [==============================] - 5s 34ms/step - loss: 0.0136 - accuracy: 0.9969 - precision: 0.3860 - recall: 0.0460 - auc: 0.9100 - val_loss: 0.0132 - val_accuracy: 0.9969 - val_precision: 0.0000e+00 - val_recall: 0.0000e+00 - val_auc: 0.9084\n",
      "Epoch 15/100\n",
      "153/153 [==============================] - 5s 36ms/step - loss: 0.0134 - accuracy: 0.9969 - precision: 0.3937 - recall: 0.0523 - auc: 0.9132 - val_loss: 0.0131 - val_accuracy: 0.9969 - val_precision: 0.0000e+00 - val_recall: 0.0000e+00 - val_auc: 0.9070\n",
      "Epoch 16/100\n",
      "153/153 [==============================] - 5s 35ms/step - loss: 0.0133 - accuracy: 0.9968 - precision: 0.3333 - recall: 0.0408 - auc: 0.9187 - val_loss: 0.0128 - val_accuracy: 0.9969 - val_precision: 0.0000e+00 - val_recall: 0.0000e+00 - val_auc: 0.9086\n",
      "Epoch 17/100\n",
      "153/153 [==============================] - 5s 33ms/step - loss: 0.0133 - accuracy: 0.9968 - precision: 0.3426 - recall: 0.0387 - auc: 0.9197 - val_loss: 0.0132 - val_accuracy: 0.9969 - val_precision: 0.0000e+00 - val_recall: 0.0000e+00 - val_auc: 0.9068\n",
      "Epoch 18/100\n",
      "153/153 [==============================] - 5s 32ms/step - loss: 0.0132 - accuracy: 0.9968 - precision: 0.3396 - recall: 0.0377 - auc: 0.9222 - val_loss: 0.0130 - val_accuracy: 0.9969 - val_precision: 0.0000e+00 - val_recall: 0.0000e+00 - val_auc: 0.9009\n",
      "Epoch 19/100\n",
      "153/153 [==============================] - 5s 32ms/step - loss: 0.0132 - accuracy: 0.9969 - precision: 0.3802 - recall: 0.0481 - auc: 0.9198 - val_loss: 0.0137 - val_accuracy: 0.9969 - val_precision: 0.0000e+00 - val_recall: 0.0000e+00 - val_auc: 0.9007\n",
      "Epoch 20/100\n",
      "153/153 [==============================] - 5s 32ms/step - loss: 0.0131 - accuracy: 0.9968 - precision: 0.3750 - recall: 0.0471 - auc: 0.9249 - val_loss: 0.0129 - val_accuracy: 0.9969 - val_precision: 0.0000e+00 - val_recall: 0.0000e+00 - val_auc: 0.9021\n",
      "Epoch 21/100\n",
      "153/153 [==============================] - 5s 31ms/step - loss: 0.0131 - accuracy: 0.9969 - precision: 0.3694 - recall: 0.0429 - auc: 0.9305 - val_loss: 0.0128 - val_accuracy: 0.9969 - val_precision: 0.0000e+00 - val_recall: 0.0000e+00 - val_auc: 0.9008\n",
      "Epoch 22/100\n",
      "152/153 [============================>.] - ETA: 0s - loss: 0.0129 - accuracy: 0.9969 - precision: 0.3939 - recall: 0.0409 - auc: 0.9299Restoring model weights from the end of the best epoch.\n",
      "153/153 [==============================] - 5s 36ms/step - loss: 0.0129 - accuracy: 0.9969 - precision: 0.3861 - recall: 0.0408 - auc: 0.9301 - val_loss: 0.0131 - val_accuracy: 0.9969 - val_precision: 0.5000 - val_recall: 0.0042 - val_auc: 0.9024\n",
      "Epoch 00022: early stopping\n"
     ]
    },
    {
     "data": {
      "text/plain": [
       "150.7990367412567"
      ]
     },
     "execution_count": 117,
     "metadata": {},
     "output_type": "execute_result"
    }
   ],
   "source": [
    "start_time=time.time()\n",
    "ar_model=create_model()\n",
    "ar_model.load_weights(initial_weights)\n",
    "Monitor = ar_model.fit(data_train, epochs=100,callbacks=[es],validation_data = data_val, verbose = 1)\n",
    "end_time=time.time()\n",
    "end_time-start_time"
   ]
  },
  {
   "cell_type": "code",
   "execution_count": 118,
   "metadata": {
    "ExecuteTime": {
     "end_time": "2020-05-22T14:32:48.353493Z",
     "start_time": "2020-05-22T14:32:47.199638Z"
    },
    "colab": {
     "base_uri": "https://localhost:8080/",
     "height": 535
    },
    "colab_type": "code",
    "executionInfo": {
     "elapsed": 865,
     "status": "ok",
     "timestamp": 1589212071434,
     "user": {
      "displayName": "Duong Hung",
      "photoUrl": "https://lh3.googleusercontent.com/a-/AOh14Ggfgs4FqFN7Yq3pQXoVHeQcc9w9kDV_fAGoQ3Nx4nk=s64",
      "userId": "01608720095171318435"
     },
     "user_tz": 300
    },
    "id": "XHnPm2POJ1W7",
    "outputId": "e028facf-e5e6-43f9-ad26-5760042acf5f"
   },
   "outputs": [
    {
     "data": {
      "image/png": "[encoded data removed]",
      "text/plain": [
       "<Figure size 1500x600 with 2 Axes>"
      ]
     },
     "metadata": {
      "needs_background": "light"
     },
     "output_type": "display_data"
    }
   ],
   "source": [
    "hist = pd.DataFrame(Monitor.history)\n",
    "fig, axes = plt.subplots(nrows=1, ncols=2,figsize=(10,4),dpi=150)\n",
    "hist[['loss','val_loss']].plot(ax=axes[0])\n",
    "hist[['auc','val_auc']].plot(ax=axes[1])\n",
    "plt.show()"
   ]
  },
  {
   "cell_type": "markdown",
   "metadata": {
    "colab_type": "text",
    "id": "y_w6VNGjR3Bo"
   },
   "source": [
    "### Results\n"
   ]
  },
  {
   "cell_type": "code",
   "execution_count": 119,
   "metadata": {
    "ExecuteTime": {
     "end_time": "2020-05-22T14:32:58.676880Z",
     "start_time": "2020-05-22T14:32:48.356988Z"
    },
    "colab": {},
    "colab_type": "code",
    "id": "MjuL0KzSJ1W_"
   },
   "outputs": [],
   "source": [
    "y_pred_train_b = ar_model.predict(X_train)\n",
    "y_pred_test_b = ar_model.predict(X_test)"
   ]
  },
  {
   "cell_type": "code",
   "execution_count": 120,
   "metadata": {
    "ExecuteTime": {
     "end_time": "2020-05-22T14:33:00.323955Z",
     "start_time": "2020-05-22T14:32:58.680320Z"
    },
    "colab": {
     "base_uri": "https://localhost:8080/",
     "height": 282
    },
    "colab_type": "code",
    "executionInfo": {
     "elapsed": 3372,
     "status": "ok",
     "timestamp": 1589212084748,
     "user": {
      "displayName": "Duong Hung",
      "photoUrl": "https://lh3.googleusercontent.com/a-/AOh14Ggfgs4FqFN7Yq3pQXoVHeQcc9w9kDV_fAGoQ3Nx4nk=s64",
      "userId": "01608720095171318435"
     },
     "user_tz": 300
    },
    "id": "VztLN6EAJ1XF",
    "outputId": "3d94521b-8b9a-4de4-abd4-a86de535d45c"
   },
   "outputs": [
    {
     "data": {
      "text/plain": [
       "<matplotlib.collections.PathCollection at 0x16602080b08>"
      ]
     },
     "execution_count": 120,
     "metadata": {},
     "output_type": "execute_result"
    },
    {
     "data": {
      "image/png": "[encoded data removed]",
      "text/plain": [
       "<Figure size 432x288 with 1 Axes>"
      ]
     },
     "metadata": {
      "needs_background": "light"
     },
     "output_type": "display_data"
    }
   ],
   "source": [
    "plt.scatter(np.arange(len(y_test)),y_pred_test_b)"
   ]
  },
  {
   "cell_type": "code",
   "execution_count": 121,
   "metadata": {
    "ExecuteTime": {
     "end_time": "2020-05-22T14:33:01.793122Z",
     "start_time": "2020-05-22T14:33:00.327241Z"
    },
    "colab": {
     "base_uri": "https://localhost:8080/",
     "height": 329
    },
    "colab_type": "code",
    "executionInfo": {
     "elapsed": 1678,
     "status": "ok",
     "timestamp": 1589212086488,
     "user": {
      "displayName": "Duong Hung",
      "photoUrl": "https://lh3.googleusercontent.com/a-/AOh14Ggfgs4FqFN7Yq3pQXoVHeQcc9w9kDV_fAGoQ3Nx4nk=s64",
      "userId": "01608720095171318435"
     },
     "user_tz": 300
    },
    "id": "7FZsUwCmJ1XJ",
    "outputId": "b46aa674-055e-4148-d66f-6845ce261630"
   },
   "outputs": [
    {
     "name": "stdout",
     "output_type": "stream",
     "text": [
      "[[97471     0]\n",
      " [  299     0]]\n",
      "              precision    recall  f1-score   support\n",
      "\n",
      "     Class 0       1.00      1.00      1.00     97471\n",
      "     Class 1       0.00      0.00      0.00       299\n",
      "\n",
      "    accuracy                           1.00     97770\n",
      "   macro avg       0.50      0.50      0.50     97770\n",
      "weighted avg       0.99      1.00      1.00     97770\n",
      "\n"
     ]
    },
    {
     "name": "stderr",
     "output_type": "stream",
     "text": [
      "C:\\Anaconda\\envs\\tf\\lib\\site-packages\\sklearn\\metrics\\_classification.py:1272: UndefinedMetricWarning: Precision and F-score are ill-defined and being set to 0.0 in labels with no predicted samples. Use `zero_division` parameter to control this behavior.\n",
      "  _warn_prf(average, modifier, msg_start, len(result))\n",
      "C:\\Anaconda\\envs\\tf\\lib\\site-packages\\ipykernel_launcher.py:2: RuntimeWarning: invalid value encountered in true_divide\n",
      "  \n"
     ]
    },
    {
     "data": {
      "text/html": [
       "<div>\n",
       "<style scoped>\n",
       "    .dataframe tbody tr th:only-of-type {\n",
       "        vertical-align: middle;\n",
       "    }\n",
       "\n",
       "    .dataframe tbody tr th {\n",
       "        vertical-align: top;\n",
       "    }\n",
       "\n",
       "    .dataframe thead th {\n",
       "        text-align: right;\n",
       "    }\n",
       "</style>\n",
       "<table border=\"1\" class=\"dataframe\">\n",
       "  <thead>\n",
       "    <tr style=\"text-align: right;\">\n",
       "      <th></th>\n",
       "      <th>Precision</th>\n",
       "      <th>n_p</th>\n",
       "      <th>CI_p</th>\n",
       "      <th>Recall</th>\n",
       "      <th>n_r</th>\n",
       "      <th>CI_r</th>\n",
       "    </tr>\n",
       "  </thead>\n",
       "  <tbody>\n",
       "    <tr>\n",
       "      <th>0</th>\n",
       "      <td>99.69418</td>\n",
       "      <td>97770</td>\n",
       "      <td>0.034612</td>\n",
       "      <td>100.00000</td>\n",
       "      <td>97471</td>\n",
       "      <td>0.000000</td>\n",
       "    </tr>\n",
       "    <tr>\n",
       "      <th>1</th>\n",
       "      <td>NaN</td>\n",
       "      <td>0</td>\n",
       "      <td>NaN</td>\n",
       "      <td>0.00000</td>\n",
       "      <td>299</td>\n",
       "      <td>0.000000</td>\n",
       "    </tr>\n",
       "    <tr>\n",
       "      <th>Global</th>\n",
       "      <td>99.69418</td>\n",
       "      <td>97770</td>\n",
       "      <td>0.034612</td>\n",
       "      <td>99.69418</td>\n",
       "      <td>97770</td>\n",
       "      <td>0.034612</td>\n",
       "    </tr>\n",
       "  </tbody>\n",
       "</table>\n",
       "</div>"
      ],
      "text/plain": [
       "        Precision    n_p      CI_p     Recall    n_r      CI_r\n",
       "0        99.69418  97770  0.034612  100.00000  97471  0.000000\n",
       "1             NaN      0       NaN    0.00000    299  0.000000\n",
       "Global   99.69418  97770  0.034612   99.69418  97770  0.034612"
      ]
     },
     "execution_count": 121,
     "metadata": {},
     "output_type": "execute_result"
    }
   ],
   "source": [
    "show_cm(y_test,y_pred_test_b)"
   ]
  },
  {
   "cell_type": "code",
   "execution_count": 122,
   "metadata": {
    "ExecuteTime": {
     "end_time": "2020-05-22T14:33:02.201389Z",
     "start_time": "2020-05-22T14:33:01.796616Z"
    },
    "colab": {
     "base_uri": "https://localhost:8080/",
     "height": 499
    },
    "colab_type": "code",
    "executionInfo": {
     "elapsed": 845,
     "status": "ok",
     "timestamp": 1589212097527,
     "user": {
      "displayName": "Duong Hung",
      "photoUrl": "https://lh3.googleusercontent.com/a-/AOh14Ggfgs4FqFN7Yq3pQXoVHeQcc9w9kDV_fAGoQ3Nx4nk=s64",
      "userId": "01608720095171318435"
     },
     "user_tz": 300
    },
    "id": "6xa4zTcUXo-V",
    "outputId": "4665748c-7a91-4df4-b57a-73338aa797f7"
   },
   "outputs": [
    {
     "data": {
      "image/png": "[encoded data removed]",
      "text/plain": [
       "<Figure size 576x576 with 1 Axes>"
      ]
     },
     "metadata": {
      "needs_background": "light"
     },
     "output_type": "display_data"
    }
   ],
   "source": [
    "plt.figure(figsize=(8,8))\n",
    "plot_roc('Base model - train',y_train,y_pred_train_b)\n",
    "plot_roc('Base model - test',y_test,y_pred_test_b)\n",
    "plt.legend()\n",
    "plt.show()"
   ]
  },
  {
   "cell_type": "markdown",
   "metadata": {},
   "source": [
    "## Create model 2"
   ]
  },
  {
   "cell_type": "code",
   "execution_count": 123,
   "metadata": {
    "ExecuteTime": {
     "end_time": "2020-05-22T14:33:02.214345Z",
     "start_time": "2020-05-22T14:33:02.204366Z"
    }
   },
   "outputs": [],
   "source": [
    "def create_model2(nodes=20,actih='relu',actio='sigmoid',lr=1e-3,logits=False):\n",
    "    \n",
    "    #output_bias = tf.keras.initializers.Constant(initial_bias)\n",
    "    model = keras.Sequential()\n",
    "    model.add(keras.layers.Dense(nodes, activation=actih,input_dim=X_train.shape[1]))\n",
    "    model.add(keras.layers.Dropout(0.5))\n",
    "    model.add(keras.layers.Dense(1, activation=actio,bias_initializer=None))\n",
    "    \n",
    "    model.compile(optimizer=keras.optimizers.Adam(lr=lr),\n",
    "                  loss=keras.losses.BinaryCrossentropy(from_logits=logits),\n",
    "                  metrics=metrics)\n",
    "    model.load_weights(initial_weights)\n",
    "    return model"
   ]
  },
  {
   "cell_type": "markdown",
   "metadata": {
    "ExecuteTime": {
     "end_time": "2020-05-08T22:47:44.768449Z",
     "start_time": "2020-05-08T22:47:44.455029Z"
    },
    "colab_type": "text",
    "id": "loWcs-MKJ1XR"
   },
   "source": [
    "# Class weight"
   ]
  },
  {
   "cell_type": "markdown",
   "metadata": {
    "colab_type": "text",
    "id": "mDLuSQMabKFn"
   },
   "source": [
    "### Class weight estimation"
   ]
  },
  {
   "cell_type": "code",
   "execution_count": 124,
   "metadata": {
    "ExecuteTime": {
     "end_time": "2020-05-22T14:33:02.231314Z",
     "start_time": "2020-05-22T14:33:02.217838Z"
    },
    "colab": {
     "base_uri": "https://localhost:8080/",
     "height": 51
    },
    "colab_type": "code",
    "executionInfo": {
     "elapsed": 560,
     "status": "ok",
     "timestamp": 1589212124813,
     "user": {
      "displayName": "Duong Hung",
      "photoUrl": "https://lh3.googleusercontent.com/a-/AOh14Ggfgs4FqFN7Yq3pQXoVHeQcc9w9kDV_fAGoQ3Nx4nk=s64",
      "userId": "01608720095171318435"
     },
     "user_tz": 300
    },
    "id": "y1tT_8gBbIl_",
    "outputId": "ae412364-1a30-41c6-9138-81f52d3aca5c"
   },
   "outputs": [
    {
     "name": "stdout",
     "output_type": "stream",
     "text": [
      "Weight for class 0: 0.50\n",
      "Weight for class 1: 163.60\n"
     ]
    }
   ],
   "source": [
    "# Scaling by total/2 helps keep the loss to a similar magnitude.\n",
    "# The sum of the weights of all examples stays the same.\n",
    "weight_for_0 = (1 / neg)*(total)/2.0 \n",
    "weight_for_1 = (1 / pos)*(total)/2.0\n",
    "\n",
    "class_weight = {0: weight_for_0, 1: weight_for_1}\n",
    "\n",
    "print('Weight for class 0: {:.2f}'.format(weight_for_0))\n",
    "print('Weight for class 1: {:.2f}'.format(weight_for_1))"
   ]
  },
  {
   "cell_type": "markdown",
   "metadata": {
    "colab_type": "text",
    "id": "-G092TzzbPWJ"
   },
   "source": [
    "### Run model with class weight"
   ]
  },
  {
   "cell_type": "code",
   "execution_count": 125,
   "metadata": {
    "ExecuteTime": {
     "end_time": "2020-05-22T14:35:02.248095Z",
     "start_time": "2020-05-22T14:33:02.234307Z"
    },
    "colab": {
     "base_uri": "https://localhost:8080/",
     "height": 632
    },
    "colab_type": "code",
    "executionInfo": {
     "elapsed": 62769,
     "status": "ok",
     "timestamp": 1589212342424,
     "user": {
      "displayName": "Duong Hung",
      "photoUrl": "https://lh3.googleusercontent.com/a-/AOh14Ggfgs4FqFN7Yq3pQXoVHeQcc9w9kDV_fAGoQ3Nx4nk=s64",
      "userId": "01608720095171318435"
     },
     "user_tz": 300
    },
    "id": "s1fC3msPblwo",
    "outputId": "d1d46aba-7fe9-4bb6-f440-0aa47b99808d",
    "scrolled": true
   },
   "outputs": [
    {
     "name": "stdout",
     "output_type": "stream",
     "text": [
      "Train for 153 steps, validate for 39 steps\n",
      "Epoch 1/100\n",
      "153/153 [==============================] - 7s 48ms/step - loss: 1.4406 - accuracy: 0.9801 - precision: 0.0599 - recall: 0.3745 - auc: 0.7785 - val_loss: 0.6399 - val_accuracy: 0.9737 - val_precision: 0.0716 - val_recall: 0.6360 - val_auc: 0.9183\n",
      "Epoch 2/100\n",
      "153/153 [==============================] - 5s 32ms/step - loss: 0.7027 - accuracy: 0.9356 - precision: 0.0309 - recall: 0.6611 - auc: 0.8818 - val_loss: 0.4120 - val_accuracy: 0.9320 - val_precision: 0.0355 - val_recall: 0.8117 - val_auc: 0.9373\n",
      "Epoch 3/100\n",
      "153/153 [==============================] - 5s 34ms/step - loss: 0.5588 - accuracy: 0.9046 - precision: 0.0238 - recall: 0.7552 - auc: 0.9072 - val_loss: 0.3758 - val_accuracy: 0.9210 - val_precision: 0.0317 - val_recall: 0.8410 - val_auc: 0.9427\n",
      "Epoch 4/100\n",
      "153/153 [==============================] - 5s 33ms/step - loss: 0.5286 - accuracy: 0.8954 - precision: 0.0223 - recall: 0.7772 - auc: 0.9123 - val_loss: 0.3519 - val_accuracy: 0.9171 - val_precision: 0.0306 - val_recall: 0.8536 - val_auc: 0.9467\n",
      "Epoch 5/100\n",
      "153/153 [==============================] - 5s 33ms/step - loss: 0.4917 - accuracy: 0.8988 - precision: 0.0233 - recall: 0.7866 - auc: 0.9167 - val_loss: 0.3329 - val_accuracy: 0.9213 - val_precision: 0.0324 - val_recall: 0.8577 - val_auc: 0.9491\n",
      "Epoch 6/100\n",
      "153/153 [==============================] - 5s 32ms/step - loss: 0.4907 - accuracy: 0.9026 - precision: 0.0242 - recall: 0.7845 - auc: 0.9148 - val_loss: 0.3507 - val_accuracy: 0.9197 - val_precision: 0.0325 - val_recall: 0.8787 - val_auc: 0.9511\n",
      "Epoch 7/100\n",
      "153/153 [==============================] - 5s 33ms/step - loss: 0.4452 - accuracy: 0.9037 - precision: 0.0248 - recall: 0.7950 - auc: 0.9258 - val_loss: 0.3237 - val_accuracy: 0.9224 - val_precision: 0.0335 - val_recall: 0.8745 - val_auc: 0.9514\n",
      "Epoch 8/100\n",
      "153/153 [==============================] - 5s 32ms/step - loss: 0.4162 - accuracy: 0.9051 - precision: 0.0254 - recall: 0.8054 - auc: 0.9327 - val_loss: 0.3061 - val_accuracy: 0.9195 - val_precision: 0.0326 - val_recall: 0.8828 - val_auc: 0.9536\n",
      "Epoch 9/100\n",
      "153/153 [==============================] - 5s 33ms/step - loss: 0.4020 - accuracy: 0.9024 - precision: 0.0249 - recall: 0.8107 - auc: 0.9341 - val_loss: 0.2982 - val_accuracy: 0.9206 - val_precision: 0.0331 - val_recall: 0.8870 - val_auc: 0.9546\n",
      "Epoch 10/100\n",
      "153/153 [==============================] - 5s 33ms/step - loss: 0.3845 - accuracy: 0.9039 - precision: 0.0256 - recall: 0.8201 - auc: 0.9381 - val_loss: 0.2980 - val_accuracy: 0.9180 - val_precision: 0.0320 - val_recall: 0.8828 - val_auc: 0.9549\n",
      "Epoch 11/100\n",
      "153/153 [==============================] - 5s 33ms/step - loss: 0.3726 - accuracy: 0.9036 - precision: 0.0258 - recall: 0.8305 - auc: 0.9417 - val_loss: 0.2980 - val_accuracy: 0.9201 - val_precision: 0.0328 - val_recall: 0.8828 - val_auc: 0.9549ccuracy: 0.9036 - precision: 0.0259 - recall: 0.8304 - auc: 0.941\n",
      "Epoch 12/100\n",
      "153/153 [==============================] - 5s 34ms/step - loss: 0.3673 - accuracy: 0.9073 - precision: 0.0266 - recall: 0.8232 - auc: 0.9417 - val_loss: 0.2971 - val_accuracy: 0.9206 - val_precision: 0.0329 - val_recall: 0.8787 - val_auc: 0.9551\n",
      "Epoch 13/100\n",
      "153/153 [==============================] - 5s 36ms/step - loss: 0.3470 - accuracy: 0.9084 - precision: 0.0271 - recall: 0.8295 - auc: 0.9469 - val_loss: 0.2923 - val_accuracy: 0.9239 - val_precision: 0.0341 - val_recall: 0.8745 - val_auc: 0.9557\n",
      "Epoch 14/100\n",
      "153/153 [==============================] - 5s 35ms/step - loss: 0.3633 - accuracy: 0.9117 - precision: 0.0278 - recall: 0.8201 - auc: 0.9429 - val_loss: 0.2980 - val_accuracy: 0.9177 - val_precision: 0.0317 - val_recall: 0.8787 - val_auc: 0.9547\n",
      "Epoch 15/100\n",
      "153/153 [==============================] - 6s 37ms/step - loss: 0.3533 - accuracy: 0.9109 - precision: 0.0279 - recall: 0.8316 - auc: 0.9434 - val_loss: 0.2931 - val_accuracy: 0.9173 - val_precision: 0.0319 - val_recall: 0.8870 - val_auc: 0.9550\n",
      "Epoch 16/100\n",
      "153/153 [==============================] - 5s 33ms/step - loss: 0.3627 - accuracy: 0.9036 - precision: 0.0257 - recall: 0.8274 - auc: 0.9426 - val_loss: 0.2927 - val_accuracy: 0.9207 - val_precision: 0.0329 - val_recall: 0.8787 - val_auc: 0.9546\n",
      "Epoch 17/100\n",
      "153/153 [==============================] - 5s 34ms/step - loss: 0.3415 - accuracy: 0.9083 - precision: 0.0272 - recall: 0.8337 - auc: 0.9476 - val_loss: 0.2924 - val_accuracy: 0.9207 - val_precision: 0.0329 - val_recall: 0.8787 - val_auc: 0.9550\n",
      "Epoch 18/100\n",
      "153/153 [==============================] - 5s 34ms/step - loss: 0.3319 - accuracy: 0.9126 - precision: 0.0288 - recall: 0.8441 - auc: 0.9488 - val_loss: 0.2932 - val_accuracy: 0.9235 - val_precision: 0.0337 - val_recall: 0.8703 - val_auc: 0.9545\n",
      "Epoch 19/100\n",
      "153/153 [==============================] - 5s 32ms/step - loss: 0.3393 - accuracy: 0.9092 - precision: 0.0273 - recall: 0.8295 - auc: 0.9478 - val_loss: 0.3178 - val_accuracy: 0.9227 - val_precision: 0.0334 - val_recall: 0.8703 - val_auc: 0.9538\n",
      "Epoch 20/100\n",
      "153/153 [==============================] - 5s 32ms/step - loss: 0.3340 - accuracy: 0.9127 - precision: 0.0285 - recall: 0.8347 - auc: 0.9492 - val_loss: 0.2909 - val_accuracy: 0.9199 - val_precision: 0.0326 - val_recall: 0.8787 - val_auc: 0.9546\n",
      "Epoch 21/100\n",
      "153/153 [==============================] - 5s 32ms/step - loss: 0.3208 - accuracy: 0.9121 - precision: 0.0286 - recall: 0.8431 - auc: 0.9512 - val_loss: 0.2918 - val_accuracy: 0.9181 - val_precision: 0.0320 - val_recall: 0.8828 - val_auc: 0.9540\n",
      "Epoch 22/100\n",
      "153/153 [==============================] - 5s 32ms/step - loss: 0.3183 - accuracy: 0.9108 - precision: 0.0282 - recall: 0.8410 - auc: 0.9510 - val_loss: 0.2905 - val_accuracy: 0.9218 - val_precision: 0.0334 - val_recall: 0.8787 - val_auc: 0.9537\n",
      "Epoch 23/100\n",
      "151/153 [============================>.] - ETA: 0s - loss: 0.3134 - accuracy: 0.9127 - precision: 0.0293 - recall: 0.8564 - auc: 0.9531Restoring model weights from the end of the best epoch.\n",
      "153/153 [==============================] - 5s 33ms/step - loss: 0.3168 - accuracy: 0.9128 - precision: 0.0292 - recall: 0.8536 - auc: 0.9521 - val_loss: 0.2843 - val_accuracy: 0.9236 - val_precision: 0.0341 - val_recall: 0.8787 - val_auc: 0.9539\n",
      "Epoch 00023: early stopping\n",
      "Computation time:  1.999533748626709  min\n"
     ]
    }
   ],
   "source": [
    "tf.random.set_seed(8)\n",
    "start_time=time.time()\n",
    "ar_wei_model=create_model2()\n",
    "Monitor = ar_wei_model.fit(data_train, epochs=100,callbacks=[es],validation_data = data_val,class_weight=class_weight, verbose = 1)\n",
    "end_time=time.time()\n",
    "print('Computation time: ', (end_time-start_time)/60, ' min')"
   ]
  },
  {
   "cell_type": "code",
   "execution_count": 126,
   "metadata": {
    "ExecuteTime": {
     "end_time": "2020-05-22T14:35:02.768530Z",
     "start_time": "2020-05-22T14:35:02.251088Z"
    },
    "colab": {
     "base_uri": "https://localhost:8080/",
     "height": 534
    },
    "colab_type": "code",
    "executionInfo": {
     "elapsed": 1372,
     "status": "ok",
     "timestamp": 1589212417735,
     "user": {
      "displayName": "Duong Hung",
      "photoUrl": "https://lh3.googleusercontent.com/a-/AOh14Ggfgs4FqFN7Yq3pQXoVHeQcc9w9kDV_fAGoQ3Nx4nk=s64",
      "userId": "01608720095171318435"
     },
     "user_tz": 300
    },
    "id": "gbJOrd5cb8dr",
    "outputId": "e261e90b-2a3f-432c-bb61-2319a0ccbf69"
   },
   "outputs": [
    {
     "data": {
      "image/png": "[encoded data removed]",
      "text/plain": [
       "<Figure size 1500x600 with 2 Axes>"
      ]
     },
     "metadata": {
      "needs_background": "light"
     },
     "output_type": "display_data"
    }
   ],
   "source": [
    "hist = pd.DataFrame(Monitor.history)\n",
    "fig, axes = plt.subplots(nrows=1, ncols=2,figsize=(10,4),dpi=150)\n",
    "hist[['loss','val_loss']].plot(ax=axes[0])\n",
    "hist[['auc','val_auc']].plot(ax=axes[1])\n",
    "plt.show()"
   ]
  },
  {
   "cell_type": "code",
   "execution_count": 127,
   "metadata": {
    "ExecuteTime": {
     "end_time": "2020-05-22T14:35:12.892418Z",
     "start_time": "2020-05-22T14:35:02.771525Z"
    },
    "colab": {
     "base_uri": "https://localhost:8080/",
     "height": 265
    },
    "colab_type": "code",
    "executionInfo": {
     "elapsed": 11135,
     "status": "ok",
     "timestamp": 1589212463657,
     "user": {
      "displayName": "Duong Hung",
      "photoUrl": "https://lh3.googleusercontent.com/a-/AOh14Ggfgs4FqFN7Yq3pQXoVHeQcc9w9kDV_fAGoQ3Nx4nk=s64",
      "userId": "01608720095171318435"
     },
     "user_tz": 300
    },
    "id": "tNkmcPN9b8aA",
    "outputId": "e1073989-f3c6-466f-a563-476a4a77b342"
   },
   "outputs": [],
   "source": [
    "y_pred_train_ar_wei = ar_wei_model.predict(X_train)\n",
    "y_pred_test_ar_wei = ar_wei_model.predict(X_test)"
   ]
  },
  {
   "cell_type": "code",
   "execution_count": 128,
   "metadata": {
    "ExecuteTime": {
     "end_time": "2020-05-22T14:35:13.795240Z",
     "start_time": "2020-05-22T14:35:12.895910Z"
    },
    "colab": {
     "base_uri": "https://localhost:8080/",
     "height": 265
    },
    "colab_type": "code",
    "executionInfo": {
     "elapsed": 3409,
     "status": "ok",
     "timestamp": 1589212486193,
     "user": {
      "displayName": "Duong Hung",
      "photoUrl": "https://lh3.googleusercontent.com/a-/AOh14Ggfgs4FqFN7Yq3pQXoVHeQcc9w9kDV_fAGoQ3Nx4nk=s64",
      "userId": "01608720095171318435"
     },
     "user_tz": 300
    },
    "id": "g1AwenWlcgTC",
    "outputId": "9fac0fc0-4f27-4f1c-ddd2-87d4af6130aa"
   },
   "outputs": [
    {
     "data": {
      "image/png": "[encoded data removed]",
      "text/plain": [
       "<Figure size 432x288 with 1 Axes>"
      ]
     },
     "metadata": {
      "needs_background": "light"
     },
     "output_type": "display_data"
    }
   ],
   "source": [
    "plt.scatter(np.arange(len(y_test)),y_pred_test_ar_wei,s=0.1)\n",
    "plt.show()"
   ]
  },
  {
   "cell_type": "code",
   "execution_count": 129,
   "metadata": {
    "ExecuteTime": {
     "end_time": "2020-05-22T14:35:14.303293Z",
     "start_time": "2020-05-22T14:35:13.797736Z"
    },
    "colab": {
     "base_uri": "https://localhost:8080/",
     "height": 329
    },
    "colab_type": "code",
    "executionInfo": {
     "elapsed": 7794,
     "status": "ok",
     "timestamp": 1589212463659,
     "user": {
      "displayName": "Duong Hung",
      "photoUrl": "https://lh3.googleusercontent.com/a-/AOh14Ggfgs4FqFN7Yq3pQXoVHeQcc9w9kDV_fAGoQ3Nx4nk=s64",
      "userId": "01608720095171318435"
     },
     "user_tz": 300
    },
    "id": "5kiSMFi8b8Xp",
    "outputId": "73032199-61f6-4460-a8f8-c254d9b502d9"
   },
   "outputs": [
    {
     "name": "stdout",
     "output_type": "stream",
     "text": [
      "[[89963  7508]\n",
      " [   52   247]]\n",
      "              precision    recall  f1-score   support\n",
      "\n",
      "     Class 0       1.00      0.92      0.96     97471\n",
      "     Class 1       0.03      0.83      0.06       299\n",
      "\n",
      "    accuracy                           0.92     97770\n",
      "   macro avg       0.52      0.87      0.51     97770\n",
      "weighted avg       1.00      0.92      0.96     97770\n",
      "\n"
     ]
    },
    {
     "data": {
      "text/html": [
       "<div>\n",
       "<style scoped>\n",
       "    .dataframe tbody tr th:only-of-type {\n",
       "        vertical-align: middle;\n",
       "    }\n",
       "\n",
       "    .dataframe tbody tr th {\n",
       "        vertical-align: top;\n",
       "    }\n",
       "\n",
       "    .dataframe thead th {\n",
       "        text-align: right;\n",
       "    }\n",
       "</style>\n",
       "<table border=\"1\" class=\"dataframe\">\n",
       "  <thead>\n",
       "    <tr style=\"text-align: right;\">\n",
       "      <th></th>\n",
       "      <th>Precision</th>\n",
       "      <th>n_p</th>\n",
       "      <th>CI_p</th>\n",
       "      <th>Recall</th>\n",
       "      <th>n_r</th>\n",
       "      <th>CI_r</th>\n",
       "    </tr>\n",
       "  </thead>\n",
       "  <tbody>\n",
       "    <tr>\n",
       "      <th>0</th>\n",
       "      <td>99.942232</td>\n",
       "      <td>90015</td>\n",
       "      <td>0.015697</td>\n",
       "      <td>92.297196</td>\n",
       "      <td>97471</td>\n",
       "      <td>0.167393</td>\n",
       "    </tr>\n",
       "    <tr>\n",
       "      <th>1</th>\n",
       "      <td>3.185042</td>\n",
       "      <td>7755</td>\n",
       "      <td>0.390835</td>\n",
       "      <td>82.608696</td>\n",
       "      <td>299</td>\n",
       "      <td>4.296348</td>\n",
       "    </tr>\n",
       "    <tr>\n",
       "      <th>Global</th>\n",
       "      <td>92.267567</td>\n",
       "      <td>97770</td>\n",
       "      <td>0.167431</td>\n",
       "      <td>92.267567</td>\n",
       "      <td>97770</td>\n",
       "      <td>0.167431</td>\n",
       "    </tr>\n",
       "  </tbody>\n",
       "</table>\n",
       "</div>"
      ],
      "text/plain": [
       "        Precision    n_p      CI_p     Recall    n_r      CI_r\n",
       "0       99.942232  90015  0.015697  92.297196  97471  0.167393\n",
       "1        3.185042   7755  0.390835  82.608696    299  4.296348\n",
       "Global  92.267567  97770  0.167431  92.267567  97770  0.167431"
      ]
     },
     "execution_count": 129,
     "metadata": {},
     "output_type": "execute_result"
    }
   ],
   "source": [
    "show_cm(y_test,y_pred_test_ar_wei)"
   ]
  },
  {
   "cell_type": "code",
   "execution_count": 130,
   "metadata": {
    "ExecuteTime": {
     "end_time": "2020-05-22T14:35:14.937939Z",
     "start_time": "2020-05-22T14:35:14.306288Z"
    },
    "colab": {
     "base_uri": "https://localhost:8080/",
     "height": 499
    },
    "colab_type": "code",
    "executionInfo": {
     "elapsed": 7406,
     "status": "ok",
     "timestamp": 1589212464432,
     "user": {
      "displayName": "Duong Hung",
      "photoUrl": "https://lh3.googleusercontent.com/a-/AOh14Ggfgs4FqFN7Yq3pQXoVHeQcc9w9kDV_fAGoQ3Nx4nk=s64",
      "userId": "01608720095171318435"
     },
     "user_tz": 300
    },
    "id": "l3yBCZz7b8So",
    "outputId": "830f11a0-c00c-4b93-b316-669e9eb4d4cd",
    "scrolled": false
   },
   "outputs": [
    {
     "data": {
      "image/png": "[encoded data removed]",
      "text/plain": [
       "<Figure size 576x576 with 1 Axes>"
      ]
     },
     "metadata": {
      "needs_background": "light"
     },
     "output_type": "display_data"
    }
   ],
   "source": [
    "plt.figure(figsize=(8,8))\n",
    "plot_roc('Base model - train',y_train,y_pred_train_b)\n",
    "plot_roc('Base model - test',y_test,y_pred_test_b)\n",
    "plot_roc('Ar weight - train',y_train,y_pred_train_ar_wei)\n",
    "plot_roc('Ar weight - test',y_test,y_pred_test_ar_wei)\n",
    "plt.legend()\n",
    "plt.show()"
   ]
  },
  {
   "cell_type": "markdown",
   "metadata": {
    "colab_type": "text",
    "id": "aWU3EsR1j4hR"
   },
   "source": [
    "## Optimized model\n"
   ]
  },
  {
   "cell_type": "code",
   "execution_count": 131,
   "metadata": {
    "ExecuteTime": {
     "end_time": "2020-05-22T14:36:35.822432Z",
     "start_time": "2020-05-22T14:35:14.940608Z"
    },
    "colab": {
     "base_uri": "https://localhost:8080/",
     "height": 816
    },
    "colab_type": "code",
    "executionInfo": {
     "elapsed": 79540,
     "status": "ok",
     "timestamp": 1589215157368,
     "user": {
      "displayName": "Duong Hung",
      "photoUrl": "https://lh3.googleusercontent.com/a-/AOh14Ggfgs4FqFN7Yq3pQXoVHeQcc9w9kDV_fAGoQ3Nx4nk=s64",
      "userId": "01608720095171318435"
     },
     "user_tz": 300
    },
    "id": "91RuQ-tob8Lt",
    "outputId": "a4f66394-beb4-4ad5-d2eb-15d62b9200d5"
   },
   "outputs": [
    {
     "name": "stdout",
     "output_type": "stream",
     "text": [
      "WARNING:tensorflow:sample_weight modes were coerced from\n",
      "  ...\n",
      "    to  \n",
      "  ['...']\n",
      "WARNING:tensorflow:sample_weight modes were coerced from\n",
      "  ...\n",
      "    to  \n",
      "  ['...']\n",
      "Train on 312863 samples, validate on 78216 samples\n",
      "Epoch 1/100\n",
      "312863/312863 [==============================] - 8s 25us/sample - loss: 1.1447 - accuracy: 0.8440 - precision: 0.0048 - recall: 0.2416 - auc: 0.5130 - val_loss: 0.6523 - val_accuracy: 0.9027 - val_precision: 0.0179 - val_recall: 0.5732 - val_auc: 0.7791\n",
      "Epoch 2/100\n",
      "312863/312863 [==============================] - 2s 8us/sample - loss: 0.7638 - accuracy: 0.8661 - precision: 0.0097 - recall: 0.4215 - auc: 0.6895 - val_loss: 0.4687 - val_accuracy: 0.9096 - val_precision: 0.0246 - val_recall: 0.7406 - val_auc: 0.8834\n",
      "Epoch 3/100\n",
      "312863/312863 [==============================] - 2s 8us/sample - loss: 0.5844 - accuracy: 0.8846 - precision: 0.0144 - recall: 0.5471 - auc: 0.7897 - val_loss: 0.4126 - val_accuracy: 0.9168 - val_precision: 0.0283 - val_recall: 0.7866 - val_auc: 0.9084\n",
      "Epoch 4/100\n",
      "312863/312863 [==============================] - 2s 7us/sample - loss: 0.5475 - accuracy: 0.8954 - precision: 0.0168 - recall: 0.5764 - auc: 0.8152 - val_loss: 0.3857 - val_accuracy: 0.9201 - val_precision: 0.0300 - val_recall: 0.8033 - val_auc: 0.9225\n",
      "Epoch 5/100\n",
      "312863/312863 [==============================] - 2s 7us/sample - loss: 0.5113 - accuracy: 0.9001 - precision: 0.0188 - recall: 0.6203 - auc: 0.8376 - val_loss: 0.3614 - val_accuracy: 0.9181 - val_precision: 0.0299 - val_recall: 0.8201 - val_auc: 0.9328\n",
      "Epoch 6/100\n",
      "312863/312863 [==============================] - 2s 7us/sample - loss: 0.4822 - accuracy: 0.9034 - precision: 0.0197 - recall: 0.6287 - auc: 0.8566 - val_loss: 0.3427 - val_accuracy: 0.9190 - val_precision: 0.0306 - val_recall: 0.8326 - val_auc: 0.9410\n",
      "Epoch 7/100\n",
      "312863/312863 [==============================] - 2s 7us/sample - loss: 0.4623 - accuracy: 0.9058 - precision: 0.0204 - recall: 0.6339 - auc: 0.8632 - val_loss: 0.3280 - val_accuracy: 0.9128 - val_precision: 0.0292 - val_recall: 0.8536 - val_auc: 0.9451\n",
      "Epoch 8/100\n",
      "312863/312863 [==============================] - 2s 7us/sample - loss: 0.4485 - accuracy: 0.9036 - precision: 0.0206 - recall: 0.6569 - auc: 0.8708 - val_loss: 0.3176 - val_accuracy: 0.9130 - val_precision: 0.0299 - val_recall: 0.8745 - val_auc: 0.9486\n",
      "Epoch 9/100\n",
      "312863/312863 [==============================] - 2s 7us/sample - loss: 0.4218 - accuracy: 0.9094 - precision: 0.0226 - recall: 0.6778 - auc: 0.8863 - val_loss: 0.3117 - val_accuracy: 0.9168 - val_precision: 0.0315 - val_recall: 0.8828 - val_auc: 0.9508\n",
      "Epoch 10/100\n",
      "312863/312863 [==============================] - 2s 7us/sample - loss: 0.4335 - accuracy: 0.9106 - precision: 0.0219 - recall: 0.6475 - auc: 0.8785 - val_loss: 0.3061 - val_accuracy: 0.9166 - val_precision: 0.0315 - val_recall: 0.8828 - val_auc: 0.9525\n",
      "Epoch 11/100\n",
      "312863/312863 [==============================] - 2s 7us/sample - loss: 0.4056 - accuracy: 0.9129 - precision: 0.0236 - recall: 0.6820 - auc: 0.8930 - val_loss: 0.3006 - val_accuracy: 0.9172 - val_precision: 0.0315 - val_recall: 0.8787 - val_auc: 0.9530\n",
      "Epoch 12/100\n",
      "312863/312863 [==============================] - 2s 7us/sample - loss: 0.4281 - accuracy: 0.9129 - precision: 0.0225 - recall: 0.6485 - auc: 0.8833 - val_loss: 0.2969 - val_accuracy: 0.9150 - val_precision: 0.0308 - val_recall: 0.8787 - val_auc: 0.9540\n",
      "Epoch 13/100\n",
      "312863/312863 [==============================] - 2s 7us/sample - loss: 0.4106 - accuracy: 0.9104 - precision: 0.0224 - recall: 0.6632 - auc: 0.8932 - val_loss: 0.2938 - val_accuracy: 0.9121 - val_precision: 0.0303 - val_recall: 0.8954 - val_auc: 0.9545\n",
      "Epoch 14/100\n",
      "312863/312863 [==============================] - 2s 7us/sample - loss: 0.4071 - accuracy: 0.9112 - precision: 0.0229 - recall: 0.6736 - auc: 0.8957 - val_loss: 0.2897 - val_accuracy: 0.9118 - val_precision: 0.0301 - val_recall: 0.8912 - val_auc: 0.9558\n",
      "Epoch 15/100\n",
      "312863/312863 [==============================] - 2s 7us/sample - loss: 0.3938 - accuracy: 0.9115 - precision: 0.0231 - recall: 0.6778 - auc: 0.9002 - val_loss: 0.2848 - val_accuracy: 0.9113 - val_precision: 0.0299 - val_recall: 0.8912 - val_auc: 0.9568\n",
      "Epoch 16/100\n",
      "312863/312863 [==============================] - 2s 7us/sample - loss: 0.3961 - accuracy: 0.9132 - precision: 0.0235 - recall: 0.6757 - auc: 0.8975 - val_loss: 0.2842 - val_accuracy: 0.9117 - val_precision: 0.0300 - val_recall: 0.8912 - val_auc: 0.9568\n",
      "Epoch 17/100\n",
      "312863/312863 [==============================] - 2s 8us/sample - loss: 0.3890 - accuracy: 0.9126 - precision: 0.0232 - recall: 0.6715 - auc: 0.9032 - val_loss: 0.2800 - val_accuracy: 0.9106 - val_precision: 0.0298 - val_recall: 0.8954 - val_auc: 0.9578\n",
      "Epoch 18/100\n",
      "312863/312863 [==============================] - 2s 8us/sample - loss: 0.3853 - accuracy: 0.9140 - precision: 0.0241 - recall: 0.6862 - auc: 0.9059 - val_loss: 0.2774 - val_accuracy: 0.9095 - val_precision: 0.0296 - val_recall: 0.8996 - val_auc: 0.9582\n",
      "Epoch 19/100\n",
      "312863/312863 [==============================] - 2s 8us/sample - loss: 0.3740 - accuracy: 0.9108 - precision: 0.0235 - recall: 0.6946 - auc: 0.9071 - val_loss: 0.2755 - val_accuracy: 0.9083 - val_precision: 0.0292 - val_recall: 0.8996 - val_auc: 0.9587\n",
      "Epoch 20/100\n",
      "312863/312863 [==============================] - 3s 9us/sample - loss: 0.3795 - accuracy: 0.9120 - precision: 0.0232 - recall: 0.6757 - auc: 0.9062 - val_loss: 0.2741 - val_accuracy: 0.9101 - val_precision: 0.0296 - val_recall: 0.8954 - val_auc: 0.9585\n",
      "Epoch 21/100\n",
      "312863/312863 [==============================] - 3s 8us/sample - loss: 0.3621 - accuracy: 0.9134 - precision: 0.0242 - recall: 0.6956 - auc: 0.9150 - val_loss: 0.2740 - val_accuracy: 0.9131 - val_precision: 0.0305 - val_recall: 0.8912 - val_auc: 0.9590\n",
      "Epoch 22/100\n",
      "312863/312863 [==============================] - 3s 8us/sample - loss: 0.3648 - accuracy: 0.9165 - precision: 0.0249 - recall: 0.6904 - auc: 0.9149 - val_loss: 0.2706 - val_accuracy: 0.9094 - val_precision: 0.0292 - val_recall: 0.8870 - val_auc: 0.9589\n",
      "Epoch 23/100\n",
      "312863/312863 [==============================] - 2s 8us/sample - loss: 0.3658 - accuracy: 0.9132 - precision: 0.0240 - recall: 0.6925 - auc: 0.9137 - val_loss: 0.2701 - val_accuracy: 0.9087 - val_precision: 0.0291 - val_recall: 0.8912 - val_auc: 0.9588\n",
      "Epoch 24/100\n",
      "312863/312863 [==============================] - 2s 8us/sample - loss: 0.3618 - accuracy: 0.9100 - precision: 0.0228 - recall: 0.6810 - auc: 0.9128 - val_loss: 0.2719 - val_accuracy: 0.9088 - val_precision: 0.0291 - val_recall: 0.8912 - val_auc: 0.9580\n",
      "Epoch 25/100\n",
      "312863/312863 [==============================] - 2s 8us/sample - loss: 0.3481 - accuracy: 0.9132 - precision: 0.0248 - recall: 0.7144 - auc: 0.9231 - val_loss: 0.2733 - val_accuracy: 0.9094 - val_precision: 0.0290 - val_recall: 0.8828 - val_auc: 0.9576\n",
      "Epoch 26/100\n",
      "312863/312863 [==============================] - 3s 8us/sample - loss: 0.3605 - accuracy: 0.9110 - precision: 0.0231 - recall: 0.6820 - auc: 0.9145 - val_loss: 0.2702 - val_accuracy: 0.9058 - val_precision: 0.0283 - val_recall: 0.8954 - val_auc: 0.9576\n",
      "Epoch 27/100\n",
      "312863/312863 [==============================] - 3s 8us/sample - loss: 0.3577 - accuracy: 0.9106 - precision: 0.0229 - recall: 0.6789 - auc: 0.9147 - val_loss: 0.2703 - val_accuracy: 0.9053 - val_precision: 0.0280 - val_recall: 0.8912 - val_auc: 0.9578\n",
      "Epoch 28/100\n",
      "312863/312863 [==============================] - 2s 7us/sample - loss: 0.3544 - accuracy: 0.9095 - precision: 0.0226 - recall: 0.6778 - auc: 0.9147 - val_loss: 0.2717 - val_accuracy: 0.9073 - val_precision: 0.0286 - val_recall: 0.8912 - val_auc: 0.9576\n",
      "Epoch 29/100\n",
      "312863/312863 [==============================] - 2s 7us/sample - loss: 0.3422 - accuracy: 0.9113 - precision: 0.0238 - recall: 0.6998 - auc: 0.9199 - val_loss: 0.2687 - val_accuracy: 0.9047 - val_precision: 0.0280 - val_recall: 0.8954 - val_auc: 0.9580\n",
      "Epoch 30/100\n",
      "312863/312863 [==============================] - 2s 7us/sample - loss: 0.3533 - accuracy: 0.9090 - precision: 0.0227 - recall: 0.6851 - auc: 0.9165 - val_loss: 0.2686 - val_accuracy: 0.9042 - val_precision: 0.0279 - val_recall: 0.8954 - val_auc: 0.9576\n",
      "Epoch 31/100\n"
     ]
    },
    {
     "name": "stdout",
     "output_type": "stream",
     "text": [
      "303104/312863 [============================>.] - ETA: 0s - loss: 0.3401 - accuracy: 0.9103 - precision: 0.0232 - recall: 0.6946 - auc: 0.9211Restoring model weights from the end of the best epoch.\n",
      "312863/312863 [==============================] - 2s 7us/sample - loss: 0.3418 - accuracy: 0.9103 - precision: 0.0232 - recall: 0.6914 - auc: 0.9207 - val_loss: 0.2718 - val_accuracy: 0.9047 - val_precision: 0.0280 - val_recall: 0.8954 - val_auc: 0.9571\n",
      "Epoch 00031: early stopping\n",
      "Computation time:  1.3475138823191324  min\n"
     ]
    }
   ],
   "source": [
    "start_time=time.time()\n",
    "tf.random.set_seed(8)\n",
    "wei_model=create_model(nodes=5,lr=0.001)\n",
    "Monitor = wei_model.fit(X_train,y_train, epochs=100,batch_size=4096, callbacks=[es],validation_data = (X_val,y_val),class_weight=class_weight, verbose = 1)\n",
    "end_time=time.time()\n",
    "print('Computation time: ', (end_time-start_time)/60, ' min')"
   ]
  },
  {
   "cell_type": "code",
   "execution_count": 142,
   "metadata": {
    "ExecuteTime": {
     "end_time": "2020-05-22T15:25:45.764206Z",
     "start_time": "2020-05-22T15:25:45.252658Z"
    }
   },
   "outputs": [
    {
     "data": {
      "image/png": "[encoded data removed]",
      "text/plain": [
       "<Figure size 1500x600 with 2 Axes>"
      ]
     },
     "metadata": {
      "needs_background": "light"
     },
     "output_type": "display_data"
    }
   ],
   "source": [
    "hist = pd.DataFrame(Monitor.history)\n",
    "fig, axes = plt.subplots(nrows=1, ncols=2,figsize=(10,4),dpi=150)\n",
    "hist[['loss','val_loss']].plot(ax=axes[0])\n",
    "hist[['auc','val_auc']].plot(ax=axes[1])\n",
    "plt.show()"
   ]
  },
  {
   "cell_type": "code",
   "execution_count": 132,
   "metadata": {
    "ExecuteTime": {
     "end_time": "2020-05-22T14:36:40.277311Z",
     "start_time": "2020-05-22T14:36:35.825428Z"
    },
    "colab": {
     "base_uri": "https://localhost:8080/",
     "height": 51
    },
    "colab_type": "code",
    "executionInfo": {
     "elapsed": 4852,
     "status": "ok",
     "timestamp": 1589215162235,
     "user": {
      "displayName": "Duong Hung",
      "photoUrl": "https://lh3.googleusercontent.com/a-/AOh14Ggfgs4FqFN7Yq3pQXoVHeQcc9w9kDV_fAGoQ3Nx4nk=s64",
      "userId": "01608720095171318435"
     },
     "user_tz": 300
    },
    "id": "b6Nna1AwkrYw",
    "outputId": "b4de7573-f6b5-412d-b6e4-62d06109f110"
   },
   "outputs": [
    {
     "name": "stdout",
     "output_type": "stream",
     "text": [
      "97770/97770 [==============================] - 4s 44us/sample - loss: 0.2584 - accuracy: 0.9103 - precision: 0.0281 - recall: 0.8428 - auc: 0.9462\n"
     ]
    },
    {
     "data": {
      "text/plain": [
       "[0.2583684515767733, 0.91029966, 0.028077994, 0.8428094, 0.94622755]"
      ]
     },
     "execution_count": 132,
     "metadata": {},
     "output_type": "execute_result"
    }
   ],
   "source": [
    "wei_model.evaluate(X_test,y_test)"
   ]
  },
  {
   "cell_type": "code",
   "execution_count": 133,
   "metadata": {
    "ExecuteTime": {
     "end_time": "2020-05-22T14:36:50.202580Z",
     "start_time": "2020-05-22T14:36:40.280803Z"
    },
    "colab": {},
    "colab_type": "code",
    "id": "Ijqe1QW9clTc"
   },
   "outputs": [],
   "source": [
    "y_pred_train_w = wei_model.predict(X_train)\n",
    "y_pred_test_w = wei_model.predict(X_test)"
   ]
  },
  {
   "cell_type": "code",
   "execution_count": 134,
   "metadata": {
    "ExecuteTime": {
     "end_time": "2020-05-22T14:36:51.027519Z",
     "start_time": "2020-05-22T14:36:50.206047Z"
    },
    "colab": {
     "base_uri": "https://localhost:8080/",
     "height": 265
    },
    "colab_type": "code",
    "executionInfo": {
     "elapsed": 974,
     "status": "ok",
     "timestamp": 1589215171573,
     "user": {
      "displayName": "Duong Hung",
      "photoUrl": "https://lh3.googleusercontent.com/a-/AOh14Ggfgs4FqFN7Yq3pQXoVHeQcc9w9kDV_fAGoQ3Nx4nk=s64",
      "userId": "01608720095171318435"
     },
     "user_tz": 300
    },
    "id": "3Z_deS8BkDnw",
    "outputId": "acf3c2b7-8e0e-4ced-9fd0-4e1675e2cda8"
   },
   "outputs": [
    {
     "data": {
      "image/png": "[encoded data removed]",
      "text/plain": [
       "<Figure size 432x288 with 1 Axes>"
      ]
     },
     "metadata": {
      "needs_background": "light"
     },
     "output_type": "display_data"
    }
   ],
   "source": [
    "plt.scatter(np.arange(len(y_test)),y_pred_test_w,s=0.1)\n",
    "plt.show()"
   ]
  },
  {
   "cell_type": "code",
   "execution_count": 135,
   "metadata": {
    "ExecuteTime": {
     "end_time": "2020-05-22T14:36:51.546054Z",
     "start_time": "2020-05-22T14:36:51.030014Z"
    },
    "colab": {
     "base_uri": "https://localhost:8080/",
     "height": 329
    },
    "colab_type": "code",
    "executionInfo": {
     "elapsed": 1367,
     "status": "ok",
     "timestamp": 1589215171993,
     "user": {
      "displayName": "Duong Hung",
      "photoUrl": "https://lh3.googleusercontent.com/a-/AOh14Ggfgs4FqFN7Yq3pQXoVHeQcc9w9kDV_fAGoQ3Nx4nk=s64",
      "userId": "01608720095171318435"
     },
     "user_tz": 300
    },
    "id": "wjNO70TwkE5K",
    "outputId": "7f297dd9-f1c5-499a-99b7-95dcda657bc2"
   },
   "outputs": [
    {
     "name": "stdout",
     "output_type": "stream",
     "text": [
      "[[88748  8723]\n",
      " [   47   252]]\n",
      "              precision    recall  f1-score   support\n",
      "\n",
      "     Class 0       1.00      0.91      0.95     97471\n",
      "     Class 1       0.03      0.84      0.05       299\n",
      "\n",
      "    accuracy                           0.91     97770\n",
      "   macro avg       0.51      0.88      0.50     97770\n",
      "weighted avg       1.00      0.91      0.95     97770\n",
      "\n"
     ]
    },
    {
     "data": {
      "text/html": [
       "<div>\n",
       "<style scoped>\n",
       "    .dataframe tbody tr th:only-of-type {\n",
       "        vertical-align: middle;\n",
       "    }\n",
       "\n",
       "    .dataframe tbody tr th {\n",
       "        vertical-align: top;\n",
       "    }\n",
       "\n",
       "    .dataframe thead th {\n",
       "        text-align: right;\n",
       "    }\n",
       "</style>\n",
       "<table border=\"1\" class=\"dataframe\">\n",
       "  <thead>\n",
       "    <tr style=\"text-align: right;\">\n",
       "      <th></th>\n",
       "      <th>Precision</th>\n",
       "      <th>n_p</th>\n",
       "      <th>CI_p</th>\n",
       "      <th>Recall</th>\n",
       "      <th>n_r</th>\n",
       "      <th>CI_r</th>\n",
       "    </tr>\n",
       "  </thead>\n",
       "  <tbody>\n",
       "    <tr>\n",
       "      <th>0</th>\n",
       "      <td>99.947069</td>\n",
       "      <td>88795</td>\n",
       "      <td>0.015129</td>\n",
       "      <td>91.050671</td>\n",
       "      <td>97471</td>\n",
       "      <td>0.179207</td>\n",
       "    </tr>\n",
       "    <tr>\n",
       "      <th>1</th>\n",
       "      <td>2.807799</td>\n",
       "      <td>8975</td>\n",
       "      <td>0.341773</td>\n",
       "      <td>84.280936</td>\n",
       "      <td>299</td>\n",
       "      <td>4.125708</td>\n",
       "    </tr>\n",
       "    <tr>\n",
       "      <th>Global</th>\n",
       "      <td>91.029968</td>\n",
       "      <td>97770</td>\n",
       "      <td>0.179119</td>\n",
       "      <td>91.029968</td>\n",
       "      <td>97770</td>\n",
       "      <td>0.179119</td>\n",
       "    </tr>\n",
       "  </tbody>\n",
       "</table>\n",
       "</div>"
      ],
      "text/plain": [
       "        Precision    n_p      CI_p     Recall    n_r      CI_r\n",
       "0       99.947069  88795  0.015129  91.050671  97471  0.179207\n",
       "1        2.807799   8975  0.341773  84.280936    299  4.125708\n",
       "Global  91.029968  97770  0.179119  91.029968  97770  0.179119"
      ]
     },
     "execution_count": 135,
     "metadata": {},
     "output_type": "execute_result"
    }
   ],
   "source": [
    "show_cm(y_test,y_pred_test_w)"
   ]
  },
  {
   "cell_type": "code",
   "execution_count": 136,
   "metadata": {
    "ExecuteTime": {
     "end_time": "2020-05-22T14:36:52.469753Z",
     "start_time": "2020-05-22T14:36:51.549049Z"
    }
   },
   "outputs": [
    {
     "name": "stdout",
     "output_type": "stream",
     "text": [
      "97770/97770 [==============================] - 1s 6us/sample - loss: 0.2584 - accuracy: 0.9103 - precision: 0.0281 - recall: 0.8428 - auc: 0.9462\n",
      "loss :  0.25836846992515206\n",
      "accuracy :  0.91029966\n",
      "precision :  0.028077994\n",
      "recall :  0.8428094\n",
      "auc :  0.94622755\n",
      "\n"
     ]
    }
   ],
   "source": [
    "weighted_results = wei_model.evaluate(X_test,y_test,batch_size=4096)\n",
    "for name, value in zip(wei_model.metrics_names, weighted_results):\n",
    "  print(name, ': ', value)\n",
    "print()"
   ]
  },
  {
   "cell_type": "code",
   "execution_count": 141,
   "metadata": {
    "ExecuteTime": {
     "end_time": "2020-05-22T15:22:40.717576Z",
     "start_time": "2020-05-22T15:22:39.764499Z"
    },
    "colab": {
     "base_uri": "https://localhost:8080/",
     "height": 499
    },
    "colab_type": "code",
    "executionInfo": {
     "elapsed": 1578,
     "status": "ok",
     "timestamp": 1589215172219,
     "user": {
      "displayName": "Duong Hung",
      "photoUrl": "https://lh3.googleusercontent.com/a-/AOh14Ggfgs4FqFN7Yq3pQXoVHeQcc9w9kDV_fAGoQ3Nx4nk=s64",
      "userId": "01608720095171318435"
     },
     "user_tz": 300
    },
    "id": "201kC-tpkLlf",
    "outputId": "6fcc87ce-383c-40e7-9505-1bbf43691e5b"
   },
   "outputs": [
    {
     "data": {
      "image/png": "[encoded data removed]",
      "text/plain": [
       "<Figure size 576x576 with 1 Axes>"
      ]
     },
     "metadata": {
      "needs_background": "light"
     },
     "output_type": "display_data"
    }
   ],
   "source": [
    "plt.figure(figsize=(8,8))\n",
    "plot_roc('Ar weight - train',y_train,y_pred_train_ar_wei)\n",
    "plot_roc('Ar weight - test',y_test,y_pred_test_ar_wei,linestyle='dashed')\n",
    "plot_roc('Weight model - train',y_train,y_pred_train_w)\n",
    "plot_roc('Weight model - test',y_test,y_pred_test_w,linestyle='dashed')\n",
    "plt.legend()\n",
    "plt.show()"
   ]
  },
  {
   "cell_type": "markdown",
   "metadata": {
    "colab_type": "text",
    "id": "oburRCjAme_d"
   },
   "source": [
    "# Resampling"
   ]
  },
  {
   "cell_type": "markdown",
   "metadata": {},
   "source": [
    "## Preparing new dataset"
   ]
  },
  {
   "cell_type": "code",
   "execution_count": 143,
   "metadata": {
    "ExecuteTime": {
     "end_time": "2020-05-22T16:48:01.409835Z",
     "start_time": "2020-05-22T16:48:00.068414Z"
    },
    "colab": {},
    "colab_type": "code",
    "id": "mgtHEOkBmh6O"
   },
   "outputs": [],
   "source": [
    "bool_y_train = y_train != 0\n",
    "bool_y_train=np.reshape(bool_y_train, (len(bool_y_train),))\n",
    "pos_X = X_train[bool_y_train]\n",
    "neg_X = X_train[~bool_y_train]\n",
    "\n",
    "pos_y = y_train[bool_y_train]\n",
    "neg_y = y_train[~bool_y_train]"
   ]
  },
  {
   "cell_type": "code",
   "execution_count": 144,
   "metadata": {
    "ExecuteTime": {
     "end_time": "2020-05-22T16:48:01.882580Z",
     "start_time": "2020-05-22T16:48:01.415824Z"
    }
   },
   "outputs": [
    {
     "data": {
      "text/plain": [
       "(311907, 150)"
      ]
     },
     "execution_count": 144,
     "metadata": {},
     "output_type": "execute_result"
    }
   ],
   "source": [
    "# oversampling\n",
    "ids = np.arange(len(pos_X))\n",
    "#print(len(pos_X))\n",
    "choices = np.random.choice(ids, len(neg_X))\n",
    "#print(len(neg_X))\n",
    "res_pos_X = pos_X[choices]\n",
    "res_pos_y = pos_y[choices]\n",
    "\n",
    "res_pos_X.shape"
   ]
  },
  {
   "cell_type": "code",
   "execution_count": 145,
   "metadata": {
    "ExecuteTime": {
     "end_time": "2020-05-22T16:48:04.072507Z",
     "start_time": "2020-05-22T16:48:01.885575Z"
    }
   },
   "outputs": [
    {
     "data": {
      "text/plain": [
       "(623814, 150)"
      ]
     },
     "execution_count": 145,
     "metadata": {},
     "output_type": "execute_result"
    }
   ],
   "source": [
    "# Concatenate\n",
    "resampled_X = np.concatenate([res_pos_X, neg_X], axis=0)\n",
    "resampled_y = np.concatenate([res_pos_y, neg_y], axis=0)\n",
    "\n",
    "order = np.arange(len(resampled_y))\n",
    "np.random.shuffle(order)\n",
    "resampled_X= resampled_X[order]\n",
    "resampled_y = resampled_y[order]\n",
    "\n",
    "resampled_X.shape"
   ]
  },
  {
   "cell_type": "code",
   "execution_count": 146,
   "metadata": {
    "ExecuteTime": {
     "end_time": "2020-05-22T16:48:05.099024Z",
     "start_time": "2020-05-22T16:48:04.120918Z"
    }
   },
   "outputs": [
    {
     "name": "stdout",
     "output_type": "stream",
     "text": [
      "Examples:\n",
      "    Total: 623814\n",
      "    Positive: 311907 (50.00% of total)\n",
      "\n"
     ]
    }
   ],
   "source": [
    "new_pos=resampled_y.sum()\n",
    "new_neg=len(resampled_y)-new_pos\n",
    "new_total = new_neg + new_pos\n",
    "print('Examples:\\n    Total: {}\\n    Positive: {} ({:.2f}% of total)\\n'.format(new_total, new_pos, 100 * new_pos / new_total))"
   ]
  },
  {
   "cell_type": "code",
   "execution_count": 147,
   "metadata": {
    "ExecuteTime": {
     "end_time": "2020-05-22T16:48:05.959296Z",
     "start_time": "2020-05-22T16:48:05.205326Z"
    }
   },
   "outputs": [
    {
     "name": "stdout",
     "output_type": "stream",
     "text": [
      "Weight for class 0: 1.00\n",
      "Weight for class 1: 1.00\n"
     ]
    }
   ],
   "source": [
    "# Scaling by total/2 helps keep the loss to a similar magnitude.\n",
    "# The sum of the weights of all examples stays the same.\n",
    "weight_for_0 = (1 / new_neg)*(new_total)/2.0 \n",
    "weight_for_1 = (1 / new_pos)*(new_total)/2.0\n",
    "\n",
    "new_class_weight = {0: weight_for_0, 1: weight_for_1}\n",
    "\n",
    "print('Weight for class 0: {:.2f}'.format(weight_for_0))\n",
    "print('Weight for class 1: {:.2f}'.format(weight_for_1))"
   ]
  },
  {
   "cell_type": "code",
   "execution_count": 148,
   "metadata": {
    "ExecuteTime": {
     "end_time": "2020-05-22T16:49:54.199449Z",
     "start_time": "2020-05-22T16:48:06.017690Z"
    },
    "scrolled": true
   },
   "outputs": [
    {
     "name": "stdout",
     "output_type": "stream",
     "text": [
      "WARNING:tensorflow:sample_weight modes were coerced from\n",
      "  ...\n",
      "    to  \n",
      "  ['...']\n",
      "WARNING:tensorflow:sample_weight modes were coerced from\n",
      "  ...\n",
      "    to  \n",
      "  ['...']\n",
      "Train on 623814 samples, validate on 78216 samples\n",
      "Epoch 1/100\n",
      "623814/623814 [==============================] - 19s 30us/sample - loss: 0.2649 - accuracy: 0.8990 - precision: 0.8974 - recall: 0.9011 - auc: 0.9604 - val_loss: 0.1956 - val_accuracy: 0.9257 - val_precision: 0.0339 - val_recall: 0.8494 - val_auc: 0.9457\n",
      "Epoch 2/100\n",
      "623814/623814 [==============================] - 7s 11us/sample - loss: 0.1986 - accuracy: 0.9256 - precision: 0.9155 - recall: 0.9376 - auc: 0.9749 - val_loss: 0.1765 - val_accuracy: 0.9322 - val_precision: 0.0363 - val_recall: 0.8285 - val_auc: 0.9319\n",
      "Epoch 3/100\n",
      "623814/623814 [==============================] - 6s 10us/sample - loss: 0.1830 - accuracy: 0.9329 - precision: 0.9168 - recall: 0.9523 - auc: 0.9776 - val_loss: 0.1521 - val_accuracy: 0.9391 - val_precision: 0.0397 - val_recall: 0.8159 - val_auc: 0.9294\n",
      "Epoch 4/100\n",
      "623814/623814 [==============================] - 7s 11us/sample - loss: 0.1740 - accuracy: 0.9373 - precision: 0.9176 - recall: 0.9608 - auc: 0.9790 - val_loss: 0.1422 - val_accuracy: 0.9420 - val_precision: 0.0406 - val_recall: 0.7950 - val_auc: 0.9207\n",
      "Epoch 5/100\n",
      "623814/623814 [==============================] - 6s 9us/sample - loss: 0.1698 - accuracy: 0.9391 - precision: 0.9177 - recall: 0.9646 - auc: 0.9797 - val_loss: 0.1367 - val_accuracy: 0.9441 - val_precision: 0.0421 - val_recall: 0.7950 - val_auc: 0.9200\n",
      "Epoch 6/100\n",
      "623814/623814 [==============================] - 6s 9us/sample - loss: 0.1668 - accuracy: 0.9411 - precision: 0.9180 - recall: 0.9687 - auc: 0.9802 - val_loss: 0.1362 - val_accuracy: 0.9440 - val_precision: 0.0418 - val_recall: 0.7908 - val_auc: 0.9136\n",
      "Epoch 7/100\n",
      "623814/623814 [==============================] - 7s 10us/sample - loss: 0.1634 - accuracy: 0.9422 - precision: 0.9181 - recall: 0.9709 - auc: 0.9808 - val_loss: 0.1367 - val_accuracy: 0.9460 - val_precision: 0.0425 - val_recall: 0.7741 - val_auc: 0.9103\n",
      "Epoch 8/100\n",
      "623814/623814 [==============================] - 6s 10us/sample - loss: 0.1617 - accuracy: 0.9430 - precision: 0.9186 - recall: 0.9720 - auc: 0.9810 - val_loss: 0.1347 - val_accuracy: 0.9480 - val_precision: 0.0439 - val_recall: 0.7699 - val_auc: 0.9076\n",
      "Epoch 9/100\n",
      "623814/623814 [==============================] - 6s 9us/sample - loss: 0.1603 - accuracy: 0.9432 - precision: 0.9196 - recall: 0.9714 - auc: 0.9814 - val_loss: 0.1429 - val_accuracy: 0.9475 - val_precision: 0.0437 - val_recall: 0.7741 - val_auc: 0.9041\n",
      "Epoch 10/100\n",
      "623814/623814 [==============================] - 6s 10us/sample - loss: 0.1592 - accuracy: 0.9438 - precision: 0.9199 - recall: 0.9722 - auc: 0.9815 - val_loss: 0.1283 - val_accuracy: 0.9488 - val_precision: 0.0443 - val_recall: 0.7657 - val_auc: 0.9045\n",
      "Epoch 11/100\n",
      "618496/623814 [============================>.] - ETA: 0s - loss: 0.1587 - accuracy: 0.9441 - precision: 0.9198 - recall: 0.9730 - auc: 0.9816Restoring model weights from the end of the best epoch.\n",
      "623814/623814 [==============================] - 6s 9us/sample - loss: 0.1586 - accuracy: 0.9441 - precision: 0.9199 - recall: 0.9729 - auc: 0.9816 - val_loss: 0.1324 - val_accuracy: 0.9480 - val_precision: 0.0436 - val_recall: 0.7657 - val_auc: 0.9009\n",
      "Epoch 00011: early stopping\n",
      "Computation time:  1.7982881903648376  min\n"
     ]
    }
   ],
   "source": [
    "start_time=time.time()\n",
    "tf.random.set_seed(8)\n",
    "res_model=create_model(lr=0.01)\n",
    "Monitor = res_model.fit(resampled_X,resampled_y, \n",
    "                        epochs=100,batch_size=4096, \n",
    "                        callbacks=[es],\n",
    "                        validation_data = (X_val,y_val),\n",
    "                        class_weight=new_class_weight,\n",
    "                        verbose = 1)\n",
    "end_time=time.time()\n",
    "print('Computation time: ', (end_time-start_time)/60, ' min')"
   ]
  },
  {
   "cell_type": "code",
   "execution_count": 149,
   "metadata": {
    "ExecuteTime": {
     "end_time": "2020-05-22T16:49:56.393598Z",
     "start_time": "2020-05-22T16:49:54.202444Z"
    }
   },
   "outputs": [
    {
     "name": "stdout",
     "output_type": "stream",
     "text": [
      "97770/97770 [==============================] - 2s 16us/sample - loss: 0.1936 - accuracy: 0.9238 - precision: 0.0323 - recall: 0.8261 - auc: 0.9368\n",
      "loss :  0.1936492514693202\n",
      "accuracy :  0.92377007\n",
      "precision :  0.032296024\n",
      "recall :  0.82608694\n",
      "auc :  0.9368236\n",
      "\n"
     ]
    }
   ],
   "source": [
    "res_results = res_model.evaluate(X_test,y_test,batch_size=4096)\n",
    "for name, value in zip(res_model.metrics_names, res_results):\n",
    "  print(name, ': ', value)\n",
    "print()"
   ]
  },
  {
   "cell_type": "code",
   "execution_count": 150,
   "metadata": {
    "ExecuteTime": {
     "end_time": "2020-05-22T16:50:09.004116Z",
     "start_time": "2020-05-22T16:49:56.400085Z"
    }
   },
   "outputs": [],
   "source": [
    "y_pred_train_r = res_model.predict(X_train)\n",
    "y_pred_test_r = res_model.predict(X_test)"
   ]
  },
  {
   "cell_type": "code",
   "execution_count": 151,
   "metadata": {
    "ExecuteTime": {
     "end_time": "2020-05-22T16:50:10.015677Z",
     "start_time": "2020-05-22T16:50:09.018060Z"
    }
   },
   "outputs": [
    {
     "name": "stdout",
     "output_type": "stream",
     "text": [
      "[[90070  7401]\n",
      " [   52   247]]\n",
      "              precision    recall  f1-score   support\n",
      "\n",
      "     Class 0       1.00      0.92      0.96     97471\n",
      "     Class 1       0.03      0.83      0.06       299\n",
      "\n",
      "    accuracy                           0.92     97770\n",
      "   macro avg       0.52      0.88      0.51     97770\n",
      "weighted avg       1.00      0.92      0.96     97770\n",
      "\n"
     ]
    },
    {
     "data": {
      "text/html": [
       "<div>\n",
       "<style scoped>\n",
       "    .dataframe tbody tr th:only-of-type {\n",
       "        vertical-align: middle;\n",
       "    }\n",
       "\n",
       "    .dataframe tbody tr th {\n",
       "        vertical-align: top;\n",
       "    }\n",
       "\n",
       "    .dataframe thead th {\n",
       "        text-align: right;\n",
       "    }\n",
       "</style>\n",
       "<table border=\"1\" class=\"dataframe\">\n",
       "  <thead>\n",
       "    <tr style=\"text-align: right;\">\n",
       "      <th></th>\n",
       "      <th>Precision</th>\n",
       "      <th>n_p</th>\n",
       "      <th>CI_p</th>\n",
       "      <th>Recall</th>\n",
       "      <th>n_r</th>\n",
       "      <th>CI_r</th>\n",
       "    </tr>\n",
       "  </thead>\n",
       "  <tbody>\n",
       "    <tr>\n",
       "      <th>0</th>\n",
       "      <td>99.942300</td>\n",
       "      <td>90122</td>\n",
       "      <td>0.015678</td>\n",
       "      <td>92.406972</td>\n",
       "      <td>97471</td>\n",
       "      <td>0.166295</td>\n",
       "    </tr>\n",
       "    <tr>\n",
       "      <th>1</th>\n",
       "      <td>3.229603</td>\n",
       "      <td>7648</td>\n",
       "      <td>0.396212</td>\n",
       "      <td>82.608696</td>\n",
       "      <td>299</td>\n",
       "      <td>4.296348</td>\n",
       "    </tr>\n",
       "    <tr>\n",
       "      <th>Global</th>\n",
       "      <td>92.377007</td>\n",
       "      <td>97770</td>\n",
       "      <td>0.166340</td>\n",
       "      <td>92.377007</td>\n",
       "      <td>97770</td>\n",
       "      <td>0.166340</td>\n",
       "    </tr>\n",
       "  </tbody>\n",
       "</table>\n",
       "</div>"
      ],
      "text/plain": [
       "        Precision    n_p      CI_p     Recall    n_r      CI_r\n",
       "0       99.942300  90122  0.015678  92.406972  97471  0.166295\n",
       "1        3.229603   7648  0.396212  82.608696    299  4.296348\n",
       "Global  92.377007  97770  0.166340  92.377007  97770  0.166340"
      ]
     },
     "execution_count": 151,
     "metadata": {},
     "output_type": "execute_result"
    }
   ],
   "source": [
    "show_cm(y_test,y_pred_test_r)"
   ]
  },
  {
   "cell_type": "code",
   "execution_count": 152,
   "metadata": {
    "ExecuteTime": {
     "end_time": "2020-05-22T16:50:10.881052Z",
     "start_time": "2020-05-22T16:50:10.019174Z"
    }
   },
   "outputs": [
    {
     "data": {
      "image/png": "[encoded data removed]",
      "text/plain": [
       "<Figure size 576x576 with 1 Axes>"
      ]
     },
     "metadata": {
      "needs_background": "light"
     },
     "output_type": "display_data"
    }
   ],
   "source": [
    "plt.figure(figsize=(8,8))\n",
    "plot_roc('Weight model - train',y_train,y_pred_train_r)\n",
    "plot_roc('Weight model - test',y_test,y_pred_test_r)\n",
    "plot_roc('Ar weight - train',y_train,y_pred_train_ar_wei)\n",
    "plot_roc('Ar weight - test',y_test,y_pred_test_ar_wei)\n",
    "plt.legend()\n",
    "plt.show()"
   ]
  },
  {
   "cell_type": "markdown",
   "metadata": {},
   "source": [
    "# SMOTE"
   ]
  },
  {
   "cell_type": "code",
   "execution_count": 153,
   "metadata": {
    "ExecuteTime": {
     "end_time": "2020-05-22T16:50:29.634480Z",
     "start_time": "2020-05-22T16:50:10.885543Z"
    }
   },
   "outputs": [
    {
     "name": "stdout",
     "output_type": "stream",
     "text": [
      "Resampled dataset shape Counter({0: 311907, 1: 311907})\n"
     ]
    }
   ],
   "source": [
    "from collections import Counter\n",
    "from sklearn.datasets import make_classification\n",
    "from imblearn.over_sampling import SMOTE # doctest: +NORMALIZE_WHITESPACE\n",
    "\n",
    "sm = SMOTE(random_state=42)\n",
    "X_smote, y_smote = sm.fit_resample(X_train, y_train)\n",
    "print('Resampled dataset shape %s' % Counter(y_smote))"
   ]
  },
  {
   "cell_type": "code",
   "execution_count": 154,
   "metadata": {
    "ExecuteTime": {
     "end_time": "2020-05-22T16:52:06.199804Z",
     "start_time": "2020-05-22T16:50:30.120311Z"
    },
    "scrolled": false
   },
   "outputs": [
    {
     "name": "stdout",
     "output_type": "stream",
     "text": [
      "Train on 623814 samples, validate on 78216 samples\n",
      "Epoch 1/100\n",
      "623814/623814 [==============================] - 15s 24us/sample - loss: 0.2556 - accuracy: 0.9057 - precision: 0.9008 - recall: 0.9118 - auc: 0.9631 - val_loss: 0.1987 - val_accuracy: 0.9255 - val_precision: 0.0343 - val_recall: 0.8619 - val_auc: 0.9435\n",
      "Epoch 2/100\n",
      "623814/623814 [==============================] - 6s 9us/sample - loss: 0.1912 - accuracy: 0.9302 - precision: 0.9190 - recall: 0.9435 - auc: 0.9760 - val_loss: 0.1670 - val_accuracy: 0.9371 - val_precision: 0.0383 - val_recall: 0.8117 - val_auc: 0.9351\n",
      "Epoch 3/100\n",
      "623814/623814 [==============================] - 6s 9us/sample - loss: 0.1784 - accuracy: 0.9356 - precision: 0.9214 - recall: 0.9525 - auc: 0.9782 - val_loss: 0.1542 - val_accuracy: 0.9404 - val_precision: 0.0394 - val_recall: 0.7908 - val_auc: 0.9289\n",
      "Epoch 4/100\n",
      "623814/623814 [==============================] - 6s 9us/sample - loss: 0.1726 - accuracy: 0.9383 - precision: 0.9219 - recall: 0.9577 - auc: 0.9792 - val_loss: 0.1535 - val_accuracy: 0.9406 - val_precision: 0.0391 - val_recall: 0.7824 - val_auc: 0.9223\n",
      "Epoch 5/100\n",
      "623814/623814 [==============================] - 6s 10us/sample - loss: 0.1687 - accuracy: 0.9400 - precision: 0.9213 - recall: 0.9623 - auc: 0.9797 - val_loss: 0.1454 - val_accuracy: 0.9444 - val_precision: 0.0413 - val_recall: 0.7741 - val_auc: 0.9192\n",
      "Epoch 6/100\n",
      "623814/623814 [==============================] - 6s 10us/sample - loss: 0.1660 - accuracy: 0.9416 - precision: 0.9225 - recall: 0.9643 - auc: 0.9801 - val_loss: 0.1446 - val_accuracy: 0.9456 - val_precision: 0.0413 - val_recall: 0.7573 - val_auc: 0.9165\n",
      "Epoch 7/100\n",
      "623814/623814 [==============================] - 6s 9us/sample - loss: 0.1636 - accuracy: 0.9425 - precision: 0.9223 - recall: 0.9664 - auc: 0.9804 - val_loss: 0.1369 - val_accuracy: 0.9482 - val_precision: 0.0427 - val_recall: 0.7448 - val_auc: 0.9093\n",
      "Epoch 8/100\n",
      "623814/623814 [==============================] - 6s 9us/sample - loss: 0.1615 - accuracy: 0.9434 - precision: 0.9227 - recall: 0.9680 - auc: 0.9809 - val_loss: 0.1417 - val_accuracy: 0.9488 - val_precision: 0.0436 - val_recall: 0.7531 - val_auc: 0.9072\n",
      "Epoch 9/100\n",
      "623814/623814 [==============================] - 6s 9us/sample - loss: 0.1615 - accuracy: 0.9433 - precision: 0.9223 - recall: 0.9681 - auc: 0.9807 - val_loss: 0.1277 - val_accuracy: 0.9511 - val_precision: 0.0452 - val_recall: 0.7448 - val_auc: 0.8995\n",
      "Epoch 10/100\n",
      "623814/623814 [==============================] - 6s 9us/sample - loss: 0.1605 - accuracy: 0.9438 - precision: 0.9218 - recall: 0.9698 - auc: 0.9809 - val_loss: 0.1272 - val_accuracy: 0.9508 - val_precision: 0.0456 - val_recall: 0.7573 - val_auc: 0.9022\n",
      "Epoch 11/100\n",
      "622592/623814 [============================>.] - ETA: 0s - loss: 0.1592 - accuracy: 0.9441 - precision: 0.9222 - recall: 0.9701 - auc: 0.9812Restoring model weights from the end of the best epoch.\n",
      "623814/623814 [==============================] - 6s 9us/sample - loss: 0.1593 - accuracy: 0.9442 - precision: 0.9222 - recall: 0.9702 - auc: 0.9812 - val_loss: 0.1269 - val_accuracy: 0.9516 - val_precision: 0.0459 - val_recall: 0.7490 - val_auc: 0.9008\n",
      "Epoch 00011: early stopping\n",
      "Computation time:  1.5971393982569377  min\n"
     ]
    }
   ],
   "source": [
    "start_time=time.time()\n",
    "tf.random.set_seed(8)\n",
    "smote_model=create_model(lr=0.01)\n",
    "Monitor = smote_model.fit(X_smote,y_smote, \n",
    "                        epochs=100,batch_size=4096, \n",
    "                        callbacks=[es],\n",
    "                        validation_data = (X_val,y_val),\n",
    "                        verbose = 1)\n",
    "end_time=time.time()\n",
    "print('Computation time: ', (end_time-start_time)/60, ' min')"
   ]
  },
  {
   "cell_type": "code",
   "execution_count": 155,
   "metadata": {
    "ExecuteTime": {
     "end_time": "2020-05-22T16:52:07.217909Z",
     "start_time": "2020-05-22T16:52:06.234737Z"
    }
   },
   "outputs": [
    {
     "name": "stdout",
     "output_type": "stream",
     "text": [
      "97770/97770 [==============================] - 1s 7us/sample - loss: 0.1965 - accuracy: 0.9232 - precision: 0.0321 - recall: 0.8261 - auc: 0.9348\n",
      "loss :  0.19652247703811856\n",
      "accuracy :  0.9231768\n",
      "precision :  0.032052945\n",
      "recall :  0.82608694\n",
      "auc :  0.9348062\n",
      "\n"
     ]
    }
   ],
   "source": [
    "smote_results = smote_model.evaluate(X_test,y_test,batch_size=4096)\n",
    "for name, value in zip(smote_model.metrics_names, smote_results):\n",
    "  print(name, ': ', value)\n",
    "print()"
   ]
  },
  {
   "cell_type": "code",
   "execution_count": 156,
   "metadata": {
    "ExecuteTime": {
     "end_time": "2020-05-22T16:52:20.795720Z",
     "start_time": "2020-05-22T16:52:07.237872Z"
    }
   },
   "outputs": [],
   "source": [
    "y_pred_train_sm = smote_model.predict(X_train)\n",
    "y_pred_test_sm = smote_model.predict(X_test)"
   ]
  },
  {
   "cell_type": "code",
   "execution_count": 157,
   "metadata": {
    "ExecuteTime": {
     "end_time": "2020-05-22T16:52:22.071920Z",
     "start_time": "2020-05-22T16:52:20.799192Z"
    }
   },
   "outputs": [
    {
     "name": "stdout",
     "output_type": "stream",
     "text": [
      "[[90012  7459]\n",
      " [   52   247]]\n",
      "              precision    recall  f1-score   support\n",
      "\n",
      "     Class 0       1.00      0.92      0.96     97471\n",
      "     Class 1       0.03      0.83      0.06       299\n",
      "\n",
      "    accuracy                           0.92     97770\n",
      "   macro avg       0.52      0.87      0.51     97770\n",
      "weighted avg       1.00      0.92      0.96     97770\n",
      "\n"
     ]
    },
    {
     "data": {
      "text/html": [
       "<div>\n",
       "<style scoped>\n",
       "    .dataframe tbody tr th:only-of-type {\n",
       "        vertical-align: middle;\n",
       "    }\n",
       "\n",
       "    .dataframe tbody tr th {\n",
       "        vertical-align: top;\n",
       "    }\n",
       "\n",
       "    .dataframe thead th {\n",
       "        text-align: right;\n",
       "    }\n",
       "</style>\n",
       "<table border=\"1\" class=\"dataframe\">\n",
       "  <thead>\n",
       "    <tr style=\"text-align: right;\">\n",
       "      <th></th>\n",
       "      <th>Precision</th>\n",
       "      <th>n_p</th>\n",
       "      <th>CI_p</th>\n",
       "      <th>Recall</th>\n",
       "      <th>n_r</th>\n",
       "      <th>CI_r</th>\n",
       "    </tr>\n",
       "  </thead>\n",
       "  <tbody>\n",
       "    <tr>\n",
       "      <th>0</th>\n",
       "      <td>99.942263</td>\n",
       "      <td>90064</td>\n",
       "      <td>0.015688</td>\n",
       "      <td>92.347467</td>\n",
       "      <td>97471</td>\n",
       "      <td>0.166891</td>\n",
       "    </tr>\n",
       "    <tr>\n",
       "      <th>1</th>\n",
       "      <td>3.205295</td>\n",
       "      <td>7706</td>\n",
       "      <td>0.393280</td>\n",
       "      <td>82.608696</td>\n",
       "      <td>299</td>\n",
       "      <td>4.296348</td>\n",
       "    </tr>\n",
       "    <tr>\n",
       "      <th>Global</th>\n",
       "      <td>92.317684</td>\n",
       "      <td>97770</td>\n",
       "      <td>0.166933</td>\n",
       "      <td>92.317684</td>\n",
       "      <td>97770</td>\n",
       "      <td>0.166933</td>\n",
       "    </tr>\n",
       "  </tbody>\n",
       "</table>\n",
       "</div>"
      ],
      "text/plain": [
       "        Precision    n_p      CI_p     Recall    n_r      CI_r\n",
       "0       99.942263  90064  0.015688  92.347467  97471  0.166891\n",
       "1        3.205295   7706  0.393280  82.608696    299  4.296348\n",
       "Global  92.317684  97770  0.166933  92.317684  97770  0.166933"
      ]
     },
     "execution_count": 157,
     "metadata": {},
     "output_type": "execute_result"
    }
   ],
   "source": [
    "show_cm(y_test,y_pred_test_sm)"
   ]
  },
  {
   "cell_type": "code",
   "execution_count": 158,
   "metadata": {
    "ExecuteTime": {
     "end_time": "2020-05-22T16:52:23.145246Z",
     "start_time": "2020-05-22T16:52:22.075416Z"
    },
    "scrolled": false
   },
   "outputs": [
    {
     "data": {
      "image/png": "[encoded data removed]",
      "text/plain": [
       "<Figure size 576x576 with 1 Axes>"
      ]
     },
     "metadata": {
      "needs_background": "light"
     },
     "output_type": "display_data"
    }
   ],
   "source": [
    "plt.figure(figsize=(8,8))\n",
    "plot_roc('SMOTE model - train',y_train,y_pred_train_sm)\n",
    "plot_roc('SMOTE model - test',y_test,y_pred_test_sm)\n",
    "plt.legend()\n",
    "plt.show()"
   ]
  },
  {
   "cell_type": "markdown",
   "metadata": {},
   "source": []
  },
  {
   "cell_type": "markdown",
   "metadata": {},
   "source": [
    "# ADASYN"
   ]
  },
  {
   "cell_type": "code",
   "execution_count": null,
   "metadata": {
    "ExecuteTime": {
     "start_time": "2020-05-22T16:48:00.174Z"
    }
   },
   "outputs": [],
   "source": [
    "from imblearn.over_sampling import ADASYN # doctest: +NORMALIZE_WHITESPACE\n",
    "\n",
    "ada = ADASYN(random_state=42)\n",
    "X_ada, y_ada = ada.fit_resample(X_train, y_train)\n",
    "print('Resampled dataset shape %s' % Counter(y_ada))"
   ]
  },
  {
   "cell_type": "code",
   "execution_count": null,
   "metadata": {
    "ExecuteTime": {
     "start_time": "2020-05-22T16:48:00.180Z"
    }
   },
   "outputs": [],
   "source": [
    "start_time=time.time()\n",
    "tf.random.set_seed(8)\n",
    "ada_model=create_model(lr=0.01)\n",
    "Monitor = ada_model.fit(X_ada,y_ada, \n",
    "                        epochs=100,batch_size=4096, \n",
    "                        callbacks=[es],\n",
    "                        validation_data = (X_val,y_val),\n",
    "                        verbose = 1)\n",
    "end_time=time.time()\n",
    "print('Computation time: ', (end_time-start_time)/60, ' min')"
   ]
  },
  {
   "cell_type": "code",
   "execution_count": null,
   "metadata": {
    "ExecuteTime": {
     "start_time": "2020-05-22T16:48:00.187Z"
    }
   },
   "outputs": [],
   "source": [
    "ada_results = ada_model.evaluate(X_test,y_test,batch_size=4096)\n",
    "for name, value in zip(ada_model.metrics_names, ada_results):\n",
    "  print(name, ': ', value)\n",
    "print()"
   ]
  },
  {
   "cell_type": "code",
   "execution_count": null,
   "metadata": {
    "ExecuteTime": {
     "start_time": "2020-05-22T16:48:00.191Z"
    }
   },
   "outputs": [],
   "source": [
    "y_pred_train_ada = ada_model.predict(X_train)\n",
    "y_pred_test_ada = ada_model.predict(X_test)"
   ]
  },
  {
   "cell_type": "code",
   "execution_count": null,
   "metadata": {
    "ExecuteTime": {
     "start_time": "2020-05-22T16:48:00.197Z"
    }
   },
   "outputs": [],
   "source": [
    "show_cm(y_test,y_pred_test_ada)"
   ]
  },
  {
   "cell_type": "code",
   "execution_count": null,
   "metadata": {
    "ExecuteTime": {
     "start_time": "2020-05-22T16:48:00.204Z"
    },
    "scrolled": true
   },
   "outputs": [],
   "source": [
    "plt.figure(figsize=(8,8))\n",
    "plot_roc('ADASYN model - train',y_train,y_pred_train_ada)\n",
    "plot_roc('ADASYN model - test',y_test,y_pred_test_ada)\n",
    "plt.legend()\n",
    "plt.show()"
   ]
  },
  {
   "cell_type": "markdown",
   "metadata": {},
   "source": [
    "# BorderlineSMOTE\n"
   ]
  },
  {
   "cell_type": "code",
   "execution_count": null,
   "metadata": {
    "ExecuteTime": {
     "start_time": "2020-05-22T16:48:00.211Z"
    }
   },
   "outputs": [],
   "source": [
    "from imblearn.over_sampling import BorderlineSMOTE\n",
    "\n",
    "bsm = BorderlineSMOTE(random_state=42)\n",
    "X_bsm, y_bsm = bsm.fit_resample(X_train, y_train)\n",
    "print('Resampled dataset shape %s' % Counter(y_smt))"
   ]
  },
  {
   "cell_type": "code",
   "execution_count": null,
   "metadata": {
    "ExecuteTime": {
     "start_time": "2020-05-22T16:48:00.216Z"
    }
   },
   "outputs": [],
   "source": [
    "start_time=time.time()\n",
    "tf.random.set_seed(8)\n",
    "bsm_model=create_model(lr=0.01)\n",
    "Monitor = bsm_model.fit(X_bsm,y_bsm, \n",
    "                        epochs=100,batch_size=4096, \n",
    "                        callbacks=[es],\n",
    "                        validation_data = (X_val,y_val),\n",
    "                        verbose = 1)\n",
    "end_time=time.time()\n",
    "print('Computation time: ', (end_time-start_time)/60, ' min')"
   ]
  },
  {
   "cell_type": "code",
   "execution_count": null,
   "metadata": {
    "ExecuteTime": {
     "start_time": "2020-05-22T16:48:00.221Z"
    }
   },
   "outputs": [],
   "source": [
    "bsm_results = bsm_model.evaluate(X_test,y_test,batch_size=4096)\n",
    "for name, value in zip(bsm_model.metrics_names, bsm_results):\n",
    "  print(name, ': ', value)\n",
    "print()"
   ]
  },
  {
   "cell_type": "code",
   "execution_count": null,
   "metadata": {
    "ExecuteTime": {
     "start_time": "2020-05-22T16:48:00.227Z"
    }
   },
   "outputs": [],
   "source": [
    "y_pred_train_bsm = bsm_model.predict(X_train)\n",
    "y_pred_test_bsm = bsm_model.predict(X_test)"
   ]
  },
  {
   "cell_type": "code",
   "execution_count": null,
   "metadata": {
    "ExecuteTime": {
     "start_time": "2020-05-22T16:48:00.235Z"
    }
   },
   "outputs": [],
   "source": [
    "show_cm(y_test,y_pred_test_bsm)"
   ]
  },
  {
   "cell_type": "code",
   "execution_count": null,
   "metadata": {
    "ExecuteTime": {
     "start_time": "2020-05-22T16:48:00.241Z"
    },
    "scrolled": false
   },
   "outputs": [],
   "source": [
    "plt.figure(figsize=(8,8))\n",
    "plot_roc('Borderline SMOTE model - train',y_train,y_pred_train_bsm)\n",
    "plot_roc('Borderline SMOTE model - test',y_test,y_pred_test_bsm)\n",
    "plt.legend()\n",
    "plt.show()"
   ]
  },
  {
   "cell_type": "code",
   "execution_count": null,
   "metadata": {},
   "outputs": [],
   "source": []
  },
  {
   "cell_type": "code",
   "execution_count": null,
   "metadata": {},
   "outputs": [],
   "source": []
  },
  {
   "cell_type": "code",
   "execution_count": null,
   "metadata": {},
   "outputs": [],
   "source": []
  },
  {
   "cell_type": "code",
   "execution_count": null,
   "metadata": {},
   "outputs": [],
   "source": []
  },
  {
   "cell_type": "code",
   "execution_count": null,
   "metadata": {},
   "outputs": [],
   "source": []
  },
  {
   "cell_type": "code",
   "execution_count": null,
   "metadata": {},
   "outputs": [],
   "source": []
  },
  {
   "cell_type": "code",
   "execution_count": null,
   "metadata": {},
   "outputs": [],
   "source": []
  }
 ],
 "metadata": {
  "colab": {
   "name": "VCA-ID-prediction.ipynb",
   "provenance": [],
   "toc_visible": true
  },
  "kernelspec": {
   "display_name": "Python 3",
   "language": "python",
   "name": "python3"
  },
  "language_info": {
   "codemirror_mode": {
    "name": "ipython",
    "version": 3
   },
   "file_extension": ".py",
   "mimetype": "text/x-python",
   "name": "python",
   "nbconvert_exporter": "python",
   "pygments_lexer": "ipython3",
   "version": "3.7.7"
  },
  "toc": {
   "base_numbering": 1,
   "nav_menu": {},
   "number_sections": true,
   "sideBar": true,
   "skip_h1_title": false,
   "title_cell": "Table of Contents",
   "title_sidebar": "Contents",
   "toc_cell": false,
   "toc_position": {},
   "toc_section_display": true,
   "toc_window_display": true
  }
 },
 "nbformat": 4,
 "nbformat_minor": 1
}
