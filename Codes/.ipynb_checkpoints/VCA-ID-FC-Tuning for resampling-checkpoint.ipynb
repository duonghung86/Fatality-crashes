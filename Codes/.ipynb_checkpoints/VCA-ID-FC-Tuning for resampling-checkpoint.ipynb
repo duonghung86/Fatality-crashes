{
 "cells": [
  {
   "cell_type": "code",
   "execution_count": 36,
   "metadata": {
    "ExecuteTime": {
     "end_time": "2020-05-23T14:31:15.113631Z",
     "start_time": "2020-05-23T14:31:08.079867Z"
    },
    "colab": {},
    "colab_type": "code",
    "id": "1QxOQkOlJ1S_"
   },
   "outputs": [],
   "source": [
    "# Basic packages\n",
    "import matplotlib.pyplot as plt\n",
    "import numpy as np\n",
    "import pandas as pd\n",
    "from io import StringIO\n",
    "from io import BytesIO\n",
    "from zipfile import ZipFile\n",
    "import urllib.request"
   ]
  },
  {
   "cell_type": "markdown",
   "metadata": {
    "colab_type": "text",
    "id": "Cq34ehtsJ1Th"
   },
   "source": [
    "# Import dataset"
   ]
  },
  {
   "cell_type": "code",
   "execution_count": null,
   "metadata": {},
   "outputs": [],
   "source": [
    "# function to import the large data set from Github\n",
    "def import_ds(link):\n",
    "  url = urllib.request.urlopen(link)\n",
    "  with ZipFile(BytesIO(url.read())) as my_zip_file:\n",
    "    for contained_file in my_zip_file.namelist():\n",
    "        fzip=my_zip_file.open(contained_file)\n",
    "        data=fzip.read()\n",
    "  s=str(data,'utf-8')\n",
    "  data = StringIO(s)\n",
    "  return pd.read_csv(data)"
   ]
  },
  {
   "cell_type": "code",
   "execution_count": 37,
   "metadata": {
    "ExecuteTime": {
     "end_time": "2020-05-23T14:31:28.837347Z",
     "start_time": "2020-05-23T14:31:15.113631Z"
    },
    "colab": {
     "base_uri": "https://localhost:8080/",
     "height": 304
    },
    "colab_type": "code",
    "executionInfo": {
     "elapsed": 11832,
     "status": "ok",
     "timestamp": 1590242512955,
     "user": {
      "displayName": "Duong Hung",
      "photoUrl": "https://lh3.googleusercontent.com/a-/AOh14Ggfgs4FqFN7Yq3pQXoVHeQcc9w9kDV_fAGoQ3Nx4nk=s64",
      "userId": "01608720095171318435"
     },
     "user_tz": 300
    },
    "id": "_v04MZq4J1To",
    "outputId": "876cfc06-3c9b-4054-af51-5e4c5785ca4e"
   },
   "outputs": [
    {
     "name": "stdout",
     "output_type": "stream",
     "text": [
      "(488849, 151)\n"
     ]
    },
    {
     "data": {
      "text/html": [
       "<div>\n",
       "<style scoped>\n",
       "    .dataframe tbody tr th:only-of-type {\n",
       "        vertical-align: middle;\n",
       "    }\n",
       "\n",
       "    .dataframe tbody tr th {\n",
       "        vertical-align: top;\n",
       "    }\n",
       "\n",
       "    .dataframe thead th {\n",
       "        text-align: right;\n",
       "    }\n",
       "</style>\n",
       "<table border=\"1\" class=\"dataframe\">\n",
       "  <thead>\n",
       "    <tr style=\"text-align: right;\">\n",
       "      <th></th>\n",
       "      <th>Prsn_Injry_Sev_ID</th>\n",
       "      <th>Unit_Nbr</th>\n",
       "      <th>Prsn_Age</th>\n",
       "      <th>Toll_Road_Fl</th>\n",
       "      <th>Crash_Speed_Limit</th>\n",
       "      <th>Road_Constr_Zone_Fl</th>\n",
       "      <th>Road_Constr_Zone_Wrkr_Fl</th>\n",
       "      <th>At_Intrsct_Fl</th>\n",
       "      <th>Latitude</th>\n",
       "      <th>Longitude</th>\n",
       "      <th>...</th>\n",
       "      <th>Traffic_Cntl_ID_SIGNAL LIGHT WITH RED LIGHT RUNNING CAMERA</th>\n",
       "      <th>Traffic_Cntl_ID_STOP SIGN</th>\n",
       "      <th>Traffic_Cntl_ID_WARNING SIGN</th>\n",
       "      <th>Unit_Desc_ID_MOTOR VEHICLE</th>\n",
       "      <th>Unit_Desc_ID_MOTORIZED CONVEYANCE</th>\n",
       "      <th>Unit_Desc_ID_NON-CONTACT</th>\n",
       "      <th>Unit_Desc_ID_OTHER (EXPLAIN IN NARRATIVE)</th>\n",
       "      <th>Unit_Desc_ID_PEDALCYCLIST</th>\n",
       "      <th>Unit_Desc_ID_PEDESTRIAN</th>\n",
       "      <th>Unit_Desc_ID_TOWED/PUSHED/TRAILER</th>\n",
       "    </tr>\n",
       "  </thead>\n",
       "  <tbody>\n",
       "    <tr>\n",
       "      <th>0</th>\n",
       "      <td>0</td>\n",
       "      <td>1</td>\n",
       "      <td>48.0</td>\n",
       "      <td>0</td>\n",
       "      <td>35</td>\n",
       "      <td>0</td>\n",
       "      <td>0</td>\n",
       "      <td>0</td>\n",
       "      <td>30.660685</td>\n",
       "      <td>-93.893906</td>\n",
       "      <td>...</td>\n",
       "      <td>0</td>\n",
       "      <td>0</td>\n",
       "      <td>0</td>\n",
       "      <td>1</td>\n",
       "      <td>0</td>\n",
       "      <td>0</td>\n",
       "      <td>0</td>\n",
       "      <td>0</td>\n",
       "      <td>0</td>\n",
       "      <td>0</td>\n",
       "    </tr>\n",
       "    <tr>\n",
       "      <th>1</th>\n",
       "      <td>2</td>\n",
       "      <td>2</td>\n",
       "      <td>58.0</td>\n",
       "      <td>0</td>\n",
       "      <td>35</td>\n",
       "      <td>0</td>\n",
       "      <td>0</td>\n",
       "      <td>0</td>\n",
       "      <td>30.660685</td>\n",
       "      <td>-93.893906</td>\n",
       "      <td>...</td>\n",
       "      <td>0</td>\n",
       "      <td>0</td>\n",
       "      <td>0</td>\n",
       "      <td>1</td>\n",
       "      <td>0</td>\n",
       "      <td>0</td>\n",
       "      <td>0</td>\n",
       "      <td>0</td>\n",
       "      <td>0</td>\n",
       "      <td>0</td>\n",
       "    </tr>\n",
       "    <tr>\n",
       "      <th>2</th>\n",
       "      <td>0</td>\n",
       "      <td>1</td>\n",
       "      <td>68.0</td>\n",
       "      <td>0</td>\n",
       "      <td>45</td>\n",
       "      <td>0</td>\n",
       "      <td>0</td>\n",
       "      <td>1</td>\n",
       "      <td>33.203920</td>\n",
       "      <td>-96.596654</td>\n",
       "      <td>...</td>\n",
       "      <td>0</td>\n",
       "      <td>0</td>\n",
       "      <td>0</td>\n",
       "      <td>1</td>\n",
       "      <td>0</td>\n",
       "      <td>0</td>\n",
       "      <td>0</td>\n",
       "      <td>0</td>\n",
       "      <td>0</td>\n",
       "      <td>0</td>\n",
       "    </tr>\n",
       "    <tr>\n",
       "      <th>3</th>\n",
       "      <td>0</td>\n",
       "      <td>3</td>\n",
       "      <td>67.0</td>\n",
       "      <td>0</td>\n",
       "      <td>45</td>\n",
       "      <td>0</td>\n",
       "      <td>0</td>\n",
       "      <td>1</td>\n",
       "      <td>33.203920</td>\n",
       "      <td>-96.596654</td>\n",
       "      <td>...</td>\n",
       "      <td>0</td>\n",
       "      <td>0</td>\n",
       "      <td>0</td>\n",
       "      <td>1</td>\n",
       "      <td>0</td>\n",
       "      <td>0</td>\n",
       "      <td>0</td>\n",
       "      <td>0</td>\n",
       "      <td>0</td>\n",
       "      <td>0</td>\n",
       "    </tr>\n",
       "    <tr>\n",
       "      <th>4</th>\n",
       "      <td>0</td>\n",
       "      <td>1</td>\n",
       "      <td>36.0</td>\n",
       "      <td>0</td>\n",
       "      <td>35</td>\n",
       "      <td>0</td>\n",
       "      <td>0</td>\n",
       "      <td>1</td>\n",
       "      <td>29.792394</td>\n",
       "      <td>-95.746539</td>\n",
       "      <td>...</td>\n",
       "      <td>0</td>\n",
       "      <td>0</td>\n",
       "      <td>1</td>\n",
       "      <td>1</td>\n",
       "      <td>0</td>\n",
       "      <td>0</td>\n",
       "      <td>0</td>\n",
       "      <td>0</td>\n",
       "      <td>0</td>\n",
       "      <td>0</td>\n",
       "    </tr>\n",
       "  </tbody>\n",
       "</table>\n",
       "<p>5 rows × 151 columns</p>\n",
       "</div>"
      ],
      "text/plain": [
       "   Prsn_Injry_Sev_ID  Unit_Nbr  Prsn_Age  Toll_Road_Fl  Crash_Speed_Limit  \\\n",
       "0                  0         1      48.0             0                 35   \n",
       "1                  2         2      58.0             0                 35   \n",
       "2                  0         1      68.0             0                 45   \n",
       "3                  0         3      67.0             0                 45   \n",
       "4                  0         1      36.0             0                 35   \n",
       "\n",
       "   Road_Constr_Zone_Fl  Road_Constr_Zone_Wrkr_Fl  At_Intrsct_Fl   Latitude  \\\n",
       "0                    0                         0              0  30.660685   \n",
       "1                    0                         0              0  30.660685   \n",
       "2                    0                         0              1  33.203920   \n",
       "3                    0                         0              1  33.203920   \n",
       "4                    0                         0              1  29.792394   \n",
       "\n",
       "   Longitude  ...  Traffic_Cntl_ID_SIGNAL LIGHT WITH RED LIGHT RUNNING CAMERA  \\\n",
       "0 -93.893906  ...                                                  0            \n",
       "1 -93.893906  ...                                                  0            \n",
       "2 -96.596654  ...                                                  0            \n",
       "3 -96.596654  ...                                                  0            \n",
       "4 -95.746539  ...                                                  0            \n",
       "\n",
       "   Traffic_Cntl_ID_STOP SIGN  Traffic_Cntl_ID_WARNING SIGN  \\\n",
       "0                          0                             0   \n",
       "1                          0                             0   \n",
       "2                          0                             0   \n",
       "3                          0                             0   \n",
       "4                          0                             1   \n",
       "\n",
       "   Unit_Desc_ID_MOTOR VEHICLE  Unit_Desc_ID_MOTORIZED CONVEYANCE  \\\n",
       "0                           1                                  0   \n",
       "1                           1                                  0   \n",
       "2                           1                                  0   \n",
       "3                           1                                  0   \n",
       "4                           1                                  0   \n",
       "\n",
       "   Unit_Desc_ID_NON-CONTACT  Unit_Desc_ID_OTHER (EXPLAIN IN NARRATIVE)  \\\n",
       "0                         0                                          0   \n",
       "1                         0                                          0   \n",
       "2                         0                                          0   \n",
       "3                         0                                          0   \n",
       "4                         0                                          0   \n",
       "\n",
       "   Unit_Desc_ID_PEDALCYCLIST  Unit_Desc_ID_PEDESTRIAN  \\\n",
       "0                          0                        0   \n",
       "1                          0                        0   \n",
       "2                          0                        0   \n",
       "3                          0                        0   \n",
       "4                          0                        0   \n",
       "\n",
       "   Unit_Desc_ID_TOWED/PUSHED/TRAILER  \n",
       "0                                  0  \n",
       "1                                  0  \n",
       "2                                  0  \n",
       "3                                  0  \n",
       "4                                  0  \n",
       "\n",
       "[5 rows x 151 columns]"
      ]
     },
     "execution_count": 37,
     "metadata": {},
     "output_type": "execute_result"
    }
   ],
   "source": [
    "link='https://github.com/duonghung86/Fatality-crashes/raw/master/Codes/final%20data.zip'\n",
    "df=import_ds(link)\n",
    "print(df.shape)\n",
    "df.head()"
   ]
  },
  {
   "cell_type": "code",
   "execution_count": 38,
   "metadata": {
    "ExecuteTime": {
     "end_time": "2020-05-23T14:31:28.855338Z",
     "start_time": "2020-05-23T14:31:28.842345Z"
    },
    "colab": {
     "base_uri": "https://localhost:8080/",
     "height": 34
    },
    "colab_type": "code",
    "executionInfo": {
     "elapsed": 11820,
     "status": "ok",
     "timestamp": 1590242512957,
     "user": {
      "displayName": "Duong Hung",
      "photoUrl": "https://lh3.googleusercontent.com/a-/AOh14Ggfgs4FqFN7Yq3pQXoVHeQcc9w9kDV_fAGoQ3Nx4nk=s64",
      "userId": "01608720095171318435"
     },
     "user_tz": 300
    },
    "id": "0yIHRk4sJ1Tx",
    "outputId": "dc3f362e-2f5d-42f3-87c0-2c9931036100"
   },
   "outputs": [
    {
     "data": {
      "text/plain": [
       "array([0, 0, 0, ..., 0, 0, 0])"
      ]
     },
     "execution_count": 38,
     "metadata": {},
     "output_type": "execute_result"
    }
   ],
   "source": [
    "y=np.where(df['Prsn_Injry_Sev_ID']==4,1,0)\n",
    "y"
   ]
  },
  {
   "cell_type": "code",
   "execution_count": 39,
   "metadata": {
    "ExecuteTime": {
     "end_time": "2020-05-23T14:31:28.901312Z",
     "start_time": "2020-05-23T14:31:28.860334Z"
    },
    "colab": {
     "base_uri": "https://localhost:8080/",
     "height": 85
    },
    "colab_type": "code",
    "executionInfo": {
     "elapsed": 11809,
     "status": "ok",
     "timestamp": 1590242512959,
     "user": {
      "displayName": "Duong Hung",
      "photoUrl": "https://lh3.googleusercontent.com/a-/AOh14Ggfgs4FqFN7Yq3pQXoVHeQcc9w9kDV_fAGoQ3Nx4nk=s64",
      "userId": "01608720095171318435"
     },
     "user_tz": 300
    },
    "id": "0Ba_lXcHJ1UI",
    "outputId": "332e89a9-a7e7-4486-cea1-9fee6661a8ae"
   },
   "outputs": [
    {
     "name": "stdout",
     "output_type": "stream",
     "text": [
      "Examples:\n",
      "    Total: 488849\n",
      "    Positive: 1494 (0.31% of total)\n",
      "\n"
     ]
    }
   ],
   "source": [
    "neg, pos = np.bincount(y)\n",
    "total = neg + pos\n",
    "print('Examples:\\n    Total: {}\\n    Positive: {} ({:.2f}% of total)\\n'.format(total, pos, 100 * pos / total))"
   ]
  },
  {
   "cell_type": "code",
   "execution_count": 40,
   "metadata": {
    "ExecuteTime": {
     "end_time": "2020-05-23T14:31:30.383462Z",
     "start_time": "2020-05-23T14:31:28.906309Z"
    },
    "colab": {
     "base_uri": "https://localhost:8080/",
     "height": 473
    },
    "colab_type": "code",
    "executionInfo": {
     "elapsed": 14661,
     "status": "ok",
     "timestamp": 1590242515826,
     "user": {
      "displayName": "Duong Hung",
      "photoUrl": "https://lh3.googleusercontent.com/a-/AOh14Ggfgs4FqFN7Yq3pQXoVHeQcc9w9kDV_fAGoQ3Nx4nk=s64",
      "userId": "01608720095171318435"
     },
     "user_tz": 300
    },
    "id": "Cl4mz5NYJ1UV",
    "outputId": "f4fa7d88-f84c-4ac0-f9d2-b51d447e8e92",
    "scrolled": true
   },
   "outputs": [
    {
     "data": {
      "text/html": [
       "<div>\n",
       "<style scoped>\n",
       "    .dataframe tbody tr th:only-of-type {\n",
       "        vertical-align: middle;\n",
       "    }\n",
       "\n",
       "    .dataframe tbody tr th {\n",
       "        vertical-align: top;\n",
       "    }\n",
       "\n",
       "    .dataframe thead th {\n",
       "        text-align: right;\n",
       "    }\n",
       "</style>\n",
       "<table border=\"1\" class=\"dataframe\">\n",
       "  <thead>\n",
       "    <tr style=\"text-align: right;\">\n",
       "      <th></th>\n",
       "      <th>Unit_Nbr</th>\n",
       "      <th>Prsn_Age</th>\n",
       "      <th>Toll_Road_Fl</th>\n",
       "      <th>Crash_Speed_Limit</th>\n",
       "      <th>Road_Constr_Zone_Fl</th>\n",
       "      <th>Road_Constr_Zone_Wrkr_Fl</th>\n",
       "      <th>At_Intrsct_Fl</th>\n",
       "      <th>Latitude</th>\n",
       "      <th>Longitude</th>\n",
       "      <th>Crash_month</th>\n",
       "      <th>...</th>\n",
       "      <th>Traffic_Cntl_ID_SIGNAL LIGHT WITH RED LIGHT RUNNING CAMERA</th>\n",
       "      <th>Traffic_Cntl_ID_STOP SIGN</th>\n",
       "      <th>Traffic_Cntl_ID_WARNING SIGN</th>\n",
       "      <th>Unit_Desc_ID_MOTOR VEHICLE</th>\n",
       "      <th>Unit_Desc_ID_MOTORIZED CONVEYANCE</th>\n",
       "      <th>Unit_Desc_ID_NON-CONTACT</th>\n",
       "      <th>Unit_Desc_ID_OTHER (EXPLAIN IN NARRATIVE)</th>\n",
       "      <th>Unit_Desc_ID_PEDALCYCLIST</th>\n",
       "      <th>Unit_Desc_ID_PEDESTRIAN</th>\n",
       "      <th>Unit_Desc_ID_TOWED/PUSHED/TRAILER</th>\n",
       "    </tr>\n",
       "  </thead>\n",
       "  <tbody>\n",
       "    <tr>\n",
       "      <th>0</th>\n",
       "      <td>1</td>\n",
       "      <td>48.0</td>\n",
       "      <td>0</td>\n",
       "      <td>35</td>\n",
       "      <td>0</td>\n",
       "      <td>0</td>\n",
       "      <td>0</td>\n",
       "      <td>30.660685</td>\n",
       "      <td>-93.893906</td>\n",
       "      <td>6</td>\n",
       "      <td>...</td>\n",
       "      <td>0</td>\n",
       "      <td>0</td>\n",
       "      <td>0</td>\n",
       "      <td>1</td>\n",
       "      <td>0</td>\n",
       "      <td>0</td>\n",
       "      <td>0</td>\n",
       "      <td>0</td>\n",
       "      <td>0</td>\n",
       "      <td>0</td>\n",
       "    </tr>\n",
       "    <tr>\n",
       "      <th>1</th>\n",
       "      <td>2</td>\n",
       "      <td>58.0</td>\n",
       "      <td>0</td>\n",
       "      <td>35</td>\n",
       "      <td>0</td>\n",
       "      <td>0</td>\n",
       "      <td>0</td>\n",
       "      <td>30.660685</td>\n",
       "      <td>-93.893906</td>\n",
       "      <td>6</td>\n",
       "      <td>...</td>\n",
       "      <td>0</td>\n",
       "      <td>0</td>\n",
       "      <td>0</td>\n",
       "      <td>1</td>\n",
       "      <td>0</td>\n",
       "      <td>0</td>\n",
       "      <td>0</td>\n",
       "      <td>0</td>\n",
       "      <td>0</td>\n",
       "      <td>0</td>\n",
       "    </tr>\n",
       "    <tr>\n",
       "      <th>2</th>\n",
       "      <td>1</td>\n",
       "      <td>68.0</td>\n",
       "      <td>0</td>\n",
       "      <td>45</td>\n",
       "      <td>0</td>\n",
       "      <td>0</td>\n",
       "      <td>1</td>\n",
       "      <td>33.203920</td>\n",
       "      <td>-96.596654</td>\n",
       "      <td>6</td>\n",
       "      <td>...</td>\n",
       "      <td>0</td>\n",
       "      <td>0</td>\n",
       "      <td>0</td>\n",
       "      <td>1</td>\n",
       "      <td>0</td>\n",
       "      <td>0</td>\n",
       "      <td>0</td>\n",
       "      <td>0</td>\n",
       "      <td>0</td>\n",
       "      <td>0</td>\n",
       "    </tr>\n",
       "    <tr>\n",
       "      <th>3</th>\n",
       "      <td>3</td>\n",
       "      <td>67.0</td>\n",
       "      <td>0</td>\n",
       "      <td>45</td>\n",
       "      <td>0</td>\n",
       "      <td>0</td>\n",
       "      <td>1</td>\n",
       "      <td>33.203920</td>\n",
       "      <td>-96.596654</td>\n",
       "      <td>6</td>\n",
       "      <td>...</td>\n",
       "      <td>0</td>\n",
       "      <td>0</td>\n",
       "      <td>0</td>\n",
       "      <td>1</td>\n",
       "      <td>0</td>\n",
       "      <td>0</td>\n",
       "      <td>0</td>\n",
       "      <td>0</td>\n",
       "      <td>0</td>\n",
       "      <td>0</td>\n",
       "    </tr>\n",
       "    <tr>\n",
       "      <th>4</th>\n",
       "      <td>1</td>\n",
       "      <td>36.0</td>\n",
       "      <td>0</td>\n",
       "      <td>35</td>\n",
       "      <td>0</td>\n",
       "      <td>0</td>\n",
       "      <td>1</td>\n",
       "      <td>29.792394</td>\n",
       "      <td>-95.746539</td>\n",
       "      <td>6</td>\n",
       "      <td>...</td>\n",
       "      <td>0</td>\n",
       "      <td>0</td>\n",
       "      <td>1</td>\n",
       "      <td>1</td>\n",
       "      <td>0</td>\n",
       "      <td>0</td>\n",
       "      <td>0</td>\n",
       "      <td>0</td>\n",
       "      <td>0</td>\n",
       "      <td>0</td>\n",
       "    </tr>\n",
       "    <tr>\n",
       "      <th>...</th>\n",
       "      <td>...</td>\n",
       "      <td>...</td>\n",
       "      <td>...</td>\n",
       "      <td>...</td>\n",
       "      <td>...</td>\n",
       "      <td>...</td>\n",
       "      <td>...</td>\n",
       "      <td>...</td>\n",
       "      <td>...</td>\n",
       "      <td>...</td>\n",
       "      <td>...</td>\n",
       "      <td>...</td>\n",
       "      <td>...</td>\n",
       "      <td>...</td>\n",
       "      <td>...</td>\n",
       "      <td>...</td>\n",
       "      <td>...</td>\n",
       "      <td>...</td>\n",
       "      <td>...</td>\n",
       "      <td>...</td>\n",
       "      <td>...</td>\n",
       "    </tr>\n",
       "    <tr>\n",
       "      <th>488844</th>\n",
       "      <td>1</td>\n",
       "      <td>68.0</td>\n",
       "      <td>0</td>\n",
       "      <td>70</td>\n",
       "      <td>0</td>\n",
       "      <td>0</td>\n",
       "      <td>1</td>\n",
       "      <td>28.954878</td>\n",
       "      <td>-97.987513</td>\n",
       "      <td>11</td>\n",
       "      <td>...</td>\n",
       "      <td>0</td>\n",
       "      <td>0</td>\n",
       "      <td>0</td>\n",
       "      <td>1</td>\n",
       "      <td>0</td>\n",
       "      <td>0</td>\n",
       "      <td>0</td>\n",
       "      <td>0</td>\n",
       "      <td>0</td>\n",
       "      <td>0</td>\n",
       "    </tr>\n",
       "    <tr>\n",
       "      <th>488845</th>\n",
       "      <td>1</td>\n",
       "      <td>44.0</td>\n",
       "      <td>0</td>\n",
       "      <td>55</td>\n",
       "      <td>0</td>\n",
       "      <td>0</td>\n",
       "      <td>1</td>\n",
       "      <td>32.756880</td>\n",
       "      <td>-94.354907</td>\n",
       "      <td>11</td>\n",
       "      <td>...</td>\n",
       "      <td>0</td>\n",
       "      <td>1</td>\n",
       "      <td>0</td>\n",
       "      <td>1</td>\n",
       "      <td>0</td>\n",
       "      <td>0</td>\n",
       "      <td>0</td>\n",
       "      <td>0</td>\n",
       "      <td>0</td>\n",
       "      <td>0</td>\n",
       "    </tr>\n",
       "    <tr>\n",
       "      <th>488846</th>\n",
       "      <td>2</td>\n",
       "      <td>57.0</td>\n",
       "      <td>0</td>\n",
       "      <td>55</td>\n",
       "      <td>0</td>\n",
       "      <td>0</td>\n",
       "      <td>1</td>\n",
       "      <td>32.756880</td>\n",
       "      <td>-94.354907</td>\n",
       "      <td>11</td>\n",
       "      <td>...</td>\n",
       "      <td>0</td>\n",
       "      <td>1</td>\n",
       "      <td>0</td>\n",
       "      <td>1</td>\n",
       "      <td>0</td>\n",
       "      <td>0</td>\n",
       "      <td>0</td>\n",
       "      <td>0</td>\n",
       "      <td>0</td>\n",
       "      <td>0</td>\n",
       "    </tr>\n",
       "    <tr>\n",
       "      <th>488847</th>\n",
       "      <td>1</td>\n",
       "      <td>16.0</td>\n",
       "      <td>0</td>\n",
       "      <td>40</td>\n",
       "      <td>0</td>\n",
       "      <td>0</td>\n",
       "      <td>0</td>\n",
       "      <td>31.279209</td>\n",
       "      <td>-94.579816</td>\n",
       "      <td>9</td>\n",
       "      <td>...</td>\n",
       "      <td>0</td>\n",
       "      <td>1</td>\n",
       "      <td>0</td>\n",
       "      <td>1</td>\n",
       "      <td>0</td>\n",
       "      <td>0</td>\n",
       "      <td>0</td>\n",
       "      <td>0</td>\n",
       "      <td>0</td>\n",
       "      <td>0</td>\n",
       "    </tr>\n",
       "    <tr>\n",
       "      <th>488848</th>\n",
       "      <td>2</td>\n",
       "      <td>16.0</td>\n",
       "      <td>0</td>\n",
       "      <td>40</td>\n",
       "      <td>0</td>\n",
       "      <td>0</td>\n",
       "      <td>0</td>\n",
       "      <td>31.279209</td>\n",
       "      <td>-94.579816</td>\n",
       "      <td>9</td>\n",
       "      <td>...</td>\n",
       "      <td>0</td>\n",
       "      <td>1</td>\n",
       "      <td>0</td>\n",
       "      <td>1</td>\n",
       "      <td>0</td>\n",
       "      <td>0</td>\n",
       "      <td>0</td>\n",
       "      <td>0</td>\n",
       "      <td>0</td>\n",
       "      <td>0</td>\n",
       "    </tr>\n",
       "  </tbody>\n",
       "</table>\n",
       "<p>488849 rows × 150 columns</p>\n",
       "</div>"
      ],
      "text/plain": [
       "        Unit_Nbr  Prsn_Age  Toll_Road_Fl  Crash_Speed_Limit  \\\n",
       "0              1      48.0             0                 35   \n",
       "1              2      58.0             0                 35   \n",
       "2              1      68.0             0                 45   \n",
       "3              3      67.0             0                 45   \n",
       "4              1      36.0             0                 35   \n",
       "...          ...       ...           ...                ...   \n",
       "488844         1      68.0             0                 70   \n",
       "488845         1      44.0             0                 55   \n",
       "488846         2      57.0             0                 55   \n",
       "488847         1      16.0             0                 40   \n",
       "488848         2      16.0             0                 40   \n",
       "\n",
       "        Road_Constr_Zone_Fl  Road_Constr_Zone_Wrkr_Fl  At_Intrsct_Fl  \\\n",
       "0                         0                         0              0   \n",
       "1                         0                         0              0   \n",
       "2                         0                         0              1   \n",
       "3                         0                         0              1   \n",
       "4                         0                         0              1   \n",
       "...                     ...                       ...            ...   \n",
       "488844                    0                         0              1   \n",
       "488845                    0                         0              1   \n",
       "488846                    0                         0              1   \n",
       "488847                    0                         0              0   \n",
       "488848                    0                         0              0   \n",
       "\n",
       "         Latitude  Longitude  Crash_month  ...  \\\n",
       "0       30.660685 -93.893906            6  ...   \n",
       "1       30.660685 -93.893906            6  ...   \n",
       "2       33.203920 -96.596654            6  ...   \n",
       "3       33.203920 -96.596654            6  ...   \n",
       "4       29.792394 -95.746539            6  ...   \n",
       "...           ...        ...          ...  ...   \n",
       "488844  28.954878 -97.987513           11  ...   \n",
       "488845  32.756880 -94.354907           11  ...   \n",
       "488846  32.756880 -94.354907           11  ...   \n",
       "488847  31.279209 -94.579816            9  ...   \n",
       "488848  31.279209 -94.579816            9  ...   \n",
       "\n",
       "        Traffic_Cntl_ID_SIGNAL LIGHT WITH RED LIGHT RUNNING CAMERA  \\\n",
       "0                                                       0            \n",
       "1                                                       0            \n",
       "2                                                       0            \n",
       "3                                                       0            \n",
       "4                                                       0            \n",
       "...                                                   ...            \n",
       "488844                                                  0            \n",
       "488845                                                  0            \n",
       "488846                                                  0            \n",
       "488847                                                  0            \n",
       "488848                                                  0            \n",
       "\n",
       "        Traffic_Cntl_ID_STOP SIGN  Traffic_Cntl_ID_WARNING SIGN  \\\n",
       "0                               0                             0   \n",
       "1                               0                             0   \n",
       "2                               0                             0   \n",
       "3                               0                             0   \n",
       "4                               0                             1   \n",
       "...                           ...                           ...   \n",
       "488844                          0                             0   \n",
       "488845                          1                             0   \n",
       "488846                          1                             0   \n",
       "488847                          1                             0   \n",
       "488848                          1                             0   \n",
       "\n",
       "        Unit_Desc_ID_MOTOR VEHICLE  Unit_Desc_ID_MOTORIZED CONVEYANCE  \\\n",
       "0                                1                                  0   \n",
       "1                                1                                  0   \n",
       "2                                1                                  0   \n",
       "3                                1                                  0   \n",
       "4                                1                                  0   \n",
       "...                            ...                                ...   \n",
       "488844                           1                                  0   \n",
       "488845                           1                                  0   \n",
       "488846                           1                                  0   \n",
       "488847                           1                                  0   \n",
       "488848                           1                                  0   \n",
       "\n",
       "        Unit_Desc_ID_NON-CONTACT  Unit_Desc_ID_OTHER (EXPLAIN IN NARRATIVE)  \\\n",
       "0                              0                                          0   \n",
       "1                              0                                          0   \n",
       "2                              0                                          0   \n",
       "3                              0                                          0   \n",
       "4                              0                                          0   \n",
       "...                          ...                                        ...   \n",
       "488844                         0                                          0   \n",
       "488845                         0                                          0   \n",
       "488846                         0                                          0   \n",
       "488847                         0                                          0   \n",
       "488848                         0                                          0   \n",
       "\n",
       "        Unit_Desc_ID_PEDALCYCLIST  Unit_Desc_ID_PEDESTRIAN  \\\n",
       "0                               0                        0   \n",
       "1                               0                        0   \n",
       "2                               0                        0   \n",
       "3                               0                        0   \n",
       "4                               0                        0   \n",
       "...                           ...                      ...   \n",
       "488844                          0                        0   \n",
       "488845                          0                        0   \n",
       "488846                          0                        0   \n",
       "488847                          0                        0   \n",
       "488848                          0                        0   \n",
       "\n",
       "        Unit_Desc_ID_TOWED/PUSHED/TRAILER  \n",
       "0                                       0  \n",
       "1                                       0  \n",
       "2                                       0  \n",
       "3                                       0  \n",
       "4                                       0  \n",
       "...                                   ...  \n",
       "488844                                  0  \n",
       "488845                                  0  \n",
       "488846                                  0  \n",
       "488847                                  0  \n",
       "488848                                  0  \n",
       "\n",
       "[488849 rows x 150 columns]"
      ]
     },
     "execution_count": 40,
     "metadata": {},
     "output_type": "execute_result"
    }
   ],
   "source": [
    "X=df.iloc[:,1:].copy()\n",
    "X"
   ]
  },
  {
   "cell_type": "code",
   "execution_count": null,
   "metadata": {},
   "outputs": [],
   "source": [
    "del df"
   ]
  },
  {
   "cell_type": "markdown",
   "metadata": {
    "colab_type": "text",
    "id": "548Mc3Y4J1Ui"
   },
   "source": [
    "# Split the dataset"
   ]
  },
  {
   "cell_type": "code",
   "execution_count": 41,
   "metadata": {
    "ExecuteTime": {
     "end_time": "2020-05-23T14:31:33.497714Z",
     "start_time": "2020-05-23T14:31:30.388460Z"
    },
    "colab": {},
    "colab_type": "code",
    "id": "5ERPlNBhJ1Ul"
   },
   "outputs": [],
   "source": [
    "from sklearn.model_selection import train_test_split"
   ]
  },
  {
   "cell_type": "code",
   "execution_count": 42,
   "metadata": {
    "ExecuteTime": {
     "end_time": "2020-05-23T14:31:38.698856Z",
     "start_time": "2020-05-23T14:31:33.501714Z"
    },
    "colab": {
     "base_uri": "https://localhost:8080/",
     "height": 68
    },
    "colab_type": "code",
    "executionInfo": {
     "elapsed": 15595,
     "status": "ok",
     "timestamp": 1590242516779,
     "user": {
      "displayName": "Duong Hung",
      "photoUrl": "https://lh3.googleusercontent.com/a-/AOh14Ggfgs4FqFN7Yq3pQXoVHeQcc9w9kDV_fAGoQ3Nx4nk=s64",
      "userId": "01608720095171318435"
     },
     "user_tz": 300
    },
    "id": "6dDdGqNSJ1Uo",
    "outputId": "2fba88c2-936b-4bdb-d78a-5b75cc233778"
   },
   "outputs": [
    {
     "name": "stdout",
     "output_type": "stream",
     "text": [
      "Training features shape: (312863, 150)\n",
      "Validation features shape: (78216, 150)\n",
      "Test features shape: (97770, 150)\n"
     ]
    }
   ],
   "source": [
    "X_train, X_test, y_train, y_test = train_test_split(X,y,test_size=0.2,stratify=y, random_state=48)\n",
    "X_train, X_val, y_train, y_val = train_test_split(X_train,y_train,test_size=0.2,stratify=y_train, random_state=48)\n",
    "\n",
    "X_train=np.array(X_train)\n",
    "X_test=np.array(X_test)\n",
    "X_val=np.array(X_val)\n",
    "\n",
    "print('Training features shape:', X_train.shape)\n",
    "print('Validation features shape:', X_val.shape)\n",
    "print('Test features shape:', X_test.shape)"
   ]
  },
  {
   "cell_type": "code",
   "execution_count": 43,
   "metadata": {
    "ExecuteTime": {
     "end_time": "2020-05-23T14:31:38.729838Z",
     "start_time": "2020-05-23T14:31:38.711848Z"
    },
    "colab": {
     "base_uri": "https://localhost:8080/",
     "height": 68
    },
    "colab_type": "code",
    "executionInfo": {
     "elapsed": 15589,
     "status": "ok",
     "timestamp": 1590242516780,
     "user": {
      "displayName": "Duong Hung",
      "photoUrl": "https://lh3.googleusercontent.com/a-/AOh14Ggfgs4FqFN7Yq3pQXoVHeQcc9w9kDV_fAGoQ3Nx4nk=s64",
      "userId": "01608720095171318435"
     },
     "user_tz": 300
    },
    "id": "Ut-NVd4nJ1Uv",
    "outputId": "42f58a45-6a09-4e58-bc38-91d344af514a"
   },
   "outputs": [
    {
     "name": "stdout",
     "output_type": "stream",
     "text": [
      "Training features shape: (312863, 1)\n",
      "Validation features shape: (78216, 1)\n",
      "Test features shape: (97770, 1)\n"
     ]
    }
   ],
   "source": [
    "y_train=np.array(y_train).reshape(len(y_train),1)\n",
    "y_test=np.array(y_test).reshape(len(y_test),1)\n",
    "y_val=np.array(y_val).reshape(len(y_val),1)\n",
    "\n",
    "print('Training features shape:', y_train.shape)\n",
    "print('Validation features shape:', y_val.shape)\n",
    "print('Test features shape:', y_test.shape)"
   ]
  },
  {
   "cell_type": "code",
   "execution_count": 44,
   "metadata": {
    "ExecuteTime": {
     "end_time": "2020-05-23T14:31:38.740832Z",
     "start_time": "2020-05-23T14:31:38.733835Z"
    },
    "colab": {},
    "colab_type": "code",
    "id": "Lj2Ka9kMJ1U2"
   },
   "outputs": [],
   "source": [
    "# standardization\n",
    "from sklearn.preprocessing import StandardScaler"
   ]
  },
  {
   "cell_type": "code",
   "execution_count": 45,
   "metadata": {
    "ExecuteTime": {
     "end_time": "2020-05-23T14:31:41.294509Z",
     "start_time": "2020-05-23T14:31:38.743831Z"
    },
    "colab": {},
    "colab_type": "code",
    "id": "BiA2g-qsJ1U6"
   },
   "outputs": [],
   "source": [
    "scaler = StandardScaler()\n",
    "\n",
    "X_train = scaler.fit_transform(X_train)\n",
    "\n",
    "X_val = scaler.transform(X_val)\n",
    "X_test = scaler.transform(X_test)"
   ]
  },
  {
   "cell_type": "code",
   "execution_count": null,
   "metadata": {},
   "outputs": [],
   "source": [
    "del X,y"
   ]
  },
  {
   "cell_type": "markdown",
   "metadata": {
    "colab_type": "text",
    "id": "BcaKVTGuJ1Vm"
   },
   "source": [
    "# MLP simple"
   ]
  },
  {
   "cell_type": "markdown",
   "metadata": {
    "colab_type": "text",
    "id": "HquajIY-J1Vn"
   },
   "source": [
    "## Mini functions"
   ]
  },
  {
   "cell_type": "markdown",
   "metadata": {
    "colab_type": "text",
    "id": "_Z54FMlfJ1Vp"
   },
   "source": [
    "### Create model"
   ]
  },
  {
   "cell_type": "code",
   "execution_count": 46,
   "metadata": {
    "ExecuteTime": {
     "end_time": "2020-05-23T14:31:48.908454Z",
     "start_time": "2020-05-23T14:31:41.294509Z"
    },
    "colab": {
     "base_uri": "https://localhost:8080/",
     "height": 34
    },
    "colab_type": "code",
    "executionInfo": {
     "elapsed": 17768,
     "status": "ok",
     "timestamp": 1590242518970,
     "user": {
      "displayName": "Duong Hung",
      "photoUrl": "https://lh3.googleusercontent.com/a-/AOh14Ggfgs4FqFN7Yq3pQXoVHeQcc9w9kDV_fAGoQ3Nx4nk=s64",
      "userId": "01608720095171318435"
     },
     "user_tz": 300
    },
    "id": "dBEUbS6cYuve",
    "outputId": "c1179029-a93a-4dcf-be84-b4b124600a6d"
   },
   "outputs": [
    {
     "name": "stdout",
     "output_type": "stream",
     "text": [
      "2.1.0\n"
     ]
    }
   ],
   "source": [
    "import tensorflow as tf\n",
    "from tensorflow import keras\n",
    "print(tf.__version__)"
   ]
  },
  {
   "cell_type": "code",
   "execution_count": 47,
   "metadata": {
    "ExecuteTime": {
     "end_time": "2020-05-23T14:31:49.018392Z",
     "start_time": "2020-05-23T14:31:48.912451Z"
    },
    "colab": {},
    "colab_type": "code",
    "id": "3mbty_Yv1pfM"
   },
   "outputs": [],
   "source": [
    "metrics = [keras.metrics.BinaryAccuracy(name='accuracy'),\n",
    "          keras.metrics.Precision(name='precision'),\n",
    "          keras.metrics.Recall(name='recall'),\n",
    "          keras.metrics.AUC(name='auc')]"
   ]
  },
  {
   "cell_type": "code",
   "execution_count": 49,
   "metadata": {
    "ExecuteTime": {
     "end_time": "2020-05-23T14:31:49.064364Z",
     "start_time": "2020-05-23T14:31:49.052369Z"
    },
    "colab": {},
    "colab_type": "code",
    "id": "yIup1KAaJ1Vr"
   },
   "outputs": [],
   "source": [
    "def create_model(nodes=20,actih='relu',actio='sigmoid',lr=1e-3,output_bias=None,logits=False):\n",
    "    if output_bias is not None:\n",
    "        output_bias = tf.keras.initializers.Constant(output_bias)\n",
    "        \n",
    "    model = keras.Sequential()\n",
    "    model.add(keras.layers.Dense(nodes, activation=actih,input_dim=X_train.shape[1]))\n",
    "    model.add(keras.layers.Dropout(0.5))\n",
    "    model.add(keras.layers.Dense(1, activation=actio,bias_initializer=output_bias))\n",
    "    \n",
    "    model.compile(optimizer=keras.optimizers.Adam(lr=lr),\n",
    "                  loss=keras.losses.BinaryCrossentropy(from_logits=logits),\n",
    "                  metrics=metrics)\n",
    "    return model"
   ]
  },
  {
   "cell_type": "markdown",
   "metadata": {
    "colab_type": "text",
    "id": "JXXqeCA-J1Vu"
   },
   "source": [
    "### Show confusion matrix\n"
   ]
  },
  {
   "cell_type": "code",
   "execution_count": 50,
   "metadata": {
    "ExecuteTime": {
     "end_time": "2020-05-23T14:31:49.085351Z",
     "start_time": "2020-05-23T14:31:49.070359Z"
    },
    "colab": {},
    "colab_type": "code",
    "id": "BCMLDgLcYo6T"
   },
   "outputs": [],
   "source": [
    "from sklearn.metrics import confusion_matrix, classification_report"
   ]
  },
  {
   "cell_type": "code",
   "execution_count": 51,
   "metadata": {
    "ExecuteTime": {
     "end_time": "2020-05-23T14:31:49.112337Z",
     "start_time": "2020-05-23T14:31:49.091348Z"
    },
    "colab": {},
    "colab_type": "code",
    "id": "ZhneEw4cRND_"
   },
   "outputs": [],
   "source": [
    "def CI(arr):\n",
    "    op=[arr[0,0],arr[1,1]]/arr.sum(axis=0)\n",
    "    op=np.append(op,(arr[0,0]+arr[1,1])/arr.sum())\n",
    "    op=pd.DataFrame(op,columns=['Precision'],index=['0','1','Global'])\n",
    "    op['n_p']=np.append(arr.sum(axis=0),arr.sum())\n",
    "    op['CI_p']=196*np.sqrt(op.Precision*(1-op.Precision)/op.n_p)\n",
    "    op['Precision']=op.Precision*100\n",
    "\n",
    "    op['Recall']=np.append([arr[0,0],arr[1,1]]/arr.sum(axis=1),(arr[0,0]+arr[1,1])/arr.sum())\n",
    "    op['n_r']=np.append(arr.sum(axis=1),arr.sum())\n",
    "    op['CI_r']=196*np.sqrt(op.Recall*(1-op.Recall)/op.n_r)\n",
    "    op['Recall']=op.Recall*100\n",
    "    return op"
   ]
  },
  {
   "cell_type": "code",
   "execution_count": 52,
   "metadata": {
    "ExecuteTime": {
     "end_time": "2020-05-23T14:31:49.136323Z",
     "start_time": "2020-05-23T14:31:49.118333Z"
    },
    "colab": {},
    "colab_type": "code",
    "id": "uFfBF83bJ1V0"
   },
   "outputs": [],
   "source": [
    "def show_cm(labels, predictions, p=0.5):\n",
    "    cm = confusion_matrix(labels, predictions > p)\n",
    "    print(cm)\n",
    "    pcm=classification_report(labels, predictions > p, target_names=['Class 0','Class 1']) \n",
    "    print(pcm)\n",
    "    return CI(cm)"
   ]
  },
  {
   "cell_type": "markdown",
   "metadata": {
    "colab_type": "text",
    "id": "U7vWECLdJ1V_"
   },
   "source": [
    "### Plot ROC\n"
   ]
  },
  {
   "cell_type": "code",
   "execution_count": 53,
   "metadata": {
    "ExecuteTime": {
     "end_time": "2020-05-23T14:31:49.152314Z",
     "start_time": "2020-05-23T14:31:49.139320Z"
    },
    "colab": {},
    "colab_type": "code",
    "id": "C3yM0beyZCHc"
   },
   "outputs": [],
   "source": [
    "from sklearn.metrics import roc_curve, auc"
   ]
  },
  {
   "cell_type": "code",
   "execution_count": 54,
   "metadata": {
    "ExecuteTime": {
     "end_time": "2020-05-23T14:31:49.174299Z",
     "start_time": "2020-05-23T14:31:49.157310Z"
    },
    "colab": {},
    "colab_type": "code",
    "id": "tuV1U8jcJ1WG"
   },
   "outputs": [],
   "source": [
    "def plot_roc(name, labels, predictions, **kwargs):\n",
    "  fp, tp, _ = roc_curve(labels, predictions)\n",
    "\n",
    "  plt.plot(100*fp, 100*tp, label=name + ' (area = %0.4f)' % auc(fp, tp), linewidth=1.5, **kwargs)\n",
    "  plt.xlabel('False positives [%]')\n",
    "  plt.ylabel('True positives [%]')\n",
    "  plt.xlim([0,100.5])\n",
    "  plt.ylim([0,100.5])\n",
    "  plt.grid(True)\n",
    "  ax = plt.gca()\n",
    "  ax.set_aspect('equal')"
   ]
  },
  {
   "cell_type": "code",
   "execution_count": 57,
   "metadata": {
    "ExecuteTime": {
     "end_time": "2020-05-23T14:31:49.749281Z",
     "start_time": "2020-05-23T14:31:49.743281Z"
    },
    "colab": {},
    "colab_type": "code",
    "id": "3VS51FQTJ1Wk"
   },
   "outputs": [],
   "source": [
    "es = tf.keras.callbacks.EarlyStopping(monitor='val_auc', \n",
    "    verbose=1,\n",
    "    patience=20,\n",
    "    mode='max',\n",
    "    restore_best_weights=True)"
   ]
  },
  {
   "cell_type": "code",
   "execution_count": 59,
   "metadata": {
    "ExecuteTime": {
     "end_time": "2020-05-23T14:31:49.792254Z",
     "start_time": "2020-05-23T14:31:49.782259Z"
    },
    "colab": {},
    "colab_type": "code",
    "id": "wOnyvd3jK739"
   },
   "outputs": [],
   "source": [
    "import time"
   ]
  },
  {
   "cell_type": "markdown",
   "metadata": {
    "ExecuteTime": {
     "end_time": "2020-05-08T22:47:44.768449Z",
     "start_time": "2020-05-08T22:47:44.455029Z"
    },
    "colab_type": "text",
    "id": "loWcs-MKJ1XR"
   },
   "source": [
    "## Resampling\n"
   ]
  },
  {
   "cell_type": "code",
   "execution_count": 60,
   "metadata": {},
   "outputs": [],
   "source": [
    "def oversamp(X_dat=X_train,y_dat=y_train):\n",
    "  # Seperate positive and negative samples\n",
    "  bool_y_dat=y_dat != 0\n",
    "  bool_y_dat=np.reshape(bool_y_dat, (len(bool_y_dat),))\n",
    "  pos_X = X_dat[bool_y_dat]\n",
    "  neg_X = X_dat[~bool_y_dat]\n",
    "  pos_y = y_dat[bool_y_dat]\n",
    "  neg_y = y_dat[~bool_y_dat]\n",
    "  #Oversampling for minority samples\n",
    "  ids = np.arange(len(pos_X))\n",
    "  choices = np.random.choice(ids, len(neg_X))\n",
    "  res_pos_X = pos_X[choices]\n",
    "  res_pos_y = pos_y[choices]\n",
    "  \n",
    "  # Concatenate\n",
    "  X_res = np.concatenate([res_pos_X, neg_X], axis=0)\n",
    "  y_res = np.concatenate([res_pos_y, neg_y], axis=0)\n",
    "\n",
    "  order = np.arange(len(y_res))\n",
    "  np.random.shuffle(order)\n",
    "  X_res= X_res[order]\n",
    "  y_res = y_res[order]\n",
    "  return X_res,y_res"
   ]
  },
  {
   "cell_type": "code",
   "execution_count": 61,
   "metadata": {},
   "outputs": [],
   "source": [
    "X_ros,y_ros=oversamp()"
   ]
  },
  {
   "cell_type": "markdown",
   "metadata": {
    "colab_type": "text",
    "id": "-G092TzzbPWJ"
   },
   "source": [
    "### Run model resampling"
   ]
  },
  {
   "cell_type": "code",
   "execution_count": 62,
   "metadata": {
    "ExecuteTime": {
     "end_time": "2020-05-23T14:36:05.192169Z",
     "start_time": "2020-05-23T14:32:36.815328Z"
    },
    "colab": {
     "base_uri": "https://localhost:8080/",
     "height": 782
    },
    "colab_type": "code",
    "executionInfo": {
     "elapsed": 104037,
     "status": "ok",
     "timestamp": 1590242982031,
     "user": {
      "displayName": "Duong Hung",
      "photoUrl": "https://lh3.googleusercontent.com/a-/AOh14Ggfgs4FqFN7Yq3pQXoVHeQcc9w9kDV_fAGoQ3Nx4nk=s64",
      "userId": "01608720095171318435"
     },
     "user_tz": 300
    },
    "id": "-VuAnYjw1pgM",
    "outputId": "1257874c-2f53-47bc-c4da-bdcbfc7786a2"
   },
   "outputs": [
    {
     "name": "stdout",
     "output_type": "stream",
     "text": [
      "Train on 623814 samples, validate on 78216 samples\n",
      "Epoch 1/100\n",
      "623814/623814 [==============================] - 7s 11us/sample - loss: 0.3745 - accuracy: 0.8534 - auc: 0.9234 - val_loss: 0.2662 - val_accuracy: 0.9146 - val_auc: 0.9611\n",
      "Epoch 2/100\n",
      "623814/623814 [==============================] - 4s 6us/sample - loss: 0.2501 - accuracy: 0.9049 - auc: 0.9645 - val_loss: 0.2246 - val_accuracy: 0.9183 - val_auc: 0.9577\n",
      "Epoch 3/100\n",
      "623814/623814 [==============================] - 4s 6us/sample - loss: 0.2253 - accuracy: 0.9141 - auc: 0.9701 - val_loss: 0.2052 - val_accuracy: 0.9245 - val_auc: 0.9521\n",
      "Epoch 4/100\n",
      "623814/623814 [==============================] - 4s 6us/sample - loss: 0.2131 - accuracy: 0.9190 - auc: 0.9727 - val_loss: 0.1963 - val_accuracy: 0.9264 - val_auc: 0.9487\n",
      "Epoch 5/100\n",
      "623814/623814 [==============================] - 4s 6us/sample - loss: 0.2042 - accuracy: 0.9233 - auc: 0.9744 - val_loss: 0.1891 - val_accuracy: 0.9286 - val_auc: 0.9467\n",
      "Epoch 6/100\n",
      "623814/623814 [==============================] - 4s 6us/sample - loss: 0.1975 - accuracy: 0.9265 - auc: 0.9757 - val_loss: 0.1787 - val_accuracy: 0.9311 - val_auc: 0.9449\n",
      "Epoch 7/100\n",
      "623814/623814 [==============================] - 4s 6us/sample - loss: 0.1922 - accuracy: 0.9288 - auc: 0.9765 - val_loss: 0.1733 - val_accuracy: 0.9330 - val_auc: 0.9418\n",
      "Epoch 8/100\n",
      "623814/623814 [==============================] - 4s 6us/sample - loss: 0.1875 - accuracy: 0.9315 - auc: 0.9773 - val_loss: 0.1712 - val_accuracy: 0.9343 - val_auc: 0.9405\n",
      "Epoch 9/100\n",
      "623814/623814 [==============================] - 4s 6us/sample - loss: 0.1843 - accuracy: 0.9332 - auc: 0.9779 - val_loss: 0.1716 - val_accuracy: 0.9342 - val_auc: 0.9376\n",
      "Epoch 10/100\n",
      "623814/623814 [==============================] - 4s 6us/sample - loss: 0.1808 - accuracy: 0.9350 - auc: 0.9785 - val_loss: 0.1629 - val_accuracy: 0.9363 - val_auc: 0.9347\n",
      "Epoch 11/100\n",
      "623814/623814 [==============================] - 4s 6us/sample - loss: 0.1783 - accuracy: 0.9363 - auc: 0.9788 - val_loss: 0.1587 - val_accuracy: 0.9380 - val_auc: 0.9301\n",
      "Epoch 12/100\n",
      "623814/623814 [==============================] - 4s 6us/sample - loss: 0.1754 - accuracy: 0.9373 - auc: 0.9793 - val_loss: 0.1468 - val_accuracy: 0.9407 - val_auc: 0.9270\n",
      "Epoch 13/100\n",
      "623814/623814 [==============================] - 4s 7us/sample - loss: 0.1723 - accuracy: 0.9390 - auc: 0.9798 - val_loss: 0.1525 - val_accuracy: 0.9408 - val_auc: 0.9258\n",
      "Epoch 14/100\n",
      "623814/623814 [==============================] - 4s 6us/sample - loss: 0.1704 - accuracy: 0.9400 - auc: 0.9801 - val_loss: 0.1477 - val_accuracy: 0.9422 - val_auc: 0.9245\n",
      "Epoch 15/100\n",
      "623814/623814 [==============================] - 4s 6us/sample - loss: 0.1680 - accuracy: 0.9413 - auc: 0.9805 - val_loss: 0.1458 - val_accuracy: 0.9426 - val_auc: 0.9199\n",
      "Epoch 16/100\n",
      "623814/623814 [==============================] - 5s 7us/sample - loss: 0.1667 - accuracy: 0.9417 - auc: 0.9806 - val_loss: 0.1433 - val_accuracy: 0.9434 - val_auc: 0.9203\n",
      "Epoch 17/100\n",
      "623814/623814 [==============================] - 4s 7us/sample - loss: 0.1654 - accuracy: 0.9426 - auc: 0.9809 - val_loss: 0.1414 - val_accuracy: 0.9442 - val_auc: 0.9225\n",
      "Epoch 18/100\n",
      "623814/623814 [==============================] - 6s 9us/sample - loss: 0.1637 - accuracy: 0.9429 - auc: 0.9811 - val_loss: 0.1425 - val_accuracy: 0.9449 - val_auc: 0.9192\n",
      "Epoch 19/100\n",
      "623814/623814 [==============================] - 5s 8us/sample - loss: 0.1627 - accuracy: 0.9440 - auc: 0.9812 - val_loss: 0.1399 - val_accuracy: 0.9452 - val_auc: 0.9159\n",
      "Epoch 20/100\n",
      "623814/623814 [==============================] - 4s 6us/sample - loss: 0.1613 - accuracy: 0.9440 - auc: 0.9814 - val_loss: 0.1383 - val_accuracy: 0.9455 - val_auc: 0.9162\n",
      "Epoch 21/100\n",
      "620544/623814 [============================>.] - ETA: 0s - loss: 0.1604 - accuracy: 0.9446 - auc: 0.9815Restoring model weights from the end of the best epoch.\n",
      "623814/623814 [==============================] - 4s 6us/sample - loss: 0.1603 - accuracy: 0.9447 - auc: 0.9815 - val_loss: 0.1359 - val_accuracy: 0.9461 - val_auc: 0.9075\n",
      "Epoch 00021: early stopping\n",
      "Computation time:  1.4820199966430665  min\n"
     ]
    }
   ],
   "source": [
    "start_time=time.time()\n",
    "tf.random.set_seed(8)\n",
    "ros_model=create_model()\n",
    "Monitor = ros_model.fit(X_ros,y_ros, \n",
    "                        epochs=100,batch_size=2048, \n",
    "                        callbacks=[es],\n",
    "                        validation_data = (X_val,y_val),\n",
    "                        verbose = 1)\n",
    "end_time=time.time()\n",
    "print('Computation time: ', (end_time-start_time)/60, ' min')"
   ]
  },
  {
   "cell_type": "code",
   "execution_count": 63,
   "metadata": {
    "ExecuteTime": {
     "end_time": "2020-05-23T14:36:06.822028Z",
     "start_time": "2020-05-23T14:36:05.197167Z"
    },
    "colab": {
     "base_uri": "https://localhost:8080/",
     "height": 542
    },
    "colab_type": "code",
    "executionInfo": {
     "elapsed": 953,
     "status": "ok",
     "timestamp": 1590243054703,
     "user": {
      "displayName": "Duong Hung",
      "photoUrl": "https://lh3.googleusercontent.com/a-/AOh14Ggfgs4FqFN7Yq3pQXoVHeQcc9w9kDV_fAGoQ3Nx4nk=s64",
      "userId": "01608720095171318435"
     },
     "user_tz": 300
    },
    "id": "gbJOrd5cb8dr",
    "outputId": "b59357d0-5b54-4dc8-bd50-af1b3768d205",
    "scrolled": false
   },
   "outputs": [
    {
     "data": {
      "image/png": "[encoded data removed]",
      "text/plain": [
       "<Figure size 1500x600 with 2 Axes>"
      ]
     },
     "metadata": {
      "needs_background": "light"
     },
     "output_type": "display_data"
    }
   ],
   "source": [
    "hist = pd.DataFrame(Monitor.history)\n",
    "fig, axes = plt.subplots(nrows=1, ncols=2,figsize=(10,4),dpi=150)\n",
    "hist[['loss','val_loss']].plot(ax=axes[0])\n",
    "hist[['auc','val_auc']].plot(ax=axes[1])\n",
    "plt.show()"
   ]
  },
  {
   "cell_type": "markdown",
   "metadata": {
    "colab_type": "text",
    "id": "PGzf8FEoedp4"
   },
   "source": [
    "### Result\n"
   ]
  },
  {
   "cell_type": "code",
   "execution_count": 64,
   "metadata": {
    "ExecuteTime": {
     "end_time": "2020-05-23T14:36:17.640757Z",
     "start_time": "2020-05-23T14:36:06.826026Z"
    },
    "colab": {},
    "colab_type": "code",
    "id": "tNkmcPN9b8aA"
   },
   "outputs": [],
   "source": [
    "y_pred_train_ros = ros_model.predict(X_train)\n",
    "y_pred_test_ros = ros_model.predict(X_test)"
   ]
  },
  {
   "cell_type": "code",
   "execution_count": 66,
   "metadata": {
    "ExecuteTime": {
     "end_time": "2020-05-23T14:36:19.382798Z",
     "start_time": "2020-05-23T14:36:17.640757Z"
    },
    "colab": {
     "base_uri": "https://localhost:8080/",
     "height": 265
    },
    "colab_type": "code",
    "executionInfo": {
     "elapsed": 1903,
     "status": "ok",
     "timestamp": 1590243648546,
     "user": {
      "displayName": "Duong Hung",
      "photoUrl": "https://lh3.googleusercontent.com/a-/AOh14Ggfgs4FqFN7Yq3pQXoVHeQcc9w9kDV_fAGoQ3Nx4nk=s64",
      "userId": "01608720095171318435"
     },
     "user_tz": 300
    },
    "id": "g1AwenWlcgTC",
    "outputId": "6d9a6667-b87b-495a-b721-8cd3f6609fd4"
   },
   "outputs": [
    {
     "data": {
      "image/png": "[encoded data removed]",
      "text/plain": [
       "<Figure size 432x288 with 1 Axes>"
      ]
     },
     "metadata": {
      "needs_background": "light"
     },
     "output_type": "display_data"
    }
   ],
   "source": [
    "plt.scatter(np.arange(len(y_test)),y_pred_test_ros,s=0.1)\n",
    "plt.show()"
   ]
  },
  {
   "cell_type": "code",
   "execution_count": 67,
   "metadata": {
    "ExecuteTime": {
     "end_time": "2020-05-23T14:36:19.942579Z",
     "start_time": "2020-05-23T14:36:19.382798Z"
    },
    "colab": {
     "base_uri": "https://localhost:8080/",
     "height": 329
    },
    "colab_type": "code",
    "executionInfo": {
     "elapsed": 1142,
     "status": "ok",
     "timestamp": 1590243655838,
     "user": {
      "displayName": "Duong Hung",
      "photoUrl": "https://lh3.googleusercontent.com/a-/AOh14Ggfgs4FqFN7Yq3pQXoVHeQcc9w9kDV_fAGoQ3Nx4nk=s64",
      "userId": "01608720095171318435"
     },
     "user_tz": 300
    },
    "id": "5kiSMFi8b8Xp",
    "outputId": "9d2a7d9a-156c-4803-da1a-8951827fd0c5"
   },
   "outputs": [
    {
     "name": "stdout",
     "output_type": "stream",
     "text": [
      "[[88833  8638]\n",
      " [   47   252]]\n",
      "              precision    recall  f1-score   support\n",
      "\n",
      "     Class 0       1.00      0.91      0.95     97471\n",
      "     Class 1       0.03      0.84      0.05       299\n",
      "\n",
      "    accuracy                           0.91     97770\n",
      "   macro avg       0.51      0.88      0.50     97770\n",
      "weighted avg       1.00      0.91      0.95     97770\n",
      "\n"
     ]
    },
    {
     "data": {
      "text/html": [
       "<div>\n",
       "<style scoped>\n",
       "    .dataframe tbody tr th:only-of-type {\n",
       "        vertical-align: middle;\n",
       "    }\n",
       "\n",
       "    .dataframe tbody tr th {\n",
       "        vertical-align: top;\n",
       "    }\n",
       "\n",
       "    .dataframe thead th {\n",
       "        text-align: right;\n",
       "    }\n",
       "</style>\n",
       "<table border=\"1\" class=\"dataframe\">\n",
       "  <thead>\n",
       "    <tr style=\"text-align: right;\">\n",
       "      <th></th>\n",
       "      <th>Precision</th>\n",
       "      <th>n_p</th>\n",
       "      <th>CI_p</th>\n",
       "      <th>Recall</th>\n",
       "      <th>n_r</th>\n",
       "      <th>CI_r</th>\n",
       "    </tr>\n",
       "  </thead>\n",
       "  <tbody>\n",
       "    <tr>\n",
       "      <th>0</th>\n",
       "      <td>99.947120</td>\n",
       "      <td>88880</td>\n",
       "      <td>0.015114</td>\n",
       "      <td>91.137877</td>\n",
       "      <td>97471</td>\n",
       "      <td>0.178417</td>\n",
       "    </tr>\n",
       "    <tr>\n",
       "      <th>1</th>\n",
       "      <td>2.834646</td>\n",
       "      <td>8890</td>\n",
       "      <td>0.344993</td>\n",
       "      <td>84.280936</td>\n",
       "      <td>299</td>\n",
       "      <td>4.125708</td>\n",
       "    </tr>\n",
       "    <tr>\n",
       "      <th>Global</th>\n",
       "      <td>91.116907</td>\n",
       "      <td>97770</td>\n",
       "      <td>0.178334</td>\n",
       "      <td>91.116907</td>\n",
       "      <td>97770</td>\n",
       "      <td>0.178334</td>\n",
       "    </tr>\n",
       "  </tbody>\n",
       "</table>\n",
       "</div>"
      ],
      "text/plain": [
       "        Precision    n_p      CI_p     Recall    n_r      CI_r\n",
       "0       99.947120  88880  0.015114  91.137877  97471  0.178417\n",
       "1        2.834646   8890  0.344993  84.280936    299  4.125708\n",
       "Global  91.116907  97770  0.178334  91.116907  97770  0.178334"
      ]
     },
     "execution_count": 67,
     "metadata": {},
     "output_type": "execute_result"
    }
   ],
   "source": [
    "show_cm(y_test,y_pred_test_ros)"
   ]
  },
  {
   "cell_type": "code",
   "execution_count": 68,
   "metadata": {
    "ExecuteTime": {
     "end_time": "2020-05-23T14:36:20.341381Z",
     "start_time": "2020-05-23T14:36:19.945578Z"
    },
    "colab": {
     "base_uri": "https://localhost:8080/",
     "height": 499
    },
    "colab_type": "code",
    "executionInfo": {
     "elapsed": 1020,
     "status": "ok",
     "timestamp": 1590243736481,
     "user": {
      "displayName": "Duong Hung",
      "photoUrl": "https://lh3.googleusercontent.com/a-/AOh14Ggfgs4FqFN7Yq3pQXoVHeQcc9w9kDV_fAGoQ3Nx4nk=s64",
      "userId": "01608720095171318435"
     },
     "user_tz": 300
    },
    "id": "l3yBCZz7b8So",
    "outputId": "642830b7-ef42-400c-db42-04a59c9773b3"
   },
   "outputs": [
    {
     "data": {
      "image/png": "[encoded data removed]",
      "text/plain": [
       "<Figure size 576x576 with 1 Axes>"
      ]
     },
     "metadata": {
      "needs_background": "light"
     },
     "output_type": "display_data"
    }
   ],
   "source": [
    "plt.figure(figsize=(8,8))\n",
    "plot_roc('Base model - train',y_train,y_pred_train_ros)\n",
    "plot_roc('Base model - test',y_test,y_pred_test_ros)\n",
    "plt.legend()\n",
    "plt.show()"
   ]
  },
  {
   "cell_type": "code",
   "execution_count": 69,
   "metadata": {
    "ExecuteTime": {
     "end_time": "2020-05-23T14:36:25.175822Z",
     "start_time": "2020-05-23T14:36:20.345377Z"
    }
   },
   "outputs": [
    {
     "name": "stdout",
     "output_type": "stream",
     "text": [
      "97770/97770 [==============================] - 18s 184us/sample - loss: 0.2646 - accuracy: 0.9112 - auc: 0.9451- loss:\n",
      "loss :  0.26457663059868647\n",
      "accuracy :  0.91116905\n",
      "auc :  0.9451228\n",
      "\n"
     ]
    }
   ],
   "source": [
    "ros_results = ros_model.evaluate(X_test,y_test)\n",
    "for name, value in zip(ros_model.metrics_names, ros_results):\n",
    "  print(name, ': ', value)\n",
    "print()"
   ]
  },
  {
   "cell_type": "markdown",
   "metadata": {
    "colab_type": "text",
    "id": "iaw83EYPd20X"
   },
   "source": [
    "# Tuning parameters\n"
   ]
  },
  {
   "cell_type": "code",
   "execution_count": 70,
   "metadata": {
    "ExecuteTime": {
     "end_time": "2020-05-23T14:37:14.087726Z",
     "start_time": "2020-05-23T14:37:13.984847Z"
    },
    "colab": {},
    "colab_type": "code",
    "id": "91RuQ-tob8Lt"
   },
   "outputs": [],
   "source": [
    "from tensorflow.keras.wrappers.scikit_learn import KerasClassifier\n",
    "from sklearn.model_selection import GridSearchCV,RandomizedSearchCV"
   ]
  },
  {
   "cell_type": "code",
   "execution_count": 71,
   "metadata": {
    "ExecuteTime": {
     "end_time": "2020-05-23T14:37:15.306448Z",
     "start_time": "2020-05-23T14:37:15.301278Z"
    },
    "colab": {},
    "colab_type": "code",
    "id": "Ijqe1QW9clTc"
   },
   "outputs": [],
   "source": [
    "learning_rates = [0.1,0.01,0.001]\n",
    "nodes = [5,10,20]\n",
    "batches=[1024,2048,4096]\n",
    "param_options = {'lr': learning_rates,'nodes': nodes,'batch_size':batches}     "
   ]
  },
  {
   "cell_type": "code",
   "execution_count": 72,
   "metadata": {
    "ExecuteTime": {
     "end_time": "2020-05-23T14:37:16.883238Z",
     "start_time": "2020-05-23T14:37:16.878249Z"
    },
    "colab": {},
    "colab_type": "code",
    "id": "HoQBAddE1phD"
   },
   "outputs": [],
   "source": [
    "scores={'BA':'balanced_accuracy','F1':'f1','AUC':'roc_auc'}"
   ]
  },
  {
   "cell_type": "code",
   "execution_count": 73,
   "metadata": {
    "ExecuteTime": {
     "end_time": "2020-05-23T23:45:15.159163Z",
     "start_time": "2020-05-23T14:43:24.842319Z"
    },
    "colab": {
     "base_uri": "https://localhost:8080/",
     "height": 544
    },
    "colab_type": "code",
    "executionInfo": {
     "elapsed": 22257,
     "status": "error",
     "timestamp": 1590243860683,
     "user": {
      "displayName": "Duong Hung",
      "photoUrl": "https://lh3.googleusercontent.com/a-/AOh14Ggfgs4FqFN7Yq3pQXoVHeQcc9w9kDV_fAGoQ3Nx4nk=s64",
      "userId": "01608720095171318435"
     },
     "user_tz": 300
    },
    "id": "uetpo3uQfuSu",
    "outputId": "d61b499f-a913-4cc2-eca6-110459de784b",
    "scrolled": true
   },
   "outputs": [
    {
     "name": "stdout",
     "output_type": "stream",
     "text": [
      "Restoring model weights from the end of the best epoch.\n",
      "Epoch 00021: early stopping\n",
      "Restoring model weights from the end of the best epoch.\n",
      "Epoch 00022: early stopping\n",
      "Restoring model weights from the end of the best epoch.\n",
      "Epoch 00021: early stopping\n",
      "Restoring model weights from the end of the best epoch.\n",
      "Epoch 00021: early stopping\n",
      "Restoring model weights from the end of the best epoch.\n",
      "Epoch 00021: early stopping\n",
      "Restoring model weights from the end of the best epoch.\n",
      "Epoch 00021: early stopping\n",
      "Restoring model weights from the end of the best epoch.\n",
      "Epoch 00021: early stopping\n",
      "Restoring model weights from the end of the best epoch.\n",
      "Epoch 00021: early stopping\n",
      "Restoring model weights from the end of the best epoch.\n",
      "Epoch 00021: early stopping\n",
      "Restoring model weights from the end of the best epoch.\n",
      "Epoch 00021: early stopping\n",
      "Restoring model weights from the end of the best epoch.\n",
      "Epoch 00021: early stopping\n",
      "Restoring model weights from the end of the best epoch.\n",
      "Epoch 00021: early stopping\n",
      "Restoring model weights from the end of the best epoch.\n",
      "Epoch 00021: early stopping\n",
      "Restoring model weights from the end of the best epoch.\n",
      "Epoch 00021: early stopping\n",
      "Restoring model weights from the end of the best epoch.\n",
      "Epoch 00021: early stopping\n",
      "Restoring model weights from the end of the best epoch.\n",
      "Epoch 00021: early stopping\n",
      "Restoring model weights from the end of the best epoch.\n",
      "Epoch 00021: early stopping\n",
      "Restoring model weights from the end of the best epoch.\n",
      "Epoch 00033: early stopping\n",
      "Restoring model weights from the end of the best epoch.\n",
      "Epoch 00021: early stopping\n",
      "Restoring model weights from the end of the best epoch.\n",
      "Epoch 00021: early stopping\n",
      "Restoring model weights from the end of the best epoch.\n",
      "Epoch 00021: early stopping\n",
      "Restoring model weights from the end of the best epoch.\n",
      "Epoch 00021: early stopping\n",
      "Restoring model weights from the end of the best epoch.\n",
      "Epoch 00021: early stopping\n",
      "Restoring model weights from the end of the best epoch.\n",
      "Epoch 00021: early stopping\n",
      "Restoring model weights from the end of the best epoch.\n",
      "Epoch 00021: early stopping\n",
      "Restoring model weights from the end of the best epoch.\n",
      "Epoch 00021: early stopping\n",
      "Restoring model weights from the end of the best epoch.\n",
      "Epoch 00021: early stopping\n",
      "Restoring model weights from the end of the best epoch.\n",
      "Epoch 00021: early stopping\n",
      "Restoring model weights from the end of the best epoch.\n",
      "Epoch 00021: early stopping\n",
      "Restoring model weights from the end of the best epoch.\n",
      "Epoch 00021: early stopping\n",
      "Restoring model weights from the end of the best epoch.\n",
      "Epoch 00022: early stopping\n",
      "Restoring model weights from the end of the best epoch.\n",
      "Epoch 00022: early stopping\n",
      "Restoring model weights from the end of the best epoch.\n",
      "Epoch 00024: early stopping\n",
      "Restoring model weights from the end of the best epoch.\n",
      "Epoch 00021: early stopping\n",
      "Restoring model weights from the end of the best epoch.\n",
      "Epoch 00022: early stopping\n",
      "Restoring model weights from the end of the best epoch.\n",
      "Epoch 00022: early stopping\n",
      "Restoring model weights from the end of the best epoch.\n",
      "Epoch 00021: early stopping\n",
      "Restoring model weights from the end of the best epoch.\n",
      "Epoch 00022: early stopping\n",
      "Restoring model weights from the end of the best epoch.\n",
      "Epoch 00021: early stopping\n",
      "Restoring model weights from the end of the best epoch.\n",
      "Epoch 00021: early stopping\n",
      "Restoring model weights from the end of the best epoch.\n",
      "Epoch 00021: early stopping\n",
      "Restoring model weights from the end of the best epoch.\n",
      "Epoch 00021: early stopping\n",
      "Restoring model weights from the end of the best epoch.\n",
      "Epoch 00021: early stopping\n",
      "Restoring model weights from the end of the best epoch.\n",
      "Epoch 00021: early stopping\n",
      "Restoring model weights from the end of the best epoch.\n",
      "Epoch 00021: early stopping\n",
      "Restoring model weights from the end of the best epoch.\n",
      "Epoch 00021: early stopping\n",
      "Restoring model weights from the end of the best epoch.\n",
      "Epoch 00021: early stopping\n",
      "Restoring model weights from the end of the best epoch.\n",
      "Epoch 00062: early stopping\n",
      "Restoring model weights from the end of the best epoch.\n",
      "Epoch 00023: early stopping\n",
      "Restoring model weights from the end of the best epoch.\n",
      "Epoch 00021: early stopping\n",
      "Restoring model weights from the end of the best epoch.\n",
      "Epoch 00021: early stopping\n",
      "Restoring model weights from the end of the best epoch.\n",
      "Epoch 00021: early stopping\n",
      "Restoring model weights from the end of the best epoch.\n",
      "Epoch 00021: early stopping\n",
      "Restoring model weights from the end of the best epoch.\n",
      "Epoch 00021: early stopping\n",
      "Restoring model weights from the end of the best epoch.\n",
      "Epoch 00021: early stopping\n",
      "Restoring model weights from the end of the best epoch.\n",
      "Epoch 00021: early stopping\n",
      "Restoring model weights from the end of the best epoch.\n",
      "Epoch 00021: early stopping\n",
      "Restoring model weights from the end of the best epoch.\n",
      "Epoch 00021: early stopping\n",
      "Restoring model weights from the end of the best epoch.\n",
      "Epoch 00021: early stopping\n",
      "Restoring model weights from the end of the best epoch.\n",
      "Epoch 00021: early stopping\n",
      "Restoring model weights from the end of the best epoch.\n",
      "Epoch 00021: early stopping\n",
      "Restoring model weights from the end of the best epoch.\n",
      "Epoch 00021: early stopping\n",
      "Restoring model weights from the end of the best epoch.\n",
      "Epoch 00021: early stopping\n",
      "Restoring model weights from the end of the best epoch.\n",
      "Epoch 00021: early stopping\n",
      "Restoring model weights from the end of the best epoch.\n",
      "Epoch 00021: early stopping\n",
      "Restoring model weights from the end of the best epoch.\n",
      "Epoch 00021: early stopping\n",
      "Restoring model weights from the end of the best epoch.\n",
      "Epoch 00021: early stopping\n",
      "Restoring model weights from the end of the best epoch.\n",
      "Epoch 00021: early stopping\n",
      "Restoring model weights from the end of the best epoch.\n",
      "Epoch 00021: early stopping\n",
      "Restoring model weights from the end of the best epoch.\n",
      "Epoch 00021: early stopping\n",
      "Restoring model weights from the end of the best epoch.\n",
      "Epoch 00021: early stopping\n",
      "Restoring model weights from the end of the best epoch.\n",
      "Epoch 00021: early stopping\n",
      "Restoring model weights from the end of the best epoch.\n",
      "Epoch 00021: early stopping\n",
      "Restoring model weights from the end of the best epoch.\n",
      "Epoch 00021: early stopping\n",
      "Restoring model weights from the end of the best epoch.\n",
      "Epoch 00021: early stopping\n",
      "Restoring model weights from the end of the best epoch.\n",
      "Epoch 00023: early stopping\n",
      "Restoring model weights from the end of the best epoch.\n",
      "Epoch 00022: early stopping\n",
      "Restoring model weights from the end of the best epoch.\n",
      "Epoch 00024: early stopping\n",
      "Restoring model weights from the end of the best epoch.\n",
      "Epoch 00024: early stopping\n",
      "Restoring model weights from the end of the best epoch.\n",
      "Epoch 00024: early stopping\n",
      "Restoring model weights from the end of the best epoch.\n",
      "Epoch 00022: early stopping\n",
      "Restoring model weights from the end of the best epoch.\n",
      "Epoch 00022: early stopping\n",
      "Restoring model weights from the end of the best epoch.\n",
      "Epoch 00024: early stopping\n"
     ]
    },
    {
     "ename": "MemoryError",
     "evalue": "Unable to allocate 571. MiB for an array with shape (499051, 150) and data type float64",
     "output_type": "error",
     "traceback": [
      "\u001b[1;31m---------------------------------------------------------------------------\u001b[0m",
      "\u001b[1;31mMemoryError\u001b[0m                               Traceback (most recent call last)",
      "\u001b[1;32m<ipython-input-73-08c7434126f1>\u001b[0m in \u001b[0;36m<module>\u001b[1;34m\u001b[0m\n\u001b[0;32m     11\u001b[0m                        \u001b[0mcallbacks\u001b[0m\u001b[1;33m=\u001b[0m\u001b[1;33m[\u001b[0m\u001b[0mes\u001b[0m\u001b[1;33m]\u001b[0m\u001b[1;33m,\u001b[0m\u001b[1;33m\u001b[0m\u001b[1;33m\u001b[0m\u001b[0m\n\u001b[0;32m     12\u001b[0m                        \u001b[0mepochs\u001b[0m\u001b[1;33m=\u001b[0m\u001b[1;36m100\u001b[0m\u001b[1;33m,\u001b[0m\u001b[1;33m\u001b[0m\u001b[1;33m\u001b[0m\u001b[0m\n\u001b[1;32m---> 13\u001b[1;33m                        validation_data = (X_val,y_val),verbose = 0)\n\u001b[0m\u001b[0;32m     14\u001b[0m \u001b[0mend_time\u001b[0m\u001b[1;33m=\u001b[0m\u001b[0mtime\u001b[0m\u001b[1;33m.\u001b[0m\u001b[0mtime\u001b[0m\u001b[1;33m(\u001b[0m\u001b[1;33m)\u001b[0m\u001b[1;33m\u001b[0m\u001b[1;33m\u001b[0m\u001b[0m\n\u001b[0;32m     15\u001b[0m \u001b[1;33m\u001b[0m\u001b[0m\n",
      "\u001b[1;32m~\\anaconda3\\envs\\tf-gpu\\lib\\site-packages\\sklearn\\model_selection\\_search.py\u001b[0m in \u001b[0;36mfit\u001b[1;34m(self, X, y, groups, **fit_params)\u001b[0m\n\u001b[0;32m    708\u001b[0m                 \u001b[1;32mreturn\u001b[0m \u001b[0mresults\u001b[0m\u001b[1;33m\u001b[0m\u001b[1;33m\u001b[0m\u001b[0m\n\u001b[0;32m    709\u001b[0m \u001b[1;33m\u001b[0m\u001b[0m\n\u001b[1;32m--> 710\u001b[1;33m             \u001b[0mself\u001b[0m\u001b[1;33m.\u001b[0m\u001b[0m_run_search\u001b[0m\u001b[1;33m(\u001b[0m\u001b[0mevaluate_candidates\u001b[0m\u001b[1;33m)\u001b[0m\u001b[1;33m\u001b[0m\u001b[1;33m\u001b[0m\u001b[0m\n\u001b[0m\u001b[0;32m    711\u001b[0m \u001b[1;33m\u001b[0m\u001b[0m\n\u001b[0;32m    712\u001b[0m         \u001b[1;31m# For multi-metric evaluation, store the best_index_, best_params_ and\u001b[0m\u001b[1;33m\u001b[0m\u001b[1;33m\u001b[0m\u001b[1;33m\u001b[0m\u001b[0m\n",
      "\u001b[1;32m~\\anaconda3\\envs\\tf-gpu\\lib\\site-packages\\sklearn\\model_selection\\_search.py\u001b[0m in \u001b[0;36m_run_search\u001b[1;34m(self, evaluate_candidates)\u001b[0m\n\u001b[0;32m   1149\u001b[0m     \u001b[1;32mdef\u001b[0m \u001b[0m_run_search\u001b[0m\u001b[1;33m(\u001b[0m\u001b[0mself\u001b[0m\u001b[1;33m,\u001b[0m \u001b[0mevaluate_candidates\u001b[0m\u001b[1;33m)\u001b[0m\u001b[1;33m:\u001b[0m\u001b[1;33m\u001b[0m\u001b[1;33m\u001b[0m\u001b[0m\n\u001b[0;32m   1150\u001b[0m         \u001b[1;34m\"\"\"Search all candidates in param_grid\"\"\"\u001b[0m\u001b[1;33m\u001b[0m\u001b[1;33m\u001b[0m\u001b[0m\n\u001b[1;32m-> 1151\u001b[1;33m         \u001b[0mevaluate_candidates\u001b[0m\u001b[1;33m(\u001b[0m\u001b[0mParameterGrid\u001b[0m\u001b[1;33m(\u001b[0m\u001b[0mself\u001b[0m\u001b[1;33m.\u001b[0m\u001b[0mparam_grid\u001b[0m\u001b[1;33m)\u001b[0m\u001b[1;33m)\u001b[0m\u001b[1;33m\u001b[0m\u001b[1;33m\u001b[0m\u001b[0m\n\u001b[0m\u001b[0;32m   1152\u001b[0m \u001b[1;33m\u001b[0m\u001b[0m\n\u001b[0;32m   1153\u001b[0m \u001b[1;33m\u001b[0m\u001b[0m\n",
      "\u001b[1;32m~\\anaconda3\\envs\\tf-gpu\\lib\\site-packages\\sklearn\\model_selection\\_search.py\u001b[0m in \u001b[0;36mevaluate_candidates\u001b[1;34m(candidate_params)\u001b[0m\n\u001b[0;32m    687\u001b[0m                                \u001b[1;32mfor\u001b[0m \u001b[0mparameters\u001b[0m\u001b[1;33m,\u001b[0m \u001b[1;33m(\u001b[0m\u001b[0mtrain\u001b[0m\u001b[1;33m,\u001b[0m \u001b[0mtest\u001b[0m\u001b[1;33m)\u001b[0m\u001b[1;33m\u001b[0m\u001b[1;33m\u001b[0m\u001b[0m\n\u001b[0;32m    688\u001b[0m                                in product(candidate_params,\n\u001b[1;32m--> 689\u001b[1;33m                                           cv.split(X, y, groups)))\n\u001b[0m\u001b[0;32m    690\u001b[0m \u001b[1;33m\u001b[0m\u001b[0m\n\u001b[0;32m    691\u001b[0m                 \u001b[1;32mif\u001b[0m \u001b[0mlen\u001b[0m\u001b[1;33m(\u001b[0m\u001b[0mout\u001b[0m\u001b[1;33m)\u001b[0m \u001b[1;33m<\u001b[0m \u001b[1;36m1\u001b[0m\u001b[1;33m:\u001b[0m\u001b[1;33m\u001b[0m\u001b[1;33m\u001b[0m\u001b[0m\n",
      "\u001b[1;32m~\\anaconda3\\envs\\tf-gpu\\lib\\site-packages\\joblib\\parallel.py\u001b[0m in \u001b[0;36m__call__\u001b[1;34m(self, iterable)\u001b[0m\n\u001b[0;32m   1030\u001b[0m                 \u001b[0mself\u001b[0m\u001b[1;33m.\u001b[0m\u001b[0m_iterating\u001b[0m \u001b[1;33m=\u001b[0m \u001b[0mself\u001b[0m\u001b[1;33m.\u001b[0m\u001b[0m_original_iterator\u001b[0m \u001b[1;32mis\u001b[0m \u001b[1;32mnot\u001b[0m \u001b[1;32mNone\u001b[0m\u001b[1;33m\u001b[0m\u001b[1;33m\u001b[0m\u001b[0m\n\u001b[0;32m   1031\u001b[0m \u001b[1;33m\u001b[0m\u001b[0m\n\u001b[1;32m-> 1032\u001b[1;33m             \u001b[1;32mwhile\u001b[0m \u001b[0mself\u001b[0m\u001b[1;33m.\u001b[0m\u001b[0mdispatch_one_batch\u001b[0m\u001b[1;33m(\u001b[0m\u001b[0miterator\u001b[0m\u001b[1;33m)\u001b[0m\u001b[1;33m:\u001b[0m\u001b[1;33m\u001b[0m\u001b[1;33m\u001b[0m\u001b[0m\n\u001b[0m\u001b[0;32m   1033\u001b[0m                 \u001b[1;32mpass\u001b[0m\u001b[1;33m\u001b[0m\u001b[1;33m\u001b[0m\u001b[0m\n\u001b[0;32m   1034\u001b[0m \u001b[1;33m\u001b[0m\u001b[0m\n",
      "\u001b[1;32m~\\anaconda3\\envs\\tf-gpu\\lib\\site-packages\\joblib\\parallel.py\u001b[0m in \u001b[0;36mdispatch_one_batch\u001b[1;34m(self, iterator)\u001b[0m\n\u001b[0;32m    845\u001b[0m                 \u001b[1;32mreturn\u001b[0m \u001b[1;32mFalse\u001b[0m\u001b[1;33m\u001b[0m\u001b[1;33m\u001b[0m\u001b[0m\n\u001b[0;32m    846\u001b[0m             \u001b[1;32melse\u001b[0m\u001b[1;33m:\u001b[0m\u001b[1;33m\u001b[0m\u001b[1;33m\u001b[0m\u001b[0m\n\u001b[1;32m--> 847\u001b[1;33m                 \u001b[0mself\u001b[0m\u001b[1;33m.\u001b[0m\u001b[0m_dispatch\u001b[0m\u001b[1;33m(\u001b[0m\u001b[0mtasks\u001b[0m\u001b[1;33m)\u001b[0m\u001b[1;33m\u001b[0m\u001b[1;33m\u001b[0m\u001b[0m\n\u001b[0m\u001b[0;32m    848\u001b[0m                 \u001b[1;32mreturn\u001b[0m \u001b[1;32mTrue\u001b[0m\u001b[1;33m\u001b[0m\u001b[1;33m\u001b[0m\u001b[0m\n\u001b[0;32m    849\u001b[0m \u001b[1;33m\u001b[0m\u001b[0m\n",
      "\u001b[1;32m~\\anaconda3\\envs\\tf-gpu\\lib\\site-packages\\joblib\\parallel.py\u001b[0m in \u001b[0;36m_dispatch\u001b[1;34m(self, batch)\u001b[0m\n\u001b[0;32m    763\u001b[0m         \u001b[1;32mwith\u001b[0m \u001b[0mself\u001b[0m\u001b[1;33m.\u001b[0m\u001b[0m_lock\u001b[0m\u001b[1;33m:\u001b[0m\u001b[1;33m\u001b[0m\u001b[1;33m\u001b[0m\u001b[0m\n\u001b[0;32m    764\u001b[0m             \u001b[0mjob_idx\u001b[0m \u001b[1;33m=\u001b[0m \u001b[0mlen\u001b[0m\u001b[1;33m(\u001b[0m\u001b[0mself\u001b[0m\u001b[1;33m.\u001b[0m\u001b[0m_jobs\u001b[0m\u001b[1;33m)\u001b[0m\u001b[1;33m\u001b[0m\u001b[1;33m\u001b[0m\u001b[0m\n\u001b[1;32m--> 765\u001b[1;33m             \u001b[0mjob\u001b[0m \u001b[1;33m=\u001b[0m \u001b[0mself\u001b[0m\u001b[1;33m.\u001b[0m\u001b[0m_backend\u001b[0m\u001b[1;33m.\u001b[0m\u001b[0mapply_async\u001b[0m\u001b[1;33m(\u001b[0m\u001b[0mbatch\u001b[0m\u001b[1;33m,\u001b[0m \u001b[0mcallback\u001b[0m\u001b[1;33m=\u001b[0m\u001b[0mcb\u001b[0m\u001b[1;33m)\u001b[0m\u001b[1;33m\u001b[0m\u001b[1;33m\u001b[0m\u001b[0m\n\u001b[0m\u001b[0;32m    766\u001b[0m             \u001b[1;31m# A job can complete so quickly than its callback is\u001b[0m\u001b[1;33m\u001b[0m\u001b[1;33m\u001b[0m\u001b[1;33m\u001b[0m\u001b[0m\n\u001b[0;32m    767\u001b[0m             \u001b[1;31m# called before we get here, causing self._jobs to\u001b[0m\u001b[1;33m\u001b[0m\u001b[1;33m\u001b[0m\u001b[1;33m\u001b[0m\u001b[0m\n",
      "\u001b[1;32m~\\anaconda3\\envs\\tf-gpu\\lib\\site-packages\\joblib\\_parallel_backends.py\u001b[0m in \u001b[0;36mapply_async\u001b[1;34m(self, func, callback)\u001b[0m\n\u001b[0;32m    204\u001b[0m     \u001b[1;32mdef\u001b[0m \u001b[0mapply_async\u001b[0m\u001b[1;33m(\u001b[0m\u001b[0mself\u001b[0m\u001b[1;33m,\u001b[0m \u001b[0mfunc\u001b[0m\u001b[1;33m,\u001b[0m \u001b[0mcallback\u001b[0m\u001b[1;33m=\u001b[0m\u001b[1;32mNone\u001b[0m\u001b[1;33m)\u001b[0m\u001b[1;33m:\u001b[0m\u001b[1;33m\u001b[0m\u001b[1;33m\u001b[0m\u001b[0m\n\u001b[0;32m    205\u001b[0m         \u001b[1;34m\"\"\"Schedule a func to be run\"\"\"\u001b[0m\u001b[1;33m\u001b[0m\u001b[1;33m\u001b[0m\u001b[0m\n\u001b[1;32m--> 206\u001b[1;33m         \u001b[0mresult\u001b[0m \u001b[1;33m=\u001b[0m \u001b[0mImmediateResult\u001b[0m\u001b[1;33m(\u001b[0m\u001b[0mfunc\u001b[0m\u001b[1;33m)\u001b[0m\u001b[1;33m\u001b[0m\u001b[1;33m\u001b[0m\u001b[0m\n\u001b[0m\u001b[0;32m    207\u001b[0m         \u001b[1;32mif\u001b[0m \u001b[0mcallback\u001b[0m\u001b[1;33m:\u001b[0m\u001b[1;33m\u001b[0m\u001b[1;33m\u001b[0m\u001b[0m\n\u001b[0;32m    208\u001b[0m             \u001b[0mcallback\u001b[0m\u001b[1;33m(\u001b[0m\u001b[0mresult\u001b[0m\u001b[1;33m)\u001b[0m\u001b[1;33m\u001b[0m\u001b[1;33m\u001b[0m\u001b[0m\n",
      "\u001b[1;32m~\\anaconda3\\envs\\tf-gpu\\lib\\site-packages\\joblib\\_parallel_backends.py\u001b[0m in \u001b[0;36m__init__\u001b[1;34m(self, batch)\u001b[0m\n\u001b[0;32m    568\u001b[0m         \u001b[1;31m# Don't delay the application, to avoid keeping the input\u001b[0m\u001b[1;33m\u001b[0m\u001b[1;33m\u001b[0m\u001b[1;33m\u001b[0m\u001b[0m\n\u001b[0;32m    569\u001b[0m         \u001b[1;31m# arguments in memory\u001b[0m\u001b[1;33m\u001b[0m\u001b[1;33m\u001b[0m\u001b[1;33m\u001b[0m\u001b[0m\n\u001b[1;32m--> 570\u001b[1;33m         \u001b[0mself\u001b[0m\u001b[1;33m.\u001b[0m\u001b[0mresults\u001b[0m \u001b[1;33m=\u001b[0m \u001b[0mbatch\u001b[0m\u001b[1;33m(\u001b[0m\u001b[1;33m)\u001b[0m\u001b[1;33m\u001b[0m\u001b[1;33m\u001b[0m\u001b[0m\n\u001b[0m\u001b[0;32m    571\u001b[0m \u001b[1;33m\u001b[0m\u001b[0m\n\u001b[0;32m    572\u001b[0m     \u001b[1;32mdef\u001b[0m \u001b[0mget\u001b[0m\u001b[1;33m(\u001b[0m\u001b[0mself\u001b[0m\u001b[1;33m)\u001b[0m\u001b[1;33m:\u001b[0m\u001b[1;33m\u001b[0m\u001b[1;33m\u001b[0m\u001b[0m\n",
      "\u001b[1;32m~\\anaconda3\\envs\\tf-gpu\\lib\\site-packages\\joblib\\parallel.py\u001b[0m in \u001b[0;36m__call__\u001b[1;34m(self)\u001b[0m\n\u001b[0;32m    251\u001b[0m         \u001b[1;32mwith\u001b[0m \u001b[0mparallel_backend\u001b[0m\u001b[1;33m(\u001b[0m\u001b[0mself\u001b[0m\u001b[1;33m.\u001b[0m\u001b[0m_backend\u001b[0m\u001b[1;33m,\u001b[0m \u001b[0mn_jobs\u001b[0m\u001b[1;33m=\u001b[0m\u001b[0mself\u001b[0m\u001b[1;33m.\u001b[0m\u001b[0m_n_jobs\u001b[0m\u001b[1;33m)\u001b[0m\u001b[1;33m:\u001b[0m\u001b[1;33m\u001b[0m\u001b[1;33m\u001b[0m\u001b[0m\n\u001b[0;32m    252\u001b[0m             return [func(*args, **kwargs)\n\u001b[1;32m--> 253\u001b[1;33m                     for func, args, kwargs in self.items]\n\u001b[0m\u001b[0;32m    254\u001b[0m \u001b[1;33m\u001b[0m\u001b[0m\n\u001b[0;32m    255\u001b[0m     \u001b[1;32mdef\u001b[0m \u001b[0m__reduce__\u001b[0m\u001b[1;33m(\u001b[0m\u001b[0mself\u001b[0m\u001b[1;33m)\u001b[0m\u001b[1;33m:\u001b[0m\u001b[1;33m\u001b[0m\u001b[1;33m\u001b[0m\u001b[0m\n",
      "\u001b[1;32m~\\anaconda3\\envs\\tf-gpu\\lib\\site-packages\\joblib\\parallel.py\u001b[0m in \u001b[0;36m<listcomp>\u001b[1;34m(.0)\u001b[0m\n\u001b[0;32m    251\u001b[0m         \u001b[1;32mwith\u001b[0m \u001b[0mparallel_backend\u001b[0m\u001b[1;33m(\u001b[0m\u001b[0mself\u001b[0m\u001b[1;33m.\u001b[0m\u001b[0m_backend\u001b[0m\u001b[1;33m,\u001b[0m \u001b[0mn_jobs\u001b[0m\u001b[1;33m=\u001b[0m\u001b[0mself\u001b[0m\u001b[1;33m.\u001b[0m\u001b[0m_n_jobs\u001b[0m\u001b[1;33m)\u001b[0m\u001b[1;33m:\u001b[0m\u001b[1;33m\u001b[0m\u001b[1;33m\u001b[0m\u001b[0m\n\u001b[0;32m    252\u001b[0m             return [func(*args, **kwargs)\n\u001b[1;32m--> 253\u001b[1;33m                     for func, args, kwargs in self.items]\n\u001b[0m\u001b[0;32m    254\u001b[0m \u001b[1;33m\u001b[0m\u001b[0m\n\u001b[0;32m    255\u001b[0m     \u001b[1;32mdef\u001b[0m \u001b[0m__reduce__\u001b[0m\u001b[1;33m(\u001b[0m\u001b[0mself\u001b[0m\u001b[1;33m)\u001b[0m\u001b[1;33m:\u001b[0m\u001b[1;33m\u001b[0m\u001b[1;33m\u001b[0m\u001b[0m\n",
      "\u001b[1;32m~\\anaconda3\\envs\\tf-gpu\\lib\\site-packages\\sklearn\\model_selection\\_validation.py\u001b[0m in \u001b[0;36m_fit_and_score\u001b[1;34m(estimator, X, y, scorer, train, test, verbose, parameters, fit_params, return_train_score, return_parameters, return_n_test_samples, return_times, return_estimator, error_score)\u001b[0m\n\u001b[0;32m    506\u001b[0m     \u001b[0mstart_time\u001b[0m \u001b[1;33m=\u001b[0m \u001b[0mtime\u001b[0m\u001b[1;33m.\u001b[0m\u001b[0mtime\u001b[0m\u001b[1;33m(\u001b[0m\u001b[1;33m)\u001b[0m\u001b[1;33m\u001b[0m\u001b[1;33m\u001b[0m\u001b[0m\n\u001b[0;32m    507\u001b[0m \u001b[1;33m\u001b[0m\u001b[0m\n\u001b[1;32m--> 508\u001b[1;33m     \u001b[0mX_train\u001b[0m\u001b[1;33m,\u001b[0m \u001b[0my_train\u001b[0m \u001b[1;33m=\u001b[0m \u001b[0m_safe_split\u001b[0m\u001b[1;33m(\u001b[0m\u001b[0mestimator\u001b[0m\u001b[1;33m,\u001b[0m \u001b[0mX\u001b[0m\u001b[1;33m,\u001b[0m \u001b[0my\u001b[0m\u001b[1;33m,\u001b[0m \u001b[0mtrain\u001b[0m\u001b[1;33m)\u001b[0m\u001b[1;33m\u001b[0m\u001b[1;33m\u001b[0m\u001b[0m\n\u001b[0m\u001b[0;32m    509\u001b[0m     \u001b[0mX_test\u001b[0m\u001b[1;33m,\u001b[0m \u001b[0my_test\u001b[0m \u001b[1;33m=\u001b[0m \u001b[0m_safe_split\u001b[0m\u001b[1;33m(\u001b[0m\u001b[0mestimator\u001b[0m\u001b[1;33m,\u001b[0m \u001b[0mX\u001b[0m\u001b[1;33m,\u001b[0m \u001b[0my\u001b[0m\u001b[1;33m,\u001b[0m \u001b[0mtest\u001b[0m\u001b[1;33m,\u001b[0m \u001b[0mtrain\u001b[0m\u001b[1;33m)\u001b[0m\u001b[1;33m\u001b[0m\u001b[1;33m\u001b[0m\u001b[0m\n\u001b[0;32m    510\u001b[0m \u001b[1;33m\u001b[0m\u001b[0m\n",
      "\u001b[1;32m~\\anaconda3\\envs\\tf-gpu\\lib\\site-packages\\sklearn\\utils\\metaestimators.py\u001b[0m in \u001b[0;36m_safe_split\u001b[1;34m(estimator, X, y, indices, train_indices)\u001b[0m\n\u001b[0;32m    199\u001b[0m             \u001b[0mX_subset\u001b[0m \u001b[1;33m=\u001b[0m \u001b[0mX\u001b[0m\u001b[1;33m[\u001b[0m\u001b[0mnp\u001b[0m\u001b[1;33m.\u001b[0m\u001b[0mix_\u001b[0m\u001b[1;33m(\u001b[0m\u001b[0mindices\u001b[0m\u001b[1;33m,\u001b[0m \u001b[0mtrain_indices\u001b[0m\u001b[1;33m)\u001b[0m\u001b[1;33m]\u001b[0m\u001b[1;33m\u001b[0m\u001b[1;33m\u001b[0m\u001b[0m\n\u001b[0;32m    200\u001b[0m     \u001b[1;32melse\u001b[0m\u001b[1;33m:\u001b[0m\u001b[1;33m\u001b[0m\u001b[1;33m\u001b[0m\u001b[0m\n\u001b[1;32m--> 201\u001b[1;33m         \u001b[0mX_subset\u001b[0m \u001b[1;33m=\u001b[0m \u001b[0m_safe_indexing\u001b[0m\u001b[1;33m(\u001b[0m\u001b[0mX\u001b[0m\u001b[1;33m,\u001b[0m \u001b[0mindices\u001b[0m\u001b[1;33m)\u001b[0m\u001b[1;33m\u001b[0m\u001b[1;33m\u001b[0m\u001b[0m\n\u001b[0m\u001b[0;32m    202\u001b[0m \u001b[1;33m\u001b[0m\u001b[0m\n\u001b[0;32m    203\u001b[0m     \u001b[1;32mif\u001b[0m \u001b[0my\u001b[0m \u001b[1;32mis\u001b[0m \u001b[1;32mnot\u001b[0m \u001b[1;32mNone\u001b[0m\u001b[1;33m:\u001b[0m\u001b[1;33m\u001b[0m\u001b[1;33m\u001b[0m\u001b[0m\n",
      "\u001b[1;32m~\\anaconda3\\envs\\tf-gpu\\lib\\site-packages\\sklearn\\utils\\__init__.py\u001b[0m in \u001b[0;36m_safe_indexing\u001b[1;34m(X, indices, axis)\u001b[0m\n\u001b[0;32m    411\u001b[0m         \u001b[1;32mreturn\u001b[0m \u001b[0m_pandas_indexing\u001b[0m\u001b[1;33m(\u001b[0m\u001b[0mX\u001b[0m\u001b[1;33m,\u001b[0m \u001b[0mindices\u001b[0m\u001b[1;33m,\u001b[0m \u001b[0mindices_dtype\u001b[0m\u001b[1;33m,\u001b[0m \u001b[0maxis\u001b[0m\u001b[1;33m=\u001b[0m\u001b[0maxis\u001b[0m\u001b[1;33m)\u001b[0m\u001b[1;33m\u001b[0m\u001b[1;33m\u001b[0m\u001b[0m\n\u001b[0;32m    412\u001b[0m     \u001b[1;32melif\u001b[0m \u001b[0mhasattr\u001b[0m\u001b[1;33m(\u001b[0m\u001b[0mX\u001b[0m\u001b[1;33m,\u001b[0m \u001b[1;34m\"shape\"\u001b[0m\u001b[1;33m)\u001b[0m\u001b[1;33m:\u001b[0m\u001b[1;33m\u001b[0m\u001b[1;33m\u001b[0m\u001b[0m\n\u001b[1;32m--> 413\u001b[1;33m         \u001b[1;32mreturn\u001b[0m \u001b[0m_array_indexing\u001b[0m\u001b[1;33m(\u001b[0m\u001b[0mX\u001b[0m\u001b[1;33m,\u001b[0m \u001b[0mindices\u001b[0m\u001b[1;33m,\u001b[0m \u001b[0mindices_dtype\u001b[0m\u001b[1;33m,\u001b[0m \u001b[0maxis\u001b[0m\u001b[1;33m=\u001b[0m\u001b[0maxis\u001b[0m\u001b[1;33m)\u001b[0m\u001b[1;33m\u001b[0m\u001b[1;33m\u001b[0m\u001b[0m\n\u001b[0m\u001b[0;32m    414\u001b[0m     \u001b[1;32melse\u001b[0m\u001b[1;33m:\u001b[0m\u001b[1;33m\u001b[0m\u001b[1;33m\u001b[0m\u001b[0m\n\u001b[0;32m    415\u001b[0m         \u001b[1;32mreturn\u001b[0m \u001b[0m_list_indexing\u001b[0m\u001b[1;33m(\u001b[0m\u001b[0mX\u001b[0m\u001b[1;33m,\u001b[0m \u001b[0mindices\u001b[0m\u001b[1;33m,\u001b[0m \u001b[0mindices_dtype\u001b[0m\u001b[1;33m)\u001b[0m\u001b[1;33m\u001b[0m\u001b[1;33m\u001b[0m\u001b[0m\n",
      "\u001b[1;32m~\\anaconda3\\envs\\tf-gpu\\lib\\site-packages\\sklearn\\utils\\__init__.py\u001b[0m in \u001b[0;36m_array_indexing\u001b[1;34m(array, key, key_dtype, axis)\u001b[0m\n\u001b[0;32m    197\u001b[0m     \u001b[1;32mif\u001b[0m \u001b[0misinstance\u001b[0m\u001b[1;33m(\u001b[0m\u001b[0mkey\u001b[0m\u001b[1;33m,\u001b[0m \u001b[0mtuple\u001b[0m\u001b[1;33m)\u001b[0m\u001b[1;33m:\u001b[0m\u001b[1;33m\u001b[0m\u001b[1;33m\u001b[0m\u001b[0m\n\u001b[0;32m    198\u001b[0m         \u001b[0mkey\u001b[0m \u001b[1;33m=\u001b[0m \u001b[0mlist\u001b[0m\u001b[1;33m(\u001b[0m\u001b[0mkey\u001b[0m\u001b[1;33m)\u001b[0m\u001b[1;33m\u001b[0m\u001b[1;33m\u001b[0m\u001b[0m\n\u001b[1;32m--> 199\u001b[1;33m     \u001b[1;32mreturn\u001b[0m \u001b[0marray\u001b[0m\u001b[1;33m[\u001b[0m\u001b[0mkey\u001b[0m\u001b[1;33m]\u001b[0m \u001b[1;32mif\u001b[0m \u001b[0maxis\u001b[0m \u001b[1;33m==\u001b[0m \u001b[1;36m0\u001b[0m \u001b[1;32melse\u001b[0m \u001b[0marray\u001b[0m\u001b[1;33m[\u001b[0m\u001b[1;33m:\u001b[0m\u001b[1;33m,\u001b[0m \u001b[0mkey\u001b[0m\u001b[1;33m]\u001b[0m\u001b[1;33m\u001b[0m\u001b[1;33m\u001b[0m\u001b[0m\n\u001b[0m\u001b[0;32m    200\u001b[0m \u001b[1;33m\u001b[0m\u001b[0m\n\u001b[0;32m    201\u001b[0m \u001b[1;33m\u001b[0m\u001b[0m\n",
      "\u001b[1;31mMemoryError\u001b[0m: Unable to allocate 571. MiB for an array with shape (499051, 150) and data type float64"
     ]
    }
   ],
   "source": [
    "model= KerasClassifier(build_fn = create_model)\n",
    "grid = GridSearchCV(estimator=model, \n",
    "                    param_grid=param_options,\n",
    "                    scoring=scores,\n",
    "                    cv=5,\n",
    "                    refit='AUC')\n",
    "\n",
    "start_time=time.time()\n",
    "\n",
    "grid_result = grid.fit(X_ros, y_ros,\n",
    "                       callbacks=[es],\n",
    "                       epochs=100,\n",
    "                       validation_data = (X_val,y_val),verbose = 0)\n",
    "end_time=time.time()\n",
    "\n",
    "print((end_time-start_time)/60)\n"
   ]
  },
  {
   "cell_type": "code",
   "execution_count": null,
   "metadata": {
    "ExecuteTime": {
     "end_time": "2020-05-23T23:45:22.735126Z",
     "start_time": "2020-05-23T23:45:22.605486Z"
    },
    "colab": {},
    "colab_type": "code",
    "id": "J_IMch4MjhLO"
   },
   "outputs": [],
   "source": [
    "pd.DataFrame.from_dict(grid_result.cv_results_).to_excel('GS_resample_3metrics.xlsx')"
   ]
  },
  {
   "cell_type": "code",
   "execution_count": null,
   "metadata": {
    "colab": {},
    "colab_type": "code",
    "id": "6HNnLdPF1phY"
   },
   "outputs": [],
   "source": []
  }
 ],
 "metadata": {
  "colab": {
   "name": "VCA-ID-FC-Tuning for resampling.ipynb",
   "provenance": [
    {
     "file_id": "1feXHQjiqioLl47_p65uRpdSv6vX9EnAr",
     "timestamp": 1589212555597
    }
   ],
   "toc_visible": true
  },
  "kernelspec": {
   "display_name": "Python 3",
   "language": "python",
   "name": "python3"
  },
  "language_info": {
   "codemirror_mode": {
    "name": "ipython",
    "version": 3
   },
   "file_extension": ".py",
   "mimetype": "text/x-python",
   "name": "python",
   "nbconvert_exporter": "python",
   "pygments_lexer": "ipython3",
   "version": "3.7.7"
  },
  "toc": {
   "base_numbering": 1,
   "nav_menu": {},
   "number_sections": true,
   "sideBar": true,
   "skip_h1_title": false,
   "title_cell": "Table of Contents",
   "title_sidebar": "Contents",
   "toc_cell": false,
   "toc_position": {},
   "toc_section_display": true,
   "toc_window_display": true
  }
 },
 "nbformat": 4,
 "nbformat_minor": 1
}
