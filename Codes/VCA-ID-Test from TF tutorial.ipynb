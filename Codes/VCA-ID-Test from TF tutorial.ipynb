{
 "cells": [
  {
   "cell_type": "markdown",
   "metadata": {
    "colab_type": "text",
    "id": "dUeKVCYTbcyT"
   },
   "source": [
    "#### Copyright 2019 The TensorFlow Authors."
   ]
  },
  {
   "cell_type": "code",
   "execution_count": 1,
   "metadata": {
    "ExecuteTime": {
     "end_time": "2020-05-11T22:46:56.542975Z",
     "start_time": "2020-05-11T22:46:56.319554Z"
    },
    "cellView": "form",
    "colab": {},
    "colab_type": "code",
    "id": "4ellrPx7tdxq"
   },
   "outputs": [],
   "source": [
    "#@title Licensed under the Apache License, Version 2.0 (the \"License\");\n",
    "# you may not use this file except in compliance with the License.\n",
    "# You may obtain a copy of the License at\n",
    "#\n",
    "# https://www.apache.org/licenses/LICENSE-2.0\n",
    "#\n",
    "# Unless required by applicable law or agreed to in writing, software\n",
    "# distributed under the License is distributed on an \"AS IS\" BASIS,\n",
    "# WITHOUT WARRANTIES OR CONDITIONS OF ANY KIND, either express or implied.\n",
    "# See the License for the specific language governing permissions and\n",
    "# limitations under the License."
   ]
  },
  {
   "cell_type": "markdown",
   "metadata": {
    "colab_type": "text",
    "id": "7JfLUlawto_D"
   },
   "source": [
    "# Classification on imbalanced data"
   ]
  },
  {
   "cell_type": "markdown",
   "metadata": {
    "colab_type": "text",
    "id": "DwdpaTKJOoPu"
   },
   "source": [
    "<table class=\"tfo-notebook-buttons\" align=\"left\">\n",
    "  <td>\n",
    "    <a target=\"_blank\" href=\"https://www.tensorflow.org/tutorials/structured_data/imbalanced_data\"><img src=\"https://www.tensorflow.org/images/tf_logo_32px.png\" />View on TensorFlow.org</a>\n",
    "  </td>\n",
    "  <td>\n",
    "    <a target=\"_blank\" href=\"https://colab.research.google.com/github/tensorflow/docs/blob/master/site/en/tutorials/structured_data/imbalanced_data.ipynb\"><img src=\"https://www.tensorflow.org/images/colab_logo_32px.png\" />Run in Google Colab</a>\n",
    "  </td>\n",
    "  <td>\n",
    "    <a target=\"_blank\" href=\"https://github.com/tensorflow/docs/blob/master/site/en/tutorials/structured_data/imbalanced_data.ipynb\"><img src=\"https://www.tensorflow.org/images/GitHub-Mark-32px.png\" />View source on GitHub</a>\n",
    "  </td>\n",
    "  <td>\n",
    "    <a href=\"https://storage.googleapis.com/tensorflow_docs/docs/site/en/tutorials/structured_data/imbalanced_data.ipynb\"><img src=\"https://www.tensorflow.org/images/download_logo_32px.png\" />Download notebook</a>\n",
    "  </td>\n",
    "</table>"
   ]
  },
  {
   "cell_type": "markdown",
   "metadata": {
    "colab_type": "text",
    "id": "mthoSGBAOoX-"
   },
   "source": [
    "This tutorial demonstrates how to classify a highly imbalanced dataset in which the number of examples in one class greatly outnumbers the examples in another. You will work with the [Credit Card Fraud Detection](https://www.kaggle.com/mlg-ulb/creditcardfraud) dataset hosted on Kaggle. The aim is to detect a mere 492 fraudulent transactions from 284,807 transactions in total. You will use [Keras](../../guide/keras/overview.ipynb) to define the model and [class weights](https://www.tensorflow.org/versions/r2.0/api_docs/python/tf/keras/Model) to help the model learn from the imbalanced data. .\n",
    "\n",
    "This tutorial contains complete code to:\n",
    "\n",
    "* Load a CSV file using Pandas.\n",
    "* Create train, validation, and test sets.\n",
    "* Define and train a model using Keras (including setting class weights).\n",
    "* Evaluate the model using various metrics (including precision and recall).\n",
    "* Try common techniques for dealing with imbalanced data like:\n",
    "    * Class weighting \n",
    "    * Oversampling\n"
   ]
  },
  {
   "cell_type": "markdown",
   "metadata": {
    "colab_type": "text",
    "id": "kRHmSyHxEIhN"
   },
   "source": [
    "## Setup"
   ]
  },
  {
   "cell_type": "code",
   "execution_count": 2,
   "metadata": {
    "ExecuteTime": {
     "end_time": "2020-05-11T22:47:09.712672Z",
     "start_time": "2020-05-11T22:46:56.577755Z"
    },
    "colab": {},
    "colab_type": "code",
    "id": "JM7hDSNClfoK"
   },
   "outputs": [],
   "source": [
    "import tensorflow as tf\n",
    "from tensorflow import keras\n",
    "\n",
    "import os\n",
    "import tempfile\n",
    "\n",
    "import matplotlib as mpl\n",
    "import matplotlib.pyplot as plt\n",
    "import numpy as np\n",
    "import pandas as pd\n",
    "import seaborn as sns\n",
    "\n",
    "import sklearn\n",
    "from sklearn.metrics import confusion_matrix\n",
    "from sklearn.model_selection import train_test_split\n",
    "from sklearn.preprocessing import StandardScaler"
   ]
  },
  {
   "cell_type": "code",
   "execution_count": 3,
   "metadata": {
    "ExecuteTime": {
     "end_time": "2020-05-11T22:47:09.722626Z",
     "start_time": "2020-05-11T22:47:09.716140Z"
    },
    "colab": {},
    "colab_type": "code",
    "id": "c8o1FHzD-_y_"
   },
   "outputs": [],
   "source": [
    "mpl.rcParams['figure.figsize'] = (12, 10)\n",
    "colors = plt.rcParams['axes.prop_cycle'].by_key()['color']"
   ]
  },
  {
   "cell_type": "markdown",
   "metadata": {
    "colab_type": "text",
    "id": "Z3iZVjziKHmX"
   },
   "source": [
    "## Data processing and exploration"
   ]
  },
  {
   "cell_type": "code",
   "execution_count": 4,
   "metadata": {
    "ExecuteTime": {
     "end_time": "2020-05-11T22:47:15.179091Z",
     "start_time": "2020-05-11T22:47:09.726617Z"
    },
    "colab": {},
    "colab_type": "code",
    "id": "_v04MZq4J1To"
   },
   "outputs": [
    {
     "name": "stdout",
     "output_type": "stream",
     "text": [
      "(488849, 134)\n"
     ]
    },
    {
     "data": {
      "text/html": [
       "<div>\n",
       "<style scoped>\n",
       "    .dataframe tbody tr th:only-of-type {\n",
       "        vertical-align: middle;\n",
       "    }\n",
       "\n",
       "    .dataframe tbody tr th {\n",
       "        vertical-align: top;\n",
       "    }\n",
       "\n",
       "    .dataframe thead th {\n",
       "        text-align: right;\n",
       "    }\n",
       "</style>\n",
       "<table border=\"1\" class=\"dataframe\">\n",
       "  <thead>\n",
       "    <tr style=\"text-align: right;\">\n",
       "      <th></th>\n",
       "      <th>Injury Severity</th>\n",
       "      <th>Crash_Month</th>\n",
       "      <th>Crash_Day</th>\n",
       "      <th>Crash_Minute</th>\n",
       "      <th>Crash_AM/PM</th>\n",
       "      <th>Crash_Hour</th>\n",
       "      <th>Unit_Nbr</th>\n",
       "      <th>Prsn_Age</th>\n",
       "      <th>Toll_Road_Fl</th>\n",
       "      <th>Crash_Speed_Limit</th>\n",
       "      <th>...</th>\n",
       "      <th>Traffic_Cntl_ID_STOP SIGN</th>\n",
       "      <th>Traffic_Cntl_ID_WARNING SIGN</th>\n",
       "      <th>Traffic_Cntl_ID_YIELD SIGN</th>\n",
       "      <th>Unit_Desc_ID_MOTORIZED CONVEYANCE</th>\n",
       "      <th>Unit_Desc_ID_NON-CONTACT</th>\n",
       "      <th>Unit_Desc_ID_OTHER (EXPLAIN IN NARRATIVE)</th>\n",
       "      <th>Unit_Desc_ID_PEDALCYCLIST</th>\n",
       "      <th>Unit_Desc_ID_PEDESTRIAN</th>\n",
       "      <th>Unit_Desc_ID_TOWED/PUSHED/TRAILER</th>\n",
       "      <th>Unit_Desc_ID_TRAIN</th>\n",
       "    </tr>\n",
       "  </thead>\n",
       "  <tbody>\n",
       "    <tr>\n",
       "      <th>0</th>\n",
       "      <td>INCAPACITATING INJURY</td>\n",
       "      <td>7</td>\n",
       "      <td>20</td>\n",
       "      <td>37</td>\n",
       "      <td>0</td>\n",
       "      <td>3</td>\n",
       "      <td>3</td>\n",
       "      <td>26</td>\n",
       "      <td>0</td>\n",
       "      <td>55</td>\n",
       "      <td>...</td>\n",
       "      <td>0</td>\n",
       "      <td>0</td>\n",
       "      <td>0</td>\n",
       "      <td>0</td>\n",
       "      <td>0</td>\n",
       "      <td>0</td>\n",
       "      <td>0</td>\n",
       "      <td>0</td>\n",
       "      <td>0</td>\n",
       "      <td>0</td>\n",
       "    </tr>\n",
       "    <tr>\n",
       "      <th>1</th>\n",
       "      <td>KILLED</td>\n",
       "      <td>7</td>\n",
       "      <td>27</td>\n",
       "      <td>45</td>\n",
       "      <td>0</td>\n",
       "      <td>11</td>\n",
       "      <td>3</td>\n",
       "      <td>61</td>\n",
       "      <td>0</td>\n",
       "      <td>75</td>\n",
       "      <td>...</td>\n",
       "      <td>0</td>\n",
       "      <td>0</td>\n",
       "      <td>0</td>\n",
       "      <td>0</td>\n",
       "      <td>0</td>\n",
       "      <td>0</td>\n",
       "      <td>0</td>\n",
       "      <td>0</td>\n",
       "      <td>0</td>\n",
       "      <td>0</td>\n",
       "    </tr>\n",
       "    <tr>\n",
       "      <th>2</th>\n",
       "      <td>KILLED</td>\n",
       "      <td>8</td>\n",
       "      <td>10</td>\n",
       "      <td>5</td>\n",
       "      <td>1</td>\n",
       "      <td>5</td>\n",
       "      <td>2</td>\n",
       "      <td>55</td>\n",
       "      <td>0</td>\n",
       "      <td>55</td>\n",
       "      <td>...</td>\n",
       "      <td>0</td>\n",
       "      <td>0</td>\n",
       "      <td>0</td>\n",
       "      <td>0</td>\n",
       "      <td>0</td>\n",
       "      <td>0</td>\n",
       "      <td>0</td>\n",
       "      <td>0</td>\n",
       "      <td>0</td>\n",
       "      <td>0</td>\n",
       "    </tr>\n",
       "    <tr>\n",
       "      <th>3</th>\n",
       "      <td>KILLED</td>\n",
       "      <td>7</td>\n",
       "      <td>21</td>\n",
       "      <td>17</td>\n",
       "      <td>1</td>\n",
       "      <td>6</td>\n",
       "      <td>2</td>\n",
       "      <td>84</td>\n",
       "      <td>0</td>\n",
       "      <td>65</td>\n",
       "      <td>...</td>\n",
       "      <td>0</td>\n",
       "      <td>0</td>\n",
       "      <td>0</td>\n",
       "      <td>0</td>\n",
       "      <td>0</td>\n",
       "      <td>0</td>\n",
       "      <td>0</td>\n",
       "      <td>0</td>\n",
       "      <td>0</td>\n",
       "      <td>0</td>\n",
       "    </tr>\n",
       "    <tr>\n",
       "      <th>4</th>\n",
       "      <td>KILLED</td>\n",
       "      <td>8</td>\n",
       "      <td>27</td>\n",
       "      <td>26</td>\n",
       "      <td>0</td>\n",
       "      <td>7</td>\n",
       "      <td>2</td>\n",
       "      <td>78</td>\n",
       "      <td>0</td>\n",
       "      <td>75</td>\n",
       "      <td>...</td>\n",
       "      <td>0</td>\n",
       "      <td>0</td>\n",
       "      <td>0</td>\n",
       "      <td>0</td>\n",
       "      <td>0</td>\n",
       "      <td>0</td>\n",
       "      <td>0</td>\n",
       "      <td>0</td>\n",
       "      <td>0</td>\n",
       "      <td>0</td>\n",
       "    </tr>\n",
       "  </tbody>\n",
       "</table>\n",
       "<p>5 rows × 134 columns</p>\n",
       "</div>"
      ],
      "text/plain": [
       "         Injury Severity  Crash_Month  Crash_Day  Crash_Minute  Crash_AM/PM  \\\n",
       "0  INCAPACITATING INJURY            7         20            37            0   \n",
       "1                 KILLED            7         27            45            0   \n",
       "2                 KILLED            8         10             5            1   \n",
       "3                 KILLED            7         21            17            1   \n",
       "4                 KILLED            8         27            26            0   \n",
       "\n",
       "   Crash_Hour  Unit_Nbr  Prsn_Age  Toll_Road_Fl  Crash_Speed_Limit  ...  \\\n",
       "0           3         3        26             0                 55  ...   \n",
       "1          11         3        61             0                 75  ...   \n",
       "2           5         2        55             0                 55  ...   \n",
       "3           6         2        84             0                 65  ...   \n",
       "4           7         2        78             0                 75  ...   \n",
       "\n",
       "   Traffic_Cntl_ID_STOP SIGN  Traffic_Cntl_ID_WARNING SIGN  \\\n",
       "0                          0                             0   \n",
       "1                          0                             0   \n",
       "2                          0                             0   \n",
       "3                          0                             0   \n",
       "4                          0                             0   \n",
       "\n",
       "   Traffic_Cntl_ID_YIELD SIGN  Unit_Desc_ID_MOTORIZED CONVEYANCE  \\\n",
       "0                           0                                  0   \n",
       "1                           0                                  0   \n",
       "2                           0                                  0   \n",
       "3                           0                                  0   \n",
       "4                           0                                  0   \n",
       "\n",
       "   Unit_Desc_ID_NON-CONTACT  Unit_Desc_ID_OTHER (EXPLAIN IN NARRATIVE)  \\\n",
       "0                         0                                          0   \n",
       "1                         0                                          0   \n",
       "2                         0                                          0   \n",
       "3                         0                                          0   \n",
       "4                         0                                          0   \n",
       "\n",
       "   Unit_Desc_ID_PEDALCYCLIST  Unit_Desc_ID_PEDESTRIAN  \\\n",
       "0                          0                        0   \n",
       "1                          0                        0   \n",
       "2                          0                        0   \n",
       "3                          0                        0   \n",
       "4                          0                        0   \n",
       "\n",
       "   Unit_Desc_ID_TOWED/PUSHED/TRAILER  Unit_Desc_ID_TRAIN  \n",
       "0                                  0                   0  \n",
       "1                                  0                   0  \n",
       "2                                  0                   0  \n",
       "3                                  0                   0  \n",
       "4                                  0                   0  \n",
       "\n",
       "[5 rows x 134 columns]"
      ]
     },
     "execution_count": 4,
     "metadata": {},
     "output_type": "execute_result"
    }
   ],
   "source": [
    "df=pd.read_csv('final data.csv')\n",
    "print(df.shape)\n",
    "df.head()"
   ]
  },
  {
   "cell_type": "code",
   "execution_count": 5,
   "metadata": {
    "ExecuteTime": {
     "end_time": "2020-05-11T22:47:15.258940Z",
     "start_time": "2020-05-11T22:47:15.184578Z"
    },
    "colab": {},
    "colab_type": "code",
    "id": "0yIHRk4sJ1Tx"
   },
   "outputs": [
    {
     "data": {
      "text/plain": [
       "array([0, 1, 1, ..., 0, 0, 0])"
      ]
     },
     "execution_count": 5,
     "metadata": {},
     "output_type": "execute_result"
    }
   ],
   "source": [
    "y=np.where(df['Injury Severity']=='KILLED',1,0)\n",
    "y"
   ]
  },
  {
   "cell_type": "code",
   "execution_count": 6,
   "metadata": {
    "ExecuteTime": {
     "end_time": "2020-05-11T22:47:15.282896Z",
     "start_time": "2020-05-11T22:47:15.268423Z"
    },
    "colab": {},
    "colab_type": "code",
    "id": "0Ba_lXcHJ1UI"
   },
   "outputs": [
    {
     "name": "stdout",
     "output_type": "stream",
     "text": [
      "Examples:\n",
      "    Total: 488849\n",
      "    Positive: 1494 (0.31% of total)\n",
      "\n"
     ]
    }
   ],
   "source": [
    "neg, pos = np.bincount(y)\n",
    "total = neg + pos\n",
    "print('Examples:\\n    Total: {}\\n    Positive: {} ({:.2f}% of total)\\n'.format(total, pos, 100 * pos / total))"
   ]
  },
  {
   "cell_type": "code",
   "execution_count": 7,
   "metadata": {
    "ExecuteTime": {
     "end_time": "2020-05-11T22:47:16.549042Z",
     "start_time": "2020-05-11T22:47:15.287387Z"
    },
    "colab": {},
    "colab_type": "code",
    "id": "Cl4mz5NYJ1UV",
    "scrolled": true
   },
   "outputs": [
    {
     "data": {
      "text/html": [
       "<div>\n",
       "<style scoped>\n",
       "    .dataframe tbody tr th:only-of-type {\n",
       "        vertical-align: middle;\n",
       "    }\n",
       "\n",
       "    .dataframe tbody tr th {\n",
       "        vertical-align: top;\n",
       "    }\n",
       "\n",
       "    .dataframe thead th {\n",
       "        text-align: right;\n",
       "    }\n",
       "</style>\n",
       "<table border=\"1\" class=\"dataframe\">\n",
       "  <thead>\n",
       "    <tr style=\"text-align: right;\">\n",
       "      <th></th>\n",
       "      <th>Crash_Month</th>\n",
       "      <th>Crash_Day</th>\n",
       "      <th>Crash_Minute</th>\n",
       "      <th>Crash_AM/PM</th>\n",
       "      <th>Crash_Hour</th>\n",
       "      <th>Unit_Nbr</th>\n",
       "      <th>Prsn_Age</th>\n",
       "      <th>Toll_Road_Fl</th>\n",
       "      <th>Crash_Speed_Limit</th>\n",
       "      <th>Road_Constr_Zone_Fl</th>\n",
       "      <th>...</th>\n",
       "      <th>Traffic_Cntl_ID_STOP SIGN</th>\n",
       "      <th>Traffic_Cntl_ID_WARNING SIGN</th>\n",
       "      <th>Traffic_Cntl_ID_YIELD SIGN</th>\n",
       "      <th>Unit_Desc_ID_MOTORIZED CONVEYANCE</th>\n",
       "      <th>Unit_Desc_ID_NON-CONTACT</th>\n",
       "      <th>Unit_Desc_ID_OTHER (EXPLAIN IN NARRATIVE)</th>\n",
       "      <th>Unit_Desc_ID_PEDALCYCLIST</th>\n",
       "      <th>Unit_Desc_ID_PEDESTRIAN</th>\n",
       "      <th>Unit_Desc_ID_TOWED/PUSHED/TRAILER</th>\n",
       "      <th>Unit_Desc_ID_TRAIN</th>\n",
       "    </tr>\n",
       "  </thead>\n",
       "  <tbody>\n",
       "    <tr>\n",
       "      <th>0</th>\n",
       "      <td>7</td>\n",
       "      <td>20</td>\n",
       "      <td>37</td>\n",
       "      <td>0</td>\n",
       "      <td>3</td>\n",
       "      <td>3</td>\n",
       "      <td>26</td>\n",
       "      <td>0</td>\n",
       "      <td>55</td>\n",
       "      <td>0</td>\n",
       "      <td>...</td>\n",
       "      <td>0</td>\n",
       "      <td>0</td>\n",
       "      <td>0</td>\n",
       "      <td>0</td>\n",
       "      <td>0</td>\n",
       "      <td>0</td>\n",
       "      <td>0</td>\n",
       "      <td>0</td>\n",
       "      <td>0</td>\n",
       "      <td>0</td>\n",
       "    </tr>\n",
       "    <tr>\n",
       "      <th>1</th>\n",
       "      <td>7</td>\n",
       "      <td>27</td>\n",
       "      <td>45</td>\n",
       "      <td>0</td>\n",
       "      <td>11</td>\n",
       "      <td>3</td>\n",
       "      <td>61</td>\n",
       "      <td>0</td>\n",
       "      <td>75</td>\n",
       "      <td>0</td>\n",
       "      <td>...</td>\n",
       "      <td>0</td>\n",
       "      <td>0</td>\n",
       "      <td>0</td>\n",
       "      <td>0</td>\n",
       "      <td>0</td>\n",
       "      <td>0</td>\n",
       "      <td>0</td>\n",
       "      <td>0</td>\n",
       "      <td>0</td>\n",
       "      <td>0</td>\n",
       "    </tr>\n",
       "    <tr>\n",
       "      <th>2</th>\n",
       "      <td>8</td>\n",
       "      <td>10</td>\n",
       "      <td>5</td>\n",
       "      <td>1</td>\n",
       "      <td>5</td>\n",
       "      <td>2</td>\n",
       "      <td>55</td>\n",
       "      <td>0</td>\n",
       "      <td>55</td>\n",
       "      <td>0</td>\n",
       "      <td>...</td>\n",
       "      <td>0</td>\n",
       "      <td>0</td>\n",
       "      <td>0</td>\n",
       "      <td>0</td>\n",
       "      <td>0</td>\n",
       "      <td>0</td>\n",
       "      <td>0</td>\n",
       "      <td>0</td>\n",
       "      <td>0</td>\n",
       "      <td>0</td>\n",
       "    </tr>\n",
       "    <tr>\n",
       "      <th>3</th>\n",
       "      <td>7</td>\n",
       "      <td>21</td>\n",
       "      <td>17</td>\n",
       "      <td>1</td>\n",
       "      <td>6</td>\n",
       "      <td>2</td>\n",
       "      <td>84</td>\n",
       "      <td>0</td>\n",
       "      <td>65</td>\n",
       "      <td>0</td>\n",
       "      <td>...</td>\n",
       "      <td>0</td>\n",
       "      <td>0</td>\n",
       "      <td>0</td>\n",
       "      <td>0</td>\n",
       "      <td>0</td>\n",
       "      <td>0</td>\n",
       "      <td>0</td>\n",
       "      <td>0</td>\n",
       "      <td>0</td>\n",
       "      <td>0</td>\n",
       "    </tr>\n",
       "    <tr>\n",
       "      <th>4</th>\n",
       "      <td>8</td>\n",
       "      <td>27</td>\n",
       "      <td>26</td>\n",
       "      <td>0</td>\n",
       "      <td>7</td>\n",
       "      <td>2</td>\n",
       "      <td>78</td>\n",
       "      <td>0</td>\n",
       "      <td>75</td>\n",
       "      <td>0</td>\n",
       "      <td>...</td>\n",
       "      <td>0</td>\n",
       "      <td>0</td>\n",
       "      <td>0</td>\n",
       "      <td>0</td>\n",
       "      <td>0</td>\n",
       "      <td>0</td>\n",
       "      <td>0</td>\n",
       "      <td>0</td>\n",
       "      <td>0</td>\n",
       "      <td>0</td>\n",
       "    </tr>\n",
       "    <tr>\n",
       "      <th>...</th>\n",
       "      <td>...</td>\n",
       "      <td>...</td>\n",
       "      <td>...</td>\n",
       "      <td>...</td>\n",
       "      <td>...</td>\n",
       "      <td>...</td>\n",
       "      <td>...</td>\n",
       "      <td>...</td>\n",
       "      <td>...</td>\n",
       "      <td>...</td>\n",
       "      <td>...</td>\n",
       "      <td>...</td>\n",
       "      <td>...</td>\n",
       "      <td>...</td>\n",
       "      <td>...</td>\n",
       "      <td>...</td>\n",
       "      <td>...</td>\n",
       "      <td>...</td>\n",
       "      <td>...</td>\n",
       "      <td>...</td>\n",
       "      <td>...</td>\n",
       "    </tr>\n",
       "    <tr>\n",
       "      <th>488844</th>\n",
       "      <td>11</td>\n",
       "      <td>29</td>\n",
       "      <td>13</td>\n",
       "      <td>0</td>\n",
       "      <td>11</td>\n",
       "      <td>1</td>\n",
       "      <td>68</td>\n",
       "      <td>0</td>\n",
       "      <td>70</td>\n",
       "      <td>0</td>\n",
       "      <td>...</td>\n",
       "      <td>0</td>\n",
       "      <td>0</td>\n",
       "      <td>0</td>\n",
       "      <td>0</td>\n",
       "      <td>0</td>\n",
       "      <td>0</td>\n",
       "      <td>0</td>\n",
       "      <td>0</td>\n",
       "      <td>0</td>\n",
       "      <td>0</td>\n",
       "    </tr>\n",
       "    <tr>\n",
       "      <th>488845</th>\n",
       "      <td>11</td>\n",
       "      <td>25</td>\n",
       "      <td>6</td>\n",
       "      <td>0</td>\n",
       "      <td>11</td>\n",
       "      <td>1</td>\n",
       "      <td>44</td>\n",
       "      <td>0</td>\n",
       "      <td>55</td>\n",
       "      <td>0</td>\n",
       "      <td>...</td>\n",
       "      <td>1</td>\n",
       "      <td>0</td>\n",
       "      <td>0</td>\n",
       "      <td>0</td>\n",
       "      <td>0</td>\n",
       "      <td>0</td>\n",
       "      <td>0</td>\n",
       "      <td>0</td>\n",
       "      <td>0</td>\n",
       "      <td>0</td>\n",
       "    </tr>\n",
       "    <tr>\n",
       "      <th>488846</th>\n",
       "      <td>11</td>\n",
       "      <td>25</td>\n",
       "      <td>6</td>\n",
       "      <td>0</td>\n",
       "      <td>11</td>\n",
       "      <td>2</td>\n",
       "      <td>57</td>\n",
       "      <td>0</td>\n",
       "      <td>55</td>\n",
       "      <td>0</td>\n",
       "      <td>...</td>\n",
       "      <td>1</td>\n",
       "      <td>0</td>\n",
       "      <td>0</td>\n",
       "      <td>0</td>\n",
       "      <td>0</td>\n",
       "      <td>0</td>\n",
       "      <td>0</td>\n",
       "      <td>0</td>\n",
       "      <td>0</td>\n",
       "      <td>0</td>\n",
       "    </tr>\n",
       "    <tr>\n",
       "      <th>488847</th>\n",
       "      <td>9</td>\n",
       "      <td>3</td>\n",
       "      <td>15</td>\n",
       "      <td>1</td>\n",
       "      <td>4</td>\n",
       "      <td>1</td>\n",
       "      <td>16</td>\n",
       "      <td>0</td>\n",
       "      <td>40</td>\n",
       "      <td>0</td>\n",
       "      <td>...</td>\n",
       "      <td>1</td>\n",
       "      <td>0</td>\n",
       "      <td>0</td>\n",
       "      <td>0</td>\n",
       "      <td>0</td>\n",
       "      <td>0</td>\n",
       "      <td>0</td>\n",
       "      <td>0</td>\n",
       "      <td>0</td>\n",
       "      <td>0</td>\n",
       "    </tr>\n",
       "    <tr>\n",
       "      <th>488848</th>\n",
       "      <td>9</td>\n",
       "      <td>3</td>\n",
       "      <td>15</td>\n",
       "      <td>1</td>\n",
       "      <td>4</td>\n",
       "      <td>2</td>\n",
       "      <td>16</td>\n",
       "      <td>0</td>\n",
       "      <td>40</td>\n",
       "      <td>0</td>\n",
       "      <td>...</td>\n",
       "      <td>1</td>\n",
       "      <td>0</td>\n",
       "      <td>0</td>\n",
       "      <td>0</td>\n",
       "      <td>0</td>\n",
       "      <td>0</td>\n",
       "      <td>0</td>\n",
       "      <td>0</td>\n",
       "      <td>0</td>\n",
       "      <td>0</td>\n",
       "    </tr>\n",
       "  </tbody>\n",
       "</table>\n",
       "<p>488849 rows × 133 columns</p>\n",
       "</div>"
      ],
      "text/plain": [
       "        Crash_Month  Crash_Day  Crash_Minute  Crash_AM/PM  Crash_Hour  \\\n",
       "0                 7         20            37            0           3   \n",
       "1                 7         27            45            0          11   \n",
       "2                 8         10             5            1           5   \n",
       "3                 7         21            17            1           6   \n",
       "4                 8         27            26            0           7   \n",
       "...             ...        ...           ...          ...         ...   \n",
       "488844           11         29            13            0          11   \n",
       "488845           11         25             6            0          11   \n",
       "488846           11         25             6            0          11   \n",
       "488847            9          3            15            1           4   \n",
       "488848            9          3            15            1           4   \n",
       "\n",
       "        Unit_Nbr  Prsn_Age  Toll_Road_Fl  Crash_Speed_Limit  \\\n",
       "0              3        26             0                 55   \n",
       "1              3        61             0                 75   \n",
       "2              2        55             0                 55   \n",
       "3              2        84             0                 65   \n",
       "4              2        78             0                 75   \n",
       "...          ...       ...           ...                ...   \n",
       "488844         1        68             0                 70   \n",
       "488845         1        44             0                 55   \n",
       "488846         2        57             0                 55   \n",
       "488847         1        16             0                 40   \n",
       "488848         2        16             0                 40   \n",
       "\n",
       "        Road_Constr_Zone_Fl  ...  Traffic_Cntl_ID_STOP SIGN  \\\n",
       "0                         0  ...                          0   \n",
       "1                         0  ...                          0   \n",
       "2                         0  ...                          0   \n",
       "3                         0  ...                          0   \n",
       "4                         0  ...                          0   \n",
       "...                     ...  ...                        ...   \n",
       "488844                    0  ...                          0   \n",
       "488845                    0  ...                          1   \n",
       "488846                    0  ...                          1   \n",
       "488847                    0  ...                          1   \n",
       "488848                    0  ...                          1   \n",
       "\n",
       "        Traffic_Cntl_ID_WARNING SIGN  Traffic_Cntl_ID_YIELD SIGN  \\\n",
       "0                                  0                           0   \n",
       "1                                  0                           0   \n",
       "2                                  0                           0   \n",
       "3                                  0                           0   \n",
       "4                                  0                           0   \n",
       "...                              ...                         ...   \n",
       "488844                             0                           0   \n",
       "488845                             0                           0   \n",
       "488846                             0                           0   \n",
       "488847                             0                           0   \n",
       "488848                             0                           0   \n",
       "\n",
       "        Unit_Desc_ID_MOTORIZED CONVEYANCE  Unit_Desc_ID_NON-CONTACT  \\\n",
       "0                                       0                         0   \n",
       "1                                       0                         0   \n",
       "2                                       0                         0   \n",
       "3                                       0                         0   \n",
       "4                                       0                         0   \n",
       "...                                   ...                       ...   \n",
       "488844                                  0                         0   \n",
       "488845                                  0                         0   \n",
       "488846                                  0                         0   \n",
       "488847                                  0                         0   \n",
       "488848                                  0                         0   \n",
       "\n",
       "        Unit_Desc_ID_OTHER (EXPLAIN IN NARRATIVE)  Unit_Desc_ID_PEDALCYCLIST  \\\n",
       "0                                               0                          0   \n",
       "1                                               0                          0   \n",
       "2                                               0                          0   \n",
       "3                                               0                          0   \n",
       "4                                               0                          0   \n",
       "...                                           ...                        ...   \n",
       "488844                                          0                          0   \n",
       "488845                                          0                          0   \n",
       "488846                                          0                          0   \n",
       "488847                                          0                          0   \n",
       "488848                                          0                          0   \n",
       "\n",
       "        Unit_Desc_ID_PEDESTRIAN  Unit_Desc_ID_TOWED/PUSHED/TRAILER  \\\n",
       "0                             0                                  0   \n",
       "1                             0                                  0   \n",
       "2                             0                                  0   \n",
       "3                             0                                  0   \n",
       "4                             0                                  0   \n",
       "...                         ...                                ...   \n",
       "488844                        0                                  0   \n",
       "488845                        0                                  0   \n",
       "488846                        0                                  0   \n",
       "488847                        0                                  0   \n",
       "488848                        0                                  0   \n",
       "\n",
       "        Unit_Desc_ID_TRAIN  \n",
       "0                        0  \n",
       "1                        0  \n",
       "2                        0  \n",
       "3                        0  \n",
       "4                        0  \n",
       "...                    ...  \n",
       "488844                   0  \n",
       "488845                   0  \n",
       "488846                   0  \n",
       "488847                   0  \n",
       "488848                   0  \n",
       "\n",
       "[488849 rows x 133 columns]"
      ]
     },
     "execution_count": 7,
     "metadata": {},
     "output_type": "execute_result"
    }
   ],
   "source": [
    "X=df.iloc[:,1:].copy()\n",
    "X"
   ]
  },
  {
   "cell_type": "markdown",
   "metadata": {
    "colab_type": "text",
    "id": "KnLKFQDsCBUg"
   },
   "source": [
    "This shows the small fraction of positive samples."
   ]
  },
  {
   "cell_type": "markdown",
   "metadata": {
    "colab_type": "text",
    "id": "6qox6ryyzwdr"
   },
   "source": [
    "### Clean, split and normalize the data\n",
    "\n",
    "The raw data has a few issues. First the `Time` and `Amount` columns are too variable to use directly. Drop the `Time` column (since it's not clear what it means) and take the log of the `Amount` column to reduce its range."
   ]
  },
  {
   "cell_type": "markdown",
   "metadata": {
    "colab_type": "text",
    "id": "uSNgdQFFFQ6u"
   },
   "source": [
    "Split the dataset into train, validation, and test sets. The validation set is used during the model fitting to evaluate the loss and any metrics, however the model is not fit with this data. The test set is completely unused during the training phase and is only used at the end to evaluate how well the model generalizes to new data. This is especially important with imbalanced datasets where [overfitting](https://developers.google.com/machine-learning/crash-course/generalization/peril-of-overfitting) is a significant concern from the lack of training data."
   ]
  },
  {
   "cell_type": "code",
   "execution_count": 8,
   "metadata": {
    "ExecuteTime": {
     "end_time": "2020-05-11T22:47:22.838849Z",
     "start_time": "2020-05-11T22:47:16.553533Z"
    },
    "colab": {},
    "colab_type": "code",
    "id": "xfxhKg7Yr1-b"
   },
   "outputs": [],
   "source": [
    "# Use a utility from sklearn to split and shuffle our dataset.\n",
    "train_df, test_df,train_labels,test_labels  = train_test_split(X,y, test_size=0.2,stratify=y, random_state=48)\n",
    "train_df, val_df,train_labels,val_labels = train_test_split(train_df,train_labels, test_size=0.2,stratify=train_labels, random_state=48)\n",
    "\n",
    "# Form np arrays of labels and features.\n",
    "bool_train_labels = train_labels != 0\n",
    "\n",
    "train_features = np.array(train_df)\n",
    "val_features = np.array(val_df)\n",
    "test_features = np.array(test_df)"
   ]
  },
  {
   "cell_type": "markdown",
   "metadata": {
    "colab_type": "text",
    "id": "8a_Z_kBmr7Oh"
   },
   "source": [
    "Normalize the input features using the sklearn StandardScaler.\n",
    "This will set the mean to 0 and standard deviation to 1.\n",
    "\n",
    "Note: The `StandardScaler` is only fit using the `train_features` to be sure the model is not peeking at the validation or test sets. "
   ]
  },
  {
   "cell_type": "code",
   "execution_count": 9,
   "metadata": {
    "ExecuteTime": {
     "end_time": "2020-05-11T22:47:28.883446Z",
     "start_time": "2020-05-11T22:47:22.843342Z"
    },
    "colab": {},
    "colab_type": "code",
    "id": "IO-qEUmJ5JQg"
   },
   "outputs": [
    {
     "name": "stdout",
     "output_type": "stream",
     "text": [
      "Training labels shape: (312863,)\n",
      "Validation labels shape: (78216,)\n",
      "Test labels shape: (97770,)\n",
      "Training features shape: (312863, 133)\n",
      "Validation features shape: (78216, 133)\n",
      "Test features shape: (97770, 133)\n"
     ]
    }
   ],
   "source": [
    "scaler = StandardScaler()\n",
    "train_features = scaler.fit_transform(train_features)\n",
    "\n",
    "val_features = scaler.transform(val_features)\n",
    "test_features = scaler.transform(test_features)\n",
    "\n",
    "train_features = np.clip(train_features, -5, 5)\n",
    "val_features = np.clip(val_features, -5, 5)\n",
    "test_features = np.clip(test_features, -5, 5)\n",
    "\n",
    "\n",
    "print('Training labels shape:', train_labels.shape)\n",
    "print('Validation labels shape:', val_labels.shape)\n",
    "print('Test labels shape:', test_labels.shape)\n",
    "\n",
    "print('Training features shape:', train_features.shape)\n",
    "print('Validation features shape:', val_features.shape)\n",
    "print('Test features shape:', test_features.shape)\n"
   ]
  },
  {
   "cell_type": "markdown",
   "metadata": {
    "colab_type": "text",
    "id": "XF2nNfWKJ33w"
   },
   "source": [
    "Caution: If you want to deploy a model, it's critical that you preserve the preprocessing calculations. The easiest way to implement them as layers, and attach them to your model before export.\n"
   ]
  },
  {
   "cell_type": "markdown",
   "metadata": {
    "colab_type": "text",
    "id": "uQ7m9nqDC3W6"
   },
   "source": [
    "### Look at the data distribution\n",
    "\n",
    "Next compare the distributions of the positive and negative examples over a few features. Good questions to ask yourself at this point are:\n",
    "\n",
    "* Do these distributions make sense? \n",
    "    * Yes. You've normalized the input and these are mostly concentrated in the `+/- 2` range.\n",
    "* Can you see the difference between the ditributions?\n",
    "    * Yes the positive examples contain a much higher rate of extreme values."
   ]
  },
  {
   "cell_type": "markdown",
   "metadata": {
    "colab_type": "text",
    "id": "qFK1u4JX16D8"
   },
   "source": [
    "## Define the model and metrics\n",
    "\n",
    "Define a function that creates a simple neural network with a densly connected hidden layer, a [dropout](https://developers.google.com/machine-learning/glossary/#dropout_regularization) layer to reduce overfitting, and an output sigmoid layer that returns the probability of a transaction being fraudulent: "
   ]
  },
  {
   "cell_type": "code",
   "execution_count": 10,
   "metadata": {
    "ExecuteTime": {
     "end_time": "2020-05-11T22:47:29.462447Z",
     "start_time": "2020-05-11T22:47:28.921379Z"
    },
    "colab": {},
    "colab_type": "code",
    "id": "3JQDzUqT3UYG"
   },
   "outputs": [],
   "source": [
    "METRICS = [\n",
    "      keras.metrics.TruePositives(name='tp'),\n",
    "      keras.metrics.FalsePositives(name='fp'),\n",
    "      keras.metrics.TrueNegatives(name='tn'),\n",
    "      keras.metrics.FalseNegatives(name='fn'), \n",
    "      keras.metrics.BinaryAccuracy(name='accuracy'),\n",
    "      keras.metrics.Precision(name='precision'),\n",
    "      keras.metrics.Recall(name='recall'),\n",
    "      keras.metrics.AUC(name='auc'),\n",
    "]\n",
    "\n",
    "def make_model(metrics = METRICS, output_bias=None):\n",
    "  if output_bias is not None:\n",
    "    output_bias = tf.keras.initializers.Constant(output_bias)\n",
    "  model = keras.Sequential([\n",
    "      keras.layers.Dense(\n",
    "          16, activation='relu',\n",
    "          input_shape=(train_features.shape[-1],)),\n",
    "      keras.layers.Dropout(0.5),\n",
    "      keras.layers.Dense(1, activation='sigmoid',\n",
    "                         bias_initializer=output_bias),\n",
    "  ])\n",
    "\n",
    "  model.compile(\n",
    "      optimizer=keras.optimizers.Adam(lr=1e-3),\n",
    "      loss=keras.losses.BinaryCrossentropy(),\n",
    "      metrics=metrics)\n",
    "\n",
    "  return model"
   ]
  },
  {
   "cell_type": "markdown",
   "metadata": {
    "colab_type": "text",
    "id": "SU0GX6E6mieP"
   },
   "source": [
    "### Understanding useful metrics\n",
    "\n",
    "Notice that there are a few metrics defined above that can be computed by the model that will be helpful when evaluating the performance.\n",
    "\n",
    "\n",
    "\n",
    "*   **False** negatives and **false** positives are samples that were **incorrectly** classified\n",
    "*   **True** negatives and **true** positives are samples that were **correctly** classified\n",
    "*   **Accuracy** is the percentage of examples correctly classified\n",
    ">   $\\frac{\\text{true samples}}{\\text{total samples}}$\n",
    "*   **Precision** is the percentage of **predicted** positives that were correctly classified\n",
    ">   $\\frac{\\text{true positives}}{\\text{true positives + false positives}}$\n",
    "*   **Recall** is the percentage of **actual** positives that were correctly classified\n",
    ">   $\\frac{\\text{true positives}}{\\text{true positives + false negatives}}$\n",
    "*   **AUC** refers to the Area Under the Curve of a Receiver Operating Characteristic curve (ROC-AUC). This metric is equal to the probability that a classifier will rank a random positive sample higher than than a random negative sample.\n",
    "\n",
    "Note: Accuracy is not a helpful metric for this task. You can 99.8%+ accuracy on this task by predicting False all the time.  \n",
    "\n",
    "Read more:\n",
    "*  [True vs. False and Positive vs. Negative](https://developers.google.com/machine-learning/crash-course/classification/true-false-positive-negative)\n",
    "*  [Accuracy](https://developers.google.com/machine-learning/crash-course/classification/accuracy)\n",
    "*   [Precision and Recall](https://developers.google.com/machine-learning/crash-course/classification/precision-and-recall)\n",
    "*   [ROC-AUC](https://developers.google.com/machine-learning/crash-course/classification/roc-and-auc)"
   ]
  },
  {
   "cell_type": "markdown",
   "metadata": {
    "colab_type": "text",
    "id": "FYdhSAoaF_TK"
   },
   "source": [
    "## Baseline model"
   ]
  },
  {
   "cell_type": "markdown",
   "metadata": {
    "colab_type": "text",
    "id": "IDbltVPg2m2q"
   },
   "source": [
    "### Build the model\n",
    "\n",
    "Now create and train your model using the function that was defined earlier. Notice that the model is fit using a larger than default batch size of 2048, this is important to ensure that each batch has a decent chance of containing a few positive samples. If the batch size was too small, they would likely have no fraudulent transactions to learn from.\n",
    "\n",
    "\n",
    "Note: this model will not handle the class imbalance well. You will improve it later in this tutorial."
   ]
  },
  {
   "cell_type": "code",
   "execution_count": 11,
   "metadata": {
    "ExecuteTime": {
     "end_time": "2020-05-11T22:47:29.474424Z",
     "start_time": "2020-05-11T22:47:29.467435Z"
    },
    "colab": {},
    "colab_type": "code",
    "id": "ouUkwPcGQsy3"
   },
   "outputs": [],
   "source": [
    "EPOCHS = 100\n",
    "BATCH_SIZE = 2048\n",
    "\n",
    "early_stopping = tf.keras.callbacks.EarlyStopping(\n",
    "    monitor='val_auc', \n",
    "    verbose=1,\n",
    "    patience=10,\n",
    "    mode='max',\n",
    "    restore_best_weights=True)"
   ]
  },
  {
   "cell_type": "code",
   "execution_count": 12,
   "metadata": {
    "ExecuteTime": {
     "end_time": "2020-05-11T22:47:30.832897Z",
     "start_time": "2020-05-11T22:47:29.480412Z"
    },
    "colab": {},
    "colab_type": "code",
    "id": "1xlR_dekzw7C"
   },
   "outputs": [
    {
     "name": "stdout",
     "output_type": "stream",
     "text": [
      "Model: \"sequential\"\n",
      "_________________________________________________________________\n",
      "Layer (type)                 Output Shape              Param #   \n",
      "=================================================================\n",
      "dense (Dense)                (None, 16)                2144      \n",
      "_________________________________________________________________\n",
      "dropout (Dropout)            (None, 16)                0         \n",
      "_________________________________________________________________\n",
      "dense_1 (Dense)              (None, 1)                 17        \n",
      "=================================================================\n",
      "Total params: 2,161\n",
      "Trainable params: 2,161\n",
      "Non-trainable params: 0\n",
      "_________________________________________________________________\n"
     ]
    }
   ],
   "source": [
    "model = make_model()\n",
    "model.summary()"
   ]
  },
  {
   "cell_type": "markdown",
   "metadata": {
    "colab_type": "text",
    "id": "Wx7ND3_SqckO"
   },
   "source": [
    "Test run the model:"
   ]
  },
  {
   "cell_type": "code",
   "execution_count": 13,
   "metadata": {
    "ExecuteTime": {
     "end_time": "2020-05-11T22:47:31.269713Z",
     "start_time": "2020-05-11T22:47:30.837888Z"
    },
    "colab": {},
    "colab_type": "code",
    "id": "LopSd-yQqO3a"
   },
   "outputs": [
    {
     "data": {
      "text/plain": [
       "array([[0.7467832 ],\n",
       "       [0.80093735],\n",
       "       [0.70080477],\n",
       "       [0.6420795 ],\n",
       "       [0.8722038 ],\n",
       "       [0.7577103 ],\n",
       "       [0.6524761 ],\n",
       "       [0.7237632 ],\n",
       "       [0.6766815 ],\n",
       "       [0.624847  ]], dtype=float32)"
      ]
     },
     "execution_count": 13,
     "metadata": {},
     "output_type": "execute_result"
    }
   ],
   "source": [
    "model.predict(train_features[:10])"
   ]
  },
  {
   "cell_type": "markdown",
   "metadata": {
    "colab_type": "text",
    "id": "YKIgWqHms_03"
   },
   "source": [
    "### Optional: Set the correct initial bias."
   ]
  },
  {
   "cell_type": "markdown",
   "metadata": {
    "colab_type": "text",
    "id": "qk_3Ry6EoYDq"
   },
   "source": [
    "These are initial guesses are not great. You know the dataset is imbalanced. Set the output layer's bias to reflect that (See: [A Recipe for Training Neural Networks: \"init well\"](http://karpathy.github.io/2019/04/25/recipe/#2-set-up-the-end-to-end-trainingevaluation-skeleton--get-dumb-baselines)). This can help with initial convergence."
   ]
  },
  {
   "cell_type": "markdown",
   "metadata": {
    "colab_type": "text",
    "id": "PdbfWDuVpo6k"
   },
   "source": [
    "With the default bias initialization the loss should be about `math.log(2) = 0.69314` "
   ]
  },
  {
   "cell_type": "code",
   "execution_count": 14,
   "metadata": {
    "ExecuteTime": {
     "end_time": "2020-05-11T22:47:35.810770Z",
     "start_time": "2020-05-11T22:47:31.273205Z"
    },
    "colab": {},
    "colab_type": "code",
    "id": "H-oPqh3SoGXk"
   },
   "outputs": [
    {
     "name": "stdout",
     "output_type": "stream",
     "text": [
      "Loss: 1.4753\n"
     ]
    }
   ],
   "source": [
    "results = model.evaluate(train_features, train_labels, batch_size=BATCH_SIZE, verbose=0)\n",
    "print(\"Loss: {:0.4f}\".format(results[0]))"
   ]
  },
  {
   "cell_type": "markdown",
   "metadata": {
    "colab_type": "text",
    "id": "hE-JRzfKqfhB"
   },
   "source": [
    "The correct bias to set can be derived from:\n",
    "\n",
    "$$ p_0 = pos/(pos + neg) = 1/(1+e^{-b_0}) $$\n",
    "$$ b_0 = -log_e(1/p_0 - 1) $$\n",
    "$$ b_0 = log_e(pos/neg)$$"
   ]
  },
  {
   "cell_type": "code",
   "execution_count": 15,
   "metadata": {
    "ExecuteTime": {
     "end_time": "2020-05-11T22:47:35.829235Z",
     "start_time": "2020-05-11T22:47:35.815262Z"
    },
    "colab": {},
    "colab_type": "code",
    "id": "F5KWPSjjstUS"
   },
   "outputs": [
    {
     "data": {
      "text/plain": [
       "array([-5.78753572])"
      ]
     },
     "execution_count": 15,
     "metadata": {},
     "output_type": "execute_result"
    }
   ],
   "source": [
    "initial_bias = np.log([pos/neg])\n",
    "initial_bias"
   ]
  },
  {
   "cell_type": "markdown",
   "metadata": {
    "colab_type": "text",
    "id": "d1juXI9yY1KD"
   },
   "source": [
    "Set that as the initial bias, and the model will give much more reasonable initial guesses. \n",
    "\n",
    "It should be near: `pos/total = 0.0018`"
   ]
  },
  {
   "cell_type": "code",
   "execution_count": 16,
   "metadata": {
    "ExecuteTime": {
     "end_time": "2020-05-11T22:47:36.962631Z",
     "start_time": "2020-05-11T22:47:35.832730Z"
    },
    "colab": {},
    "colab_type": "code",
    "id": "50oyu1uss0i-"
   },
   "outputs": [
    {
     "data": {
      "text/plain": [
       "array([[0.003805  ],\n",
       "       [0.00258359],\n",
       "       [0.00131483],\n",
       "       [0.00139024],\n",
       "       [0.00172322],\n",
       "       [0.00362556],\n",
       "       [0.0017801 ],\n",
       "       [0.00158257],\n",
       "       [0.00237367],\n",
       "       [0.00124915]], dtype=float32)"
      ]
     },
     "execution_count": 16,
     "metadata": {},
     "output_type": "execute_result"
    }
   ],
   "source": [
    "model = make_model(output_bias = initial_bias)\n",
    "model.predict(train_features[:10])"
   ]
  },
  {
   "cell_type": "markdown",
   "metadata": {
    "colab_type": "text",
    "id": "4xqFYb2KqRHQ"
   },
   "source": [
    "With this initialization the initial loss should be approximately:\n",
    "\n",
    "$$-p_0log(p_0)-(1-p_0)log(1-p_0) = 0.01317$$"
   ]
  },
  {
   "cell_type": "code",
   "execution_count": 17,
   "metadata": {
    "ExecuteTime": {
     "end_time": "2020-05-11T22:47:42.336640Z",
     "start_time": "2020-05-11T22:47:36.965627Z"
    },
    "colab": {},
    "colab_type": "code",
    "id": "xVDqCWXDqHSc"
   },
   "outputs": [
    {
     "name": "stdout",
     "output_type": "stream",
     "text": [
      "Loss: 0.0234\n"
     ]
    }
   ],
   "source": [
    "results = model.evaluate(train_features, train_labels, batch_size=BATCH_SIZE, verbose=0)\n",
    "print(\"Loss: {:0.4f}\".format(results[0]))"
   ]
  },
  {
   "cell_type": "markdown",
   "metadata": {
    "colab_type": "text",
    "id": "FrDC8hvNr9yw"
   },
   "source": [
    "This initial loss is about 50 times less than if would have been with naive initilization.\n",
    "\n",
    "This way the model doesn't need to spend the first few epochs just learning that positive examples are unlikely. This also makes it easier to read plots of the loss during training."
   ]
  },
  {
   "cell_type": "markdown",
   "metadata": {
    "colab_type": "text",
    "id": "0EJj9ixKVBMT"
   },
   "source": [
    "### Checkpoint the initial weights\n",
    "\n",
    "To make the various training runs more comparable, keep this initial model's weights in a checkpoint file, and load them into each model before training."
   ]
  },
  {
   "cell_type": "code",
   "execution_count": 18,
   "metadata": {
    "ExecuteTime": {
     "end_time": "2020-05-11T22:47:42.487315Z",
     "start_time": "2020-05-11T22:47:42.340632Z"
    },
    "colab": {},
    "colab_type": "code",
    "id": "_tSUm4yAVIif"
   },
   "outputs": [],
   "source": [
    "initial_weights = os.path.join(tempfile.mkdtemp(),'initial_weights')\n",
    "model.save_weights(initial_weights)"
   ]
  },
  {
   "cell_type": "markdown",
   "metadata": {
    "colab_type": "text",
    "id": "EVXiLyqyZ8AX"
   },
   "source": [
    "### Confirm that the bias fix helps\n",
    "\n",
    "Before moving on, confirm quick that the careful bias initialization actually helped.\n",
    "\n",
    "Train the model for 20 epochs, with and without this careful initialization, and compare the losses: "
   ]
  },
  {
   "cell_type": "code",
   "execution_count": 19,
   "metadata": {
    "ExecuteTime": {
     "end_time": "2020-05-11T22:48:40.202895Z",
     "start_time": "2020-05-11T22:47:42.491308Z"
    },
    "colab": {},
    "colab_type": "code",
    "id": "Dm4-4K5RZ63Q"
   },
   "outputs": [],
   "source": [
    "model = make_model()\n",
    "model.load_weights(initial_weights)\n",
    "model.layers[-1].bias.assign([0.0])\n",
    "zero_bias_history = model.fit(\n",
    "    train_features,\n",
    "    train_labels,\n",
    "    batch_size=BATCH_SIZE,\n",
    "    epochs=20,\n",
    "    validation_data=(val_features, val_labels), \n",
    "    verbose=0)"
   ]
  },
  {
   "cell_type": "code",
   "execution_count": 20,
   "metadata": {
    "ExecuteTime": {
     "end_time": "2020-05-11T22:49:36.607594Z",
     "start_time": "2020-05-11T22:48:40.205390Z"
    },
    "colab": {},
    "colab_type": "code",
    "id": "j8DsLXHQaSql"
   },
   "outputs": [],
   "source": [
    "model = make_model()\n",
    "model.load_weights(initial_weights)\n",
    "careful_bias_history = model.fit(\n",
    "    train_features,\n",
    "    train_labels,\n",
    "    batch_size=BATCH_SIZE,\n",
    "    epochs=20,\n",
    "    validation_data=(val_features, val_labels), \n",
    "    verbose=0)"
   ]
  },
  {
   "cell_type": "code",
   "execution_count": 21,
   "metadata": {
    "ExecuteTime": {
     "end_time": "2020-05-11T22:49:36.622567Z",
     "start_time": "2020-05-11T22:49:36.610590Z"
    },
    "colab": {},
    "colab_type": "code",
    "id": "E3XsMBjhauFV"
   },
   "outputs": [],
   "source": [
    "def plot_loss(history, label, n):\n",
    "  # Use a log scale to show the wide range of values.\n",
    "  plt.semilogy(history.epoch,  history.history['loss'],\n",
    "               color=colors[n], label='Train '+label)\n",
    "  plt.semilogy(history.epoch,  history.history['val_loss'],\n",
    "          color=colors[n], label='Val '+label,\n",
    "          linestyle=\"--\")\n",
    "  plt.xlabel('Epoch')\n",
    "  plt.ylabel('Loss')\n",
    "  \n",
    "  plt.legend()"
   ]
  },
  {
   "cell_type": "code",
   "execution_count": 22,
   "metadata": {
    "ExecuteTime": {
     "end_time": "2020-05-11T22:49:39.032884Z",
     "start_time": "2020-05-11T22:49:36.626060Z"
    },
    "colab": {},
    "colab_type": "code",
    "id": "dxFaskm7beC7"
   },
   "outputs": [
    {
     "data": {
      "image/png": "[encoded data removed]",
      "text/plain": [
       "<Figure size 864x720 with 1 Axes>"
      ]
     },
     "metadata": {
      "needs_background": "light"
     },
     "output_type": "display_data"
    }
   ],
   "source": [
    "plot_loss(zero_bias_history, \"Zero Bias\", 0)\n",
    "plot_loss(careful_bias_history, \"Careful Bias\", 1)"
   ]
  },
  {
   "cell_type": "markdown",
   "metadata": {
    "colab_type": "text",
    "id": "fKMioV0ddG3R"
   },
   "source": [
    "The above figure makes it clear: In terms of validation loss, on this problem, this careful initialization gives a clear advantage. "
   ]
  },
  {
   "cell_type": "markdown",
   "metadata": {
    "colab_type": "text",
    "id": "RsA_7SEntRaV"
   },
   "source": [
    "### Train the model"
   ]
  },
  {
   "cell_type": "code",
   "execution_count": 23,
   "metadata": {
    "ExecuteTime": {
     "end_time": "2020-05-11T22:50:38.308177Z",
     "start_time": "2020-05-11T22:49:39.037375Z"
    },
    "colab": {},
    "colab_type": "code",
    "id": "yZKAc8NCDnoR"
   },
   "outputs": [
    {
     "name": "stdout",
     "output_type": "stream",
     "text": [
      "Train on 312863 samples, validate on 78216 samples\n",
      "Epoch 1/100\n",
      "312863/312863 [==============================] - 7s 22us/sample - loss: 0.0201 - tp: 2.0000 - fp: 8.0000 - tn: 311899.0000 - fn: 954.0000 - accuracy: 0.9969 - precision: 0.2000 - recall: 0.0021 - auc: 0.6425 - val_loss: 0.0166 - val_tp: 0.0000e+00 - val_fp: 0.0000e+00 - val_tn: 77977.0000 - val_fn: 239.0000 - val_accuracy: 0.9969 - val_precision: 0.0000e+00 - val_recall: 0.0000e+00 - val_auc: 0.8219\n",
      "Epoch 2/100\n",
      "312863/312863 [==============================] - 3s 9us/sample - loss: 0.0169 - tp: 16.0000 - fp: 36.0000 - tn: 311871.0000 - fn: 940.0000 - accuracy: 0.9969 - precision: 0.3077 - recall: 0.0167 - auc: 0.7896 - val_loss: 0.0154 - val_tp: 0.0000e+00 - val_fp: 0.0000e+00 - val_tn: 77977.0000 - val_fn: 239.0000 - val_accuracy: 0.9969 - val_precision: 0.0000e+00 - val_recall: 0.0000e+00 - val_auc: 0.8643\n",
      "Epoch 3/100\n",
      "312863/312863 [==============================] - 3s 9us/sample - loss: 0.0162 - tp: 20.0000 - fp: 35.0000 - tn: 311872.0000 - fn: 936.0000 - accuracy: 0.9969 - precision: 0.3636 - recall: 0.0209 - auc: 0.8095 - val_loss: 0.0149 - val_tp: 0.0000e+00 - val_fp: 0.0000e+00 - val_tn: 77977.0000 - val_fn: 239.0000 - val_accuracy: 0.9969 - val_precision: 0.0000e+00 - val_recall: 0.0000e+00 - val_auc: 0.8744\n",
      "Epoch 4/100\n",
      "312863/312863 [==============================] - 3s 9us/sample - loss: 0.0159 - tp: 23.0000 - fp: 42.0000 - tn: 311865.0000 - fn: 933.0000 - accuracy: 0.9969 - precision: 0.3538 - recall: 0.0241 - auc: 0.8196 - val_loss: 0.0146 - val_tp: 0.0000e+00 - val_fp: 0.0000e+00 - val_tn: 77977.0000 - val_fn: 239.0000 - val_accuracy: 0.9969 - val_precision: 0.0000e+00 - val_recall: 0.0000e+00 - val_auc: 0.8870\n",
      "Epoch 5/100\n",
      "312863/312863 [==============================] - 3s 9us/sample - loss: 0.0156 - tp: 16.0000 - fp: 30.0000 - tn: 311877.0000 - fn: 940.0000 - accuracy: 0.9969 - precision: 0.3478 - recall: 0.0167 - auc: 0.8274 - val_loss: 0.0142 - val_tp: 0.0000e+00 - val_fp: 0.0000e+00 - val_tn: 77977.0000 - val_fn: 239.0000 - val_accuracy: 0.9969 - val_precision: 0.0000e+00 - val_recall: 0.0000e+00 - val_auc: 0.9016\n",
      "Epoch 6/100\n",
      "312863/312863 [==============================] - 3s 8us/sample - loss: 0.0153 - tp: 24.0000 - fp: 44.0000 - tn: 311863.0000 - fn: 932.0000 - accuracy: 0.9969 - precision: 0.3529 - recall: 0.0251 - auc: 0.8434 - val_loss: 0.0141 - val_tp: 0.0000e+00 - val_fp: 0.0000e+00 - val_tn: 77977.0000 - val_fn: 239.0000 - val_accuracy: 0.9969 - val_precision: 0.0000e+00 - val_recall: 0.0000e+00 - val_auc: 0.9042\n",
      "Epoch 7/100\n",
      "312863/312863 [==============================] - 3s 8us/sample - loss: 0.0150 - tp: 27.0000 - fp: 43.0000 - tn: 311864.0000 - fn: 929.0000 - accuracy: 0.9969 - precision: 0.3857 - recall: 0.0282 - auc: 0.8524 - val_loss: 0.0139 - val_tp: 0.0000e+00 - val_fp: 0.0000e+00 - val_tn: 77977.0000 - val_fn: 239.0000 - val_accuracy: 0.9969 - val_precision: 0.0000e+00 - val_recall: 0.0000e+00 - val_auc: 0.9019\n",
      "Epoch 8/100\n",
      "312863/312863 [==============================] - 3s 8us/sample - loss: 0.0148 - tp: 34.0000 - fp: 64.0000 - tn: 311843.0000 - fn: 922.0000 - accuracy: 0.9968 - precision: 0.3469 - recall: 0.0356 - auc: 0.8549 - val_loss: 0.0138 - val_tp: 0.0000e+00 - val_fp: 0.0000e+00 - val_tn: 77977.0000 - val_fn: 239.0000 - val_accuracy: 0.9969 - val_precision: 0.0000e+00 - val_recall: 0.0000e+00 - val_auc: 0.9063\n",
      "Epoch 9/100\n",
      "312863/312863 [==============================] - 3s 9us/sample - loss: 0.0147 - tp: 44.0000 - fp: 62.0000 - tn: 311845.0000 - fn: 912.0000 - accuracy: 0.9969 - precision: 0.4151 - recall: 0.0460 - auc: 0.8569 - val_loss: 0.0140 - val_tp: 0.0000e+00 - val_fp: 0.0000e+00 - val_tn: 77977.0000 - val_fn: 239.0000 - val_accuracy: 0.9969 - val_precision: 0.0000e+00 - val_recall: 0.0000e+00 - val_auc: 0.9064\n",
      "Epoch 10/100\n",
      "312863/312863 [==============================] - 3s 8us/sample - loss: 0.0147 - tp: 31.0000 - fp: 54.0000 - tn: 311853.0000 - fn: 925.0000 - accuracy: 0.9969 - precision: 0.3647 - recall: 0.0324 - auc: 0.8623 - val_loss: 0.0138 - val_tp: 0.0000e+00 - val_fp: 0.0000e+00 - val_tn: 77977.0000 - val_fn: 239.0000 - val_accuracy: 0.9969 - val_precision: 0.0000e+00 - val_recall: 0.0000e+00 - val_auc: 0.9081\n",
      "Epoch 11/100\n",
      "312863/312863 [==============================] - 3s 8us/sample - loss: 0.0146 - tp: 30.0000 - fp: 61.0000 - tn: 311846.0000 - fn: 926.0000 - accuracy: 0.9968 - precision: 0.3297 - recall: 0.0314 - auc: 0.8608 - val_loss: 0.0139 - val_tp: 0.0000e+00 - val_fp: 0.0000e+00 - val_tn: 77977.0000 - val_fn: 239.0000 - val_accuracy: 0.9969 - val_precision: 0.0000e+00 - val_recall: 0.0000e+00 - val_auc: 0.9024\n",
      "Epoch 12/100\n",
      "312863/312863 [==============================] - 3s 8us/sample - loss: 0.0144 - tp: 44.0000 - fp: 63.0000 - tn: 311844.0000 - fn: 912.0000 - accuracy: 0.9969 - precision: 0.4112 - recall: 0.0460 - auc: 0.8662 - val_loss: 0.0137 - val_tp: 0.0000e+00 - val_fp: 0.0000e+00 - val_tn: 77977.0000 - val_fn: 239.0000 - val_accuracy: 0.9969 - val_precision: 0.0000e+00 - val_recall: 0.0000e+00 - val_auc: 0.9045\n",
      "Epoch 13/100\n",
      "312863/312863 [==============================] - 3s 8us/sample - loss: 0.0145 - tp: 35.0000 - fp: 50.0000 - tn: 311857.0000 - fn: 921.0000 - accuracy: 0.9969 - precision: 0.4118 - recall: 0.0366 - auc: 0.8707 - val_loss: 0.0137 - val_tp: 0.0000e+00 - val_fp: 0.0000e+00 - val_tn: 77977.0000 - val_fn: 239.0000 - val_accuracy: 0.9969 - val_precision: 0.0000e+00 - val_recall: 0.0000e+00 - val_auc: 0.9041\n",
      "Epoch 14/100\n",
      "312863/312863 [==============================] - 3s 8us/sample - loss: 0.0146 - tp: 29.0000 - fp: 59.0000 - tn: 311848.0000 - fn: 927.0000 - accuracy: 0.9968 - precision: 0.3295 - recall: 0.0303 - auc: 0.8956 - val_loss: 0.0137 - val_tp: 0.0000e+00 - val_fp: 0.0000e+00 - val_tn: 77977.0000 - val_fn: 239.0000 - val_accuracy: 0.9969 - val_precision: 0.0000e+00 - val_recall: 0.0000e+00 - val_auc: 0.9043\n",
      "Epoch 15/100\n",
      "312863/312863 [==============================] - 3s 8us/sample - loss: 0.0142 - tp: 34.0000 - fp: 58.0000 - tn: 311849.0000 - fn: 922.0000 - accuracy: 0.9969 - precision: 0.3696 - recall: 0.0356 - auc: 0.8992 - val_loss: 0.0137 - val_tp: 0.0000e+00 - val_fp: 0.0000e+00 - val_tn: 77977.0000 - val_fn: 239.0000 - val_accuracy: 0.9969 - val_precision: 0.0000e+00 - val_recall: 0.0000e+00 - val_auc: 0.9042\n",
      "Epoch 16/100\n",
      "312863/312863 [==============================] - 3s 8us/sample - loss: 0.0142 - tp: 37.0000 - fp: 52.0000 - tn: 311855.0000 - fn: 919.0000 - accuracy: 0.9969 - precision: 0.4157 - recall: 0.0387 - auc: 0.9013 - val_loss: 0.0138 - val_tp: 0.0000e+00 - val_fp: 0.0000e+00 - val_tn: 77977.0000 - val_fn: 239.0000 - val_accuracy: 0.9969 - val_precision: 0.0000e+00 - val_recall: 0.0000e+00 - val_auc: 0.9063\n",
      "Epoch 17/100\n",
      "312863/312863 [==============================] - 3s 8us/sample - loss: 0.0141 - tp: 32.0000 - fp: 65.0000 - tn: 311842.0000 - fn: 924.0000 - accuracy: 0.9968 - precision: 0.3299 - recall: 0.0335 - auc: 0.8979 - val_loss: 0.0137 - val_tp: 0.0000e+00 - val_fp: 0.0000e+00 - val_tn: 77977.0000 - val_fn: 239.0000 - val_accuracy: 0.9969 - val_precision: 0.0000e+00 - val_recall: 0.0000e+00 - val_auc: 0.9063\n",
      "Epoch 18/100\n",
      "312863/312863 [==============================] - 3s 8us/sample - loss: 0.0143 - tp: 31.0000 - fp: 56.0000 - tn: 311851.0000 - fn: 925.0000 - accuracy: 0.9969 - precision: 0.3563 - recall: 0.0324 - auc: 0.9018 - val_loss: 0.0137 - val_tp: 0.0000e+00 - val_fp: 0.0000e+00 - val_tn: 77977.0000 - val_fn: 239.0000 - val_accuracy: 0.9969 - val_precision: 0.0000e+00 - val_recall: 0.0000e+00 - val_auc: 0.9081\n",
      "Epoch 19/100\n",
      "312863/312863 [==============================] - 3s 9us/sample - loss: 0.0142 - tp: 29.0000 - fp: 52.0000 - tn: 311855.0000 - fn: 927.0000 - accuracy: 0.9969 - precision: 0.3580 - recall: 0.0303 - auc: 0.9031 - val_loss: 0.0136 - val_tp: 0.0000e+00 - val_fp: 0.0000e+00 - val_tn: 77977.0000 - val_fn: 239.0000 - val_accuracy: 0.9969 - val_precision: 0.0000e+00 - val_recall: 0.0000e+00 - val_auc: 0.9079\n",
      "Epoch 20/100\n",
      "307200/312863 [============================>.] - ETA: 0s - loss: 0.0141 - tp: 31.0000 - fp: 54.0000 - tn: 306209.0000 - fn: 906.0000 - accuracy: 0.9969 - precision: 0.3647 - recall: 0.0331 - auc: 0.9089Restoring model weights from the end of the best epoch.\n",
      "312863/312863 [==============================] - 3s 9us/sample - loss: 0.0141 - tp: 31.0000 - fp: 56.0000 - tn: 311851.0000 - fn: 925.0000 - accuracy: 0.9969 - precision: 0.3563 - recall: 0.0324 - auc: 0.9085 - val_loss: 0.0137 - val_tp: 0.0000e+00 - val_fp: 0.0000e+00 - val_tn: 77977.0000 - val_fn: 239.0000 - val_accuracy: 0.9969 - val_precision: 0.0000e+00 - val_recall: 0.0000e+00 - val_auc: 0.9017\n"
     ]
    },
    {
     "name": "stdout",
     "output_type": "stream",
     "text": [
      "Epoch 00020: early stopping\n"
     ]
    }
   ],
   "source": [
    "model = make_model()\n",
    "model.load_weights(initial_weights)\n",
    "baseline_history = model.fit(\n",
    "    train_features,\n",
    "    train_labels,\n",
    "    batch_size=BATCH_SIZE,\n",
    "    epochs=EPOCHS,\n",
    "    callbacks = [early_stopping],\n",
    "    validation_data=(val_features, val_labels))"
   ]
  },
  {
   "cell_type": "markdown",
   "metadata": {
    "colab_type": "text",
    "id": "iSaDBYU9xtP6"
   },
   "source": [
    "### Check training history\n",
    "In this section, you will produce plots of your model's accuracy and loss on the training and validation set. These are useful to check for overfitting, which you can learn more about in this [tutorial](https://www.tensorflow.org/tutorials/keras/overfit_and_underfit).\n",
    "\n",
    "Additionally, you can produce these plots for any of the metrics you created above. False negatives are included as an example."
   ]
  },
  {
   "cell_type": "code",
   "execution_count": 24,
   "metadata": {
    "ExecuteTime": {
     "end_time": "2020-05-11T22:50:38.326553Z",
     "start_time": "2020-05-11T22:50:38.311581Z"
    },
    "colab": {},
    "colab_type": "code",
    "id": "WTSkhT1jyGu6"
   },
   "outputs": [],
   "source": [
    "def plot_metrics(history):\n",
    "  metrics =  ['loss', 'auc', 'precision', 'recall']\n",
    "  for n, metric in enumerate(metrics):\n",
    "    name = metric.replace(\"_\",\" \").capitalize()\n",
    "    plt.subplot(2,2,n+1)\n",
    "    plt.plot(history.epoch,  history.history[metric], color=colors[0], label='Train')\n",
    "    plt.plot(history.epoch, history.history['val_'+metric],\n",
    "             color=colors[0], linestyle=\"--\", label='Val')\n",
    "    plt.xlabel('Epoch')\n",
    "    plt.ylabel(name)\n",
    "    if metric == 'loss':\n",
    "      plt.ylim([0, plt.ylim()[1]])\n",
    "    elif metric == 'auc':\n",
    "      plt.ylim([0.8,1])\n",
    "    else:\n",
    "      plt.ylim([0,1])\n",
    "\n",
    "    plt.legend()\n"
   ]
  },
  {
   "cell_type": "code",
   "execution_count": 25,
   "metadata": {
    "ExecuteTime": {
     "end_time": "2020-05-11T22:50:39.204047Z",
     "start_time": "2020-05-11T22:50:38.330046Z"
    },
    "colab": {},
    "colab_type": "code",
    "id": "u6LReDsqlZlk"
   },
   "outputs": [
    {
     "data": {
      "image/png": "[encoded data removed]",
      "text/plain": [
       "<Figure size 864x720 with 4 Axes>"
      ]
     },
     "metadata": {
      "needs_background": "light"
     },
     "output_type": "display_data"
    }
   ],
   "source": [
    "plot_metrics(baseline_history)"
   ]
  },
  {
   "cell_type": "markdown",
   "metadata": {
    "colab_type": "text",
    "id": "UCa4iWo6WDKR"
   },
   "source": [
    "Note: That the validation curve generally performs better than the training curve. This is mainly caused by the fact that the dropout layer is not active when evaluating the model."
   ]
  },
  {
   "cell_type": "markdown",
   "metadata": {
    "colab_type": "text",
    "id": "aJC1booryouo"
   },
   "source": [
    "### Evaluate metrics\n",
    "\n",
    "You can use a [confusion matrix](https://developers.google.com/machine-learning/glossary/#confusion_matrix) to summarize the actual vs. predicted labels where the X axis is the predicted label and the Y axis is the actual label."
   ]
  },
  {
   "cell_type": "code",
   "execution_count": 26,
   "metadata": {
    "ExecuteTime": {
     "end_time": "2020-05-11T22:50:40.410866Z",
     "start_time": "2020-05-11T22:50:39.207354Z"
    },
    "colab": {},
    "colab_type": "code",
    "id": "aNS796IJKrev"
   },
   "outputs": [],
   "source": [
    "train_predictions_baseline = model.predict(train_features, batch_size=BATCH_SIZE)\n",
    "test_predictions_baseline = model.predict(test_features, batch_size=BATCH_SIZE)"
   ]
  },
  {
   "cell_type": "code",
   "execution_count": 27,
   "metadata": {
    "ExecuteTime": {
     "end_time": "2020-05-11T22:50:40.429331Z",
     "start_time": "2020-05-11T22:50:40.417853Z"
    },
    "colab": {},
    "colab_type": "code",
    "id": "MVWBGfADwbWI"
   },
   "outputs": [],
   "source": [
    "def plot_cm(labels, predictions, p=0.5):\n",
    "  cm = confusion_matrix(labels, predictions > p)\n",
    "  plt.figure(figsize=(5,5))\n",
    "  sns.heatmap(cm, annot=True, fmt=\"d\")\n",
    "  plt.title('Confusion matrix @{:.2f}'.format(p))\n",
    "  plt.ylabel('Actual label')\n",
    "  plt.xlabel('Predicted label')\n",
    "\n",
    "  print('Legitimate Transactions Detected (True Negatives): ', cm[0][0])\n",
    "  print('Legitimate Transactions Incorrectly Detected (False Positives): ', cm[0][1])\n",
    "  print('Fraudulent Transactions Missed (False Negatives): ', cm[1][0])\n",
    "  print('Fraudulent Transactions Detected (True Positives): ', cm[1][1])\n",
    "  print('Total Fraudulent Transactions: ', np.sum(cm[1]))"
   ]
  },
  {
   "cell_type": "markdown",
   "metadata": {
    "colab_type": "text",
    "id": "nOTjD5Z5Wp1U"
   },
   "source": [
    "Evaluate your model on the test dataset and display the results for the metrics you created above."
   ]
  },
  {
   "cell_type": "code",
   "execution_count": 28,
   "metadata": {
    "ExecuteTime": {
     "end_time": "2020-05-11T22:50:45.140871Z",
     "start_time": "2020-05-11T22:50:40.433822Z"
    },
    "colab": {},
    "colab_type": "code",
    "id": "poh_hZngt2_9"
   },
   "outputs": [
    {
     "name": "stdout",
     "output_type": "stream",
     "text": [
      "loss :  0.013940526736208457\n",
      "tp :  0.0\n",
      "fp :  0.0\n",
      "tn :  97471.0\n",
      "fn :  299.0\n",
      "accuracy :  0.9969418\n",
      "precision :  0.0\n",
      "recall :  0.0\n",
      "auc :  0.89212334\n",
      "\n",
      "Legitimate Transactions Detected (True Negatives):  97471\n",
      "Legitimate Transactions Incorrectly Detected (False Positives):  0\n",
      "Fraudulent Transactions Missed (False Negatives):  299\n",
      "Fraudulent Transactions Detected (True Positives):  0\n",
      "Total Fraudulent Transactions:  299\n"
     ]
    },
    {
     "data": {
      "image/png": "[encoded data removed]",
      "text/plain": [
       "<Figure size 360x360 with 2 Axes>"
      ]
     },
     "metadata": {
      "needs_background": "light"
     },
     "output_type": "display_data"
    }
   ],
   "source": [
    "baseline_results = model.evaluate(test_features, test_labels,\n",
    "                                  batch_size=BATCH_SIZE, verbose=0)\n",
    "for name, value in zip(model.metrics_names, baseline_results):\n",
    "  print(name, ': ', value)\n",
    "print()\n",
    "\n",
    "plot_cm(test_labels, test_predictions_baseline)"
   ]
  },
  {
   "cell_type": "markdown",
   "metadata": {
    "colab_type": "text",
    "id": "PyZtSr1v6L4t"
   },
   "source": [
    "If the model had predicted everything perfectly, this would be a [diagonal matrix](https://en.wikipedia.org/wiki/Diagonal_matrix) where values off the main diagonal, indicating incorrect predictions, would be zero. In this case the matrix shows that you have relatively few false positives, meaning that there were relatively few legitimate transactions that were incorrectly flagged. However, you would likely want to have even fewer false negatives despite the cost of increasing the number of false positives. This trade off may be preferable because false negatives would allow fraudulent transactions to go through, whereas false positives may cause an email to be sent to a customer to ask them to verify their card activity."
   ]
  },
  {
   "cell_type": "markdown",
   "metadata": {
    "colab_type": "text",
    "id": "P-QpQsip_F2Q"
   },
   "source": [
    "### Plot the ROC\n",
    "\n",
    "Now plot the [ROC](https://developers.google.com/machine-learning/glossary#ROC). This plot is useful because it shows, at a glance, the range of performance the model can reach just by tuning the output threshold."
   ]
  },
  {
   "cell_type": "code",
   "execution_count": 29,
   "metadata": {
    "ExecuteTime": {
     "end_time": "2020-05-11T22:50:45.161330Z",
     "start_time": "2020-05-11T22:50:45.144862Z"
    },
    "colab": {},
    "colab_type": "code",
    "id": "lhaxsLSvANF9"
   },
   "outputs": [],
   "source": [
    "def plot_roc(name, labels, predictions, **kwargs):\n",
    "  fp, tp, _ = sklearn.metrics.roc_curve(labels, predictions)\n",
    "\n",
    "  plt.plot(100*fp, 100*tp, label=name, linewidth=2, **kwargs)\n",
    "  plt.xlabel('False positives [%]')\n",
    "  plt.ylabel('True positives [%]')\n",
    "  plt.xlim([-0.5,20])\n",
    "  plt.ylim([80,100.5])\n",
    "  plt.grid(True)\n",
    "  ax = plt.gca()\n",
    "  ax.set_aspect('equal')"
   ]
  },
  {
   "cell_type": "code",
   "execution_count": 30,
   "metadata": {
    "ExecuteTime": {
     "end_time": "2020-05-11T22:50:45.647427Z",
     "start_time": "2020-05-11T22:50:45.166324Z"
    },
    "colab": {},
    "colab_type": "code",
    "id": "DfHHspttKJE0"
   },
   "outputs": [
    {
     "data": {
      "text/plain": [
       "<matplotlib.legend.Legend at 0x1d6361f9348>"
      ]
     },
     "execution_count": 30,
     "metadata": {},
     "output_type": "execute_result"
    },
    {
     "data": {
      "image/png": "[encoded data removed]",
      "text/plain": [
       "<Figure size 864x720 with 1 Axes>"
      ]
     },
     "metadata": {
      "needs_background": "light"
     },
     "output_type": "display_data"
    }
   ],
   "source": [
    "plot_roc(\"Train Baseline\", train_labels, train_predictions_baseline, color=colors[0])\n",
    "plot_roc(\"Test Baseline\", test_labels, test_predictions_baseline, color=colors[0], linestyle='--')\n",
    "plt.legend(loc='lower right')"
   ]
  },
  {
   "cell_type": "markdown",
   "metadata": {
    "colab_type": "text",
    "id": "gpdsFyp64DhY"
   },
   "source": [
    "It looks like the precision is relatively high, but the recall and the area under the ROC curve (AUC) aren't as high as you might like. Classifiers often face challenges when trying to maximize both precision and recall, which is especially true when working with imbalanced datasets. It is important to consider the costs of different types of errors in the context of the problem you care about. In this example, a false negative (a fraudulent transaction is missed) may have a financial cost, while a false positive (a transaction is incorrectly flagged as fraudulent) may decrease user happiness."
   ]
  },
  {
   "cell_type": "markdown",
   "metadata": {
    "colab_type": "text",
    "id": "cveQoiMyGQCo"
   },
   "source": [
    "## Class weights"
   ]
  },
  {
   "cell_type": "markdown",
   "metadata": {
    "colab_type": "text",
    "id": "ePGp6GUE1WfH"
   },
   "source": [
    "### Calculate class weights\n",
    "\n",
    "The goal is to identify fradulent transactions, but you don't have very many of those positive samples to work with, so you would want to have the classifier heavily weight the few examples that are available. You can do this by passing Keras weights for each class through a parameter. These will cause the model to \"pay more attention\" to examples from an under-represented class."
   ]
  },
  {
   "cell_type": "code",
   "execution_count": 31,
   "metadata": {
    "ExecuteTime": {
     "end_time": "2020-05-11T22:50:45.658407Z",
     "start_time": "2020-05-11T22:50:45.650422Z"
    },
    "colab": {},
    "colab_type": "code",
    "id": "qjGWErngGny7"
   },
   "outputs": [
    {
     "name": "stdout",
     "output_type": "stream",
     "text": [
      "Weight for class 0: 0.50\n",
      "Weight for class 1: 163.60\n"
     ]
    }
   ],
   "source": [
    "# Scaling by total/2 helps keep the loss to a similar magnitude.\n",
    "# The sum of the weights of all examples stays the same.\n",
    "weight_for_0 = (1 / neg)*(total)/2.0 \n",
    "weight_for_1 = (1 / pos)*(total)/2.0\n",
    "\n",
    "class_weight = {0: weight_for_0, 1: weight_for_1}\n",
    "\n",
    "print('Weight for class 0: {:.2f}'.format(weight_for_0))\n",
    "print('Weight for class 1: {:.2f}'.format(weight_for_1))"
   ]
  },
  {
   "cell_type": "markdown",
   "metadata": {
    "colab_type": "text",
    "id": "Mk1OOE2ZSHzy"
   },
   "source": [
    "### Train a model with class weights\n",
    "\n",
    "Now try re-training and evaluating the model with class weights to see how that affects the predictions.\n",
    "\n",
    "Note: Using `class_weights` changes the range of the loss. This may affect the stability of the training depending on the optimizer. Optimizers whose step size is dependent on the magnitude of the gradient, like `optimizers.SGD`, may fail. The optimizer used here, `optimizers.Adam`, is unaffected by the scaling change. Also note that because of the weighting, the total losses are not comparable between the two models."
   ]
  },
  {
   "cell_type": "code",
   "execution_count": 32,
   "metadata": {
    "ExecuteTime": {
     "end_time": "2020-05-11T22:52:34.865474Z",
     "start_time": "2020-05-11T22:50:45.661902Z"
    },
    "colab": {},
    "colab_type": "code",
    "id": "UJ589fn8ST3x"
   },
   "outputs": [
    {
     "name": "stdout",
     "output_type": "stream",
     "text": [
      "WARNING:tensorflow:sample_weight modes were coerced from\n",
      "  ...\n",
      "    to  \n",
      "  ['...']\n",
      "WARNING:tensorflow:sample_weight modes were coerced from\n",
      "  ...\n",
      "    to  \n",
      "  ['...']\n",
      "Train on 312863 samples, validate on 78216 samples\n",
      "Epoch 1/100\n",
      "312863/312863 [==============================] - 7s 22us/sample - loss: 2.3557 - tp: 67.0000 - fp: 1013.0000 - tn: 310894.0000 - fn: 889.0000 - accuracy: 0.9939 - precision: 0.0620 - recall: 0.0701 - auc: 0.6507 - val_loss: 1.2097 - val_tp: 46.0000 - val_fp: 298.0000 - val_tn: 77679.0000 - val_fn: 193.0000 - val_accuracy: 0.9937 - val_precision: 0.1337 - val_recall: 0.1925 - val_auc: 0.8850\n",
      "Epoch 2/100\n",
      "312863/312863 [==============================] - 3s 8us/sample - loss: 1.0892 - tp: 395.0000 - fp: 13566.0000 - tn: 298341.0000 - fn: 561.0000 - accuracy: 0.9548 - precision: 0.0283 - recall: 0.4132 - auc: 0.8152 - val_loss: 0.4989 - val_tp: 162.0000 - val_fp: 4054.0000 - val_tn: 73923.0000 - val_fn: 77.0000 - val_accuracy: 0.9472 - val_precision: 0.0384 - val_recall: 0.6778 - val_auc: 0.9244\n",
      "Epoch 3/100\n",
      "312863/312863 [==============================] - 3s 9us/sample - loss: 0.7763 - tp: 580.0000 - fp: 27386.0000 - tn: 284521.0000 - fn: 376.0000 - accuracy: 0.9113 - precision: 0.0207 - recall: 0.6067 - auc: 0.8518 - val_loss: 0.4077 - val_tp: 190.0000 - val_fp: 6281.0000 - val_tn: 71696.0000 - val_fn: 49.0000 - val_accuracy: 0.9191 - val_precision: 0.0294 - val_recall: 0.7950 - val_auc: 0.9314\n",
      "Epoch 4/100\n",
      "312863/312863 [==============================] - 3s 9us/sample - loss: 0.7295 - tp: 654.0000 - fp: 32816.0000 - tn: 279091.0000 - fn: 302.0000 - accuracy: 0.8941 - precision: 0.0195 - recall: 0.6841 - auc: 0.8547 - val_loss: 0.3829 - val_tp: 198.0000 - val_fp: 6894.0000 - val_tn: 71083.0000 - val_fn: 41.0000 - val_accuracy: 0.9113 - val_precision: 0.0279 - val_recall: 0.8285 - val_auc: 0.9360\n",
      "Epoch 5/100\n",
      "312863/312863 [==============================] - 3s 9us/sample - loss: 0.6998 - tp: 658.0000 - fp: 33479.0000 - tn: 278428.0000 - fn: 298.0000 - accuracy: 0.8920 - precision: 0.0193 - recall: 0.6883 - auc: 0.8627 - val_loss: 0.3721 - val_tp: 199.0000 - val_fp: 7151.0000 - val_tn: 70826.0000 - val_fn: 40.0000 - val_accuracy: 0.9081 - val_precision: 0.0271 - val_recall: 0.8326 - val_auc: 0.9378\n",
      "Epoch 6/100\n",
      "312863/312863 [==============================] - 3s 10us/sample - loss: 0.6295 - tp: 676.0000 - fp: 33574.0000 - tn: 278333.0000 - fn: 280.0000 - accuracy: 0.8918 - precision: 0.0197 - recall: 0.7071 - auc: 0.8796 - val_loss: 0.3634 - val_tp: 201.0000 - val_fp: 7117.0000 - val_tn: 70860.0000 - val_fn: 38.0000 - val_accuracy: 0.9085 - val_precision: 0.0275 - val_recall: 0.8410 - val_auc: 0.9392\n",
      "Epoch 7/100\n",
      "312863/312863 [==============================] - 3s 10us/sample - loss: 0.6299 - tp: 680.0000 - fp: 34147.0000 - tn: 277760.0000 - fn: 276.0000 - accuracy: 0.8900 - precision: 0.0195 - recall: 0.7113 - auc: 0.8766 - val_loss: 0.3543 - val_tp: 202.0000 - val_fp: 7188.0000 - val_tn: 70789.0000 - val_fn: 37.0000 - val_accuracy: 0.9076 - val_precision: 0.0273 - val_recall: 0.8452 - val_auc: 0.9407\n",
      "Epoch 8/100\n",
      "312863/312863 [==============================] - 3s 11us/sample - loss: 0.6367 - tp: 683.0000 - fp: 33808.0000 - tn: 278099.0000 - fn: 273.0000 - accuracy: 0.8911 - precision: 0.0198 - recall: 0.7144 - auc: 0.8780 - val_loss: 0.3491 - val_tp: 201.0000 - val_fp: 7141.0000 - val_tn: 70836.0000 - val_fn: 38.0000 - val_accuracy: 0.9082 - val_precision: 0.0274 - val_recall: 0.8410 - val_auc: 0.9414\n",
      "Epoch 9/100\n",
      "312863/312863 [==============================] - 4s 12us/sample - loss: 0.5963 - tp: 682.0000 - fp: 33227.0000 - tn: 278680.0000 - fn: 274.0000 - accuracy: 0.8929 - precision: 0.0201 - recall: 0.7134 - auc: 0.8884 - val_loss: 0.3442 - val_tp: 203.0000 - val_fp: 7337.0000 - val_tn: 70640.0000 - val_fn: 36.0000 - val_accuracy: 0.9057 - val_precision: 0.0269 - val_recall: 0.8494 - val_auc: 0.9420\n",
      "Epoch 10/100\n",
      "312863/312863 [==============================] - 3s 11us/sample - loss: 0.5853 - tp: 696.0000 - fp: 33841.0000 - tn: 278066.0000 - fn: 260.0000 - accuracy: 0.8910 - precision: 0.0202 - recall: 0.7280 - auc: 0.8879 - val_loss: 0.3411 - val_tp: 203.0000 - val_fp: 7317.0000 - val_tn: 70660.0000 - val_fn: 36.0000 - val_accuracy: 0.9060 - val_precision: 0.0270 - val_recall: 0.8494 - val_auc: 0.9426: 147401.0000 - fn: 145.0000 - accuracy: 0.8908 - pr\n",
      "Epoch 11/100\n",
      "312863/312863 [==============================] - 3s 10us/sample - loss: 0.5738 - tp: 713.0000 - fp: 33896.0000 - tn: 278011.0000 - fn: 243.0000 - accuracy: 0.8909 - precision: 0.0206 - recall: 0.7458 - auc: 0.8878 - val_loss: 0.3375 - val_tp: 202.0000 - val_fp: 7358.0000 - val_tn: 70619.0000 - val_fn: 37.0000 - val_accuracy: 0.9055 - val_precision: 0.0267 - val_recall: 0.8452 - val_auc: 0.9423\n",
      "Epoch 12/100\n",
      "312863/312863 [==============================] - 3s 10us/sample - loss: 0.5245 - tp: 727.0000 - fp: 33613.0000 - tn: 278294.0000 - fn: 229.0000 - accuracy: 0.8918 - precision: 0.0212 - recall: 0.7605 - auc: 0.9007 - val_loss: 0.3362 - val_tp: 204.0000 - val_fp: 7368.0000 - val_tn: 70609.0000 - val_fn: 35.0000 - val_accuracy: 0.9054 - val_precision: 0.0269 - val_recall: 0.8536 - val_auc: 0.9421\n",
      "Epoch 13/100\n",
      "312863/312863 [==============================] - 3s 10us/sample - loss: 0.5349 - tp: 716.0000 - fp: 33698.0000 - tn: 278209.0000 - fn: 240.0000 - accuracy: 0.8915 - precision: 0.0208 - recall: 0.7490 - auc: 0.8968 - val_loss: 0.3339 - val_tp: 204.0000 - val_fp: 7550.0000 - val_tn: 70427.0000 - val_fn: 35.0000 - val_accuracy: 0.9030 - val_precision: 0.0263 - val_recall: 0.8536 - val_auc: 0.9423\n",
      "Epoch 14/100\n",
      "312863/312863 [==============================] - 3s 10us/sample - loss: 0.5168 - tp: 717.0000 - fp: 33653.0000 - tn: 278254.0000 - fn: 239.0000 - accuracy: 0.8917 - precision: 0.0209 - recall: 0.7500 - auc: 0.8982 - val_loss: 0.3318 - val_tp: 205.0000 - val_fp: 7325.0000 - val_tn: 70652.0000 - val_fn: 34.0000 - val_accuracy: 0.9059 - val_precision: 0.0272 - val_recall: 0.8577 - val_auc: 0.9419\n",
      "Epoch 15/100\n",
      "312863/312863 [==============================] - 3s 10us/sample - loss: 0.4978 - tp: 714.0000 - fp: 33588.0000 - tn: 278319.0000 - fn: 242.0000 - accuracy: 0.8919 - precision: 0.0208 - recall: 0.7469 - auc: 0.9046 - val_loss: 0.3333 - val_tp: 205.0000 - val_fp: 7643.0000 - val_tn: 70334.0000 - val_fn: 34.0000 - val_accuracy: 0.9018 - val_precision: 0.0261 - val_recall: 0.8577 - val_auc: 0.9408\n",
      "Epoch 16/100\n",
      "312863/312863 [==============================] - 3s 10us/sample - loss: 0.4796 - tp: 731.0000 - fp: 34961.0000 - tn: 276946.0000 - fn: 225.0000 - accuracy: 0.8875 - precision: 0.0205 - recall: 0.7646 - auc: 0.9100 - val_loss: 0.3313 - val_tp: 203.0000 - val_fp: 7178.0000 - val_tn: 70799.0000 - val_fn: 36.0000 - val_accuracy: 0.9078 - val_precision: 0.0275 - val_recall: 0.8494 - val_auc: 0.9416\n",
      "Epoch 17/100\n",
      "312863/312863 [==============================] - 3s 10us/sample - loss: 0.4588 - tp: 726.0000 - fp: 33373.0000 - tn: 278534.0000 - fn: 230.0000 - accuracy: 0.8926 - precision: 0.0213 - recall: 0.7594 - auc: 0.9145 - val_loss: 0.3272 - val_tp: 204.0000 - val_fp: 7279.0000 - val_tn: 70698.0000 - val_fn: 35.0000 - val_accuracy: 0.9065 - val_precision: 0.0273 - val_recall: 0.8536 - val_auc: 0.9420\n",
      "Epoch 18/100\n",
      "312863/312863 [==============================] - 3s 10us/sample - loss: 0.4608 - tp: 715.0000 - fp: 33342.0000 - tn: 278565.0000 - fn: 241.0000 - accuracy: 0.8927 - precision: 0.0210 - recall: 0.7479 - auc: 0.9145 - val_loss: 0.3245 - val_tp: 205.0000 - val_fp: 7541.0000 - val_tn: 70436.0000 - val_fn: 34.0000 - val_accuracy: 0.9032 - val_precision: 0.0265 - val_recall: 0.8577 - val_auc: 0.94273.0000 - fp: 25400.0000 - tn: 213471.0000 - fn: 182.0000 - accuracy: 0.8932 - precision: 0.0217 - recall\n",
      "Epoch 19/100\n",
      "312863/312863 [==============================] - 3s 10us/sample - loss: 0.4591 - tp: 726.0000 - fp: 33705.0000 - tn: 278202.0000 - fn: 230.0000 - accuracy: 0.8915 - precision: 0.0211 - recall: 0.7594 - auc: 0.9146 - val_loss: 0.3242 - val_tp: 204.0000 - val_fp: 7610.0000 - val_tn: 70367.0000 - val_fn: 35.0000 - val_accuracy: 0.9023 - val_precision: 0.0261 - val_recall: 0.8536 - val_auc: 0.9432\n",
      "Epoch 20/100\n",
      "312863/312863 [==============================] - 3s 9us/sample - loss: 0.4470 - tp: 739.0000 - fp: 33029.0000 - tn: 278878.0000 - fn: 217.0000 - accuracy: 0.8937 - precision: 0.0219 - recall: 0.7730 - auc: 0.9160 - val_loss: 0.3232 - val_tp: 206.0000 - val_fp: 7353.0000 - val_tn: 70624.0000 - val_fn: 33.0000 - val_accuracy: 0.9056 - val_precision: 0.0273 - val_recall: 0.8619 - val_auc: 0.9435\n",
      "Epoch 21/100\n",
      "312863/312863 [==============================] - 3s 9us/sample - loss: 0.4411 - tp: 732.0000 - fp: 32626.0000 - tn: 279281.0000 - fn: 224.0000 - accuracy: 0.8950 - precision: 0.0219 - recall: 0.7657 - auc: 0.9190 - val_loss: 0.3206 - val_tp: 205.0000 - val_fp: 7583.0000 - val_tn: 70394.0000 - val_fn: 34.0000 - val_accuracy: 0.9026 - val_precision: 0.0263 - val_recall: 0.8577 - val_auc: 0.9440\n",
      "Epoch 22/100\n",
      "312863/312863 [==============================] - 3s 9us/sample - loss: 0.4084 - tp: 753.0000 - fp: 33033.0000 - tn: 278874.0000 - fn: 203.0000 - accuracy: 0.8938 - precision: 0.0223 - recall: 0.7877 - auc: 0.9272 - val_loss: 0.3158 - val_tp: 203.0000 - val_fp: 7125.0000 - val_tn: 70852.0000 - val_fn: 36.0000 - val_accuracy: 0.9084 - val_precision: 0.0277 - val_recall: 0.8494 - val_auc: 0.9444\n",
      "Epoch 23/100\n",
      "312863/312863 [==============================] - 3s 9us/sample - loss: 0.4071 - tp: 752.0000 - fp: 33049.0000 - tn: 278858.0000 - fn: 204.0000 - accuracy: 0.8937 - precision: 0.0222 - recall: 0.7866 - auc: 0.9262 - val_loss: 0.3170 - val_tp: 204.0000 - val_fp: 7142.0000 - val_tn: 70835.0000 - val_fn: 35.0000 - val_accuracy: 0.9082 - val_precision: 0.0278 - val_recall: 0.8536 - val_auc: 0.9447\n",
      "Epoch 24/100\n",
      "312863/312863 [==============================] - 3s 9us/sample - loss: 0.4150 - tp: 744.0000 - fp: 32160.0000 - tn: 279747.0000 - fn: 212.0000 - accuracy: 0.8965 - precision: 0.0226 - recall: 0.7782 - auc: 0.9254 - val_loss: 0.3161 - val_tp: 206.0000 - val_fp: 7406.0000 - val_tn: 70571.0000 - val_fn: 33.0000 - val_accuracy: 0.9049 - val_precision: 0.0271 - val_recall: 0.8619 - val_auc: 0.9449\n",
      "Epoch 25/100\n",
      "312863/312863 [==============================] - 3s 9us/sample - loss: 0.4103 - tp: 745.0000 - fp: 32660.0000 - tn: 279247.0000 - fn: 211.0000 - accuracy: 0.8949 - precision: 0.0223 - recall: 0.7793 - auc: 0.9256 - val_loss: 0.3164 - val_tp: 206.0000 - val_fp: 7322.0000 - val_tn: 70655.0000 - val_fn: 33.0000 - val_accuracy: 0.9060 - val_precision: 0.0274 - val_recall: 0.8619 - val_auc: 0.9450\n",
      "Epoch 26/100\n",
      "312863/312863 [==============================] - 3s 9us/sample - loss: 0.3925 - tp: 759.0000 - fp: 31439.0000 - tn: 280468.0000 - fn: 197.0000 - accuracy: 0.8989 - precision: 0.0236 - recall: 0.7939 - auc: 0.9316 - val_loss: 0.3178 - val_tp: 206.0000 - val_fp: 7318.0000 - val_tn: 70659.0000 - val_fn: 33.0000 - val_accuracy: 0.9060 - val_precision: 0.0274 - val_recall: 0.8619 - val_auc: 0.9448\n",
      "Epoch 27/100\n",
      "312863/312863 [==============================] - 3s 10us/sample - loss: 0.4030 - tp: 756.0000 - fp: 31755.0000 - tn: 280152.0000 - fn: 200.0000 - accuracy: 0.8979 - precision: 0.0233 - recall: 0.7908 - auc: 0.9277 - val_loss: 0.3174 - val_tp: 207.0000 - val_fp: 7247.0000 - val_tn: 70730.0000 - val_fn: 32.0000 - val_accuracy: 0.9069 - val_precision: 0.0278 - val_recall: 0.8661 - val_auc: 0.9442\n",
      "Epoch 28/100\n",
      "312863/312863 [==============================] - 3s 10us/sample - loss: 0.3818 - tp: 749.0000 - fp: 30936.0000 - tn: 280971.0000 - fn: 207.0000 - accuracy: 0.9005 - precision: 0.0236 - recall: 0.7835 - auc: 0.9336 - val_loss: 0.3179 - val_tp: 207.0000 - val_fp: 7417.0000 - val_tn: 70560.0000 - val_fn: 32.0000 - val_accuracy: 0.9048 - val_precision: 0.0272 - val_recall: 0.8661 - val_auc: 0.9440\n",
      "Epoch 29/100\n",
      "312863/312863 [==============================] - 3s 9us/sample - loss: 0.3786 - tp: 759.0000 - fp: 31291.0000 - tn: 280616.0000 - fn: 197.0000 - accuracy: 0.8994 - precision: 0.0237 - recall: 0.7939 - auc: 0.9332 - val_loss: 0.3183 - val_tp: 207.0000 - val_fp: 7074.0000 - val_tn: 70903.0000 - val_fn: 32.0000 - val_accuracy: 0.9091 - val_precision: 0.0284 - val_recall: 0.8661 - val_auc: 0.9436\n",
      "Epoch 30/100\n",
      "312863/312863 [==============================] - 3s 9us/sample - loss: 0.3851 - tp: 748.0000 - fp: 30498.0000 - tn: 281409.0000 - fn: 208.0000 - accuracy: 0.9019 - precision: 0.0239 - recall: 0.7824 - auc: 0.9319 - val_loss: 0.3168 - val_tp: 207.0000 - val_fp: 7244.0000 - val_tn: 70733.0000 - val_fn: 32.0000 - val_accuracy: 0.9070 - val_precision: 0.0278 - val_recall: 0.8661 - val_auc: 0.9436\n",
      "Epoch 31/100\n",
      "312863/312863 [==============================] - 3s 9us/sample - loss: 0.3849 - tp: 749.0000 - fp: 31566.0000 - tn: 280341.0000 - fn: 207.0000 - accuracy: 0.8984 - precision: 0.0232 - recall: 0.7835 - auc: 0.9313 - val_loss: 0.3207 - val_tp: 205.0000 - val_fp: 6840.0000 - val_tn: 71137.0000 - val_fn: 34.0000 - val_accuracy: 0.9121 - val_precision: 0.0291 - val_recall: 0.8577 - val_auc: 0.942615.0000 - fp: 22459.0000 - tn: 196009.0000 - fn: 153.0000 - accuracy: 0.8968 - precision: 0.0224 - reca\n",
      "Epoch 32/100\n",
      "312863/312863 [==============================] - 3s 10us/sample - loss: 0.3747 - tp: 753.0000 - fp: 30016.0000 - tn: 281891.0000 - fn: 203.0000 - accuracy: 0.9034 - precision: 0.0245 - recall: 0.7877 - auc: 0.9346 - val_loss: 0.3205 - val_tp: 206.0000 - val_fp: 6981.0000 - val_tn: 70996.0000 - val_fn: 33.0000 - val_accuracy: 0.9103 - val_precision: 0.0287 - val_recall: 0.8619 - val_auc: 0.9425\n",
      "Epoch 33/100\n",
      "312863/312863 [==============================] - 3s 9us/sample - loss: 0.3726 - tp: 762.0000 - fp: 30930.0000 - tn: 280977.0000 - fn: 194.0000 - accuracy: 0.9005 - precision: 0.0240 - recall: 0.7971 - auc: 0.9346 - val_loss: 0.3214 - val_tp: 205.0000 - val_fp: 7140.0000 - val_tn: 70837.0000 - val_fn: 34.0000 - val_accuracy: 0.9083 - val_precision: 0.0279 - val_recall: 0.8577 - val_auc: 0.9424\n",
      "Epoch 34/100\n",
      "312863/312863 [==============================] - 3s 9us/sample - loss: 0.3681 - tp: 757.0000 - fp: 31083.0000 - tn: 280824.0000 - fn: 199.0000 - accuracy: 0.9000 - precision: 0.0238 - recall: 0.7918 - auc: 0.9368 - val_loss: 0.3219 - val_tp: 203.0000 - val_fp: 6947.0000 - val_tn: 71030.0000 - val_fn: 36.0000 - val_accuracy: 0.9107 - val_precision: 0.0284 - val_recall: 0.8494 - val_auc: 0.9420\n",
      "Epoch 35/100\n",
      "307200/312863 [============================>.] - ETA: 0s - loss: 0.3599 - tp: 753.0000 - fp: 29885.0000 - tn: 276376.0000 - fn: 186.0000 - accuracy: 0.9021 - precision: 0.0246 - recall: 0.8019 - auc: 0.9383Restoring model weights from the end of the best epoch.\n",
      "312863/312863 [==============================] - 3s 9us/sample - loss: 0.3581 - tp: 768.0000 - fp: 30449.0000 - tn: 281458.0000 - fn: 188.0000 - accuracy: 0.9021 - precision: 0.0246 - recall: 0.8033 - auc: 0.9387 - val_loss: 0.3193 - val_tp: 204.0000 - val_fp: 7231.0000 - val_tn: 70746.0000 - val_fn: 35.0000 - val_accuracy: 0.9071 - val_precision: 0.0274 - val_recall: 0.8536 - val_auc: 0.9431\n",
      "Epoch 00035: early stopping\n"
     ]
    }
   ],
   "source": [
    "weighted_model = make_model()\n",
    "weighted_model.load_weights(initial_weights)\n",
    "\n",
    "weighted_history = weighted_model.fit(\n",
    "    train_features,\n",
    "    train_labels,\n",
    "    batch_size=BATCH_SIZE,\n",
    "    epochs=EPOCHS,\n",
    "    callbacks = [early_stopping],\n",
    "    validation_data=(val_features, val_labels),\n",
    "    # The class weights go here\n",
    "    class_weight=class_weight) "
   ]
  },
  {
   "cell_type": "markdown",
   "metadata": {
    "colab_type": "text",
    "id": "R0ynYRO0G3Lx"
   },
   "source": [
    "### Check training history"
   ]
  },
  {
   "cell_type": "code",
   "execution_count": 33,
   "metadata": {
    "ExecuteTime": {
     "end_time": "2020-05-11T22:52:35.992925Z",
     "start_time": "2020-05-11T22:52:34.868765Z"
    },
    "colab": {},
    "colab_type": "code",
    "id": "BBe9FMO5ucTC"
   },
   "outputs": [
    {
     "data": {
      "image/png": "[encoded data removed]",
      "text/plain": [
       "<Figure size 864x720 with 4 Axes>"
      ]
     },
     "metadata": {
      "needs_background": "light"
     },
     "output_type": "display_data"
    }
   ],
   "source": [
    "plot_metrics(weighted_history)"
   ]
  },
  {
   "cell_type": "markdown",
   "metadata": {
    "colab_type": "text",
    "id": "REy6WClTZIwQ"
   },
   "source": [
    "### Evaluate metrics"
   ]
  },
  {
   "cell_type": "code",
   "execution_count": 34,
   "metadata": {
    "ExecuteTime": {
     "end_time": "2020-05-11T22:52:37.286454Z",
     "start_time": "2020-05-11T22:52:35.997668Z"
    },
    "colab": {},
    "colab_type": "code",
    "id": "nifqscPGw-5w"
   },
   "outputs": [],
   "source": [
    "train_predictions_weighted = weighted_model.predict(train_features, batch_size=BATCH_SIZE)\n",
    "test_predictions_weighted = weighted_model.predict(test_features, batch_size=BATCH_SIZE)"
   ]
  },
  {
   "cell_type": "code",
   "execution_count": 35,
   "metadata": {
    "ExecuteTime": {
     "end_time": "2020-05-11T22:52:39.822542Z",
     "start_time": "2020-05-11T22:52:37.289448Z"
    },
    "colab": {},
    "colab_type": "code",
    "id": "owKL2vdMBJr6"
   },
   "outputs": [
    {
     "name": "stdout",
     "output_type": "stream",
     "text": [
      "loss :  0.2946148797170119\n",
      "tp :  263.0\n",
      "fp :  9384.0\n",
      "tn :  88087.0\n",
      "fn :  36.0\n",
      "accuracy :  0.9036514\n",
      "precision :  0.027262362\n",
      "recall :  0.8795987\n",
      "auc :  0.95506305\n",
      "\n",
      "Legitimate Transactions Detected (True Negatives):  88087\n",
      "Legitimate Transactions Incorrectly Detected (False Positives):  9384\n",
      "Fraudulent Transactions Missed (False Negatives):  36\n",
      "Fraudulent Transactions Detected (True Positives):  263\n",
      "Total Fraudulent Transactions:  299\n"
     ]
    },
    {
     "data": {
      "image/png": "[encoded data removed]",
      "text/plain": [
       "<Figure size 360x360 with 2 Axes>"
      ]
     },
     "metadata": {
      "needs_background": "light"
     },
     "output_type": "display_data"
    }
   ],
   "source": [
    "weighted_results = weighted_model.evaluate(test_features, test_labels,\n",
    "                                           batch_size=BATCH_SIZE, verbose=0)\n",
    "for name, value in zip(weighted_model.metrics_names, weighted_results):\n",
    "  print(name, ': ', value)\n",
    "print()\n",
    "\n",
    "plot_cm(test_labels, test_predictions_weighted)"
   ]
  },
  {
   "cell_type": "markdown",
   "metadata": {
    "colab_type": "text",
    "id": "PTh1rtDn8r4-"
   },
   "source": [
    "Here you can see that with class weights the accuracy and precision are lower because there are more false positives, but conversely the recall and AUC are higher because the model also found more true positives. Despite having lower accuracy, this model has higher recall (and identifies more fraudulent transactions). Of course, there is a cost to both types of error (you wouldn't want to bug users by flagging too many legitimate transactions as fraudulent, either). Carefully consider the trade offs between these different types of errors for your application."
   ]
  },
  {
   "cell_type": "markdown",
   "metadata": {
    "colab_type": "text",
    "id": "hXDAwyr0HYdX"
   },
   "source": [
    "### Plot the ROC"
   ]
  },
  {
   "cell_type": "code",
   "execution_count": 36,
   "metadata": {
    "ExecuteTime": {
     "end_time": "2020-05-11T22:52:40.482901Z",
     "start_time": "2020-05-11T22:52:39.826037Z"
    },
    "colab": {},
    "colab_type": "code",
    "id": "3hzScIVZS1Xm"
   },
   "outputs": [
    {
     "data": {
      "text/plain": [
       "<matplotlib.legend.Legend at 0x1d63aee9548>"
      ]
     },
     "execution_count": 36,
     "metadata": {},
     "output_type": "execute_result"
    },
    {
     "data": {
      "image/png": "[encoded data removed]",
      "text/plain": [
       "<Figure size 864x720 with 1 Axes>"
      ]
     },
     "metadata": {
      "needs_background": "light"
     },
     "output_type": "display_data"
    }
   ],
   "source": [
    "plot_roc(\"Train Baseline\", train_labels, train_predictions_baseline, color=colors[0])\n",
    "plot_roc(\"Test Baseline\", test_labels, test_predictions_baseline, color=colors[0], linestyle='--')\n",
    "\n",
    "plot_roc(\"Train Weighted\", train_labels, train_predictions_weighted, color=colors[1])\n",
    "plot_roc(\"Test Weighted\", test_labels, test_predictions_weighted, color=colors[1], linestyle='--')\n",
    "\n",
    "\n",
    "plt.legend(loc='lower right')"
   ]
  },
  {
   "cell_type": "markdown",
   "metadata": {
    "colab_type": "text",
    "id": "5ysRtr6xHnXP"
   },
   "source": [
    "## Oversampling"
   ]
  },
  {
   "cell_type": "markdown",
   "metadata": {
    "colab_type": "text",
    "id": "18VUHNc-UF5w"
   },
   "source": [
    "### Oversample the minority class\n",
    "\n",
    "A related approach would be to resample the dataset by oversampling the minority class."
   ]
  },
  {
   "cell_type": "code",
   "execution_count": 37,
   "metadata": {
    "ExecuteTime": {
     "end_time": "2020-05-11T22:52:40.839652Z",
     "start_time": "2020-05-11T22:52:40.488304Z"
    },
    "colab": {},
    "colab_type": "code",
    "id": "sHirNp6u7OWp"
   },
   "outputs": [],
   "source": [
    "pos_features = train_features[bool_train_labels]\n",
    "neg_features = train_features[~bool_train_labels]\n",
    "\n",
    "pos_labels = train_labels[bool_train_labels]\n",
    "neg_labels = train_labels[~bool_train_labels]"
   ]
  },
  {
   "cell_type": "markdown",
   "metadata": {
    "colab_type": "text",
    "id": "WgBVbX7P7QrL"
   },
   "source": [
    "#### Using NumPy\n",
    "\n",
    "You can balance the dataset manually by choosing the right number of random \n",
    "indices from the positive examples:"
   ]
  },
  {
   "cell_type": "code",
   "execution_count": 38,
   "metadata": {
    "ExecuteTime": {
     "end_time": "2020-05-11T22:52:41.229426Z",
     "start_time": "2020-05-11T22:52:40.843144Z"
    },
    "colab": {},
    "colab_type": "code",
    "id": "BUzGjSkwqT88"
   },
   "outputs": [
    {
     "data": {
      "text/plain": [
       "(311907, 133)"
      ]
     },
     "execution_count": 38,
     "metadata": {},
     "output_type": "execute_result"
    }
   ],
   "source": [
    "ids = np.arange(len(pos_features))\n",
    "choices = np.random.choice(ids, len(neg_features))\n",
    "\n",
    "res_pos_features = pos_features[choices]\n",
    "res_pos_labels = pos_labels[choices]\n",
    "\n",
    "res_pos_features.shape"
   ]
  },
  {
   "cell_type": "code",
   "execution_count": 39,
   "metadata": {
    "ExecuteTime": {
     "end_time": "2020-05-11T22:52:44.485373Z",
     "start_time": "2020-05-11T22:52:41.233918Z"
    },
    "colab": {},
    "colab_type": "code",
    "id": "7ie_FFet6cep"
   },
   "outputs": [
    {
     "data": {
      "text/plain": [
       "(623814, 133)"
      ]
     },
     "execution_count": 39,
     "metadata": {},
     "output_type": "execute_result"
    }
   ],
   "source": [
    "resampled_features = np.concatenate([res_pos_features, neg_features], axis=0)\n",
    "resampled_labels = np.concatenate([res_pos_labels, neg_labels], axis=0)\n",
    "\n",
    "order = np.arange(len(resampled_labels))\n",
    "np.random.shuffle(order)\n",
    "resampled_features = resampled_features[order]\n",
    "resampled_labels = resampled_labels[order]\n",
    "\n",
    "resampled_features.shape"
   ]
  },
  {
   "cell_type": "markdown",
   "metadata": {
    "colab_type": "text",
    "id": "IYfJe2Kc-FAz"
   },
   "source": [
    "#### Using `tf.data`"
   ]
  },
  {
   "cell_type": "markdown",
   "metadata": {
    "colab_type": "text",
    "id": "usyixaST8v5P"
   },
   "source": [
    "If you're using `tf.data` the easiest way to produce balanced examples is to start with a `positive` and a `negative` dataset, and merge them. See [the tf.data guide](../../guide/data.ipynb) for more examples."
   ]
  },
  {
   "cell_type": "code",
   "execution_count": 40,
   "metadata": {
    "ExecuteTime": {
     "end_time": "2020-05-11T22:52:44.976460Z",
     "start_time": "2020-05-11T22:52:44.567220Z"
    },
    "colab": {},
    "colab_type": "code",
    "id": "yF4OZ-rI6xb6"
   },
   "outputs": [],
   "source": [
    "BUFFER_SIZE = 100000\n",
    "\n",
    "def make_ds(features, labels):\n",
    "  ds = tf.data.Dataset.from_tensor_slices((features, labels))#.cache()\n",
    "  ds = ds.shuffle(BUFFER_SIZE).repeat()\n",
    "  return ds\n",
    "\n",
    "pos_ds = make_ds(pos_features, pos_labels)\n",
    "neg_ds = make_ds(neg_features, neg_labels)"
   ]
  },
  {
   "cell_type": "markdown",
   "metadata": {
    "colab_type": "text",
    "id": "RNQUx-OA-oJc"
   },
   "source": [
    "Each dataset provides `(feature, label)` pairs:"
   ]
  },
  {
   "cell_type": "code",
   "execution_count": 41,
   "metadata": {
    "ExecuteTime": {
     "end_time": "2020-05-11T22:52:46.385596Z",
     "start_time": "2020-05-11T22:52:44.989936Z"
    },
    "colab": {},
    "colab_type": "code",
    "id": "llXc9rNH7Fbz"
   },
   "outputs": [
    {
     "name": "stdout",
     "output_type": "stream",
     "text": [
      "Features:\n",
      " [-3.24381510e-01  2.54344148e-01  1.34895708e+00 -1.41009097e+00\n",
      " -1.33483351e+00  5.89727148e-01 -7.30173829e-01 -1.34337308e-01\n",
      " -2.29532938e-01 -2.28610698e-01 -1.30728894e-01  1.38023796e+00\n",
      " -3.97913228e-01  8.77974729e-01 -4.13155298e-01 -3.83692800e-01\n",
      "  3.06689970e+00 -4.23336022e-01 -4.24956897e-01 -4.26135635e-01\n",
      "  5.00000000e+00 -4.94117125e-02 -3.57565550e-03 -5.28064778e-02\n",
      " -7.84560401e-02 -3.21475927e-02 -1.81473414e-02  1.06672184e-01\n",
      " -2.74170040e-02 -1.28931983e-02 -7.99561321e-03 -2.13091266e-02\n",
      " -5.65366196e-03 -9.59149288e-02 -1.78781918e-03 -3.09660355e-03\n",
      " -3.09660355e-03 -1.78781918e-03 -1.75196390e-02 -1.95186976e-01\n",
      "  2.21978745e+00 -7.39307633e-01 -1.37423847e-01 -8.51647242e-01\n",
      "  8.59542694e-01 -1.63878073e-02  5.00000000e+00 -4.76919871e-02\n",
      " -1.77913629e-02 -2.70483415e-01 -1.47443135e-02 -1.44729855e-01\n",
      " -1.91101052e+00  5.00000000e+00 -7.22347222e-02 -2.47803144e-02\n",
      " -4.68086600e-02  5.00000000e+00 -3.10839411e-02 -1.90921334e-02\n",
      " -3.97272772e-02 -6.25678493e-02 -8.32034227e-02 -2.03856226e-01\n",
      " -3.02494845e-01 -4.14357991e-01  1.08140450e+00 -2.25492366e-02\n",
      " -2.21194758e-02 -3.24944380e-02 -3.98481593e-02 -1.73361268e-02\n",
      " -7.84766590e-02 -3.38064561e-01 -1.71469522e-01 -1.31950265e-01\n",
      " -3.28384693e-01 -7.91745822e-02 -8.99670008e-02  3.36936480e-01\n",
      " -6.90120961e-02 -2.94550568e-01  5.15628571e-01 -3.89308352e-01\n",
      " -4.04868073e-02 -2.80104643e-01 -3.24944380e-02 -2.33851236e-02\n",
      " -2.00722307e-02 -4.30590471e-02 -2.64674199e-01 -7.46758528e-02\n",
      " -1.00607079e-01 -1.75736249e+00 -1.04661864e-01 -3.94844098e-02\n",
      " -6.10304139e-02 -1.98620106e-01 -2.75451835e-01 -1.40044664e-01\n",
      "  4.21765284e-01 -5.59979571e-02 -2.98221075e-02 -4.07630897e-02\n",
      " -9.79274279e-03 -1.53811966e-02 -6.01268537e-02 -4.98324588e-02\n",
      " -3.34000011e-01 -2.48468607e-01 -3.69252607e-02 -3.05120550e-02\n",
      " -6.02605675e-02 -4.15424115e-02 -4.42351995e-02 -8.46724639e-01\n",
      " -1.05423903e-01 -4.13897219e-01 -5.30493908e-02 -1.17602827e-01\n",
      " -2.37920802e-02 -5.04059050e-01 -6.20768365e-02  2.81530398e+00\n",
      " -5.02177420e-02 -1.39640761e-01 -1.47443135e-02 -3.30321538e-02\n",
      " -1.23873051e-02 -5.28064778e-02 -7.84560401e-02 -1.23873051e-02\n",
      " -5.65366196e-03]\n",
      "\n",
      "Label:  1\n"
     ]
    }
   ],
   "source": [
    "for features, label in pos_ds.take(1):\n",
    "  print(\"Features:\\n\", features.numpy())\n",
    "  print()\n",
    "  print(\"Label: \", label.numpy())"
   ]
  },
  {
   "cell_type": "markdown",
   "metadata": {
    "colab_type": "text",
    "id": "sLEfjZO0-vbN"
   },
   "source": [
    "Merge the two together using `experimental.sample_from_datasets`:"
   ]
  },
  {
   "cell_type": "code",
   "execution_count": 42,
   "metadata": {
    "ExecuteTime": {
     "end_time": "2020-05-11T22:52:46.602226Z",
     "start_time": "2020-05-11T22:52:46.389137Z"
    },
    "colab": {},
    "colab_type": "code",
    "id": "e7w9UQPT9wzE"
   },
   "outputs": [],
   "source": [
    "resampled_ds = tf.data.experimental.sample_from_datasets([pos_ds, neg_ds], weights=[0.5, 0.5])\n",
    "resampled_ds = resampled_ds.batch(BATCH_SIZE).prefetch(2)"
   ]
  },
  {
   "cell_type": "code",
   "execution_count": 43,
   "metadata": {
    "ExecuteTime": {
     "end_time": "2020-05-11T22:52:47.591547Z",
     "start_time": "2020-05-11T22:52:46.605221Z"
    },
    "colab": {},
    "colab_type": "code",
    "id": "EWXARdTdAuQK"
   },
   "outputs": [
    {
     "name": "stdout",
     "output_type": "stream",
     "text": [
      "0.501953125\n"
     ]
    }
   ],
   "source": [
    "for features, label in resampled_ds.take(1):\n",
    "  print(label.numpy().mean())"
   ]
  },
  {
   "cell_type": "markdown",
   "metadata": {
    "colab_type": "text",
    "id": "irgqf3YxAyN0"
   },
   "source": [
    "To use this dataset, you'll need the number of steps per epoch.\n",
    "\n",
    "The definition of \"epoch\" in this case is less clear. Say it's the number of batches required to see each negative example once:"
   ]
  },
  {
   "cell_type": "code",
   "execution_count": 44,
   "metadata": {
    "ExecuteTime": {
     "end_time": "2020-05-11T22:52:47.604724Z",
     "start_time": "2020-05-11T22:52:47.595241Z"
    },
    "colab": {},
    "colab_type": "code",
    "id": "xH-7K46AAxpq"
   },
   "outputs": [
    {
     "data": {
      "text/plain": [
       "476.0"
      ]
     },
     "execution_count": 44,
     "metadata": {},
     "output_type": "execute_result"
    }
   ],
   "source": [
    "resampled_steps_per_epoch = np.ceil(2.0*neg/BATCH_SIZE)\n",
    "resampled_steps_per_epoch"
   ]
  },
  {
   "cell_type": "markdown",
   "metadata": {
    "colab_type": "text",
    "id": "XZ1BvEpcBVHP"
   },
   "source": [
    "### Train on the oversampled data\n",
    "\n",
    "Now try training the model with the resampled data set instead of using class weights to see how these methods compare.\n",
    "\n",
    "Note: Because the data was balanced by replicating the positive examples, the total dataset size is larger, and each epoch runs for more training steps. "
   ]
  },
  {
   "cell_type": "code",
   "execution_count": 45,
   "metadata": {
    "ExecuteTime": {
     "end_time": "2020-05-11T22:58:15.510839Z",
     "start_time": "2020-05-11T22:52:47.608716Z"
    },
    "colab": {},
    "colab_type": "code",
    "id": "soRQ89JYqd6b"
   },
   "outputs": [
    {
     "name": "stdout",
     "output_type": "stream",
     "text": [
      "Train for 476.0 steps, validate for 39 steps\n",
      "Epoch 1/100\n",
      "476/476 [==============================] - 36s 75ms/step - loss: 0.4105 - tp: 380835.0000 - fp: 77635.0000 - tn: 409703.0000 - fn: 106675.0000 - accuracy: 0.8109 - precision: 0.8307 - recall: 0.7812 - auc: 0.8965 - val_loss: 0.2632 - val_tp: 210.0000 - val_fp: 8211.0000 - val_tn: 69766.0000 - val_fn: 29.0000 - val_accuracy: 0.8947 - val_precision: 0.0249 - val_recall: 0.8787 - val_auc: 0.947797256.0000 - accuracy: 0.7989 - precis - ETA: 3s - loss: 0.4206 - tp: 342986.0000 - fp: 72416.0000 - tn: 371920.0000 - f\n",
      "Epoch 2/100\n",
      "476/476 [==============================] - 28s 58ms/step - loss: 0.2810 - tp: 442044.0000 - fp: 59664.0000 - tn: 427777.0000 - fn: 45363.0000 - accuracy: 0.8923 - precision: 0.8811 - recall: 0.9069 - auc: 0.9529 - val_loss: 0.2278 - val_tp: 206.0000 - val_fp: 7816.0000 - val_tn: 70161.0000 - val_fn: 33.0000 - val_accuracy: 0.8996 - val_precision: 0.0257 - val_recall: 0.8619 - val_auc: 0.9464\n",
      "Epoch 3/100\n",
      "476/476 [==============================] - 28s 59ms/step - loss: 0.2523 - tp: 456422.0000 - fp: 61460.0000 - tn: 425479.0000 - fn: 31487.0000 - accuracy: 0.9047 - precision: 0.8813 - recall: 0.9355 - auc: 0.9608 - val_loss: 0.2087 - val_tp: 205.0000 - val_fp: 7440.0000 - val_tn: 70537.0000 - val_fn: 34.0000 - val_accuracy: 0.9044 - val_precision: 0.0268 - val_recall: 0.8577 - val_auc: 0.9432\n",
      "Epoch 4/100\n",
      "476/476 [==============================] - 29s 61ms/step - loss: 0.2334 - tp: 463469.0000 - fp: 62936.0000 - tn: 425695.0000 - fn: 22748.0000 - accuracy: 0.9121 - precision: 0.8804 - recall: 0.9532 - auc: 0.9653 - val_loss: 0.1966 - val_tp: 201.0000 - val_fp: 7093.0000 - val_tn: 70884.0000 - val_fn: 38.0000 - val_accuracy: 0.9088 - val_precision: 0.0276 - val_recall: 0.8410 - val_auc: 0.9397\n",
      "Epoch 5/100\n",
      "476/476 [==============================] - 29s 62ms/step - loss: 0.2208 - tp: 469266.0000 - fp: 63640.0000 - tn: 424652.0000 - fn: 17290.0000 - accuracy: 0.9170 - precision: 0.8806 - recall: 0.9645 - auc: 0.9678 - val_loss: 0.1880 - val_tp: 198.0000 - val_fp: 7019.0000 - val_tn: 70958.0000 - val_fn: 41.0000 - val_accuracy: 0.9097 - val_precision: 0.0274 - val_recall: 0.8285 - val_auc: 0.9335\n",
      "Epoch 6/100\n",
      "476/476 [==============================] - 31s 65ms/step - loss: 0.2109 - tp: 473343.0000 - fp: 64155.0000 - tn: 423145.0000 - fn: 14205.0000 - accuracy: 0.9196 - precision: 0.8806 - recall: 0.9709 - auc: 0.9695 - val_loss: 0.1781 - val_tp: 194.0000 - val_fp: 6687.0000 - val_tn: 71290.0000 - val_fn: 45.0000 - val_accuracy: 0.9139 - val_precision: 0.0282 - val_recall: 0.8117 - val_auc: 0.9275\n",
      "Epoch 7/100\n",
      "476/476 [==============================] - 28s 59ms/step - loss: 0.2037 - tp: 474269.0000 - fp: 64266.0000 - tn: 423923.0000 - fn: 12390.0000 - accuracy: 0.9214 - precision: 0.8807 - recall: 0.9745 - auc: 0.9706 - val_loss: 0.1741 - val_tp: 192.0000 - val_fp: 6526.0000 - val_tn: 71451.0000 - val_fn: 47.0000 - val_accuracy: 0.9160 - val_precision: 0.0286 - val_recall: 0.8033 - val_auc: 0.9235\n",
      "Epoch 8/100\n",
      "476/476 [==============================] - 31s 65ms/step - loss: 0.1971 - tp: 476907.0000 - fp: 63864.0000 - tn: 424085.0000 - fn: 9992.0000 - accuracy: 0.9242 - precision: 0.8819 - recall: 0.9795 - auc: 0.9715 - val_loss: 0.1674 - val_tp: 189.0000 - val_fp: 6315.0000 - val_tn: 71662.0000 - val_fn: 50.0000 - val_accuracy: 0.9186 - val_precision: 0.0291 - val_recall: 0.7908 - val_auc: 0.9172\n",
      "Epoch 9/100\n",
      "476/476 [==============================] - 29s 60ms/step - loss: 0.1907 - tp: 479493.0000 - fp: 63351.0000 - tn: 424205.0000 - fn: 7799.0000 - accuracy: 0.9270 - precision: 0.8833 - recall: 0.9840 - auc: 0.9724 - val_loss: 0.1626 - val_tp: 182.0000 - val_fp: 6088.0000 - val_tn: 71889.0000 - val_fn: 57.0000 - val_accuracy: 0.9214 - val_precision: 0.0290 - val_recall: 0.7615 - val_auc: 0.9138\n",
      "Epoch 10/100\n",
      "476/476 [==============================] - 29s 60ms/step - loss: 0.1858 - tp: 481673.0000 - fp: 62781.0000 - tn: 424598.0000 - fn: 5796.0000 - accuracy: 0.9297 - precision: 0.8847 - recall: 0.9881 - auc: 0.9729 - val_loss: 0.1539 - val_tp: 177.0000 - val_fp: 5826.0000 - val_tn: 72151.0000 - val_fn: 62.0000 - val_accuracy: 0.9247 - val_precision: 0.0295 - val_recall: 0.7406 - val_auc: 0.9114\n",
      "Epoch 11/100\n",
      "475/476 [============================>.] - ETA: 0s - loss: 0.1805 - tp: 481804.0000 - fp: 61855.0000 - tn: 425302.0000 - fn: 3839.0000 - accuracy: 0.9325 - precision: 0.8862 - recall: 0.9921 - auc: 0.9736Restoring model weights from the end of the best epoch.\n",
      "476/476 [==============================] - 29s 60ms/step - loss: 0.1805 - tp: 482837.0000 - fp: 61969.0000 - tn: 426199.0000 - fn: 3843.0000 - accuracy: 0.9325 - precision: 0.8863 - recall: 0.9921 - auc: 0.9736 - val_loss: 0.1515 - val_tp: 173.0000 - val_fp: 5591.0000 - val_tn: 72386.0000 - val_fn: 66.0000 - val_accuracy: 0.9277 - val_precision: 0.0300 - val_recall: 0.7238 - val_auc: 0.9062\n",
      "Epoch 00011: early stopping\n"
     ]
    }
   ],
   "source": [
    "resampled_model = make_model()\n",
    "resampled_model.load_weights(initial_weights)\n",
    "\n",
    "# Reset the bias to zero, since this dataset is balanced.\n",
    "output_layer = resampled_model.layers[-1] \n",
    "output_layer.bias.assign([0])\n",
    "\n",
    "val_ds = tf.data.Dataset.from_tensor_slices((val_features, val_labels)).cache()\n",
    "val_ds = val_ds.batch(BATCH_SIZE).prefetch(2) \n",
    "\n",
    "resampled_history = resampled_model.fit(\n",
    "    resampled_ds,\n",
    "    epochs=EPOCHS,\n",
    "    steps_per_epoch=resampled_steps_per_epoch,\n",
    "    callbacks = [early_stopping],\n",
    "    validation_data=val_ds)"
   ]
  },
  {
   "cell_type": "markdown",
   "metadata": {
    "colab_type": "text",
    "id": "avALvzUp3T_c"
   },
   "source": [
    "If the training process were considering the whole dataset on each gradient update, this oversampling would be basically identical to the class weighting.\n",
    "\n",
    "But when training the model batch-wise, as you did here, the oversampled data provides a smoother gradient signal: Instead of each positive example being shown in one batch with a large weight, they're shown in many different batches each time with a small weight. \n",
    "\n",
    "This smoother gradient signal makes it easier to train the model."
   ]
  },
  {
   "cell_type": "markdown",
   "metadata": {
    "colab_type": "text",
    "id": "klHZ0HV76VC5"
   },
   "source": [
    "### Check training history\n",
    "\n",
    "Note that the distributions of metrics will be different here, because the training data has a totally different distribution from the validation and test data. "
   ]
  },
  {
   "cell_type": "code",
   "execution_count": 46,
   "metadata": {
    "ExecuteTime": {
     "end_time": "2020-05-11T22:58:16.667538Z",
     "start_time": "2020-05-11T22:58:15.611745Z"
    },
    "colab": {},
    "colab_type": "code",
    "id": "YoUGfr1vuivl"
   },
   "outputs": [
    {
     "data": {
      "image/png": "[encoded data removed]",
      "text/plain": [
       "<Figure size 864x720 with 4 Axes>"
      ]
     },
     "metadata": {
      "needs_background": "light"
     },
     "output_type": "display_data"
    }
   ],
   "source": [
    "plot_metrics(resampled_history )"
   ]
  },
  {
   "cell_type": "markdown",
   "metadata": {
    "colab_type": "text",
    "id": "1PuH3A2vnwrh"
   },
   "source": [
    "### Re-train\n"
   ]
  },
  {
   "cell_type": "markdown",
   "metadata": {
    "colab_type": "text",
    "id": "KFLxRL8eoDE5"
   },
   "source": [
    "Because training is easier on the balanced data, the above training procedure may overfit quickly. \n",
    "\n",
    "So break up the epochs to give the `callbacks.EarlyStopping` finer control over when to stop training."
   ]
  },
  {
   "cell_type": "code",
   "execution_count": 47,
   "metadata": {
    "ExecuteTime": {
     "end_time": "2020-05-11T22:59:39.810254Z",
     "start_time": "2020-05-11T22:58:16.671034Z"
    },
    "colab": {},
    "colab_type": "code",
    "id": "e_yn9I26qAHU"
   },
   "outputs": [
    {
     "name": "stdout",
     "output_type": "stream",
     "text": [
      "Train for 20 steps, validate for 39 steps\n",
      "Epoch 1/1000\n",
      "20/20 [==============================] - 7s 355ms/step - loss: 0.9092 - tp: 6740.0000 - fp: 5356.0000 - tn: 15063.0000 - fn: 13801.0000 - accuracy: 0.5323 - precision: 0.5572 - recall: 0.3281 - auc: 0.5052 - val_loss: 0.5148 - val_tp: 116.0000 - val_fp: 15936.0000 - val_tn: 62041.0000 - val_fn: 123.0000 - val_accuracy: 0.7947 - val_precision: 0.0072 - val_recall: 0.4854 - val_auc: 0.6786\n",
      "Epoch 2/1000\n",
      "20/20 [==============================] - 2s 80ms/step - loss: 0.6628 - tp: 11845.0000 - fp: 5939.0000 - tn: 14533.0000 - fn: 8643.0000 - accuracy: 0.6440 - precision: 0.6660 - recall: 0.5781 - auc: 0.6841 - val_loss: 0.5350 - val_tp: 183.0000 - val_fp: 17806.0000 - val_tn: 60171.0000 - val_fn: 56.0000 - val_accuracy: 0.7716 - val_precision: 0.0102 - val_recall: 0.7657 - val_auc: 0.8378\n",
      "Epoch 3/1000\n",
      "20/20 [==============================] - 2s 84ms/step - loss: 0.5646 - tp: 14376.0000 - fp: 5841.0000 - tn: 14728.0000 - fn: 6015.0000 - accuracy: 0.7105 - precision: 0.7111 - recall: 0.7050 - auc: 0.7807 - val_loss: 0.5104 - val_tp: 197.0000 - val_fp: 15885.0000 - val_tn: 62092.0000 - val_fn: 42.0000 - val_accuracy: 0.7964 - val_precision: 0.0122 - val_recall: 0.8243 - val_auc: 0.8875\n",
      "Epoch 4/1000\n",
      "20/20 [==============================] - 2s 83ms/step - loss: 0.5085 - tp: 15290.0000 - fp: 4943.0000 - tn: 15583.0000 - fn: 5144.0000 - accuracy: 0.7537 - precision: 0.7557 - recall: 0.7483 - auc: 0.8312 - val_loss: 0.4731 - val_tp: 203.0000 - val_fp: 13534.0000 - val_tn: 64443.0000 - val_fn: 36.0000 - val_accuracy: 0.8265 - val_precision: 0.0148 - val_recall: 0.8494 - val_auc: 0.9073\n",
      "Epoch 5/1000\n",
      "20/20 [==============================] - 2s 80ms/step - loss: 0.4757 - tp: 15772.0000 - fp: 4429.0000 - tn: 16146.0000 - fn: 4613.0000 - accuracy: 0.7792 - precision: 0.7808 - recall: 0.7737 - auc: 0.8579 - val_loss: 0.4431 - val_tp: 204.0000 - val_fp: 12149.0000 - val_tn: 65828.0000 - val_fn: 35.0000 - val_accuracy: 0.8442 - val_precision: 0.0165 - val_recall: 0.8536 - val_auc: 0.9182\n",
      "Epoch 6/1000\n",
      "20/20 [==============================] - 2s 82ms/step - loss: 0.4466 - tp: 16190.0000 - fp: 3871.0000 - tn: 16594.0000 - fn: 4305.0000 - accuracy: 0.8004 - precision: 0.8070 - recall: 0.7899 - auc: 0.8782 - val_loss: 0.4183 - val_tp: 203.0000 - val_fp: 11161.0000 - val_tn: 66816.0000 - val_fn: 36.0000 - val_accuracy: 0.8568 - val_precision: 0.0179 - val_recall: 0.8494 - val_auc: 0.9253\n",
      "Epoch 7/1000\n",
      "20/20 [==============================] - 2s 83ms/step - loss: 0.4251 - tp: 16513.0000 - fp: 3602.0000 - tn: 16810.0000 - fn: 4035.0000 - accuracy: 0.8135 - precision: 0.8209 - recall: 0.8036 - auc: 0.8917 - val_loss: 0.3959 - val_tp: 204.0000 - val_fp: 10359.0000 - val_tn: 67618.0000 - val_fn: 35.0000 - val_accuracy: 0.8671 - val_precision: 0.0193 - val_recall: 0.8536 - val_auc: 0.9299\n",
      "Epoch 8/1000\n",
      "20/20 [==============================] - 2s 93ms/step - loss: 0.4102 - tp: 16154.0000 - fp: 3184.0000 - tn: 17318.0000 - fn: 4304.0000 - accuracy: 0.8172 - precision: 0.8354 - recall: 0.7896 - auc: 0.9001 - val_loss: 0.3750 - val_tp: 203.0000 - val_fp: 9752.0000 - val_tn: 68225.0000 - val_fn: 36.0000 - val_accuracy: 0.8749 - val_precision: 0.0204 - val_recall: 0.8494 - val_auc: 0.9331\n",
      "Epoch 9/1000\n",
      "20/20 [==============================] - 2s 86ms/step - loss: 0.3945 - tp: 16207.0000 - fp: 2961.0000 - tn: 17456.0000 - fn: 4336.0000 - accuracy: 0.8219 - precision: 0.8455 - recall: 0.7889 - auc: 0.9083 - val_loss: 0.3585 - val_tp: 204.0000 - val_fp: 9400.0000 - val_tn: 68577.0000 - val_fn: 35.0000 - val_accuracy: 0.8794 - val_precision: 0.0212 - val_recall: 0.8536 - val_auc: 0.9357\n",
      "Epoch 10/1000\n",
      "20/20 [==============================] - 2s 87ms/step - loss: 0.3835 - tp: 16305.0000 - fp: 2854.0000 - tn: 17540.0000 - fn: 4261.0000 - accuracy: 0.8263 - precision: 0.8510 - recall: 0.7928 - auc: 0.9135 - val_loss: 0.3491 - val_tp: 207.0000 - val_fp: 9299.0000 - val_tn: 68678.0000 - val_fn: 32.0000 - val_accuracy: 0.8807 - val_precision: 0.0218 - val_recall: 0.8661 - val_auc: 0.9377\n",
      "Epoch 11/1000\n",
      "20/20 [==============================] - 2s 90ms/step - loss: 0.3706 - tp: 16466.0000 - fp: 2660.0000 - tn: 17752.0000 - fn: 4082.0000 - accuracy: 0.8354 - precision: 0.8609 - recall: 0.8013 - auc: 0.9198 - val_loss: 0.3385 - val_tp: 210.0000 - val_fp: 9164.0000 - val_tn: 68813.0000 - val_fn: 29.0000 - val_accuracy: 0.8825 - val_precision: 0.0224 - val_recall: 0.8787 - val_auc: 0.9397\n",
      "Epoch 12/1000\n",
      "20/20 [==============================] - 2s 88ms/step - loss: 0.3630 - tp: 16585.0000 - fp: 2676.0000 - tn: 17822.0000 - fn: 3877.0000 - accuracy: 0.8400 - precision: 0.8611 - recall: 0.8105 - auc: 0.9233 - val_loss: 0.3269 - val_tp: 209.0000 - val_fp: 8983.0000 - val_tn: 68994.0000 - val_fn: 30.0000 - val_accuracy: 0.8848 - val_precision: 0.0227 - val_recall: 0.8745 - val_auc: 0.9411\n",
      "Epoch 13/1000\n",
      "20/20 [==============================] - 2s 85ms/step - loss: 0.3518 - tp: 16552.0000 - fp: 2579.0000 - tn: 17990.0000 - fn: 3839.0000 - accuracy: 0.8433 - precision: 0.8652 - recall: 0.8117 - auc: 0.9280 - val_loss: 0.3145 - val_tp: 210.0000 - val_fp: 8693.0000 - val_tn: 69284.0000 - val_fn: 29.0000 - val_accuracy: 0.8885 - val_precision: 0.0236 - val_recall: 0.8787 - val_auc: 0.9423\n",
      "Epoch 14/1000\n",
      "20/20 [==============================] - 2s 92ms/step - loss: 0.3492 - tp: 16698.0000 - fp: 2545.0000 - tn: 17853.0000 - fn: 3864.0000 - accuracy: 0.8435 - precision: 0.8677 - recall: 0.8121 - auc: 0.9290 - val_loss: 0.3084 - val_tp: 210.0000 - val_fp: 8674.0000 - val_tn: 69303.0000 - val_fn: 29.0000 - val_accuracy: 0.8887 - val_precision: 0.0236 - val_recall: 0.8787 - val_auc: 0.9433\n",
      "Epoch 15/1000\n",
      "20/20 [==============================] - 2s 85ms/step - loss: 0.3377 - tp: 16710.0000 - fp: 2415.0000 - tn: 18013.0000 - fn: 3822.0000 - accuracy: 0.8477 - precision: 0.8737 - recall: 0.8139 - auc: 0.9341 - val_loss: 0.3025 - val_tp: 208.0000 - val_fp: 8677.0000 - val_tn: 69300.0000 - val_fn: 31.0000 - val_accuracy: 0.8887 - val_precision: 0.0234 - val_recall: 0.8703 - val_auc: 0.9441\n",
      "Epoch 16/1000\n",
      "20/20 [==============================] - 2s 123ms/step - loss: 0.3344 - tp: 16915.0000 - fp: 2510.0000 - tn: 17867.0000 - fn: 3668.0000 - accuracy: 0.8492 - precision: 0.8708 - recall: 0.8218 - auc: 0.9347 - val_loss: 0.2976 - val_tp: 208.0000 - val_fp: 8647.0000 - val_tn: 69330.0000 - val_fn: 31.0000 - val_accuracy: 0.8891 - val_precision: 0.0235 - val_recall: 0.8703 - val_auc: 0.9446\n",
      "Epoch 17/1000\n",
      "20/20 [==============================] - 2s 102ms/step - loss: 0.3302 - tp: 16791.0000 - fp: 2422.0000 - tn: 18112.0000 - fn: 3635.0000 - accuracy: 0.8521 - precision: 0.8739 - recall: 0.8220 - auc: 0.9365 - val_loss: 0.2914 - val_tp: 207.0000 - val_fp: 8573.0000 - val_tn: 69404.0000 - val_fn: 32.0000 - val_accuracy: 0.8900 - val_precision: 0.0236 - val_recall: 0.8661 - val_auc: 0.9453\n",
      "Epoch 18/1000\n",
      "20/20 [==============================] - 2s 100ms/step - loss: 0.3261 - tp: 17034.0000 - fp: 2452.0000 - tn: 17903.0000 - fn: 3571.0000 - accuracy: 0.8530 - precision: 0.8742 - recall: 0.8267 - auc: 0.9377 - val_loss: 0.2838 - val_tp: 206.0000 - val_fp: 8410.0000 - val_tn: 69567.0000 - val_fn: 33.0000 - val_accuracy: 0.8921 - val_precision: 0.0239 - val_recall: 0.8619 - val_auc: 0.9456\n",
      "Epoch 19/1000\n",
      "20/20 [==============================] - 2s 120ms/step - loss: 0.3213 - tp: 16783.0000 - fp: 2410.0000 - tn: 18253.0000 - fn: 3514.0000 - accuracy: 0.8554 - precision: 0.8744 - recall: 0.8269 - auc: 0.9398 - val_loss: 0.2785 - val_tp: 207.0000 - val_fp: 8308.0000 - val_tn: 69669.0000 - val_fn: 32.0000 - val_accuracy: 0.8934 - val_precision: 0.0243 - val_recall: 0.8661 - val_auc: 0.9461\n",
      "Epoch 20/1000\n",
      "20/20 [==============================] - 2s 102ms/step - loss: 0.3187 - tp: 17000.0000 - fp: 2406.0000 - tn: 18016.0000 - fn: 3538.0000 - accuracy: 0.8549 - precision: 0.8760 - recall: 0.8277 - auc: 0.9405 - val_loss: 0.2738 - val_tp: 207.0000 - val_fp: 8269.0000 - val_tn: 69708.0000 - val_fn: 32.0000 - val_accuracy: 0.8939 - val_precision: 0.0244 - val_recall: 0.8661 - val_auc: 0.9465\n",
      "Epoch 21/1000\n",
      "20/20 [==============================] - 2s 106ms/step - loss: 0.3150 - tp: 17679.0000 - fp: 2528.0000 - tn: 18026.0000 - fn: 2727.0000 - accuracy: 0.8717 - precision: 0.8749 - recall: 0.8664 - auc: 0.9419 - val_loss: 0.2697 - val_tp: 207.0000 - val_fp: 8226.0000 - val_tn: 69751.0000 - val_fn: 32.0000 - val_accuracy: 0.8944 - val_precision: 0.0245 - val_recall: 0.8661 - val_auc: 0.9469\n",
      "Epoch 22/1000\n",
      "20/20 [==============================] - 2s 84ms/step - loss: 0.3082 - tp: 17892.0000 - fp: 2491.0000 - tn: 18019.0000 - fn: 2558.0000 - accuracy: 0.8767 - precision: 0.8778 - recall: 0.8749 - auc: 0.9444 - val_loss: 0.2684 - val_tp: 210.0000 - val_fp: 8284.0000 - val_tn: 69693.0000 - val_fn: 29.0000 - val_accuracy: 0.8937 - val_precision: 0.0247 - val_recall: 0.8787 - val_auc: 0.9470\n",
      "Epoch 23/1000\n",
      "20/20 [==============================] - 2s 79ms/step - loss: 0.3123 - tp: 18034.0000 - fp: 2599.0000 - tn: 17800.0000 - fn: 2527.0000 - accuracy: 0.8749 - precision: 0.8740 - recall: 0.8771 - auc: 0.9424 - val_loss: 0.2638 - val_tp: 210.0000 - val_fp: 8211.0000 - val_tn: 69766.0000 - val_fn: 29.0000 - val_accuracy: 0.8947 - val_precision: 0.0249 - val_recall: 0.8787 - val_auc: 0.9473\n",
      "Epoch 24/1000\n",
      "20/20 [==============================] - 2s 101ms/step - loss: 0.3083 - tp: 17937.0000 - fp: 2590.0000 - tn: 17979.0000 - fn: 2454.0000 - accuracy: 0.8769 - precision: 0.8738 - recall: 0.8797 - auc: 0.9440 - val_loss: 0.2589 - val_tp: 209.0000 - val_fp: 8131.0000 - val_tn: 69846.0000 - val_fn: 30.0000 - val_accuracy: 0.8957 - val_precision: 0.0251 - val_recall: 0.8745 - val_auc: 0.9477\n",
      "Epoch 25/1000\n",
      "20/20 [==============================] - 2s 80ms/step - loss: 0.2996 - tp: 18046.0000 - fp: 2420.0000 - tn: 18131.0000 - fn: 2363.0000 - accuracy: 0.8832 - precision: 0.8818 - recall: 0.8842 - auc: 0.9474 - val_loss: 0.2590 - val_tp: 210.0000 - val_fp: 8197.0000 - val_tn: 69780.0000 - val_fn: 29.0000 - val_accuracy: 0.8948 - val_precision: 0.0250 - val_recall: 0.8787 - val_auc: 0.9479\n",
      "Epoch 26/1000\n",
      "20/20 [==============================] - 2s 103ms/step - loss: 0.2961 - tp: 18158.0000 - fp: 2453.0000 - tn: 18060.0000 - fn: 2289.0000 - accuracy: 0.8842 - precision: 0.8810 - recall: 0.8881 - auc: 0.9486 - val_loss: 0.2579 - val_tp: 210.0000 - val_fp: 8221.0000 - val_tn: 69756.0000 - val_fn: 29.0000 - val_accuracy: 0.8945 - val_precision: 0.0249 - val_recall: 0.8787 - val_auc: 0.9481\n",
      "Epoch 27/1000\n",
      "20/20 [==============================] - 2s 100ms/step - loss: 0.3012 - tp: 18308.0000 - fp: 2518.0000 - tn: 17859.0000 - fn: 2275.0000 - accuracy: 0.8830 - precision: 0.8791 - recall: 0.8895 - auc: 0.9465 - val_loss: 0.2551 - val_tp: 210.0000 - val_fp: 8179.0000 - val_tn: 69798.0000 - val_fn: 29.0000 - val_accuracy: 0.8951 - val_precision: 0.0250 - val_recall: 0.8787 - val_auc: 0.9478\n",
      "Epoch 28/1000\n",
      "20/20 [==============================] - 2s 100ms/step - loss: 0.2961 - tp: 18272.0000 - fp: 2566.0000 - tn: 17885.0000 - fn: 2237.0000 - accuracy: 0.8827 - precision: 0.8769 - recall: 0.8909 - auc: 0.9480 - val_loss: 0.2516 - val_tp: 209.0000 - val_fp: 8079.0000 - val_tn: 69898.0000 - val_fn: 30.0000 - val_accuracy: 0.8963 - val_precision: 0.0252 - val_recall: 0.8745 - val_auc: 0.9479\n",
      "Epoch 29/1000\n",
      "20/20 [==============================] - 2s 95ms/step - loss: 0.2911 - tp: 18412.0000 - fp: 2404.0000 - tn: 17996.0000 - fn: 2148.0000 - accuracy: 0.8889 - precision: 0.8845 - recall: 0.8955 - auc: 0.9501 - val_loss: 0.2517 - val_tp: 209.0000 - val_fp: 8132.0000 - val_tn: 69845.0000 - val_fn: 30.0000 - val_accuracy: 0.8956 - val_precision: 0.0251 - val_recall: 0.8745 - val_auc: 0.9479\n",
      "Epoch 30/1000\n",
      "20/20 [==============================] - 2s 86ms/step - loss: 0.2905 - tp: 18466.0000 - fp: 2534.0000 - tn: 17855.0000 - fn: 2105.0000 - accuracy: 0.8867 - precision: 0.8793 - recall: 0.8977 - auc: 0.9499 - val_loss: 0.2490 - val_tp: 209.0000 - val_fp: 8067.0000 - val_tn: 69910.0000 - val_fn: 30.0000 - val_accuracy: 0.8965 - val_precision: 0.0253 - val_recall: 0.8745 - val_auc: 0.9480\n",
      "Epoch 31/1000\n",
      "20/20 [==============================] - 2s 89ms/step - loss: 0.2872 - tp: 18469.0000 - fp: 2472.0000 - tn: 17951.0000 - fn: 2068.0000 - accuracy: 0.8892 - precision: 0.8820 - recall: 0.8993 - auc: 0.9511 - val_loss: 0.2463 - val_tp: 209.0000 - val_fp: 7974.0000 - val_tn: 70003.0000 - val_fn: 30.0000 - val_accuracy: 0.8977 - val_precision: 0.0255 - val_recall: 0.8745 - val_auc: 0.9481\n",
      "Epoch 32/1000\n",
      "20/20 [==============================] - 2s 82ms/step - loss: 0.2859 - tp: 18514.0000 - fp: 2467.0000 - tn: 17917.0000 - fn: 2062.0000 - accuracy: 0.8894 - precision: 0.8824 - recall: 0.8998 - auc: 0.9513 - val_loss: 0.2480 - val_tp: 207.0000 - val_fp: 8091.0000 - val_tn: 69886.0000 - val_fn: 32.0000 - val_accuracy: 0.8961 - val_precision: 0.0249 - val_recall: 0.8661 - val_auc: 0.9482\n",
      "Epoch 33/1000\n",
      "20/20 [==============================] - 2s 97ms/step - loss: 0.2814 - tp: 18411.0000 - fp: 2484.0000 - tn: 18128.0000 - fn: 1937.0000 - accuracy: 0.8921 - precision: 0.8811 - recall: 0.9048 - auc: 0.9528 - val_loss: 0.2451 - val_tp: 207.0000 - val_fp: 8010.0000 - val_tn: 69967.0000 - val_fn: 32.0000 - val_accuracy: 0.8972 - val_precision: 0.0252 - val_recall: 0.8661 - val_auc: 0.9482\n",
      "Epoch 34/1000\n",
      "20/20 [==============================] - 2s 80ms/step - loss: 0.2852 - tp: 18423.0000 - fp: 2528.0000 - tn: 18053.0000 - fn: 1956.0000 - accuracy: 0.8905 - precision: 0.8793 - recall: 0.9040 - auc: 0.9514 - val_loss: 0.2417 - val_tp: 208.0000 - val_fp: 7919.0000 - val_tn: 70058.0000 - val_fn: 31.0000 - val_accuracy: 0.8984 - val_precision: 0.0256 - val_recall: 0.8703 - val_auc: 0.9478\n",
      "Epoch 35/1000\n",
      "20/20 [==============================] - 2s 80ms/step - loss: 0.2781 - tp: 18492.0000 - fp: 2408.0000 - tn: 18158.0000 - fn: 1902.0000 - accuracy: 0.8948 - precision: 0.8848 - recall: 0.9067 - auc: 0.9542 - val_loss: 0.2410 - val_tp: 207.0000 - val_fp: 7940.0000 - val_tn: 70037.0000 - val_fn: 32.0000 - val_accuracy: 0.8981 - val_precision: 0.0254 - val_recall: 0.8661 - val_auc: 0.9475\n",
      "Epoch 36/1000\n",
      "20/20 [==============================] - 2s 79ms/step - loss: 0.2768 - tp: 18482.0000 - fp: 2470.0000 - tn: 18094.0000 - fn: 1914.0000 - accuracy: 0.8930 - precision: 0.8821 - recall: 0.9062 - auc: 0.9542 - val_loss: 0.2401 - val_tp: 207.0000 - val_fp: 7939.0000 - val_tn: 70038.0000 - val_fn: 32.0000 - val_accuracy: 0.8981 - val_precision: 0.0254 - val_recall: 0.8661 - val_auc: 0.9475\n",
      "Epoch 37/1000\n",
      "20/20 [==============================] - 2s 79ms/step - loss: 0.2789 - tp: 18708.0000 - fp: 2480.0000 - tn: 17886.0000 - fn: 1886.0000 - accuracy: 0.8934 - precision: 0.8830 - recall: 0.9084 - auc: 0.9533 - val_loss: 0.2370 - val_tp: 207.0000 - val_fp: 7897.0000 - val_tn: 70080.0000 - val_fn: 32.0000 - val_accuracy: 0.8986 - val_precision: 0.0255 - val_recall: 0.8661 - val_auc: 0.9475\n",
      "Epoch 38/1000\n",
      "20/20 [==============================] - 2s 92ms/step - loss: 0.2775 - tp: 18716.0000 - fp: 2515.0000 - tn: 17904.0000 - fn: 1825.0000 - accuracy: 0.8940 - precision: 0.8815 - recall: 0.9112 - auc: 0.9538 - val_loss: 0.2365 - val_tp: 207.0000 - val_fp: 7927.0000 - val_tn: 70050.0000 - val_fn: 32.0000 - val_accuracy: 0.8982 - val_precision: 0.0254 - val_recall: 0.8661 - val_auc: 0.9475\n",
      "Epoch 39/1000\n",
      "20/20 [==============================] - 2s 107ms/step - loss: 0.2747 - tp: 18825.0000 - fp: 2509.0000 - tn: 17842.0000 - fn: 1784.0000 - accuracy: 0.8952 - precision: 0.8824 - recall: 0.9134 - auc: 0.9546 - val_loss: 0.2383 - val_tp: 207.0000 - val_fp: 7990.0000 - val_tn: 69987.0000 - val_fn: 32.0000 - val_accuracy: 0.8974 - val_precision: 0.0253 - val_recall: 0.8661 - val_auc: 0.9475\n",
      "Epoch 40/1000\n",
      "20/20 [==============================] - 2s 108ms/step - loss: 0.2748 - tp: 18732.0000 - fp: 2518.0000 - tn: 17954.0000 - fn: 1756.0000 - accuracy: 0.8957 - precision: 0.8815 - recall: 0.9143 - auc: 0.9546 - val_loss: 0.2382 - val_tp: 208.0000 - val_fp: 8035.0000 - val_tn: 69942.0000 - val_fn: 31.0000 - val_accuracy: 0.8969 - val_precision: 0.0252 - val_recall: 0.8703 - val_auc: 0.9474\n",
      "Epoch 41/1000\n"
     ]
    },
    {
     "name": "stdout",
     "output_type": "stream",
     "text": [
      "20/20 [==============================] - 2s 100ms/step - loss: 0.2733 - tp: 18717.0000 - fp: 2552.0000 - tn: 17974.0000 - fn: 1717.0000 - accuracy: 0.8958 - precision: 0.8800 - recall: 0.9160 - auc: 0.9548 - val_loss: 0.2359 - val_tp: 209.0000 - val_fp: 7995.0000 - val_tn: 69982.0000 - val_fn: 30.0000 - val_accuracy: 0.8974 - val_precision: 0.0255 - val_recall: 0.8745 - val_auc: 0.9476\n",
      "Epoch 42/1000\n",
      "19/20 [===========================>..] - ETA: 0s - loss: 0.2668 - tp: 17653.0000 - fp: 2331.0000 - tn: 17340.0000 - fn: 1588.0000 - accuracy: 0.8993 - precision: 0.8834 - recall: 0.9175 - auc: 0.9573Restoring model weights from the end of the best epoch.\n",
      "20/20 [==============================] - 2s 79ms/step - loss: 0.2672 - tp: 18597.0000 - fp: 2482.0000 - tn: 18215.0000 - fn: 1666.0000 - accuracy: 0.8987 - precision: 0.8823 - recall: 0.9178 - auc: 0.9571 - val_loss: 0.2329 - val_tp: 208.0000 - val_fp: 7896.0000 - val_tn: 70081.0000 - val_fn: 31.0000 - val_accuracy: 0.8987 - val_precision: 0.0257 - val_recall: 0.8703 - val_auc: 0.9467\n",
      "Epoch 00042: early stopping\n"
     ]
    }
   ],
   "source": [
    "resampled_model = make_model()\n",
    "resampled_model.load_weights(initial_weights)\n",
    "\n",
    "# Reset the bias to zero, since this dataset is balanced.\n",
    "output_layer = resampled_model.layers[-1] \n",
    "output_layer.bias.assign([0])\n",
    "\n",
    "resampled_history = resampled_model.fit(\n",
    "    resampled_ds,\n",
    "    # These are not real epochs\n",
    "    steps_per_epoch = 20,\n",
    "    epochs=10*EPOCHS,\n",
    "    callbacks = [early_stopping],\n",
    "    validation_data=(val_ds))"
   ]
  },
  {
   "cell_type": "markdown",
   "metadata": {
    "colab_type": "text",
    "id": "UuJYKv0gpBK1"
   },
   "source": [
    "### Re-check training history"
   ]
  },
  {
   "cell_type": "code",
   "execution_count": 48,
   "metadata": {
    "ExecuteTime": {
     "end_time": "2020-05-11T22:59:40.571657Z",
     "start_time": "2020-05-11T22:59:39.814023Z"
    },
    "colab": {},
    "colab_type": "code",
    "id": "FMycrpJwn39w"
   },
   "outputs": [
    {
     "data": {
      "image/png": "[encoded data removed]",
      "text/plain": [
       "<Figure size 864x720 with 4 Axes>"
      ]
     },
     "metadata": {
      "needs_background": "light"
     },
     "output_type": "display_data"
    }
   ],
   "source": [
    "plot_metrics(resampled_history)"
   ]
  },
  {
   "cell_type": "markdown",
   "metadata": {
    "colab_type": "text",
    "id": "bUuE5HOWZiwP"
   },
   "source": [
    "### Evaluate metrics"
   ]
  },
  {
   "cell_type": "code",
   "execution_count": 49,
   "metadata": {
    "ExecuteTime": {
     "end_time": "2020-05-11T22:59:42.359291Z",
     "start_time": "2020-05-11T22:59:40.575618Z"
    },
    "colab": {},
    "colab_type": "code",
    "id": "C0fmHSgXxFdW"
   },
   "outputs": [],
   "source": [
    "train_predictions_resampled = resampled_model.predict(train_features, batch_size=BATCH_SIZE)\n",
    "test_predictions_resampled = resampled_model.predict(test_features, batch_size=BATCH_SIZE)"
   ]
  },
  {
   "cell_type": "code",
   "execution_count": 50,
   "metadata": {
    "ExecuteTime": {
     "end_time": "2020-05-11T22:59:45.166037Z",
     "start_time": "2020-05-11T22:59:42.362288Z"
    },
    "colab": {},
    "colab_type": "code",
    "id": "FO0mMOYUDWFk"
   },
   "outputs": [
    {
     "name": "stdout",
     "output_type": "stream",
     "text": [
      "loss :  0.25125396861502813\n",
      "tp :  266.0\n",
      "fp :  10286.0\n",
      "tn :  87185.0\n",
      "fn :  33.0\n",
      "accuracy :  0.8944564\n",
      "precision :  0.025208492\n",
      "recall :  0.8896321\n",
      "auc :  0.95630723\n",
      "\n",
      "Legitimate Transactions Detected (True Negatives):  87185\n",
      "Legitimate Transactions Incorrectly Detected (False Positives):  10286\n",
      "Fraudulent Transactions Missed (False Negatives):  33\n",
      "Fraudulent Transactions Detected (True Positives):  266\n",
      "Total Fraudulent Transactions:  299\n"
     ]
    },
    {
     "data": {
      "image/png": "[encoded data removed]",
      "text/plain": [
       "<Figure size 360x360 with 2 Axes>"
      ]
     },
     "metadata": {
      "needs_background": "light"
     },
     "output_type": "display_data"
    }
   ],
   "source": [
    "resampled_results = resampled_model.evaluate(test_features, test_labels,\n",
    "                                             batch_size=BATCH_SIZE, verbose=0)\n",
    "for name, value in zip(resampled_model.metrics_names, resampled_results):\n",
    "  print(name, ': ', value)\n",
    "print()\n",
    "\n",
    "plot_cm(test_labels, test_predictions_resampled)"
   ]
  },
  {
   "cell_type": "markdown",
   "metadata": {
    "colab_type": "text",
    "id": "_xYozM1IIITq"
   },
   "source": [
    "### Plot the ROC"
   ]
  },
  {
   "cell_type": "code",
   "execution_count": 51,
   "metadata": {
    "ExecuteTime": {
     "end_time": "2020-05-11T22:59:45.952237Z",
     "start_time": "2020-05-11T22:59:45.172006Z"
    },
    "colab": {},
    "colab_type": "code",
    "id": "fye_CiuYrZ1U"
   },
   "outputs": [
    {
     "data": {
      "text/plain": [
       "<matplotlib.legend.Legend at 0x1d652009448>"
      ]
     },
     "execution_count": 51,
     "metadata": {},
     "output_type": "execute_result"
    },
    {
     "data": {
      "image/png": "[encoded data removed]",
      "text/plain": [
       "<Figure size 864x720 with 1 Axes>"
      ]
     },
     "metadata": {
      "needs_background": "light"
     },
     "output_type": "display_data"
    }
   ],
   "source": [
    "plot_roc(\"Train Baseline\", train_labels, train_predictions_baseline, color=colors[0])\n",
    "plot_roc(\"Test Baseline\", test_labels, test_predictions_baseline, color=colors[0], linestyle='--')\n",
    "\n",
    "plot_roc(\"Train Weighted\", train_labels, train_predictions_weighted, color=colors[1])\n",
    "plot_roc(\"Test Weighted\", test_labels, test_predictions_weighted, color=colors[1], linestyle='--')\n",
    "\n",
    "plot_roc(\"Train Resampled\", train_labels, train_predictions_resampled,  color=colors[2])\n",
    "plot_roc(\"Test Resampled\", test_labels, test_predictions_resampled,  color=colors[2], linestyle='--')\n",
    "plt.legend(loc='lower right')"
   ]
  },
  {
   "cell_type": "markdown",
   "metadata": {
    "colab_type": "text",
    "id": "3o3f0ywl8uqW"
   },
   "source": [
    "## Applying this tutorial to your problem\n",
    "\n",
    "Imbalanced data classification is an inherantly difficult task since there are so few samples to learn from. You should always start with the data first and do your best to collect as many samples as possible and give substantial thought to what features may be relevant so the model can get the most out of your minority class. At some point your model may struggle to improve and yield the results you want, so it is important to keep in mind the context of your problem and the trade offs between different types of errors."
   ]
  }
 ],
 "metadata": {
  "colab": {
   "collapsed_sections": [],
   "name": "VCA-ID-Test from TF tutorial.ipynb",
   "private_outputs": true,
   "provenance": [
    {
     "file_id": "https://github.com/tensorflow/docs/blob/master/site/en/tutorials/structured_data/imbalanced_data.ipynb",
     "timestamp": 1589215555622
    }
   ],
   "toc_visible": true
  },
  "kernelspec": {
   "display_name": "Python 3",
   "language": "python",
   "name": "python3"
  },
  "language_info": {
   "codemirror_mode": {
    "name": "ipython",
    "version": 3
   },
   "file_extension": ".py",
   "mimetype": "text/x-python",
   "name": "python",
   "nbconvert_exporter": "python",
   "pygments_lexer": "ipython3",
   "version": "3.7.7"
  },
  "toc": {
   "base_numbering": 1,
   "nav_menu": {},
   "number_sections": true,
   "sideBar": true,
   "skip_h1_title": false,
   "title_cell": "Table of Contents",
   "title_sidebar": "Contents",
   "toc_cell": false,
   "toc_position": {},
   "toc_section_display": true,
   "toc_window_display": true
  }
 },
 "nbformat": 4,
 "nbformat_minor": 1
}
