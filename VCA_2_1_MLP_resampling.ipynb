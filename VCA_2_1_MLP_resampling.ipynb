{
  "nbformat": 4,
  "nbformat_minor": 0,
  "metadata": {
    "kernelspec": {
      "display_name": "Python 3",
      "language": "python",
      "name": "python3"
    },
    "language_info": {
      "codemirror_mode": {
        "name": "ipython",
        "version": 3
      },
      "file_extension": ".py",
      "mimetype": "text/x-python",
      "name": "python",
      "nbconvert_exporter": "python",
      "pygments_lexer": "ipython3",
      "version": "3.7.7"
    },
    "colab": {
      "name": "VCA_2.1_MLP_resampling.ipynb",
      "provenance": [],
      "collapsed_sections": [],
      "include_colab_link": true
    }
  },
  "cells": [
    {
      "cell_type": "markdown",
      "metadata": {
        "id": "view-in-github",
        "colab_type": "text"
      },
      "source": [
        "<a href=\"https://colab.research.google.com/github/duonghung86/Fatality-crashes/blob/master/VCA_2_1_MLP_resampling.ipynb\" target=\"_parent\"><img src=\"https://colab.research.google.com/assets/colab-badge.svg\" alt=\"Open In Colab\"/></a>"
      ]
    },
    {
      "cell_type": "code",
      "metadata": {
        "colab": {
          "base_uri": "https://localhost:8080/"
        },
        "id": "Bo-3JT-1cl14",
        "outputId": "198f6ed1-a6cc-4e3a-9f37-6f425159216f"
      },
      "source": [
        "from psutil import virtual_memory\n",
        "ram_gb = virtual_memory().total / 1e9\n",
        "print('Your runtime has {:.1f} gigabytes of available RAM\\n'.format(ram_gb))\n",
        "\n",
        "if ram_gb < 20:\n",
        "  print('To enable a high-RAM runtime, select the Runtime > \"Change runtime type\"')\n",
        "  print('menu, and then select High-RAM in the Runtime shape dropdown. Then, ')\n",
        "  print('re-execute this cell.')\n",
        "else:\n",
        "  print('You are using a high-RAM runtime!')"
      ],
      "execution_count": 94,
      "outputs": [
        {
          "output_type": "stream",
          "text": [
            "Your runtime has 13.7 gigabytes of available RAM\n",
            "\n",
            "To enable a high-RAM runtime, select the Runtime > \"Change runtime type\"\n",
            "menu, and then select High-RAM in the Runtime shape dropdown. Then, \n",
            "re-execute this cell.\n"
          ],
          "name": "stdout"
        }
      ]
    },
    {
      "cell_type": "code",
      "metadata": {
        "id": "uU9MzQe41HSp"
      },
      "source": [
        "import warnings\n",
        "warnings.filterwarnings(\"ignore\")"
      ],
      "execution_count": 95,
      "outputs": []
    },
    {
      "cell_type": "code",
      "metadata": {
        "id": "YKl2NA0NrGqs",
        "colab": {
          "base_uri": "https://localhost:8080/"
        },
        "outputId": "a2220f42-7f6d-48ee-a548-04d82f158637"
      },
      "source": [
        "!cat /proc/cpuinfo"
      ],
      "execution_count": 96,
      "outputs": [
        {
          "output_type": "stream",
          "text": [
            "processor\t: 0\n",
            "vendor_id\t: GenuineIntel\n",
            "cpu family\t: 6\n",
            "model\t\t: 63\n",
            "model name\t: Intel(R) Xeon(R) CPU @ 2.30GHz\n",
            "stepping\t: 0\n",
            "microcode\t: 0x1\n",
            "cpu MHz\t\t: 2300.000\n",
            "cache size\t: 46080 KB\n",
            "physical id\t: 0\n",
            "siblings\t: 2\n",
            "core id\t\t: 0\n",
            "cpu cores\t: 1\n",
            "apicid\t\t: 0\n",
            "initial apicid\t: 0\n",
            "fpu\t\t: yes\n",
            "fpu_exception\t: yes\n",
            "cpuid level\t: 13\n",
            "wp\t\t: yes\n",
            "flags\t\t: fpu vme de pse tsc msr pae mce cx8 apic sep mtrr pge mca cmov pat pse36 clflush mmx fxsr sse sse2 ss ht syscall nx pdpe1gb rdtscp lm constant_tsc rep_good nopl xtopology nonstop_tsc cpuid tsc_known_freq pni pclmulqdq ssse3 fma cx16 pcid sse4_1 sse4_2 x2apic movbe popcnt aes xsave avx f16c rdrand hypervisor lahf_lm abm invpcid_single ssbd ibrs ibpb stibp fsgsbase tsc_adjust bmi1 avx2 smep bmi2 erms invpcid xsaveopt arat md_clear arch_capabilities\n",
            "bugs\t\t: cpu_meltdown spectre_v1 spectre_v2 spec_store_bypass l1tf mds swapgs\n",
            "bogomips\t: 4600.00\n",
            "clflush size\t: 64\n",
            "cache_alignment\t: 64\n",
            "address sizes\t: 46 bits physical, 48 bits virtual\n",
            "power management:\n",
            "\n",
            "processor\t: 1\n",
            "vendor_id\t: GenuineIntel\n",
            "cpu family\t: 6\n",
            "model\t\t: 63\n",
            "model name\t: Intel(R) Xeon(R) CPU @ 2.30GHz\n",
            "stepping\t: 0\n",
            "microcode\t: 0x1\n",
            "cpu MHz\t\t: 2300.000\n",
            "cache size\t: 46080 KB\n",
            "physical id\t: 0\n",
            "siblings\t: 2\n",
            "core id\t\t: 0\n",
            "cpu cores\t: 1\n",
            "apicid\t\t: 1\n",
            "initial apicid\t: 1\n",
            "fpu\t\t: yes\n",
            "fpu_exception\t: yes\n",
            "cpuid level\t: 13\n",
            "wp\t\t: yes\n",
            "flags\t\t: fpu vme de pse tsc msr pae mce cx8 apic sep mtrr pge mca cmov pat pse36 clflush mmx fxsr sse sse2 ss ht syscall nx pdpe1gb rdtscp lm constant_tsc rep_good nopl xtopology nonstop_tsc cpuid tsc_known_freq pni pclmulqdq ssse3 fma cx16 pcid sse4_1 sse4_2 x2apic movbe popcnt aes xsave avx f16c rdrand hypervisor lahf_lm abm invpcid_single ssbd ibrs ibpb stibp fsgsbase tsc_adjust bmi1 avx2 smep bmi2 erms invpcid xsaveopt arat md_clear arch_capabilities\n",
            "bugs\t\t: cpu_meltdown spectre_v1 spectre_v2 spec_store_bypass l1tf mds swapgs\n",
            "bogomips\t: 4600.00\n",
            "clflush size\t: 64\n",
            "cache_alignment\t: 64\n",
            "address sizes\t: 46 bits physical, 48 bits virtual\n",
            "power management:\n",
            "\n"
          ],
          "name": "stdout"
        }
      ]
    },
    {
      "cell_type": "code",
      "metadata": {
        "id": "GvRpx7tyrS85",
        "colab": {
          "base_uri": "https://localhost:8080/"
        },
        "outputId": "a7ab6852-d1f1-4a80-ad2d-c37415126bb6"
      },
      "source": [
        "import psutil\n",
        "# gives a single float value\n",
        "print(psutil.cpu_percent())\n",
        "# gives an object with many fields\n",
        "psutil.virtual_memory()"
      ],
      "execution_count": 97,
      "outputs": [
        {
          "output_type": "stream",
          "text": [
            "18.2\n"
          ],
          "name": "stdout"
        },
        {
          "output_type": "execute_result",
          "data": {
            "text/plain": [
              "svmem(total=13653585920, available=12362915840, percent=9.5, used=1665130496, free=9322291200, active=1128464384, inactive=2923970560, buffers=102735872, cached=2563428352, shared=954368, slab=179167232)"
            ]
          },
          "metadata": {
            "tags": []
          },
          "execution_count": 97
        }
      ]
    },
    {
      "cell_type": "code",
      "metadata": {
        "id": "Ond2r97pZvoF",
        "colab": {
          "base_uri": "https://localhost:8080/"
        },
        "outputId": "4a8dccd5-709d-463a-b74c-26f18dfe0bc6"
      },
      "source": [
        "# Basic packages\n",
        "import matplotlib.pyplot as plt\n",
        "import numpy as np\n",
        "import pandas as pd\n",
        "import seaborn as sns\n",
        "import time\n",
        "import os\n",
        "# Preprocessing\n",
        "from sklearn.preprocessing import StandardScaler # Standardization\n",
        "from sklearn.model_selection import train_test_split\n",
        "from sklearn.metrics import confusion_matrix\n",
        "\n",
        "# Machine learning algos\n",
        "from sklearn.linear_model import LogisticRegression\n",
        "from sklearn.tree import DecisionTreeClassifier\n",
        "from sklearn.ensemble import RandomForestClassifier\n",
        "\n",
        "from collections import Counter\n",
        "from imblearn.over_sampling import SMOTE, RandomOverSampler,BorderlineSMOTE\n",
        "from imblearn.under_sampling import RandomUnderSampler,NearMiss,EditedNearestNeighbours\n",
        "# Metrics\n",
        "from imblearn.metrics import geometric_mean_score\n",
        "# Tensorflow\n",
        "import tensorflow as tf\n",
        "print(tf.__version__)\n",
        "from tensorflow import feature_column  # for data wrangling\n",
        "from tensorflow.keras.layers import Dense,Dropout\n",
        "from tensorflow.keras.models import Sequential\n",
        "from tensorflow.keras.callbacks import EarlyStopping\n",
        "from tensorflow_addons.metrics import CohenKappa,F1Score\n",
        "from tensorboard.plugins.hparams import api as hp"
      ],
      "execution_count": 98,
      "outputs": [
        {
          "output_type": "stream",
          "text": [
            "2.3.0\n"
          ],
          "name": "stdout"
        }
      ]
    },
    {
      "cell_type": "markdown",
      "metadata": {
        "id": "e9hBlSQVL561"
      },
      "source": [
        "# Load data"
      ]
    },
    {
      "cell_type": "code",
      "metadata": {
        "colab": {
          "base_uri": "https://localhost:8080/"
        },
        "id": "OMFYXIMkFSak",
        "outputId": "d1a102bc-714b-48e1-fbce-9096d31be8c6"
      },
      "source": [
        "url = 'https://github.com/duonghung86/Injury-severity-classification/blob/main/Prepared%20Texas%202019.zip?raw=true' \n",
        "data_path = tf.keras.utils.get_file(origin=url, fname=url.split('/')[-1].split('?')[0], extract=True)\n",
        "data_path = data_path.replace('%20',' ').replace('.zip','.csv')"
      ],
      "execution_count": 99,
      "outputs": [
        {
          "output_type": "stream",
          "text": [
            "Downloading data from https://github.com/duonghung86/Injury-severity-classification/blob/main/Prepared%20Texas%202019.zip?raw=true\n",
            "10592256/10587626 [==============================] - 0s 0us/step\n"
          ],
          "name": "stdout"
        }
      ]
    },
    {
      "cell_type": "code",
      "metadata": {
        "id": "UPLNCpWjZvoG",
        "colab": {
          "base_uri": "https://localhost:8080/",
          "height": 315
        },
        "outputId": "3b89c168-4299-4048-9f3e-ea3c019c2a4c"
      },
      "source": [
        "# Load data\n",
        "df = pd.read_csv(data_path)\n",
        "print(df.shape)\n",
        "df.head(3)"
      ],
      "execution_count": 100,
      "outputs": [
        {
          "output_type": "stream",
          "text": [
            "(949856, 19)\n"
          ],
          "name": "stdout"
        },
        {
          "output_type": "execute_result",
          "data": {
            "text/html": [
              "<div>\n",
              "<style scoped>\n",
              "    .dataframe tbody tr th:only-of-type {\n",
              "        vertical-align: middle;\n",
              "    }\n",
              "\n",
              "    .dataframe tbody tr th {\n",
              "        vertical-align: top;\n",
              "    }\n",
              "\n",
              "    .dataframe thead th {\n",
              "        text-align: right;\n",
              "    }\n",
              "</style>\n",
              "<table border=\"1\" class=\"dataframe\">\n",
              "  <thead>\n",
              "    <tr style=\"text-align: right;\">\n",
              "      <th></th>\n",
              "      <th>Prsn_Injry_Sev</th>\n",
              "      <th>Prsn_Age</th>\n",
              "      <th>Prsn_Gndr</th>\n",
              "      <th>Wthr_Cond</th>\n",
              "      <th>Light_Cond</th>\n",
              "      <th>Surf_Cond</th>\n",
              "      <th>Veh_Body_Styl</th>\n",
              "      <th>Prsn_Rest</th>\n",
              "      <th>Prsn_Drg_Rslt</th>\n",
              "      <th>Harm_Evnt</th>\n",
              "      <th>Rural</th>\n",
              "      <th>Crash_Speed_Limit</th>\n",
              "      <th>Road_Algn</th>\n",
              "      <th>Veh_Mod_Year</th>\n",
              "      <th>Weekend</th>\n",
              "      <th>Crash_season</th>\n",
              "      <th>Part_of_day</th>\n",
              "      <th>Collsn_type</th>\n",
              "      <th>Collsn_name</th>\n",
              "    </tr>\n",
              "  </thead>\n",
              "  <tbody>\n",
              "    <tr>\n",
              "      <th>0</th>\n",
              "      <td>0</td>\n",
              "      <td>26</td>\n",
              "      <td>MALE</td>\n",
              "      <td>CLEAR</td>\n",
              "      <td>DAYLIGHT</td>\n",
              "      <td>DRY</td>\n",
              "      <td>PASSENGER CAR, 2-DOOR</td>\n",
              "      <td>SHOULDER &amp; LAP BELT</td>\n",
              "      <td>Not Applicable</td>\n",
              "      <td>MOTOR VEHICLE IN TRANSPORT</td>\n",
              "      <td>0</td>\n",
              "      <td>-1</td>\n",
              "      <td>STRAIGHT, LEVEL</td>\n",
              "      <td>33</td>\n",
              "      <td>1</td>\n",
              "      <td>3</td>\n",
              "      <td>3</td>\n",
              "      <td>SAME DIRECTION</td>\n",
              "      <td>ONE STRAIGHT-ONE LEFT TURN</td>\n",
              "    </tr>\n",
              "    <tr>\n",
              "      <th>1</th>\n",
              "      <td>0</td>\n",
              "      <td>52</td>\n",
              "      <td>MALE</td>\n",
              "      <td>CLEAR</td>\n",
              "      <td>DAYLIGHT</td>\n",
              "      <td>DRY</td>\n",
              "      <td>PASSENGER CAR, 2-DOOR</td>\n",
              "      <td>SHOULDER &amp; LAP BELT</td>\n",
              "      <td>Not Applicable</td>\n",
              "      <td>MOTOR VEHICLE IN TRANSPORT</td>\n",
              "      <td>0</td>\n",
              "      <td>-1</td>\n",
              "      <td>STRAIGHT, LEVEL</td>\n",
              "      <td>19</td>\n",
              "      <td>1</td>\n",
              "      <td>3</td>\n",
              "      <td>3</td>\n",
              "      <td>SAME DIRECTION</td>\n",
              "      <td>ONE STRAIGHT-ONE LEFT TURN</td>\n",
              "    </tr>\n",
              "    <tr>\n",
              "      <th>2</th>\n",
              "      <td>0</td>\n",
              "      <td>27</td>\n",
              "      <td>FEMALE</td>\n",
              "      <td>CLEAR</td>\n",
              "      <td>DAYLIGHT</td>\n",
              "      <td>DRY</td>\n",
              "      <td>PICKUP</td>\n",
              "      <td>SHOULDER &amp; LAP BELT</td>\n",
              "      <td>Not Applicable</td>\n",
              "      <td>MOTOR VEHICLE IN TRANSPORT</td>\n",
              "      <td>1</td>\n",
              "      <td>-1</td>\n",
              "      <td>CURVE, LEVEL</td>\n",
              "      <td>16</td>\n",
              "      <td>1</td>\n",
              "      <td>3</td>\n",
              "      <td>4</td>\n",
              "      <td>SAME DIRECTION</td>\n",
              "      <td>BOTH LEFT TURN</td>\n",
              "    </tr>\n",
              "  </tbody>\n",
              "</table>\n",
              "</div>"
            ],
            "text/plain": [
              "   Prsn_Injry_Sev  Prsn_Age  ...     Collsn_type                 Collsn_name\n",
              "0               0        26  ...  SAME DIRECTION  ONE STRAIGHT-ONE LEFT TURN\n",
              "1               0        52  ...  SAME DIRECTION  ONE STRAIGHT-ONE LEFT TURN\n",
              "2               0        27  ...  SAME DIRECTION              BOTH LEFT TURN\n",
              "\n",
              "[3 rows x 19 columns]"
            ]
          },
          "metadata": {
            "tags": []
          },
          "execution_count": 100
        }
      ]
    },
    {
      "cell_type": "code",
      "metadata": {
        "id": "1CDPbDPYZvoH",
        "colab": {
          "base_uri": "https://localhost:8080/"
        },
        "outputId": "707284e0-8c27-4613-943f-eb1189409f01"
      },
      "source": [
        "# Let's just use 80% of the total dataset\n",
        "df, _ = train_test_split(df, test_size=0.8,stratify = df['Prsn_Injry_Sev'])\n",
        "df.shape"
      ],
      "execution_count": 101,
      "outputs": [
        {
          "output_type": "execute_result",
          "data": {
            "text/plain": [
              "(189971, 19)"
            ]
          },
          "metadata": {
            "tags": []
          },
          "execution_count": 101
        }
      ]
    },
    {
      "cell_type": "code",
      "metadata": {
        "id": "FEKbv3R9ZvoH",
        "colab": {
          "base_uri": "https://localhost:8080/"
        },
        "outputId": "7747b378-51a3-4405-830e-32ac1f690698"
      },
      "source": [
        "y = df['Prsn_Injry_Sev']\n",
        "print('All target values:')\n",
        "print(y.value_counts())\n",
        "X = df.drop(columns=['Prsn_Injry_Sev'])"
      ],
      "execution_count": 102,
      "outputs": [
        {
          "output_type": "stream",
          "text": [
            "All target values:\n",
            "0    158512\n",
            "1     20482\n",
            "2      9048\n",
            "3      1590\n",
            "4       339\n",
            "Name: Prsn_Injry_Sev, dtype: int64\n"
          ],
          "name": "stdout"
        }
      ]
    },
    {
      "cell_type": "code",
      "metadata": {
        "id": "AUDtEBDsZvoI",
        "colab": {
          "base_uri": "https://localhost:8080/"
        },
        "outputId": "62f5382f-888f-4675-b05c-5f32f53d9340"
      },
      "source": [
        "# %% Data wrangling -------------\n",
        "# Classify variable type\n",
        "emb_vars, ind_vars, num_vars = [], [], []\n",
        "for var in X.columns:\n",
        "    if X[var].dtypes == 'O':\n",
        "        if len(X[var].unique()) > 5:\n",
        "            emb_vars.append(var)\n",
        "        else:\n",
        "            ind_vars.append(var)\n",
        "    else:\n",
        "        num_vars.append(var)\n",
        "print('Numerical variables are ', num_vars)\n",
        "print('Categorical variables that have at most 5 categories are ', ind_vars)\n",
        "print('Categorical variables that have more than 5 categories are ', emb_vars)\n",
        "\n",
        "# Create feature columns\n",
        "feature_columns = []\n",
        "# numeric cols\n",
        "for header in num_vars:\n",
        "    feature_columns.append(feature_column.numeric_column(header))\n",
        "# bucketized cols\n",
        "# age = feature_column.numeric_column('Prsn_Age')\n",
        "# age_buckets = feature_column.bucketized_column(age, boundaries=[16, 22, 35, 55, 65])\n",
        "# feature_columns.append(age_buckets)\n",
        "# indicator_columns\n",
        "for col_name in ind_vars:\n",
        "    categorical_column = feature_column.categorical_column_with_vocabulary_list(\n",
        "        col_name, X[col_name].unique())\n",
        "    indicator_column = feature_column.indicator_column(categorical_column)\n",
        "    feature_columns.append(indicator_column)\n",
        "# embedding columns\n",
        "for col_name in emb_vars:\n",
        "    emb_column = feature_column.categorical_column_with_vocabulary_list(\n",
        "        col_name, X[col_name].unique())\n",
        "    col_embedding = feature_column.embedding_column(emb_column, dimension=5)\n",
        "    feature_columns.append(col_embedding)\n",
        "\n",
        "# Convert all setup into new dataset\n",
        "feature_layer = tf.keras.layers.DenseFeatures(feature_columns)\n",
        "X = feature_layer(dict(X)).numpy()\n",
        "print('New shape of the input data set:',X.shape)"
      ],
      "execution_count": 103,
      "outputs": [
        {
          "output_type": "stream",
          "text": [
            "Numerical variables are  ['Prsn_Age', 'Rural', 'Crash_Speed_Limit', 'Veh_Mod_Year', 'Weekend', 'Crash_season', 'Part_of_day']\n",
            "Categorical variables that have at most 5 categories are  ['Prsn_Gndr', 'Prsn_Drg_Rslt', 'Collsn_type']\n",
            "Categorical variables that have more than 5 categories are  ['Wthr_Cond', 'Light_Cond', 'Surf_Cond', 'Veh_Body_Styl', 'Prsn_Rest', 'Harm_Evnt', 'Road_Algn', 'Collsn_name']\n",
            "New shape of the input data set: (189971, 59)\n"
          ],
          "name": "stdout"
        }
      ]
    },
    {
      "cell_type": "code",
      "metadata": {
        "id": "1EiMyeEfZvoJ",
        "colab": {
          "base_uri": "https://localhost:8080/"
        },
        "outputId": "61e6541e-bdd4-4db2-fa12-37ab869b9f11"
      },
      "source": [
        "# %% Split the dataset\n",
        "X_train, X_test, y_train, y_test = train_test_split(X, y, test_size=0.2, stratify=y, random_state=48)\n",
        "X_train, X_val, y_train, y_val = train_test_split(X_train, y_train, test_size=0.2, stratify=y_train, random_state=48)\n",
        "\n",
        "print('Training features shape:', X_train.shape)\n",
        "print('Validation features shape:', X_val.shape)\n",
        "print('Test features shape:', X_test.shape)\n",
        "\n",
        "# %% standardization\n",
        "scaler = StandardScaler()\n",
        "X_train = scaler.fit_transform(X_train)\n",
        "X_val = scaler.transform(X_val)\n",
        "X_test = scaler.transform(X_test)"
      ],
      "execution_count": 104,
      "outputs": [
        {
          "output_type": "stream",
          "text": [
            "Training features shape: (121580, 59)\n",
            "Validation features shape: (30396, 59)\n",
            "Test features shape: (37995, 59)\n"
          ],
          "name": "stdout"
        }
      ]
    },
    {
      "cell_type": "code",
      "metadata": {
        "id": "PgrT2IK1SkX7"
      },
      "source": [
        "# %% Function to compare the prediction and true labels\n",
        "def get_accs(label, prediction, tr_time,  show=False):\n",
        "    cm = confusion_matrix(label, prediction)\n",
        "    length = cm.shape[0]\n",
        "    num_cases = len(label)\n",
        "    # global accuracy\n",
        "    glb_acc = np.trace(cm) / len(label)\n",
        "    ind_accs = cm / np.sum(cm, axis=1)[:, np.newaxis]\n",
        "    accs = [ind_accs[i, i] for i in range(length)]\n",
        "    index = ['Class {}'.format(i) for i in range(length)]\n",
        "    # Global accuracy\n",
        "    accs.append(glb_acc)\n",
        "    #index.append\n",
        "    # G-mean\n",
        "    accs.append(geometric_mean_score(label, prediction, correction=0.001))\n",
        "    #index.append('G-mean')\n",
        "    # Average perf\n",
        "    accs.append((glb_acc + accs[-1]) / 2)\n",
        "    #index.append('Avg_Pfm')\n",
        "    # Training time\n",
        "    accs.append(np.round(tr_time,3))\n",
        "    index = index + ['Overall Accuracy','G-mean','Avg_Pfm','Training Time']\n",
        "    # Plot confusion matrix\n",
        "    plot_dict = {'Confusion matrix': (cm,'g'),\n",
        "                 'Normalized confusion matrix': (ind_accs,'.2f')}\n",
        "    if show:\n",
        "        plt.figure(figsize=(14, 6))\n",
        "        i = 1\n",
        "        for key, value in plot_dict.items():\n",
        "            plt.subplot(1, 2, i)\n",
        "            sns.heatmap(value[0], xticklabels=np.arange(length), yticklabels=np.arange(length),\n",
        "                        annot=True, fmt=value[1], cmap=\"YlGnBu\")\n",
        "            plt.xlabel('Prediction')\n",
        "            plt.ylabel('Label')\n",
        "            plt.title(key)\n",
        "            i+= 1\n",
        "        plt.show()\n",
        "    out = np.array(accs).reshape(1, len(accs))\n",
        "    return pd.DataFrame(out, columns=index)"
      ],
      "execution_count": 105,
      "outputs": []
    },
    {
      "cell_type": "markdown",
      "metadata": {
        "id": "BSrmS5x56tRh"
      },
      "source": [
        "# Class weights"
      ]
    },
    {
      "cell_type": "code",
      "metadata": {
        "colab": {
          "base_uri": "https://localhost:8080/",
          "height": 193
        },
        "id": "VLh6CRsV6suY",
        "outputId": "f88fe31e-7552-437b-89c2-2d37365bf9b8"
      },
      "source": [
        "wgt='balanced'\n",
        "clfs = [LogisticRegression(solver = 'lbfgs',class_weight=wgt),\n",
        "        DecisionTreeClassifier(class_weight=wgt),\n",
        "        RandomForestClassifier(max_depth=4,class_weight=wgt)]\n",
        "clf_names = ['LR','DT','RF']\n",
        "rsts = pd.DataFrame()\n",
        "for model, name in zip(clfs,clf_names):\n",
        "    start = time.time()\n",
        "    print(name)\n",
        "    model.fit(X_train, y_train.values)\n",
        "    # use the model to make predictions with the test data\n",
        "    y_pred = model.predict(X_test)\n",
        "    end= time.time()\n",
        "    # get the evaluation metrics\n",
        "    result = get_accs(y_test.values, y_pred, end-start)\n",
        "    result.index = [name + '-Weights']\n",
        "    rsts = rsts.append(result)\n",
        "rsts"
      ],
      "execution_count": 106,
      "outputs": [
        {
          "output_type": "stream",
          "text": [
            "LR\n",
            "DT\n",
            "RF\n"
          ],
          "name": "stdout"
        },
        {
          "output_type": "execute_result",
          "data": {
            "text/html": [
              "<div>\n",
              "<style scoped>\n",
              "    .dataframe tbody tr th:only-of-type {\n",
              "        vertical-align: middle;\n",
              "    }\n",
              "\n",
              "    .dataframe tbody tr th {\n",
              "        vertical-align: top;\n",
              "    }\n",
              "\n",
              "    .dataframe thead th {\n",
              "        text-align: right;\n",
              "    }\n",
              "</style>\n",
              "<table border=\"1\" class=\"dataframe\">\n",
              "  <thead>\n",
              "    <tr style=\"text-align: right;\">\n",
              "      <th></th>\n",
              "      <th>Class 0</th>\n",
              "      <th>Class 1</th>\n",
              "      <th>Class 2</th>\n",
              "      <th>Class 3</th>\n",
              "      <th>Class 4</th>\n",
              "      <th>Overall Accuracy</th>\n",
              "      <th>G-mean</th>\n",
              "      <th>Avg_Pfm</th>\n",
              "      <th>Training Time</th>\n",
              "    </tr>\n",
              "  </thead>\n",
              "  <tbody>\n",
              "    <tr>\n",
              "      <th>LR-Weights</th>\n",
              "      <td>0.522474</td>\n",
              "      <td>0.422363</td>\n",
              "      <td>0.149171</td>\n",
              "      <td>0.349057</td>\n",
              "      <td>0.676471</td>\n",
              "      <td>0.492723</td>\n",
              "      <td>0.378544</td>\n",
              "      <td>0.435633</td>\n",
              "      <td>12.408</td>\n",
              "    </tr>\n",
              "    <tr>\n",
              "      <th>DT-Weights</th>\n",
              "      <td>0.827997</td>\n",
              "      <td>0.135986</td>\n",
              "      <td>0.084530</td>\n",
              "      <td>0.066038</td>\n",
              "      <td>0.161765</td>\n",
              "      <td>0.710409</td>\n",
              "      <td>0.159017</td>\n",
              "      <td>0.434713</td>\n",
              "      <td>2.753</td>\n",
              "    </tr>\n",
              "    <tr>\n",
              "      <th>RF-Weights</th>\n",
              "      <td>0.578305</td>\n",
              "      <td>0.388916</td>\n",
              "      <td>0.066851</td>\n",
              "      <td>0.298742</td>\n",
              "      <td>0.705882</td>\n",
              "      <td>0.531412</td>\n",
              "      <td>0.316395</td>\n",
              "      <td>0.423904</td>\n",
              "      <td>8.283</td>\n",
              "    </tr>\n",
              "  </tbody>\n",
              "</table>\n",
              "</div>"
            ],
            "text/plain": [
              "             Class 0   Class 1   Class 2  ...    G-mean   Avg_Pfm  Training Time\n",
              "LR-Weights  0.522474  0.422363  0.149171  ...  0.378544  0.435633         12.408\n",
              "DT-Weights  0.827997  0.135986  0.084530  ...  0.159017  0.434713          2.753\n",
              "RF-Weights  0.578305  0.388916  0.066851  ...  0.316395  0.423904          8.283\n",
              "\n",
              "[3 rows x 9 columns]"
            ]
          },
          "metadata": {
            "tags": []
          },
          "execution_count": 106
        }
      ]
    },
    {
      "cell_type": "markdown",
      "metadata": {
        "id": "tcO557SjN1DF"
      },
      "source": [
        "## MLP"
      ]
    },
    {
      "cell_type": "code",
      "metadata": {
        "colab": {
          "base_uri": "https://localhost:8080/"
        },
        "id": "KahwmhJvN0Uq",
        "outputId": "b3f80ec1-8578-4d20-eb9b-0e9a69f96adb"
      },
      "source": [
        "# Add weights\n",
        "weights = len(y) / (5 * np.bincount(y))\n",
        "cls_wgt = dict(zip(np.arange(5), weights))\n",
        "cls_wgt"
      ],
      "execution_count": 107,
      "outputs": [
        {
          "output_type": "execute_result",
          "data": {
            "text/plain": [
              "{0: 0.23969289391339457,\n",
              " 1: 1.8550043941021384,\n",
              " 2: 4.199182139699381,\n",
              " 3: 23.89572327044025,\n",
              " 4: 112.07728613569321}"
            ]
          },
          "metadata": {
            "tags": []
          },
          "execution_count": 107
        }
      ]
    },
    {
      "cell_type": "code",
      "metadata": {
        "id": "iW1wR4r7PFSW"
      },
      "source": [
        "es = EarlyStopping(monitor='val_cohen_kappa',\n",
        "                   verbose=1, patience=10, mode='max',\n",
        "                   restore_best_weights=True)"
      ],
      "execution_count": 108,
      "outputs": []
    },
    {
      "cell_type": "code",
      "metadata": {
        "id": "CtX9XkqPO6BP"
      },
      "source": [
        "def create_mlp():\n",
        "    MLP = Sequential([Dense(10,activation='relu',\n",
        "                           input_dim=X_train.shape[1]),\n",
        "                      Dropout(0.5),\n",
        "                      Dense(5, activation='softmax')])\n",
        "    MLP.compile(optimizer='adam',\n",
        "                loss=tf.keras.losses.SparseCategoricalCrossentropy(from_logits=True),\n",
        "                metrics=[CohenKappa(num_classes=5,sparse_labels=True)])\n",
        "    return MLP"
      ],
      "execution_count": 109,
      "outputs": []
    },
    {
      "cell_type": "code",
      "metadata": {
        "colab": {
          "base_uri": "https://localhost:8080/",
          "height": 955
        },
        "id": "s-nBZq_VO6BP",
        "outputId": "ee615680-d101-43e5-ac64-34ad591ec788"
      },
      "source": [
        "model = create_mlp()\n",
        "start = time.time()\n",
        "monitor = model.fit(X_train, y_train.values,\n",
        "                    callbacks=[es],\n",
        "                    class_weight = cls_wgt,\n",
        "                    validation_data=(X_val, y_val.values),\n",
        "                    verbose=1, epochs=50)\n",
        "end = time.time()\n",
        "# use the model to make predictions with the test data\n",
        "y_pred = model.predict(X_test)\n",
        "y_pred = np.argmax(y_pred, axis=1)\n",
        "# get the evaluation metrics\n",
        "result = get_accs(y_test.values, y_pred, end-start)\n",
        "result.index = ['MLP-Weights']\n",
        "rsts = rsts.append(result)\n",
        "rsts"
      ],
      "execution_count": 111,
      "outputs": [
        {
          "output_type": "stream",
          "text": [
            "Epoch 1/50\n",
            "3800/3800 [==============================] - 6s 2ms/step - loss: 1.5631 - cohen_kappa: 0.0048 - val_loss: 1.5276 - val_cohen_kappa: 0.0411\n",
            "Epoch 2/50\n",
            "3800/3800 [==============================] - 6s 2ms/step - loss: 1.5221 - cohen_kappa: 0.0416 - val_loss: 1.4543 - val_cohen_kappa: 0.0643\n",
            "Epoch 3/50\n",
            "3800/3800 [==============================] - 6s 2ms/step - loss: 1.5012 - cohen_kappa: 0.0519 - val_loss: 1.4593 - val_cohen_kappa: 0.0715\n",
            "Epoch 4/50\n",
            "3800/3800 [==============================] - 6s 2ms/step - loss: 1.4951 - cohen_kappa: 0.0569 - val_loss: 1.4481 - val_cohen_kappa: 0.0800\n",
            "Epoch 5/50\n",
            "3800/3800 [==============================] - 6s 2ms/step - loss: 1.4858 - cohen_kappa: 0.0603 - val_loss: 1.4337 - val_cohen_kappa: 0.0845\n",
            "Epoch 6/50\n",
            "3800/3800 [==============================] - 6s 2ms/step - loss: 1.4844 - cohen_kappa: 0.0640 - val_loss: 1.4574 - val_cohen_kappa: 0.0798\n",
            "Epoch 7/50\n",
            "3800/3800 [==============================] - 6s 2ms/step - loss: 1.4788 - cohen_kappa: 0.0631 - val_loss: 1.4438 - val_cohen_kappa: 0.0836\n",
            "Epoch 8/50\n",
            "3800/3800 [==============================] - 6s 2ms/step - loss: 1.4825 - cohen_kappa: 0.0654 - val_loss: 1.4436 - val_cohen_kappa: 0.0850\n",
            "Epoch 9/50\n",
            "3800/3800 [==============================] - 6s 2ms/step - loss: 1.4779 - cohen_kappa: 0.0680 - val_loss: 1.4397 - val_cohen_kappa: 0.0881\n",
            "Epoch 10/50\n",
            "3800/3800 [==============================] - 6s 2ms/step - loss: 1.4815 - cohen_kappa: 0.0687 - val_loss: 1.4215 - val_cohen_kappa: 0.0891\n",
            "Epoch 11/50\n",
            "3800/3800 [==============================] - 6s 2ms/step - loss: 1.4710 - cohen_kappa: 0.0668 - val_loss: 1.4477 - val_cohen_kappa: 0.0837\n",
            "Epoch 12/50\n",
            "3800/3800 [==============================] - 6s 1ms/step - loss: 1.4745 - cohen_kappa: 0.0682 - val_loss: 1.4254 - val_cohen_kappa: 0.0918\n",
            "Epoch 13/50\n",
            "3800/3800 [==============================] - 6s 2ms/step - loss: 1.4806 - cohen_kappa: 0.0711 - val_loss: 1.4628 - val_cohen_kappa: 0.0818\n",
            "Epoch 14/50\n",
            "3800/3800 [==============================] - 6s 2ms/step - loss: 1.4733 - cohen_kappa: 0.0715 - val_loss: 1.4425 - val_cohen_kappa: 0.0874\n",
            "Epoch 15/50\n",
            "3800/3800 [==============================] - 6s 2ms/step - loss: 1.4708 - cohen_kappa: 0.0727 - val_loss: 1.4543 - val_cohen_kappa: 0.0841\n",
            "Epoch 16/50\n",
            "3800/3800 [==============================] - 6s 2ms/step - loss: 1.4742 - cohen_kappa: 0.0687 - val_loss: 1.4435 - val_cohen_kappa: 0.0866\n",
            "Epoch 17/50\n",
            "3800/3800 [==============================] - 6s 1ms/step - loss: 1.4719 - cohen_kappa: 0.0716 - val_loss: 1.4383 - val_cohen_kappa: 0.0859\n",
            "Epoch 18/50\n",
            "3800/3800 [==============================] - 6s 2ms/step - loss: 1.4736 - cohen_kappa: 0.0735 - val_loss: 1.4300 - val_cohen_kappa: 0.0900\n",
            "Epoch 19/50\n",
            "3800/3800 [==============================] - 6s 2ms/step - loss: 1.4690 - cohen_kappa: 0.0712 - val_loss: 1.4389 - val_cohen_kappa: 0.0872\n",
            "Epoch 20/50\n",
            "3800/3800 [==============================] - 6s 2ms/step - loss: 1.4692 - cohen_kappa: 0.0761 - val_loss: 1.4314 - val_cohen_kappa: 0.0888\n",
            "Epoch 21/50\n",
            "3800/3800 [==============================] - 6s 2ms/step - loss: 1.4714 - cohen_kappa: 0.0720 - val_loss: 1.4492 - val_cohen_kappa: 0.0843\n",
            "Epoch 22/50\n",
            "3796/3800 [============================>.] - ETA: 0s - loss: 1.4709 - cohen_kappa: 0.0743Restoring model weights from the end of the best epoch.\n",
            "3800/3800 [==============================] - 6s 2ms/step - loss: 1.4719 - cohen_kappa: 0.0743 - val_loss: 1.4359 - val_cohen_kappa: 0.0887\n",
            "Epoch 00022: early stopping\n"
          ],
          "name": "stdout"
        },
        {
          "output_type": "execute_result",
          "data": {
            "text/html": [
              "<div>\n",
              "<style scoped>\n",
              "    .dataframe tbody tr th:only-of-type {\n",
              "        vertical-align: middle;\n",
              "    }\n",
              "\n",
              "    .dataframe tbody tr th {\n",
              "        vertical-align: top;\n",
              "    }\n",
              "\n",
              "    .dataframe thead th {\n",
              "        text-align: right;\n",
              "    }\n",
              "</style>\n",
              "<table border=\"1\" class=\"dataframe\">\n",
              "  <thead>\n",
              "    <tr style=\"text-align: right;\">\n",
              "      <th></th>\n",
              "      <th>Class 0</th>\n",
              "      <th>Class 1</th>\n",
              "      <th>Class 2</th>\n",
              "      <th>Class 3</th>\n",
              "      <th>Class 4</th>\n",
              "      <th>Overall Accuracy</th>\n",
              "      <th>G-mean</th>\n",
              "      <th>Avg_Pfm</th>\n",
              "      <th>Training Time</th>\n",
              "    </tr>\n",
              "  </thead>\n",
              "  <tbody>\n",
              "    <tr>\n",
              "      <th>LR-Weights</th>\n",
              "      <td>0.522474</td>\n",
              "      <td>0.422363</td>\n",
              "      <td>0.149171</td>\n",
              "      <td>0.349057</td>\n",
              "      <td>0.676471</td>\n",
              "      <td>0.492723</td>\n",
              "      <td>0.378544</td>\n",
              "      <td>0.435633</td>\n",
              "      <td>12.408</td>\n",
              "    </tr>\n",
              "    <tr>\n",
              "      <th>DT-Weights</th>\n",
              "      <td>0.827997</td>\n",
              "      <td>0.135986</td>\n",
              "      <td>0.084530</td>\n",
              "      <td>0.066038</td>\n",
              "      <td>0.161765</td>\n",
              "      <td>0.710409</td>\n",
              "      <td>0.159017</td>\n",
              "      <td>0.434713</td>\n",
              "      <td>2.753</td>\n",
              "    </tr>\n",
              "    <tr>\n",
              "      <th>RF-Weights</th>\n",
              "      <td>0.578305</td>\n",
              "      <td>0.388916</td>\n",
              "      <td>0.066851</td>\n",
              "      <td>0.298742</td>\n",
              "      <td>0.705882</td>\n",
              "      <td>0.531412</td>\n",
              "      <td>0.316395</td>\n",
              "      <td>0.423904</td>\n",
              "      <td>8.283</td>\n",
              "    </tr>\n",
              "    <tr>\n",
              "      <th>MLP-Weights</th>\n",
              "      <td>0.528373</td>\n",
              "      <td>0.417480</td>\n",
              "      <td>0.195028</td>\n",
              "      <td>0.229560</td>\n",
              "      <td>0.691176</td>\n",
              "      <td>0.498329</td>\n",
              "      <td>0.368834</td>\n",
              "      <td>0.433582</td>\n",
              "      <td>129.129</td>\n",
              "    </tr>\n",
              "  </tbody>\n",
              "</table>\n",
              "</div>"
            ],
            "text/plain": [
              "              Class 0   Class 1   Class 2  ...    G-mean   Avg_Pfm  Training Time\n",
              "LR-Weights   0.522474  0.422363  0.149171  ...  0.378544  0.435633         12.408\n",
              "DT-Weights   0.827997  0.135986  0.084530  ...  0.159017  0.434713          2.753\n",
              "RF-Weights   0.578305  0.388916  0.066851  ...  0.316395  0.423904          8.283\n",
              "MLP-Weights  0.528373  0.417480  0.195028  ...  0.368834  0.433582        129.129\n",
              "\n",
              "[4 rows x 9 columns]"
            ]
          },
          "metadata": {
            "tags": []
          },
          "execution_count": 111
        }
      ]
    },
    {
      "cell_type": "code",
      "metadata": {
        "id": "QoU29tLnN8SI"
      },
      "source": [
        ""
      ],
      "execution_count": 111,
      "outputs": []
    },
    {
      "cell_type": "markdown",
      "metadata": {
        "id": "_hkgPBmo7Y37"
      },
      "source": [
        "# Normal Resampling"
      ]
    },
    {
      "cell_type": "code",
      "metadata": {
        "colab": {
          "base_uri": "https://localhost:8080/"
        },
        "id": "jrwRmaph7V8X",
        "outputId": "74da0f7c-ccac-4b92-b17c-d84e08244218"
      },
      "source": [
        "Resamples = {'ROS':             RandomOverSampler(), \n",
        "             'SMOTE':           SMOTE(random_state=42),\n",
        "             'BorderlineSMOTE': BorderlineSMOTE(),\n",
        "             'RUS': RandomUnderSampler(), \n",
        "             'NearMiss': NearMiss()\n",
        "             }\n",
        "for key,value in Resamples.items():\n",
        "    start = time.time()\n",
        "    X_res, y_res = value.fit_resample(X_train, y_train)\n",
        "    end = time.time()\n",
        "    res_time = end - start\n",
        "    print(key)\n",
        "    print('Resampled dataset shape %s' % Counter(y_res))\n",
        "    print('resampling time is {0:.2f} seconds'.format(res_time))\n",
        "    \n",
        "    #Logistic model\n",
        "    LR = LogisticRegression(solver = 'lbfgs')\n",
        "    start = time.time()\n",
        "    LR.fit(X_res, y_res)\n",
        "    end= time.time()\n",
        "    # get the evaluation metrics\n",
        "    # use the model to make predictions with the test data\n",
        "    y_pred = LR.predict(X_test)\n",
        "    result = get_accs(y_test.values,y_pred, tr_time= end-start)\n",
        "    result['Resample time'] = res_time\n",
        "    result.index = ['LR-' + key]\n",
        "    rsts = rsts.append(result)\n",
        "    \n",
        "    # MLP model\n",
        "    model = create_mlp()\n",
        "    start = time.time()\n",
        "    monitor = model.fit(X_res, y_res,\n",
        "                        callbacks=[es],\n",
        "                        validation_data=(X_val, y_val.values),\n",
        "                        verbose=1, epochs=50)\n",
        "    end = time.time()\n",
        "    # use the model to make predictions with the test data\n",
        "    y_pred = model.predict(X_test)\n",
        "    y_pred = np.argmax(y_pred, axis=1)\n",
        "    # get the evaluation metrics\n",
        "    result = get_accs(y_test.values, y_pred, end-start)\n",
        "    result.index = ['MLP-'+ key]\n",
        "    rsts = rsts.append(result)\n",
        "rsts"
      ],
      "execution_count": null,
      "outputs": [
        {
          "output_type": "stream",
          "text": [
            "ROS\n",
            "Resampled dataset shape Counter({1: 101446, 0: 101446, 2: 101446, 3: 101446, 4: 101446})\n",
            "resampling time is 0.14 seconds\n",
            "Epoch 1/50\n",
            "15851/15851 [==============================] - 21s 1ms/step - loss: 1.4708 - cohen_kappa: 0.2496 - val_loss: 1.4256 - val_cohen_kappa: 0.0864\n",
            "Epoch 2/50\n",
            "15851/15851 [==============================] - 21s 1ms/step - loss: 1.4484 - cohen_kappa: 0.2818 - val_loss: 1.4149 - val_cohen_kappa: 0.0882\n",
            "Epoch 3/50\n",
            "15851/15851 [==============================] - 21s 1ms/step - loss: 1.4439 - cohen_kappa: 0.2890 - val_loss: 1.4197 - val_cohen_kappa: 0.0869\n",
            "Epoch 4/50\n",
            "  846/15851 [>.............................] - ETA: 18s - loss: 1.4447 - cohen_kappa: 0.2893"
          ],
          "name": "stdout"
        }
      ]
    },
    {
      "cell_type": "code",
      "metadata": {
        "id": "XWG5QQmz9dnD"
      },
      "source": [
        "#rsts = rsts.iloc[:9,:]\n",
        "#rsts"
      ],
      "execution_count": null,
      "outputs": []
    },
    {
      "cell_type": "markdown",
      "metadata": {
        "id": "rleqZyMvVQ4e"
      },
      "source": [
        "# Hybrid Resampling\n"
      ]
    },
    {
      "cell_type": "code",
      "metadata": {
        "id": "ebtofqp5Xo21"
      },
      "source": [
        "y_dict = Counter(y_train)\n",
        "y_dict"
      ],
      "execution_count": null,
      "outputs": []
    },
    {
      "cell_type": "markdown",
      "metadata": {
        "id": "m-dAKpcXyy3w"
      },
      "source": [
        "## Oversampling and then undersampling"
      ]
    },
    {
      "cell_type": "code",
      "metadata": {
        "id": "uTMR48M-b-xZ"
      },
      "source": [
        "ss = {}\n",
        "for i in range(2,5):\n",
        "    ss[i] = y_dict[1]\n",
        "oses = ['ROS','SMOTE','BorderlineSMOTE']\n",
        "uses = ['RUS','NearMiss']"
      ],
      "execution_count": null,
      "outputs": []
    },
    {
      "cell_type": "code",
      "metadata": {
        "id": "te2eBMF3hRVt"
      },
      "source": [
        "for os_name in oses:\n",
        "    for us_name in uses:\n",
        "        print(os_name,'-',us_name)\n",
        "        if os_name == 'ROS': \n",
        "            res = RandomOverSampler(sampling_strategy=ss)\n",
        "        elif os_name == 'BorderlineSMOTE': \n",
        "            res = BorderlineSMOTE(sampling_strategy=ss)\n",
        "        else: res = SMOTE(sampling_strategy=ss)\n",
        "        start = time.time()\n",
        "        X_res, y_res = res.fit_resample(X_train, y_train)\n",
        "\n",
        "        if us_name == 'RUS': \n",
        "            res = RandomUnderSampler(sampling_strategy='majority')\n",
        "        else: res = NearMiss(sampling_strategy='majority')  \n",
        "        X_res, y_res = res.fit_resample(X_res, y_res)\n",
        "        end = time.time()\n",
        "        res_time = end-start\n",
        "\n",
        "        print('Resampled dataset shape %s' % Counter(y_res))\n",
        "        print('Resamling time %.2f sec' % (res_time))\n",
        "        LR = LogisticRegression(solver = 'lbfgs')\n",
        "        start = time.time()\n",
        "        LR.fit(X_res, y_res)\n",
        "        end= time.time()\n",
        "        # get the evaluation metrics\n",
        "        # use the model to make predictions with the test data\n",
        "        y_pred = LR.predict(X_test)\n",
        "        result = get_accs(y_test.values,y_pred, tr_time= end-start)\n",
        "        result['Resample time'] = res_time\n",
        "        result.index = ['LR-' + os_name + '-' + us_name]\n",
        "        rsts = rsts.append(result)\n",
        "\n",
        "        # MLP model\n",
        "        model = create_mlp()\n",
        "        start = time.time()\n",
        "        monitor = model.fit(X_res, y_res,\n",
        "                            callbacks=[es],\n",
        "                            validation_data=(X_val, y_val.values),\n",
        "                            verbose=1, epochs=50)\n",
        "        end = time.time()\n",
        "        # use the model to make predictions with the test data\n",
        "        y_pred = model.predict(X_test)\n",
        "        y_pred = np.argmax(y_pred, axis=1)\n",
        "        # get the evaluation metrics\n",
        "        result = get_accs(y_test.values, y_pred, end-start)\n",
        "        result.index = ['MLP-'+ key]\n",
        "        rsts = rsts.append(result)\n",
        "rsts"
      ],
      "execution_count": null,
      "outputs": []
    },
    {
      "cell_type": "markdown",
      "metadata": {
        "id": "OwgGM78Bysq5"
      },
      "source": [
        "## Under sampling and then over sampling"
      ]
    },
    {
      "cell_type": "code",
      "metadata": {
        "id": "3bilJdcJzW-J"
      },
      "source": [
        "for us_name in uses:\n",
        "    for os_name in oses:\n",
        "        print(us_name,'-',os_name)\n",
        "        if us_name == 'RUS': \n",
        "            res = RandomUnderSampler(sampling_strategy={0: y_dict[1]})\n",
        "        else: res = NearMiss(sampling_strategy={0: y_dict[1]})\n",
        "        start = time.time()\n",
        "        X_res, y_res = res.fit_resample(X_train, y_train)\n",
        "\n",
        "        if os_name == 'ROS': \n",
        "            res = RandomOverSampler(sampling_strategy='not majority')\n",
        "        elif os_name == 'BorderlineSMOTE': \n",
        "            res = BorderlineSMOTE(sampling_strategy='not majority')\n",
        "        else: res = SMOTE(sampling_strategy='not majority')\n",
        "        X_res, y_res = res.fit_resample(X_res, y_res)\n",
        "        end = time.time()\n",
        "        res_time = end-start\n",
        "        print('Resampled dataset shape %s' % Counter(y_res))\n",
        "        print('Resamling time %.2f sec' % (res_time))\n",
        "        LR = LogisticRegression(solver = 'lbfgs',\n",
        "                                #class_weight= 'balanced'\n",
        "                                )\n",
        "        start = time.time()\n",
        "        LR.fit(X_res, y_res)\n",
        "        end= time.time()\n",
        "        # get the evaluation metrics\n",
        "        # use the model to make predictions with the test data\n",
        "        y_pred = LR.predict(X_test)\n",
        "        result = get_accs(y_test.values,y_pred, tr_time= end-start)\n",
        "        result['Resample time'] = res_time\n",
        "        result.index = ['LR-' + us_name + '-' + os_name]\n",
        "        rsts = rsts.append(result)\n",
        "\n",
        "        # MLP model\n",
        "        model = create_mlp()\n",
        "        start = time.time()\n",
        "        monitor = model.fit(X_res, y_res,\n",
        "                            callbacks=[es],\n",
        "                            validation_data=(X_val, y_val.values),\n",
        "                            verbose=1, epochs=50)\n",
        "        end = time.time()\n",
        "        # use the model to make predictions with the test data\n",
        "        y_pred = model.predict(X_test)\n",
        "        y_pred = np.argmax(y_pred, axis=1)\n",
        "        # get the evaluation metrics\n",
        "        result = get_accs(y_test.values, y_pred, end-start, True)\n",
        "        result.index = ['MLP-'+ key]\n",
        "        rsts = rsts.append(result)\n",
        "rsts"
      ],
      "execution_count": null,
      "outputs": []
    },
    {
      "cell_type": "markdown",
      "metadata": {
        "id": "isNcszWj59si"
      },
      "source": [
        "### Refining result\n",
        "NearMiss not only increased the computing time but also reduced the accuracy significantly\n",
        "Apply 5-fold cross validation\n"
      ]
    },
    {
      "cell_type": "code",
      "metadata": {
        "id": "RSeUW9mU6cZP"
      },
      "source": [
        "for"
      ],
      "execution_count": null,
      "outputs": []
    },
    {
      "cell_type": "markdown",
      "metadata": {
        "id": "2Ds5G6Pjhes9"
      },
      "source": [
        "# ALL mini functions\n",
        "\n"
      ]
    },
    {
      "cell_type": "code",
      "metadata": {
        "id": "GtuGulyVZvoL"
      },
      "source": [
        "def show_evolution(moni):\n",
        "    hist = pd.DataFrame(monitor.history)\n",
        "    no_metrics = np.int(hist.shape[1]/2)\n",
        "    fig, axes = plt.subplots(nrows=1, ncols=2, figsize=(6, 2), dpi=150)\n",
        "    for i in range(2):\n",
        "      hist.iloc[:,[i,no_metrics+i]].plot(ax=axes[i])\n",
        "    plt.show()\n"
      ],
      "execution_count": null,
      "outputs": []
    }
  ]
}